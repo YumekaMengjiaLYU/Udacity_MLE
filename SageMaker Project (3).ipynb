{
 "cells": [
  {
   "cell_type": "markdown",
   "metadata": {},
   "source": [
    "# Creating a Sentiment Analysis Web App\n",
    "## Using PyTorch and SageMaker\n",
    "\n",
    "_Deep Learning Nanodegree Program | Deployment_\n",
    "\n",
    "---\n",
    "\n",
    "Now that we have a basic understanding of how SageMaker works we will try to use it to construct a complete project from end to end. Our goal will be to have a simple web page which a user can use to enter a movie review. The web page will then send the review off to our deployed model which will predict the sentiment of the entered review.\n",
    "\n",
    "## Instructions\n",
    "\n",
    "Some template code has already been provided for you, and you will need to implement additional functionality to successfully complete this notebook. You will not need to modify the included code beyond what is requested. Sections that begin with '**TODO**' in the header indicate that you need to complete or implement some portion within them. Instructions will be provided for each section and the specifics of the implementation are marked in the code block with a `# TODO: ...` comment. Please be sure to read the instructions carefully!\n",
    "\n",
    "In addition to implementing code, there will be questions for you to answer which relate to the task and your implementation. Each section where you will answer a question is preceded by a '**Question:**' header. Carefully read each question and provide your answer below the '**Answer:**' header by editing the Markdown cell.\n",
    "\n",
    "> **Note**: Code and Markdown cells can be executed using the **Shift+Enter** keyboard shortcut. In addition, a cell can be edited by typically clicking it (double-click for Markdown cells) or by pressing **Enter** while it is highlighted.\n",
    "\n",
    "## General Outline\n",
    "\n",
    "Recall the general outline for SageMaker projects using a notebook instance.\n",
    "\n",
    "1. Download or otherwise retrieve the data.\n",
    "2. Process / Prepare the data.\n",
    "3. Upload the processed data to S3.\n",
    "4. Train a chosen model.\n",
    "5. Test the trained model (typically using a batch transform job).\n",
    "6. Deploy the trained model.\n",
    "7. Use the deployed model.\n",
    "\n",
    "For this project, you will be following the steps in the general outline with some modifications. \n",
    "\n",
    "First, you will not be testing the model in its own step. You will still be testing the model, however, you will do it by deploying your model and then using the deployed model by sending the test data to it. One of the reasons for doing this is so that you can make sure that your deployed model is working correctly before moving forward.\n",
    "\n",
    "In addition, you will deploy and use your trained model a second time. In the second iteration you will customize the way that your trained model is deployed by including some of your own code. In addition, your newly deployed model will be used in the sentiment analysis web app."
   ]
  },
  {
   "cell_type": "markdown",
   "metadata": {},
   "source": [
    "## Step 1: Downloading the data\n",
    "\n",
    "As in the XGBoost in SageMaker notebook, we will be using the [IMDb dataset](http://ai.stanford.edu/~amaas/data/sentiment/)\n",
    "\n",
    "> Maas, Andrew L., et al. [Learning Word Vectors for Sentiment Analysis](http://ai.stanford.edu/~amaas/data/sentiment/). In _Proceedings of the 49th Annual Meeting of the Association for Computational Linguistics: Human Language Technologies_. Association for Computational Linguistics, 2011."
   ]
  },
  {
   "cell_type": "code",
   "execution_count": 1,
   "metadata": {},
   "outputs": [
    {
     "name": "stdout",
     "output_type": "stream",
     "text": [
      "mkdir: cannot create directory ‘../data’: File exists\n",
      "--2020-05-14 22:11:54--  http://ai.stanford.edu/~amaas/data/sentiment/aclImdb_v1.tar.gz\n",
      "Resolving ai.stanford.edu (ai.stanford.edu)... 171.64.68.10\n",
      "Connecting to ai.stanford.edu (ai.stanford.edu)|171.64.68.10|:80... connected.\n",
      "HTTP request sent, awaiting response... 200 OK\n",
      "Length: 84125825 (80M) [application/x-gzip]\n",
      "Saving to: ‘../data/aclImdb_v1.tar.gz’\n",
      "\n",
      "../data/aclImdb_v1. 100%[===================>]  80.23M  24.2MB/s    in 4.2s    \n",
      "\n",
      "2020-05-14 22:11:59 (18.9 MB/s) - ‘../data/aclImdb_v1.tar.gz’ saved [84125825/84125825]\n",
      "\n"
     ]
    }
   ],
   "source": [
    "%mkdir ../data\n",
    "!wget -O ../data/aclImdb_v1.tar.gz http://ai.stanford.edu/~amaas/data/sentiment/aclImdb_v1.tar.gz\n",
    "!tar -zxf ../data/aclImdb_v1.tar.gz -C ../data"
   ]
  },
  {
   "cell_type": "markdown",
   "metadata": {},
   "source": [
    "## Step 2: Preparing and Processing the data\n",
    "\n",
    "Also, as in the XGBoost notebook, we will be doing some initial data processing. The first few steps are the same as in the XGBoost example. To begin with, we will read in each of the reviews and combine them into a single input structure. Then, we will split the dataset into a training set and a testing set."
   ]
  },
  {
   "cell_type": "code",
   "execution_count": 2,
   "metadata": {},
   "outputs": [],
   "source": [
    "import os\n",
    "import glob\n",
    "\n",
    "def read_imdb_data(data_dir='../data/aclImdb'):\n",
    "    data = {}\n",
    "    labels = {}\n",
    "    \n",
    "    for data_type in ['train', 'test']:\n",
    "        data[data_type] = {}\n",
    "        labels[data_type] = {}\n",
    "        \n",
    "        for sentiment in ['pos', 'neg']:\n",
    "            data[data_type][sentiment] = []\n",
    "            labels[data_type][sentiment] = []\n",
    "            \n",
    "            path = os.path.join(data_dir, data_type, sentiment, '*.txt')\n",
    "            files = glob.glob(path)\n",
    "            \n",
    "            for f in files:\n",
    "                with open(f) as review:\n",
    "                    data[data_type][sentiment].append(review.read())\n",
    "                    # Here we represent a positive review by '1' and a negative review by '0'\n",
    "                    labels[data_type][sentiment].append(1 if sentiment == 'pos' else 0)\n",
    "                    \n",
    "            assert len(data[data_type][sentiment]) == len(labels[data_type][sentiment]), \\\n",
    "                    \"{}/{} data size does not match labels size\".format(data_type, sentiment)\n",
    "                \n",
    "    return data, labels"
   ]
  },
  {
   "cell_type": "code",
   "execution_count": 3,
   "metadata": {},
   "outputs": [
    {
     "name": "stdout",
     "output_type": "stream",
     "text": [
      "IMDB reviews: train = 12500 pos / 12500 neg, test = 12500 pos / 12500 neg\n"
     ]
    }
   ],
   "source": [
    "data, labels = read_imdb_data()\n",
    "print(\"IMDB reviews: train = {} pos / {} neg, test = {} pos / {} neg\".format(\n",
    "            len(data['train']['pos']), len(data['train']['neg']),\n",
    "            len(data['test']['pos']), len(data['test']['neg'])))"
   ]
  },
  {
   "cell_type": "markdown",
   "metadata": {},
   "source": [
    "Now that we've read the raw training and testing data from the downloaded dataset, we will combine the positive and negative reviews and shuffle the resulting records."
   ]
  },
  {
   "cell_type": "code",
   "execution_count": 4,
   "metadata": {},
   "outputs": [],
   "source": [
    "from sklearn.utils import shuffle\n",
    "\n",
    "def prepare_imdb_data(data, labels):\n",
    "    \"\"\"Prepare training and test sets from IMDb movie reviews.\"\"\"\n",
    "    \n",
    "    #Combine positive and negative reviews and labels\n",
    "    data_train = data['train']['pos'] + data['train']['neg']\n",
    "    data_test = data['test']['pos'] + data['test']['neg']\n",
    "    labels_train = labels['train']['pos'] + labels['train']['neg']\n",
    "    labels_test = labels['test']['pos'] + labels['test']['neg']\n",
    "    \n",
    "    #Shuffle reviews and corresponding labels within training and test sets\n",
    "    data_train, labels_train = shuffle(data_train, labels_train)\n",
    "    data_test, labels_test = shuffle(data_test, labels_test)\n",
    "    \n",
    "    # Return a unified training data, test data, training labels, test labets\n",
    "    return data_train, data_test, labels_train, labels_test"
   ]
  },
  {
   "cell_type": "code",
   "execution_count": 5,
   "metadata": {},
   "outputs": [
    {
     "name": "stdout",
     "output_type": "stream",
     "text": [
      "IMDb reviews (combined): train = 25000, test = 25000\n"
     ]
    }
   ],
   "source": [
    "train_X, test_X, train_y, test_y = prepare_imdb_data(data, labels)\n",
    "print(\"IMDb reviews (combined): train = {}, test = {}\".format(len(train_X), len(test_X)))"
   ]
  },
  {
   "cell_type": "markdown",
   "metadata": {},
   "source": [
    "Now that we have our training and testing sets unified and prepared, we should do a quick check and see an example of the data our model will be trained on. This is generally a good idea as it allows you to see how each of the further processing steps affects the reviews and it also ensures that the data has been loaded correctly."
   ]
  },
  {
   "cell_type": "code",
   "execution_count": 18,
   "metadata": {},
   "outputs": [
    {
     "name": "stdout",
     "output_type": "stream",
     "text": [
      "['bear', 'sit', 'entir', 'movi', 'famili', 'like', 'realli', 'exist', 'somewher', 'mani', 'comment', 'describ', 'famili', 'akin', 'llbean', 'model', 'think', 'great', 'descript', 'behav', 'absurdli', 'unbeliev', 'write', 'act', 'occur', 'meet', 'charact', 'refer', 'high', 'school', 'pigfac', 'cours', 'grown', 'drop', 'dead', 'gorgeou', '20', 'year', 'harvard', 'educ', 'plastic', 'surgeon', 'good', 'world', 'money', 'bed', 'steve', 'carrel', 'first', 'date', 'quit', 'watch', 'complet', 'suspend', 'disbelief', 'two', 'hour', 'perhap', 'enjoy', 'sentiment', 'self', 'indulg', 'wast', 'time']\n",
      "0\n"
     ]
    }
   ],
   "source": [
    "print(train_X[100])\n",
    "print(train_y[100])"
   ]
  },
  {
   "cell_type": "markdown",
   "metadata": {},
   "source": [
    "The first step in processing the reviews is to make sure that any html tags that appear should be removed. In addition we wish to tokenize our input, that way words such as *entertained* and *entertaining* are considered the same with regard to sentiment analysis."
   ]
  },
  {
   "cell_type": "code",
   "execution_count": 7,
   "metadata": {},
   "outputs": [],
   "source": [
    "import nltk\n",
    "from nltk.corpus import stopwords\n",
    "from nltk.stem.porter import *\n",
    "\n",
    "import re\n",
    "from bs4 import BeautifulSoup\n",
    "\n",
    "def review_to_words(review):\n",
    "    nltk.download(\"stopwords\", quiet=True)\n",
    "    stemmer = PorterStemmer()\n",
    "    \n",
    "    text = BeautifulSoup(review, \"html.parser\").get_text() # Remove HTML tags\n",
    "    text = re.sub(r\"[^a-zA-Z0-9]\", \" \", text.lower()) # Convert to lower case\n",
    "    words = text.split() # Split string into words\n",
    "    words = [w for w in words if w not in stopwords.words(\"english\")] # Remove stopwords\n",
    "    words = [PorterStemmer().stem(w) for w in words] # stem\n",
    "    \n",
    "    return words"
   ]
  },
  {
   "cell_type": "markdown",
   "metadata": {},
   "source": [
    "The `review_to_words` method defined above uses `BeautifulSoup` to remove any html tags that appear and uses the `nltk` package to tokenize the reviews. As a check to ensure we know how everything is working, try applying `review_to_words` to one of the reviews in the training set."
   ]
  },
  {
   "cell_type": "code",
   "execution_count": 8,
   "metadata": {},
   "outputs": [
    {
     "data": {
      "text/plain": [
       "['bear',\n",
       " 'sit',\n",
       " 'entir',\n",
       " 'movi',\n",
       " 'famili',\n",
       " 'like',\n",
       " 'realli',\n",
       " 'exist',\n",
       " 'somewher',\n",
       " 'mani',\n",
       " 'comment',\n",
       " 'describ',\n",
       " 'famili',\n",
       " 'akin',\n",
       " 'llbean',\n",
       " 'model',\n",
       " 'think',\n",
       " 'great',\n",
       " 'descript',\n",
       " 'behav',\n",
       " 'absurdli',\n",
       " 'unbeliev',\n",
       " 'write',\n",
       " 'act',\n",
       " 'occur',\n",
       " 'meet',\n",
       " 'charact',\n",
       " 'refer',\n",
       " 'high',\n",
       " 'school',\n",
       " 'pigfac',\n",
       " 'cours',\n",
       " 'grown',\n",
       " 'drop',\n",
       " 'dead',\n",
       " 'gorgeou',\n",
       " '20',\n",
       " 'year',\n",
       " 'harvard',\n",
       " 'educ',\n",
       " 'plastic',\n",
       " 'surgeon',\n",
       " 'good',\n",
       " 'world',\n",
       " 'money',\n",
       " 'bed',\n",
       " 'steve',\n",
       " 'carrel',\n",
       " 'first',\n",
       " 'date',\n",
       " 'quit',\n",
       " 'watch',\n",
       " 'complet',\n",
       " 'suspend',\n",
       " 'disbelief',\n",
       " 'two',\n",
       " 'hour',\n",
       " 'perhap',\n",
       " 'enjoy',\n",
       " 'sentiment',\n",
       " 'self',\n",
       " 'indulg',\n",
       " 'wast',\n",
       " 'time']"
      ]
     },
     "execution_count": 8,
     "metadata": {},
     "output_type": "execute_result"
    }
   ],
   "source": [
    "# TODO: Apply review_to_words to a review (train_X[100] or any other review)\n",
    "review_to_words(train_X[100])"
   ]
  },
  {
   "cell_type": "markdown",
   "metadata": {},
   "source": [
    "**Question:** Above we mentioned that `review_to_words` method removes html formatting and allows us to tokenize the words found in a review, for example, converting *entertained* and *entertaining* into *entertain* so that they are treated as though they are the same word. What else, if anything, does this method do to the input?"
   ]
  },
  {
   "cell_type": "markdown",
   "metadata": {},
   "source": [
    "**Answer:**"
   ]
  },
  {
   "cell_type": "markdown",
   "metadata": {},
   "source": [
    "The method below applies the `review_to_words` method to each of the reviews in the training and testing datasets. In addition it caches the results. This is because performing this processing step can take a long time. This way if you are unable to complete the notebook in the current session, you can come back without needing to process the data a second time."
   ]
  },
  {
   "cell_type": "code",
   "execution_count": 15,
   "metadata": {},
   "outputs": [],
   "source": [
    "import pickle\n",
    "\n",
    "cache_dir = os.path.join(\"../cache\", \"sentiment_analysis\")  # where to store cache files\n",
    "os.makedirs(cache_dir, exist_ok=True)  # ensure cache directory exists\n",
    "\n",
    "def preprocess_data(data_train, data_test, labels_train, labels_test,\n",
    "                    cache_dir=cache_dir, cache_file=\"preprocessed_data.pkl\"):\n",
    "    \"\"\"Convert each review to words; read from cache if available.\"\"\"\n",
    "\n",
    "    # If cache_file is not None, try to read from it first\n",
    "    cache_data = None\n",
    "    if cache_file is not None:\n",
    "        try:\n",
    "            with open(os.path.join(cache_dir, cache_file), \"rb\") as f:\n",
    "                cache_data = pickle.load(f)\n",
    "            print(\"Read preprocessed data from cache file:\", cache_file)\n",
    "        except:\n",
    "            pass  # unable to read from cache, but that's okay\n",
    "   \n",
    "    # If cache is missing, then do the heavy lifting\n",
    "    if cache_data is None:\n",
    "        # Preprocess training and test data to obtain words for each review\n",
    "        #words_train = list(map(review_to_words, data_train))\n",
    "        #words_test = list(map(review_to_words, data_test))\n",
    "        words_train = [review_to_words(review) for review in data_train]\n",
    "        words_test = [review_to_words(review) for review in data_test]\n",
    "        \n",
    "        # Write to cache file for future runs\n",
    "        if cache_file is not None:\n",
    "            cache_data = dict(words_train=words_train, words_test=words_test,\n",
    "                              labels_train=labels_train, labels_test=labels_test)\n",
    "            with open(os.path.join(cache_dir, cache_file), \"wb\") as f:\n",
    "                pickle.dump(cache_data, f)\n",
    "            print(\"Wrote preprocessed data to cache file:\", cache_file)\n",
    "    else:\n",
    "        # Unpack data loaded from cache file\n",
    "        words_train, words_test, labels_train, labels_test = (cache_data['words_train'],\n",
    "                cache_data['words_test'], cache_data['labels_train'], cache_data['labels_test'])\n",
    "    \n",
    "    return words_train, words_test, labels_train, labels_test"
   ]
  },
  {
   "cell_type": "code",
   "execution_count": 17,
   "metadata": {},
   "outputs": [
    {
     "name": "stdout",
     "output_type": "stream",
     "text": [
      "Read preprocessed data from cache file: preprocessed_data.pkl\n"
     ]
    }
   ],
   "source": [
    "# Preprocess data\n",
    "train_X, test_X, train_y, test_y = preprocess_data(train_X, test_X, train_y, test_y)"
   ]
  },
  {
   "cell_type": "markdown",
   "metadata": {},
   "source": [
    "## Transform the data\n",
    "\n",
    "In the XGBoost notebook we transformed the data from its word representation to a bag-of-words feature representation. For the model we are going to construct in this notebook we will construct a feature representation which is very similar. To start, we will represent each word as an integer. Of course, some of the words that appear in the reviews occur very infrequently and so likely don't contain much information for the purposes of sentiment analysis. The way we will deal with this problem is that we will fix the size of our working vocabulary and we will only include the words that appear most frequently. We will then combine all of the infrequent words into a single category and, in our case, we will label it as `1`.\n",
    "\n",
    "Since we will be using a recurrent neural network, it will be convenient if the length of each review is the same. To do this, we will fix a size for our reviews and then pad short reviews with the category 'no word' (which we will label `0`) and truncate long reviews."
   ]
  },
  {
   "cell_type": "markdown",
   "metadata": {},
   "source": [
    "### (TODO) Create a word dictionary\n",
    "\n",
    "To begin with, we need to construct a way to map words that appear in the reviews to integers. Here we fix the size of our vocabulary (including the 'no word' and 'infrequent' categories) to be `5000` but you may wish to change this to see how it affects the model.\n",
    "\n",
    "> **TODO:** Complete the implementation for the `build_dict()` method below. Note that even though the vocab_size is set to `5000`, we only want to construct a mapping for the most frequently appearing `4998` words. This is because we want to reserve the special labels `0` for 'no word' and `1` for 'infrequent word'."
   ]
  },
  {
   "cell_type": "code",
   "execution_count": 19,
   "metadata": {},
   "outputs": [],
   "source": [
    "import numpy as np\n",
    "\n",
    "def build_dict(data, vocab_size = 5000):\n",
    "    \"\"\"Construct and return a dictionary mapping each of the most frequently appearing words to a unique integer.\"\"\"\n",
    "    \n",
    "    # TODO: Determine how often each word appears in `data`. Note that `data` is a list of sentences and that a\n",
    "    #       sentence is a list of words.\n",
    "    \n",
    "    word_count = {} # A dict storing the words that appear in the reviews along with how often they occur\n",
    "    \n",
    "    for line in data:\n",
    "        for word in line:\n",
    "            if word in word_count:\n",
    "                    word_count[word] += 1;\n",
    "            else:\n",
    "                    word_count[word] = 1;\n",
    "   \n",
    "    \n",
    "    # TODO: Sort the words found in `data` so that sorted_words[0] is the most frequently appearing word and\n",
    "    #       sorted_words[-1] is the least frequently appearing word.\n",
    "    \n",
    "    sorted_words = sorted(word_count, key=word_count.get, reverse = True)\n",
    "    #print(sorted_words[0])\n",
    "    #print(sorted_words)\n",
    "    value_list = list(range(vocab_size-1,-1, -1))\n",
    "    #print(value_list)\n",
    "   \n",
    "    #word_dict = {sorted_words[i]: value_list[i] for i in range(vocab_size)} \n",
    "    #print(word_dict)\n",
    "    # This is what we are building, a dictionary that translates words into integers\n",
    "    word_dict = {}\n",
    "    for idx, word in enumerate(sorted_words[:vocab_size - 2]): # The -2 is so that we save room for the 'no word'\n",
    "        word_dict[word] = idx + 2                              # 'infrequent' labels\n",
    "    print(word_dict)   \n",
    "    return word_dict"
   ]
  },
  {
   "cell_type": "code",
   "execution_count": 20,
   "metadata": {},
   "outputs": [
    {
     "name": "stdout",
     "output_type": "stream",
     "text": [
      "{'movi': 2, 'film': 3, 'one': 4, 'like': 5, 'time': 6, 'good': 7, 'make': 8, 'charact': 9, 'get': 10, 'see': 11, 'watch': 12, 'stori': 13, 'even': 14, 'would': 15, 'realli': 16, 'well': 17, 'scene': 18, 'look': 19, 'show': 20, 'much': 21, 'end': 22, 'peopl': 23, 'bad': 24, 'go': 25, 'great': 26, 'also': 27, 'first': 28, 'love': 29, 'think': 30, 'way': 31, 'act': 32, 'play': 33, 'made': 34, 'thing': 35, 'could': 36, 'know': 37, 'say': 38, 'seem': 39, 'work': 40, 'plot': 41, 'two': 42, 'actor': 43, 'year': 44, 'come': 45, 'mani': 46, 'seen': 47, 'take': 48, 'life': 49, 'want': 50, 'never': 51, 'littl': 52, 'best': 53, 'tri': 54, 'man': 55, 'ever': 56, 'give': 57, 'better': 58, 'still': 59, 'perform': 60, 'find': 61, 'feel': 62, 'part': 63, 'back': 64, 'use': 65, 'someth': 66, 'director': 67, 'actual': 68, 'interest': 69, 'lot': 70, 'real': 71, 'old': 72, 'cast': 73, 'though': 74, 'live': 75, 'star': 76, 'enjoy': 77, 'guy': 78, 'anoth': 79, 'new': 80, 'role': 81, 'noth': 82, '10': 83, 'funni': 84, 'music': 85, 'point': 86, 'start': 87, 'set': 88, 'girl': 89, 'origin': 90, 'day': 91, 'world': 92, 'everi': 93, 'believ': 94, 'turn': 95, 'quit': 96, 'us': 97, 'direct': 98, 'thought': 99, 'fact': 100, 'minut': 101, 'horror': 102, 'kill': 103, 'action': 104, 'comedi': 105, 'pretti': 106, 'young': 107, 'wonder': 108, 'happen': 109, 'around': 110, 'got': 111, 'effect': 112, 'right': 113, 'long': 114, 'howev': 115, 'big': 116, 'line': 117, 'famili': 118, 'enough': 119, 'seri': 120, 'may': 121, 'need': 122, 'fan': 123, 'bit': 124, 'script': 125, 'beauti': 126, 'person': 127, 'becom': 128, 'without': 129, 'must': 130, 'alway': 131, 'friend': 132, 'tell': 133, 'reason': 134, 'saw': 135, 'last': 136, 'final': 137, 'kid': 138, 'almost': 139, 'put': 140, 'least': 141, 'sure': 142, 'done': 143, 'whole': 144, 'place': 145, 'complet': 146, 'kind': 147, 'differ': 148, 'expect': 149, 'shot': 150, 'far': 151, 'mean': 152, 'anyth': 153, 'book': 154, 'laugh': 155, 'might': 156, 'name': 157, 'sinc': 158, 'begin': 159, '2': 160, 'probabl': 161, 'woman': 162, 'help': 163, 'entertain': 164, 'let': 165, 'screen': 166, 'call': 167, 'tv': 168, 'moment': 169, 'away': 170, 'read': 171, 'yet': 172, 'rather': 173, 'worst': 174, 'run': 175, 'fun': 176, 'lead': 177, 'hard': 178, 'audienc': 179, 'idea': 180, 'anyon': 181, 'episod': 182, 'american': 183, 'found': 184, 'appear': 185, 'bore': 186, 'especi': 187, 'although': 188, 'hope': 189, 'cours': 190, 'keep': 191, 'anim': 192, 'job': 193, 'goe': 194, 'move': 195, 'sens': 196, 'version': 197, 'dvd': 198, 'war': 199, 'money': 200, 'someon': 201, 'mind': 202, 'mayb': 203, 'problem': 204, 'true': 205, 'hous': 206, 'everyth': 207, 'nice': 208, 'second': 209, 'rate': 210, 'three': 211, 'night': 212, 'follow': 213, 'face': 214, 'recommend': 215, 'main': 216, 'product': 217, 'worth': 218, 'leav': 219, 'human': 220, 'special': 221, 'excel': 222, 'togeth': 223, 'wast': 224, 'sound': 225, 'everyon': 226, 'john': 227, 'hand': 228, '1': 229, 'father': 230, 'later': 231, 'eye': 232, 'said': 233, 'view': 234, 'instead': 235, 'review': 236, 'boy': 237, 'high': 238, 'hour': 239, 'miss': 240, 'talk': 241, 'classic': 242, 'wife': 243, 'understand': 244, 'left': 245, 'care': 246, 'black': 247, 'death': 248, 'open': 249, 'murder': 250, 'write': 251, 'half': 252, 'head': 253, 'rememb': 254, 'chang': 255, 'viewer': 256, 'fight': 257, 'gener': 258, 'surpris': 259, 'includ': 260, 'short': 261, 'die': 262, 'fall': 263, 'less': 264, 'els': 265, 'entir': 266, 'piec': 267, 'involv': 268, 'pictur': 269, 'simpli': 270, 'top': 271, 'home': 272, 'power': 273, 'total': 274, 'usual': 275, 'budget': 276, 'attempt': 277, 'suppos': 278, 'releas': 279, 'hollywood': 280, 'terribl': 281, 'song': 282, 'men': 283, 'possibl': 284, 'featur': 285, 'portray': 286, 'disappoint': 287, 'poor': 288, '3': 289, 'coupl': 290, 'camera': 291, 'stupid': 292, 'dead': 293, 'wrong': 294, 'low': 295, 'produc': 296, 'either': 297, 'video': 298, 'aw': 299, 'definit': 300, 'except': 301, 'rest': 302, 'given': 303, 'absolut': 304, 'women': 305, 'lack': 306, 'word': 307, 'writer': 308, 'titl': 309, 'talent': 310, 'decid': 311, 'full': 312, 'perfect': 313, 'along': 314, 'style': 315, 'close': 316, 'truli': 317, 'school': 318, 'emot': 319, 'save': 320, 'sex': 321, 'age': 322, 'next': 323, 'bring': 324, 'mr': 325, 'case': 326, 'killer': 327, 'heart': 328, 'comment': 329, 'sort': 330, 'creat': 331, 'perhap': 332, 'came': 333, 'brother': 334, 'sever': 335, 'joke': 336, 'art': 337, 'dialogu': 338, 'game': 339, 'small': 340, 'base': 341, 'flick': 342, 'written': 343, 'sequenc': 344, 'meet': 345, 'earli': 346, 'often': 347, 'other': 348, 'mother': 349, 'develop': 350, 'humor': 351, 'actress': 352, 'consid': 353, 'dark': 354, 'guess': 355, 'amaz': 356, 'unfortun': 357, 'lost': 358, 'light': 359, 'exampl': 360, 'cinema': 361, 'drama': 362, 'ye': 363, 'white': 364, 'experi': 365, 'imagin': 366, 'mention': 367, 'stop': 368, 'natur': 369, 'forc': 370, 'manag': 371, 'felt': 372, 'cut': 373, 'present': 374, 'children': 375, 'fail': 376, 'son': 377, 'support': 378, 'qualiti': 379, 'car': 380, 'ask': 381, 'hit': 382, 'side': 383, 'voic': 384, 'extrem': 385, 'impress': 386, 'wors': 387, 'evil': 388, 'went': 389, 'stand': 390, 'certainli': 391, 'basic': 392, 'oh': 393, 'overal': 394, 'favorit': 395, 'horribl': 396, 'mysteri': 397, 'number': 398, 'type': 399, 'danc': 400, 'wait': 401, 'hero': 402, '5': 403, 'alreadi': 404, 'learn': 405, 'matter': 406, '4': 407, 'michael': 408, 'genr': 409, 'fine': 410, 'despit': 411, 'throughout': 412, 'walk': 413, 'success': 414, 'histori': 415, 'question': 416, 'zombi': 417, 'town': 418, 'relationship': 419, 'realiz': 420, 'child': 421, 'past': 422, 'daughter': 423, 'late': 424, 'b': 425, 'wish': 426, 'credit': 427, 'hate': 428, 'event': 429, 'theme': 430, 'touch': 431, 'citi': 432, 'today': 433, 'sometim': 434, 'behind': 435, 'god': 436, 'twist': 437, 'sit': 438, 'stay': 439, 'deal': 440, 'annoy': 441, 'abl': 442, 'rent': 443, 'pleas': 444, 'edit': 445, 'blood': 446, 'deserv': 447, 'anyway': 448, 'comic': 449, 'appar': 450, 'soon': 451, 'gave': 452, 'etc': 453, 'level': 454, 'slow': 455, 'chanc': 456, 'score': 457, 'bodi': 458, 'brilliant': 459, 'incred': 460, 'figur': 461, 'situat': 462, 'major': 463, 'self': 464, 'stuff': 465, 'decent': 466, 'element': 467, 'return': 468, 'dream': 469, 'obvious': 470, 'order': 471, 'continu': 472, 'pace': 473, 'ridicul': 474, 'happi': 475, 'group': 476, 'highli': 477, 'add': 478, 'thank': 479, 'ladi': 480, 'novel': 481, 'pain': 482, 'speak': 483, 'career': 484, 'shoot': 485, 'strang': 486, 'heard': 487, 'sad': 488, 'husband': 489, 'polic': 490, 'import': 491, 'break': 492, 'took': 493, 'strong': 494, 'cannot': 495, 'robert': 496, 'predict': 497, 'violenc': 498, 'hilari': 499, 'recent': 500, 'countri': 501, 'known': 502, 'particularli': 503, 'pick': 504, 'documentari': 505, 'season': 506, 'critic': 507, 'jame': 508, 'compar': 509, 'alon': 510, 'obviou': 511, 'told': 512, 'state': 513, 'rock': 514, 'visual': 515, 'theater': 516, 'exist': 517, 'offer': 518, 'opinion': 519, 'gore': 520, 'hold': 521, 'crap': 522, 'result': 523, 'realiti': 524, 'hear': 525, 'room': 526, 'effort': 527, 'clich': 528, 'thriller': 529, 'caus': 530, 'serious': 531, 'sequel': 532, 'explain': 533, 'king': 534, 'local': 535, 'ago': 536, 'hell': 537, 'none': 538, 'note': 539, 'allow': 540, 'sister': 541, 'david': 542, 'simpl': 543, 'femal': 544, 'deliv': 545, 'ok': 546, 'convinc': 547, 'class': 548, 'check': 549, 'suspens': 550, 'win': 551, 'oscar': 552, 'buy': 553, 'huge': 554, 'valu': 555, 'sexual': 556, 'cool': 557, 'scari': 558, 'excit': 559, 'similar': 560, 'exactli': 561, 'provid': 562, 'apart': 563, 'avoid': 564, 'shown': 565, 'seriou': 566, 'english': 567, 'whose': 568, 'taken': 569, 'cinematographi': 570, 'shock': 571, 'polit': 572, 'spoiler': 573, 'offic': 574, 'across': 575, 'middl': 576, 'pass': 577, 'street': 578, 'messag': 579, 'charm': 580, 'silli': 581, 'somewhat': 582, 'modern': 583, 'filmmak': 584, 'confus': 585, 'form': 586, 'tale': 587, 'singl': 588, 'jack': 589, 'mostli': 590, 'william': 591, 'attent': 592, 'carri': 593, 'sing': 594, 'subject': 595, 'five': 596, 'richard': 597, 'prove': 598, 'team': 599, 'stage': 600, 'cop': 601, 'unlik': 602, 'georg': 603, 'monster': 604, 'televis': 605, 'earth': 606, 'villain': 607, 'cover': 608, 'pay': 609, 'marri': 610, 'toward': 611, 'build': 612, 'pull': 613, 'parent': 614, 'due': 615, 'respect': 616, 'fill': 617, 'dialog': 618, 'four': 619, 'remind': 620, 'futur': 621, 'weak': 622, 'typic': 623, '7': 624, 'cheap': 625, 'intellig': 626, 'atmospher': 627, 'british': 628, 'clearli': 629, '80': 630, 'non': 631, 'dog': 632, 'paul': 633, '8': 634, 'artist': 635, 'knew': 636, 'fast': 637, 'crime': 638, 'easili': 639, 'escap': 640, 'doubt': 641, 'adult': 642, 'detail': 643, 'date': 644, 'fire': 645, 'member': 646, 'romant': 647, 'drive': 648, 'gun': 649, 'straight': 650, 'beyond': 651, 'fit': 652, 'attack': 653, 'imag': 654, 'upon': 655, 'posit': 656, 'whether': 657, 'fantast': 658, 'peter': 659, 'appreci': 660, 'captur': 661, 'aspect': 662, 'ten': 663, 'plan': 664, 'discov': 665, 'remain': 666, 'period': 667, 'near': 668, 'air': 669, 'realist': 670, 'mark': 671, 'red': 672, 'dull': 673, 'adapt': 674, 'within': 675, 'lose': 676, 'spend': 677, 'materi': 678, 'color': 679, 'chase': 680, 'mari': 681, 'storylin': 682, 'forget': 683, 'bunch': 684, 'clear': 685, 'lee': 686, 'victim': 687, 'nearli': 688, 'box': 689, 'york': 690, 'inspir': 691, 'match': 692, 'mess': 693, 'finish': 694, 'standard': 695, 'easi': 696, 'truth': 697, 'busi': 698, 'suffer': 699, 'dramat': 700, 'bill': 701, 'space': 702, 'western': 703, 'e': 704, 'list': 705, 'battl': 706, 'notic': 707, 'de': 708, 'french': 709, 'ad': 710, '9': 711, 'tom': 712, 'larg': 713, 'among': 714, 'eventu': 715, 'accept': 716, 'train': 717, 'agre': 718, 'soundtrack': 719, 'spirit': 720, 'third': 721, 'teenag': 722, 'adventur': 723, 'soldier': 724, 'sorri': 725, 'drug': 726, 'suggest': 727, 'famou': 728, 'cri': 729, 'normal': 730, 'babi': 731, 'troubl': 732, 'ultim': 733, 'contain': 734, 'certain': 735, 'cultur': 736, 'romanc': 737, 'rare': 738, 'lame': 739, 'somehow': 740, 'mix': 741, 'disney': 742, 'gone': 743, 'cartoon': 744, 'student': 745, 'fear': 746, 'reveal': 747, 'kept': 748, 'suck': 749, 'attract': 750, 'appeal': 751, 'premis': 752, 'greatest': 753, 'design': 754, 'secret': 755, 'shame': 756, 'throw': 757, 'copi': 758, 'scare': 759, 'wit': 760, 'america': 761, 'admit': 762, 'particular': 763, 'relat': 764, 'brought': 765, 'screenplay': 766, 'whatev': 767, 'pure': 768, '70': 769, 'harri': 770, 'averag': 771, 'master': 772, 'describ': 773, 'male': 774, 'treat': 775, '20': 776, 'fantasi': 777, 'issu': 778, 'warn': 779, 'inde': 780, 'forward': 781, 'background': 782, 'project': 783, 'free': 784, 'memor': 785, 'japanes': 786, 'poorli': 787, 'award': 788, 'locat': 789, 'potenti': 790, 'amus': 791, 'struggl': 792, 'weird': 793, 'magic': 794, 'societi': 795, 'okay': 796, 'doctor': 797, 'imdb': 798, 'accent': 799, 'water': 800, 'hot': 801, 'express': 802, 'dr': 803, 'alien': 804, '30': 805, 'odd': 806, 'choic': 807, 'crazi': 808, 'fiction': 809, 'studio': 810, 'control': 811, 'becam': 812, 'masterpiec': 813, 'fli': 814, 'difficult': 815, 'joe': 816, 'scream': 817, 'costum': 818, 'lover': 819, 'uniqu': 820, 'refer': 821, 'remak': 822, 'girlfriend': 823, 'vampir': 824, 'prison': 825, 'execut': 826, 'wear': 827, 'jump': 828, 'unless': 829, 'wood': 830, 'creepi': 831, 'cheesi': 832, 'superb': 833, 'otherwis': 834, 'parti': 835, 'ghost': 836, 'roll': 837, 'mad': 838, 'public': 839, 'depict': 840, 'badli': 841, 'jane': 842, 'week': 843, 'moral': 844, 'earlier': 845, 'fi': 846, 'dumb': 847, 'flaw': 848, 'grow': 849, 'deep': 850, 'sci': 851, 'cat': 852, 'maker': 853, 'connect': 854, 'older': 855, 'footag': 856, 'plenti': 857, 'bother': 858, 'outsid': 859, 'stick': 860, 'gay': 861, 'catch': 862, 'co': 863, 'plu': 864, 'popular': 865, 'equal': 866, 'social': 867, 'disturb': 868, 'quickli': 869, 'perfectli': 870, 'dress': 871, '90': 872, 'era': 873, 'mistak': 874, 'lie': 875, 'ride': 876, 'previou': 877, 'combin': 878, 'concept': 879, 'band': 880, 'surviv': 881, 'rich': 882, 'answer': 883, 'front': 884, 'sweet': 885, 'christma': 886, 'insid': 887, 'eat': 888, 'concern': 889, 'bare': 890, 'beat': 891, 'listen': 892, 'ben': 893, 'c': 894, 'serv': 895, 'term': 896, 'la': 897, 'german': 898, 'meant': 899, 'hardli': 900, 'stereotyp': 901, 'innoc': 902, 'law': 903, 'desper': 904, 'memori': 905, 'promis': 906, 'cute': 907, 'intent': 908, 'inform': 909, 'steal': 910, 'variou': 911, 'brain': 912, 'post': 913, 'tone': 914, 'island': 915, 'amount': 916, 'nuditi': 917, 'compani': 918, 'track': 919, 'store': 920, 'claim': 921, 'flat': 922, 'hair': 923, '50': 924, 'univers': 925, 'land': 926, 'kick': 927, 'fairli': 928, 'danger': 929, 'scott': 930, 'player': 931, 'step': 932, 'plain': 933, 'crew': 934, 'toni': 935, 'share': 936, 'centuri': 937, 'tast': 938, 'engag': 939, 'achiev': 940, 'cold': 941, 'travel': 942, 'suit': 943, 'rip': 944, 'record': 945, 'sadli': 946, 'manner': 947, 'wrote': 948, 'tension': 949, 'spot': 950, 'intens': 951, 'fascin': 952, 'familiar': 953, 'depth': 954, 'remark': 955, 'burn': 956, 'destroy': 957, 'histor': 958, 'sleep': 959, 'purpos': 960, 'languag': 961, 'ruin': 962, 'ignor': 963, 'delight': 964, 'italian': 965, 'unbeliev': 966, 'abil': 967, 'soul': 968, 'collect': 969, 'clever': 970, 'detect': 971, 'violent': 972, 'rape': 973, 'reach': 974, 'door': 975, 'liter': 976, 'scienc': 977, 'trash': 978, 'caught': 979, 'reveng': 980, 'commun': 981, 'creatur': 982, 'approach': 983, 'trip': 984, 'intrigu': 985, 'fashion': 986, 'skill': 987, 'introduc': 988, 'paint': 989, 'channel': 990, 'complex': 991, 'camp': 992, 'christian': 993, 'hole': 994, 'extra': 995, 'limit': 996, 'immedi': 997, 'mental': 998, 'ann': 999, 'slightli': 1000, 'comput': 1001, '6': 1002, 'mere': 1003, 'million': 1004, 'conclus': 1005, 'slasher': 1006, 'imposs': 1007, 'suddenli': 1008, 'crimin': 1009, 'neither': 1010, 'teen': 1011, 'nation': 1012, 'spent': 1013, 'physic': 1014, 'respons': 1015, 'planet': 1016, 'receiv': 1017, 'fake': 1018, 'sick': 1019, 'blue': 1020, 'bizarr': 1021, 'embarrass': 1022, 'indian': 1023, 'ring': 1024, '15': 1025, 'drop': 1026, 'pop': 1027, 'drag': 1028, 'haunt': 1029, 'suspect': 1030, 'pointless': 1031, 'search': 1032, 'edg': 1033, 'handl': 1034, 'biggest': 1035, 'common': 1036, 'arriv': 1037, 'faith': 1038, 'hurt': 1039, 'technic': 1040, 'angel': 1041, 'dad': 1042, 'genuin': 1043, 'solid': 1044, 'f': 1045, 'awesom': 1046, 'colleg': 1047, 'van': 1048, 'former': 1049, 'focu': 1050, 'count': 1051, 'heavi': 1052, 'tear': 1053, 'wall': 1054, 'rais': 1055, 'laughabl': 1056, 'visit': 1057, 'younger': 1058, 'fair': 1059, 'sign': 1060, 'excus': 1061, 'cult': 1062, 'tough': 1063, 'key': 1064, 'motion': 1065, 'super': 1066, 'desir': 1067, 'stun': 1068, 'addit': 1069, 'cloth': 1070, 'exploit': 1071, 'tortur': 1072, 'smith': 1073, 'race': 1074, 'davi': 1075, 'cross': 1076, 'author': 1077, 'jim': 1078, 'compel': 1079, 'minor': 1080, 'consist': 1081, 'focus': 1082, 'chemistri': 1083, 'commit': 1084, 'pathet': 1085, 'park': 1086, 'obsess': 1087, 'tradit': 1088, 'frank': 1089, 'grade': 1090, 'asid': 1091, '60': 1092, 'brutal': 1093, 'steve': 1094, 'somewher': 1095, 'rule': 1096, 'opportun': 1097, 'grant': 1098, 'explor': 1099, 'u': 1100, 'depress': 1101, 'honest': 1102, 'besid': 1103, 'anti': 1104, 'dub': 1105, 'intend': 1106, 'trailer': 1107, 'bar': 1108, 'regard': 1109, 'west': 1110, 'scientist': 1111, 'longer': 1112, 'decad': 1113, 'judg': 1114, 'silent': 1115, 'armi': 1116, 'creativ': 1117, 'wild': 1118, 'south': 1119, 'g': 1120, 'stewart': 1121, 'draw': 1122, 'road': 1123, 'govern': 1124, 'boss': 1125, 'ex': 1126, 'practic': 1127, 'surprisingli': 1128, 'gang': 1129, 'festiv': 1130, 'motiv': 1131, 'club': 1132, 'green': 1133, 'london': 1134, 'page': 1135, 'redeem': 1136, 'display': 1137, 'idiot': 1138, 'machin': 1139, 'aliv': 1140, 'militari': 1141, 'thrill': 1142, 'repeat': 1143, 'nobodi': 1144, '100': 1145, 'folk': 1146, 'yeah': 1147, '40': 1148, 'journey': 1149, 'garbag': 1150, 'ground': 1151, 'smile': 1152, 'tire': 1153, 'mood': 1154, 'bought': 1155, 'stone': 1156, 'sam': 1157, 'cost': 1158, 'mouth': 1159, 'noir': 1160, 'agent': 1161, 'terrif': 1162, 'requir': 1163, 'utterli': 1164, 'sexi': 1165, 'honestli': 1166, 'area': 1167, 'report': 1168, 'geniu': 1169, 'investig': 1170, 'glad': 1171, 'humour': 1172, 'enter': 1173, 'serial': 1174, 'passion': 1175, 'narr': 1176, 'occasion': 1177, 'climax': 1178, 'marriag': 1179, 'industri': 1180, 'studi': 1181, 'charli': 1182, 'nowher': 1183, 'center': 1184, 'demon': 1185, 'ship': 1186, 'hors': 1187, 'loos': 1188, 'bear': 1189, 'wow': 1190, 'hang': 1191, 'graphic': 1192, 'admir': 1193, 'giant': 1194, 'send': 1195, 'damn': 1196, 'loud': 1197, 'subtl': 1198, 'nake': 1199, 'rel': 1200, 'profession': 1201, 'blow': 1202, 'bottom': 1203, 'batman': 1204, 'insult': 1205, 'doubl': 1206, 'r': 1207, 'boyfriend': 1208, 'kelli': 1209, 'initi': 1210, 'frame': 1211, 'gem': 1212, 'opera': 1213, 'affect': 1214, 'challeng': 1215, 'drawn': 1216, 'cinemat': 1217, 'church': 1218, 'evid': 1219, 'nightmar': 1220, 'fulli': 1221, 'l': 1222, 'seek': 1223, 'j': 1224, 'essenti': 1225, 'conflict': 1226, 'arm': 1227, 'henri': 1228, 'christoph': 1229, 'wind': 1230, 'grace': 1231, 'narrat': 1232, 'witch': 1233, 'assum': 1234, 'hunt': 1235, 'push': 1236, 'wise': 1237, 'chri': 1238, 'nomin': 1239, 'month': 1240, 'repres': 1241, 'hide': 1242, 'sceneri': 1243, 'avail': 1244, 'affair': 1245, 'justic': 1246, 'bond': 1247, 'smart': 1248, 'thu': 1249, 'interview': 1250, 'flashback': 1251, 'outstand': 1252, 'constantli': 1253, 'presenc': 1254, 'satisfi': 1255, 'central': 1256, 'bed': 1257, 'content': 1258, 'iron': 1259, 'sell': 1260, 'everybodi': 1261, 'gag': 1262, 'hotel': 1263, 'slowli': 1264, 'hire': 1265, 'system': 1266, 'charl': 1267, 'thrown': 1268, 'individu': 1269, 'hey': 1270, 'adam': 1271, 'mediocr': 1272, 'allen': 1273, 'jone': 1274, 'ray': 1275, 'billi': 1276, 'lesson': 1277, 'cameo': 1278, 'photographi': 1279, 'fellow': 1280, 'pari': 1281, 'strike': 1282, 'independ': 1283, 'brief': 1284, 'rise': 1285, 'absurd': 1286, 'neg': 1287, 'impact': 1288, 'phone': 1289, 'born': 1290, 'model': 1291, 'ill': 1292, 'spoil': 1293, 'angl': 1294, 'fresh': 1295, 'abus': 1296, 'likabl': 1297, 'hill': 1298, 'discuss': 1299, 'ahead': 1300, 'sight': 1301, 'sent': 1302, 'photograph': 1303, 'logic': 1304, 'blame': 1305, 'shine': 1306, 'occur': 1307, 'bruce': 1308, 'mainli': 1309, 'forev': 1310, 'skip': 1311, 'commerci': 1312, 'surround': 1313, 'teacher': 1314, 'held': 1315, 'segment': 1316, 'zero': 1317, 'blond': 1318, 'resembl': 1319, 'satir': 1320, 'summer': 1321, 'trap': 1322, 'queen': 1323, 'ball': 1324, 'fool': 1325, 'six': 1326, 'twice': 1327, 'sub': 1328, 'tragedi': 1329, 'reaction': 1330, 'pack': 1331, 'bomb': 1332, 'will': 1333, 'hospit': 1334, 'protagonist': 1335, 'sport': 1336, 'mile': 1337, 'drink': 1338, 'vote': 1339, 'trust': 1340, 'jerri': 1341, 'mom': 1342, 'encount': 1343, 'plane': 1344, 'current': 1345, 'station': 1346, 'al': 1347, 'program': 1348, 'martin': 1349, 'celebr': 1350, 'choos': 1351, 'join': 1352, 'round': 1353, 'field': 1354, 'tragic': 1355, 'favourit': 1356, 'lord': 1357, 'vision': 1358, 'robot': 1359, 'jean': 1360, 'tie': 1361, 'arthur': 1362, 'roger': 1363, 'fortun': 1364, 'random': 1365, 'psycholog': 1366, 'intern': 1367, 'dread': 1368, 'prefer': 1369, 'epic': 1370, 'nonsens': 1371, 'improv': 1372, 'pleasur': 1373, 'highlight': 1374, 'formula': 1375, 'legend': 1376, 'tape': 1377, 'dollar': 1378, '11': 1379, 'gorgeou': 1380, 'porn': 1381, 'wide': 1382, 'object': 1383, 'thin': 1384, 'fox': 1385, 'buddi': 1386, 'ugli': 1387, 'influenc': 1388, 'nasti': 1389, 'ii': 1390, 'prepar': 1391, 'progress': 1392, 'supposedli': 1393, 'warm': 1394, 'reflect': 1395, 'worthi': 1396, 'youth': 1397, 'unusu': 1398, 'length': 1399, 'latter': 1400, 'crash': 1401, 'seven': 1402, 'childhood': 1403, 'superior': 1404, 'shop': 1405, 'theatr': 1406, 'remot': 1407, 'disgust': 1408, 'paid': 1409, 'funniest': 1410, 'pilot': 1411, 'convers': 1412, 'fell': 1413, 'trick': 1414, 'castl': 1415, 'gangster': 1416, 'establish': 1417, 'rob': 1418, 'disast': 1419, 'suicid': 1420, 'ident': 1421, 'mine': 1422, 'disappear': 1423, 'heaven': 1424, 'singer': 1425, 'decis': 1426, 'forgotten': 1427, 'mask': 1428, 'tend': 1429, 'heroin': 1430, 'brian': 1431, 'partner': 1432, 'alan': 1433, 'recogn': 1434, 'desert': 1435, 'ms': 1436, 'stuck': 1437, 'thoroughli': 1438, 'sky': 1439, 'p': 1440, 'accur': 1441, 'replac': 1442, 'market': 1443, 'commentari': 1444, 'clue': 1445, 'danni': 1446, 'uncl': 1447, 'seemingli': 1448, 'andi': 1449, 'eddi': 1450, 'devil': 1451, 'jackson': 1452, 'refus': 1453, 'therefor': 1454, 'pair': 1455, 'that': 1456, 'river': 1457, 'accid': 1458, 'fate': 1459, 'ed': 1460, 'unit': 1461, 'fault': 1462, 'tune': 1463, 'afraid': 1464, 'stephen': 1465, 'russian': 1466, 'clean': 1467, 'hidden': 1468, 'convey': 1469, 'quick': 1470, 'test': 1471, 'instanc': 1472, 'readi': 1473, 'captain': 1474, 'irrit': 1475, 'european': 1476, 'frustrat': 1477, 'insan': 1478, 'daniel': 1479, 'rescu': 1480, 'food': 1481, 'chines': 1482, '1950': 1483, 'wed': 1484, 'lock': 1485, 'angri': 1486, 'dirti': 1487, 'joy': 1488, 'steven': 1489, 'price': 1490, 'bland': 1491, 'cage': 1492, 'rang': 1493, 'anymor': 1494, 'wooden': 1495, 'rush': 1496, 'n': 1497, 'jason': 1498, 'news': 1499, '12': 1500, 'twenti': 1501, 'martial': 1502, 'worri': 1503, 'led': 1504, 'board': 1505, 'hunter': 1506, 'cgi': 1507, 'transform': 1508, 'symbol': 1509, 'onto': 1510, 'piti': 1511, 'sentiment': 1512, 'johnni': 1513, 'invent': 1514, 'x': 1515, 'explan': 1516, 'attitud': 1517, 'process': 1518, 'awar': 1519, 'owner': 1520, 'aim': 1521, 'necessari': 1522, 'floor': 1523, 'energi': 1524, 'target': 1525, 'favor': 1526, 'religi': 1527, 'opposit': 1528, 'window': 1529, 'insight': 1530, 'blind': 1531, 'chick': 1532, 'movement': 1533, 'deepli': 1534, 'mountain': 1535, 'research': 1536, 'comparison': 1537, 'possess': 1538, 'grand': 1539, 'whatsoev': 1540, 'rain': 1541, 'comed': 1542, 'shadow': 1543, 'began': 1544, 'bank': 1545, 'mid': 1546, 'parodi': 1547, 'princ': 1548, 'credibl': 1549, 'pre': 1550, 'friendship': 1551, 'weapon': 1552, 'taylor': 1553, 'teach': 1554, 'dougla': 1555, 'flesh': 1556, 'bloodi': 1557, 'protect': 1558, 'hint': 1559, 'terror': 1560, 'marvel': 1561, 'load': 1562, 'watchabl': 1563, 'drunk': 1564, 'superman': 1565, 'anybodi': 1566, 'leader': 1567, 'accord': 1568, 'freddi': 1569, 'brown': 1570, 'appropri': 1571, 'tim': 1572, 'seat': 1573, 'jeff': 1574, 'hitler': 1575, 'villag': 1576, 'knock': 1577, 'keaton': 1578, 'charg': 1579, 'unknown': 1580, 'england': 1581, 'media': 1582, 'enemi': 1583, 'empti': 1584, 'unnecessari': 1585, 'craft': 1586, 'strength': 1587, 'perspect': 1588, 'buck': 1589, 'dare': 1590, 'wave': 1591, 'utter': 1592, 'nativ': 1593, 'contrast': 1594, 'kiss': 1595, 'correct': 1596, 'ford': 1597, 'knowledg': 1598, 'chill': 1599, 'magnific': 1600, 'anywher': 1601, 'soap': 1602, 'speed': 1603, 'distract': 1604, 'nazi': 1605, 'fred': 1606, '1980': 1607, 'ice': 1608, 'breath': 1609, 'mission': 1610, 'moon': 1611, 'jr': 1612, 'joan': 1613, 'crowd': 1614, 'soft': 1615, '000': 1616, 'kate': 1617, 'frighten': 1618, 'hundr': 1619, 'dick': 1620, 'dan': 1621, 'nick': 1622, 'dozen': 1623, 'radio': 1624, 'somebodi': 1625, 'simon': 1626, 'thousand': 1627, 'andrew': 1628, 'academi': 1629, 'shakespear': 1630, 'loss': 1631, 'account': 1632, 'root': 1633, 'vehicl': 1634, 'quot': 1635, 'sum': 1636, 'behavior': 1637, 'leg': 1638, '1970': 1639, 'convent': 1640, 'regular': 1641, 'gold': 1642, 'pretenti': 1643, 'worker': 1644, 'demand': 1645, 'compet': 1646, 'candi': 1647, 'explos': 1648, 'privat': 1649, 'stretch': 1650, 'notabl': 1651, 'lynch': 1652, 'japan': 1653, 'interpret': 1654, 'tarzan': 1655, 'debut': 1656, 'constant': 1657, 'revolv': 1658, 'sea': 1659, 'spi': 1660, 'translat': 1661, 'prais': 1662, 'threaten': 1663, 'technolog': 1664, 'ass': 1665, 'quiet': 1666, 'sat': 1667, 'failur': 1668, 'franc': 1669, 'jesu': 1670, 'kevin': 1671, 'met': 1672, 'punch': 1673, 'higher': 1674, 'aid': 1675, 'toy': 1676, 'abandon': 1677, 'vh': 1678, 'mike': 1679, 'interact': 1680, 'separ': 1681, 'bet': 1682, 'confront': 1683, 'command': 1684, 'servic': 1685, 'recal': 1686, 'stunt': 1687, 'techniqu': 1688, 'gotten': 1689, 'belong': 1690, 'site': 1691, 'cabl': 1692, 'foot': 1693, 'bug': 1694, 'freak': 1695, 'african': 1696, 'fu': 1697, 'bright': 1698, 'jimmi': 1699, 'capabl': 1700, 'clark': 1701, 'presid': 1702, 'fat': 1703, 'succeed': 1704, 'boat': 1705, 'stock': 1706, 'spanish': 1707, 'structur': 1708, 'gene': 1709, 'paper': 1710, 'kidnap': 1711, 'belief': 1712, 'factor': 1713, 'whilst': 1714, 'complic': 1715, 'educ': 1716, 'realis': 1717, 'realism': 1718, 'bob': 1719, 'attend': 1720, 'witti': 1721, 'tree': 1722, 'finest': 1723, 'broken': 1724, 'assist': 1725, 'santa': 1726, 'determin': 1727, 'v': 1728, 'up': 1729, 'smoke': 1730, 'observ': 1731, 'depart': 1732, 'lewi': 1733, 'routin': 1734, 'domin': 1735, 'fame': 1736, 'hat': 1737, 'oper': 1738, 'rubbish': 1739, 'safe': 1740, 'advanc': 1741, 'kinda': 1742, 'morgan': 1743, 'hook': 1744, 'lone': 1745, 'foreign': 1746, 'rank': 1747, 'numer': 1748, 'werewolf': 1749, 'shallow': 1750, 'civil': 1751, 'vs': 1752, 'rose': 1753, 'shape': 1754, 'washington': 1755, 'morn': 1756, 'gari': 1757, 'ordinari': 1758, 'accomplish': 1759, 'kong': 1760, 'winner': 1761, 'grab': 1762, 'peac': 1763, 'virtual': 1764, 'whenev': 1765, 'h': 1766, 'luck': 1767, 'offens': 1768, 'welcom': 1769, 'unfunni': 1770, 'contriv': 1771, 'complain': 1772, 'bigger': 1773, 'patient': 1774, 'activ': 1775, 'pretend': 1776, 'trek': 1777, 'dimension': 1778, 'con': 1779, 'lesbian': 1780, 'wake': 1781, 'flash': 1782, 'dri': 1783, 'eric': 1784, 'code': 1785, 'cain': 1786, 'guard': 1787, 'corrupt': 1788, 'statu': 1789, 'albert': 1790, 'manipul': 1791, 'dancer': 1792, 'context': 1793, 'sourc': 1794, 'gain': 1795, 'awkward': 1796, 'signific': 1797, 'speech': 1798, 'anthoni': 1799, '13': 1800, 'clip': 1801, 'psycho': 1802, 'corni': 1803, 'sean': 1804, 'religion': 1805, 'w': 1806, 'advic': 1807, 'theatric': 1808, 'reli': 1809, 'curiou': 1810, 'priest': 1811, 'addict': 1812, 'flow': 1813, 'skin': 1814, 'secur': 1815, 'asian': 1816, 'specif': 1817, 'howard': 1818, 'jennif': 1819, 'core': 1820, 'comfort': 1821, 'golden': 1822, 'luke': 1823, 'promot': 1824, 'organ': 1825, 'lucki': 1826, 'cash': 1827, 'cheat': 1828, 'dislik': 1829, 'associ': 1830, 'lower': 1831, 'contribut': 1832, 'degre': 1833, 'frankli': 1834, 'devic': 1835, 'wing': 1836, 'regret': 1837, 'balanc': 1838, 'frequent': 1839, 'spell': 1840, 'sake': 1841, 'print': 1842, 'lake': 1843, 'forgiv': 1844, 'mass': 1845, 'thoma': 1846, 'betti': 1847, 'unexpect': 1848, 'gordon': 1849, 'crack': 1850, 'categori': 1851, 'amateur': 1852, 'grown': 1853, 'invit': 1854, 'unfold': 1855, 'construct': 1856, 'depend': 1857, 'matur': 1858, 'grew': 1859, 'condit': 1860, 'honor': 1861, 'anna': 1862, 'intellectu': 1863, 'walter': 1864, 'veteran': 1865, 'spectacular': 1866, 'sole': 1867, 'sudden': 1868, 'mirror': 1869, 'meanwhil': 1870, 'overli': 1871, 'robin': 1872, 'experienc': 1873, 'grip': 1874, 'demonstr': 1875, 'card': 1876, 'freedom': 1877, 'liner': 1878, 'gift': 1879, 'oliv': 1880, 'theori': 1881, 'colour': 1882, 'circumst': 1883, 'unabl': 1884, 'sheriff': 1885, 'drew': 1886, 'section': 1887, 'subtitl': 1888, 'brilliantli': 1889, 'crappi': 1890, 'parker': 1891, 'path': 1892, 'pile': 1893, 'matt': 1894, 'sheer': 1895, 'altern': 1896, 'laughter': 1897, 'cook': 1898, 'lawyer': 1899, 'hall': 1900, 'accident': 1901, 'treatment': 1902, 'relief': 1903, 'defin': 1904, 'wander': 1905, 'sinatra': 1906, 'dragon': 1907, 'captiv': 1908, 'hank': 1909, 'gratuit': 1910, 'halloween': 1911, 'moor': 1912, 'wound': 1913, 'kung': 1914, 'cowboy': 1915, 'barbara': 1916, 'k': 1917, 'jacki': 1918, 'unintent': 1919, 'wayn': 1920, 'broadway': 1921, 'spoof': 1922, 'statement': 1923, 'canadian': 1924, 'winter': 1925, 'surreal': 1926, 'cheer': 1927, 'fare': 1928, 'fish': 1929, 'compos': 1930, 'gonna': 1931, 'treasur': 1932, 'woodi': 1933, 'sensit': 1934, 'victor': 1935, 'unrealist': 1936, 'emerg': 1937, 'sympathet': 1938, 'ran': 1939, 'driven': 1940, 'neighbor': 1941, 'expos': 1942, 'glass': 1943, 'overlook': 1944, 'menac': 1945, 'topic': 1946, 'authent': 1947, 'michel': 1948, 'handsom': 1949, 'ancient': 1950, 'gross': 1951, 'chief': 1952, 'contemporari': 1953, 'russel': 1954, 'built': 1955, 'comedian': 1956, 'stranger': 1957, 'nevertheless': 1958, 'feet': 1959, 'network': 1960, 'pleasant': 1961, 'cinderella': 1962, 'underr': 1963, 'miser': 1964, 'earn': 1965, 'endless': 1966, 'letter': 1967, 'consider': 1968, 'blockbust': 1969, 'gori': 1970, 'solv': 1971, 'brook': 1972, 'switch': 1973, 'joseph': 1974, 'edward': 1975, 'bullet': 1976, 'virgin': 1977, 'victoria': 1978, 'convict': 1979, 'alex': 1980, 'scale': 1981, 'cynic': 1982, 'scenario': 1983, '0': 1984, 'chosen': 1985, 'sword': 1986, 'curs': 1987, 'gut': 1988, 'com': 1989, 'outrag': 1990, 'monkey': 1991, 'uk': 1992, 'wrap': 1993, 'substanc': 1994, 'juli': 1995, 'screenwrit': 1996, 'proper': 1997, 'driver': 1998, 'remov': 1999, 'par': 2000, 'indic': 2001, 'court': 2002, 'bird': 2003, 'consequ': 2004, 'advertis': 2005, 'grave': 2006, 'inevit': 2007, 'naiv': 2008, 'rental': 2009, 'loser': 2010, 'nanci': 2011, 'roy': 2012, 'brave': 2013, 'bridg': 2014, 'fatal': 2015, 'le': 2016, 'slap': 2017, 'invis': 2018, 'germani': 2019, 'provok': 2020, 'anger': 2021, 'footbal': 2022, 'loui': 2023, 'ador': 2024, 'alcohol': 2025, 'anderson': 2026, 'chan': 2027, 'willi': 2028, 'professor': 2029, 'stumbl': 2030, 'ryan': 2031, 'assassin': 2032, '1930': 2033, 'sharp': 2034, 'australian': 2035, 'patrick': 2036, 'bat': 2037, 'lousi': 2038, 'ape': 2039, 'heck': 2040, 'saturday': 2041, 'eight': 2042, 'strongli': 2043, 'liber': 2044, 'cell': 2045, 'amateurish': 2046, 'trilog': 2047, 'refresh': 2048, 'deni': 2049, 'sin': 2050, 'resid': 2051, 'justifi': 2052, 'vagu': 2053, 'san': 2054, 'terrifi': 2055, 'defeat': 2056, 'creator': 2057, 'indi': 2058, 'sympathi': 2059, 'reput': 2060, 'mini': 2061, 'tabl': 2062, 'prevent': 2063, 'expert': 2064, 'task': 2065, 'tediou': 2066, 'endur': 2067, 'rival': 2068, 'basebal': 2069, 'trial': 2070, 'employ': 2071, 'offend': 2072, 'imit': 2073, 'che': 2074, 'europ': 2075, 'pitch': 2076, 'weekend': 2077, 'fairi': 2078, 'dig': 2079, 'beach': 2080, 'complaint': 2081, 'max': 2082, 'format': 2083, 'purchas': 2084, 'risk': 2085, 'murphi': 2086, 'harsh': 2087, 'hype': 2088, 'reminisc': 2089, 'bite': 2090, 'powel': 2091, 'nois': 2092, 'titan': 2093, 'tini': 2094, 'glimps': 2095, 'strip': 2096, 'fals': 2097, 'north': 2098, 'prime': 2099, '14': 2100, 'asleep': 2101, 'till': 2102, 'texa': 2103, 'destruct': 2104, 'africa': 2105, 'descript': 2106, 'revel': 2107, 'inner': 2108, 'excess': 2109, 'spin': 2110, 'sitcom': 2111, 'surfac': 2112, 'arrest': 2113, 'semi': 2114, 'uninterest': 2115, 'hitchcock': 2116, 'maintain': 2117, 'massiv': 2118, 'argu': 2119, 'makeup': 2120, 'twin': 2121, 'controversi': 2122, 'dinosaur': 2123, 'reject': 2124, 'kim': 2125, 'expens': 2126, 'stare': 2127, 'ideal': 2128, 'melodrama': 2129, 'insist': 2130, 'ludicr': 2131, 'atroci': 2132, 'supernatur': 2133, 'ga': 2134, 'ala': 2135, 'forest': 2136, 'nail': 2137, 'press': 2138, 'erot': 2139, 'host': 2140, 'subplot': 2141, 'columbo': 2142, 'notch': 2143, 'cant': 2144, 'dude': 2145, 'identifi': 2146, 'presum': 2147, 'guest': 2148, 'character': 2149, 'forgett': 2150, 'method': 2151, 'plagu': 2152, 'closer': 2153, 'crude': 2154, 'lion': 2155, 'ear': 2156, 'landscap': 2157, 'beast': 2158, 'princess': 2159, 'foster': 2160, 'border': 2161, 'jungl': 2162, 'storytel': 2163, 'aunt': 2164, 'previous': 2165, 'pacino': 2166, 'accus': 2167, 'urban': 2168, 'bound': 2169, 'birth': 2170, 'damag': 2171, 'nude': 2172, 'emma': 2173, 'chose': 2174, 'jess': 2175, 'thirti': 2176, 'doll': 2177, 'guid': 2178, 'propaganda': 2179, 'mate': 2180, 'whoever': 2181, '25': 2182, 'mainstream': 2183, 'pet': 2184, 'warrior': 2185, 'friday': 2186, 'merit': 2187, 'cooper': 2188, 'latest': 2189, 'upset': 2190, 'exact': 2191, 'deadli': 2192, 'size': 2193, 'gritti': 2194, 'poster': 2195, 'wilson': 2196, 'rough': 2197, 'corps': 2198, 'contact': 2199, 'warner': 2200, 'settl': 2201, 'buff': 2202, 'contest': 2203, 'ton': 2204, '1990': 2205, 'popul': 2206, 'citizen': 2207, 'sun': 2208, 'blend': 2209, 'environ': 2210, 'widow': 2211, 'alic': 2212, 'bu': 2213, 'pitt': 2214, 'mgm': 2215, 'select': 2216, 'overcom': 2217, 'metal': 2218, 'rat': 2219, 'lift': 2220, 'ted': 2221, 'particip': 2222, 'link': 2223, 'revolut': 2224, 'guilti': 2225, 'accompani': 2226, 'afternoon': 2227, 'johnson': 2228, 'corner': 2229, 'moron': 2230, 'corpor': 2231, 'matrix': 2232, '1960': 2233, 'prostitut': 2234, 'exagger': 2235, 'multipl': 2236, 'sincer': 2237, 'clair': 2238, 'friendli': 2239, 'doom': 2240, 'instal': 2241, 'hood': 2242, 'leagu': 2243, 'holm': 2244, 'grim': 2245, 'sunday': 2246, 'examin': 2247, 'campi': 2248, 'hip': 2249, 'advis': 2250, 'defend': 2251, 'string': 2252, 'aka': 2253, 'junk': 2254, 'lugosi': 2255, 'blah': 2256, 'irish': 2257, 'tight': 2258, 'shake': 2259, 'pro': 2260, 'confid': 2261, 'shut': 2262, 'rachel': 2263, 'icon': 2264, 'varieti': 2265, 'sullivan': 2266, 'attach': 2267, 'directli': 2268, 'mexican': 2269, 'goal': 2270, 'medic': 2271, 'denni': 2272, 'jaw': 2273, 'prior': 2274, 'breast': 2275, 'courag': 2276, 'bourn': 2277, 'vietnam': 2278, 'duke': 2279, 'legendari': 2280, 'sentenc': 2281, 'terrorist': 2282, 'truck': 2283, 'dean': 2284, 'sarah': 2285, 'donald': 2286, 'proceed': 2287, 'behav': 2288, 'split': 2289, 'entri': 2290, 'yell': 2291, 'hong': 2292, 'nose': 2293, 'un': 2294, 'crush': 2295, 'unconvinc': 2296, 'everywher': 2297, 'gather': 2298, 'buri': 2299, 'confess': 2300, 'forth': 2301, 'borrow': 2302, 'concentr': 2303, 'jerk': 2304, 'lifetim': 2305, 'stolen': 2306, 'swim': 2307, 'pan': 2308, 'california': 2309, 'deliveri': 2310, 'turkey': 2311, 'spite': 2312, 'lip': 2313, 'julia': 2314, 'downright': 2315, 'flight': 2316, 'proud': 2317, 'reward': 2318, 'offici': 2319, 'hoffman': 2320, 'freeman': 2321, 'china': 2322, 'quest': 2323, 'fabul': 2324, 'sink': 2325, 'worthwhil': 2326, 'inept': 2327, 'jail': 2328, 'jon': 2329, 'fade': 2330, 'sir': 2331, 'lazi': 2332, 'encourag': 2333, 'notori': 2334, 'betray': 2335, 'cousin': 2336, 'imageri': 2337, 'relev': 2338, 'retard': 2339, 'storm': 2340, 'susan': 2341, 'survivor': 2342, 'bell': 2343, 'lisa': 2344, 'shower': 2345, 'teeth': 2346, 'bag': 2347, 'branagh': 2348, 'facial': 2349, 'toler': 2350, 'hugh': 2351, 'alright': 2352, 'tremend': 2353, 'trade': 2354, 'summari': 2355, 'quirki': 2356, 'stab': 2357, 'finger': 2358, 'mexico': 2359, 'bride': 2360, 'shark': 2361, 'ha': 2362, 'bitter': 2363, 'hyster': 2364, 'pose': 2365, 'blown': 2366, 'von': 2367, 'cruel': 2368, 'larri': 2369, 'bone': 2370, 'ron': 2371, 'scheme': 2372, 'address': 2373, 'ned': 2374, 'afterward': 2375, 'christ': 2376, 'thumb': 2377, 'feed': 2378, 'traci': 2379, 'distinct': 2380, 'swear': 2381, 'tour': 2382, 'screw': 2383, 'beg': 2384, 'snake': 2385, 'pursu': 2386, 'chair': 2387, 'photo': 2388, 'occas': 2389, 'raw': 2390, 'mechan': 2391, 'stomach': 2392, 'obscur': 2393, 'southern': 2394, 'render': 2395, 'argument': 2396, 'sidney': 2397, 'chain': 2398, 'gruesom': 2399, 'necessarili': 2400, 'heavili': 2401, 'cabin': 2402, 'resist': 2403, 'holiday': 2404, 'hardi': 2405, 'satan': 2406, 'india': 2407, 'indulg': 2408, 'understood': 2409, 'philip': 2410, 'racist': 2411, 'outfit': 2412, 'pregnant': 2413, 'lay': 2414, 'integr': 2415, 'forgot': 2416, 'belov': 2417, 'fourth': 2418, 'obnoxi': 2419, 'tongu': 2420, 'stalk': 2421, 'midnight': 2422, 'carol': 2423, 'restor': 2424, 'ticket': 2425, 'deeper': 2426, '17': 2427, 'slapstick': 2428, 'magazin': 2429, 'garden': 2430, 'inhabit': 2431, 'brad': 2432, 'incid': 2433, 'shoe': 2434, 'devot': 2435, 'lincoln': 2436, 'underground': 2437, 'elizabeth': 2438, 'anticip': 2439, 'disbelief': 2440, 'benefit': 2441, 'guarante': 2442, 'divorc': 2443, 'sandler': 2444, 'lili': 2445, 'maria': 2446, 'mildli': 2447, 'princip': 2448, 'amazingli': 2449, 'greater': 2450, 'capit': 2451, 'creation': 2452, 'cring': 2453, 'explod': 2454, 'slave': 2455, 'bbc': 2456, 'funnier': 2457, 'halfway': 2458, 'introduct': 2459, 'lesli': 2460, 'extraordinari': 2461, 'overwhelm': 2462, 'wreck': 2463, 'tap': 2464, 'text': 2465, 'extent': 2466, 'transfer': 2467, 'punish': 2468, 'enhanc': 2469, 'advantag': 2470, 'plant': 2471, 'horrif': 2472, 'jessica': 2473, 'dynam': 2474, 'east': 2475, 'error': 2476, 'lane': 2477, 'lo': 2478, 'deliber': 2479, 'preview': 2480, 'appli': 2481, 'vacat': 2482, 'basi': 2483, 'miscast': 2484, '2000': 2485, 'vincent': 2486, 'sophist': 2487, 'homosexu': 2488, 'ensu': 2489, 'miller': 2490, 'sleazi': 2491, 'mansion': 2492, 'elev': 2493, 'extend': 2494, 'uncomfort': 2495, 'bollywood': 2496, 'via': 2497, 'measur': 2498, 'steel': 2499, 'reed': 2500, 'spoken': 2501, 'savag': 2502, 'alter': 2503, 'breathtak': 2504, 'conceiv': 2505, 'assign': 2506, 'stanley': 2507, 'daili': 2508, 'fix': 2509, 'goofi': 2510, 'overact': 2511, 'beer': 2512, 'mous': 2513, 'melt': 2514, 'blair': 2515, 'dentist': 2516, 'hippi': 2517, 'cathol': 2518, 'nowaday': 2519, 'sacrific': 2520, 'subsequ': 2521, 'inspector': 2522, 'burt': 2523, 'oppos': 2524, 'succe': 2525, 'carpent': 2526, 'properli': 2527, 'everyday': 2528, 'massacr': 2529, 'neck': 2530, 'laura': 2531, 'circl': 2532, 'block': 2533, 'christi': 2534, 'mob': 2535, 'grey': 2536, 'portrait': 2537, 'concert': 2538, 'fallen': 2539, 'fay': 2540, 'access': 2541, 'pool': 2542, 'lesser': 2543, 'seagal': 2544, 'relax': 2545, 'react': 2546, 'isol': 2547, 'sinist': 2548, 'jewish': 2549, 'competit': 2550, 'jake': 2551, 'chees': 2552, 'usa': 2553, 'ironi': 2554, 'suitabl': 2555, 'creep': 2556, 'nine': 2557, 'stink': 2558, 'immens': 2559, 'nonetheless': 2560, '2006': 2561, 'appal': 2562, 'chop': 2563, 'spiritu': 2564, 'lyric': 2565, 'rage': 2566, 'retir': 2567, 'franchis': 2568, 'reduc': 2569, 'spring': 2570, 'needless': 2571, 'adopt': 2572, 'navi': 2573, 'luci': 2574, 'user': 2575, 'shirt': 2576, 'sold': 2577, 'showcas': 2578, 'nut': 2579, 'jay': 2580, 'nurs': 2581, 'bath': 2582, 'asham': 2583, 'uninspir': 2584, 'bulli': 2585, 'per': 2586, 'stanwyck': 2587, 'zone': 2588, 'digit': 2589, 'sutherland': 2590, 'illustr': 2591, '2001': 2592, 'upper': 2593, 'laid': 2594, 'broadcast': 2595, 'oddli': 2596, '1940': 2597, 'amongst': 2598, 'disguis': 2599, 'fulfil': 2600, 'throat': 2601, 'stylish': 2602, 'baker': 2603, 'brando': 2604, 'aspir': 2605, 'neighborhood': 2606, 'wwii': 2607, 'pride': 2608, 'endear': 2609, 'wanna': 2610, 'em': 2611, '18': 2612, 'thief': 2613, 'impli': 2614, 'pound': 2615, 'nobl': 2616, 'prop': 2617, 'cinematograph': 2618, 'tens': 2619, 'dinner': 2620, 'bo': 2621, 'coher': 2622, 'bett': 2623, 'dawn': 2624, 'shoulder': 2625, 'shift': 2626, 'distribut': 2627, '16': 2628, 'albeit': 2629, 'diseas': 2630, 'rochest': 2631, 'poignant': 2632, 'shout': 2633, 'contract': 2634, 'forti': 2635, 'silenc': 2636, 'function': 2637, 'rebel': 2638, 'matthau': 2639, 'knife': 2640, 'snow': 2641, 'surf': 2642, 'wash': 2643, 'mindless': 2644, 'duti': 2645, 'derek': 2646, 'cancel': 2647, 'heat': 2648, 'henc': 2649, 'reunion': 2650, 'proof': 2651, 'silver': 2652, 'widmark': 2653, 'horrend': 2654, 'eeri': 2655, 'height': 2656, 'internet': 2657, 'cannib': 2658, 'chuck': 2659, 'instinct': 2660, 'elvira': 2661, 'etern': 2662, 'innov': 2663, 'torn': 2664, 'absorb': 2665, 'repetit': 2666, 'neat': 2667, 'mill': 2668, 'incoher': 2669, 'greatli': 2670, 'glori': 2671, 'premier': 2672, 'alik': 2673, 'pie': 2674, 'spielberg': 2675, 'elvi': 2676, 'musician': 2677, 'infam': 2678, 'trite': 2679, 'burton': 2680, 'horrifi': 2681, 'nelson': 2682, 'blank': 2683, 'redempt': 2684, 'wealthi': 2685, 'precis': 2686, 'diamond': 2687, 'homag': 2688, 'racism': 2689, 'announc': 2690, 'itali': 2691, 'britain': 2692, 'crisi': 2693, 'lovabl': 2694, 'bang': 2695, 'fbi': 2696, 'pat': 2697, 'chaplin': 2698, 'wilder': 2699, 'ensembl': 2700, 'hammer': 2701, 'parallel': 2702, 'happili': 2703, 'resolut': 2704, 'flop': 2705, 'dedic': 2706, 'streisand': 2707, 'helen': 2708, 'conclud': 2709, 'triumph': 2710, 'broke': 2711, 'disagre': 2712, 'carter': 2713, 'plastic': 2714, 'cube': 2715, 'oil': 2716, 'mar': 2717, 'st': 2718, 'factori': 2719, 'row': 2720, 'weight': 2721, 'march': 2722, 'own': 2723, 'climb': 2724, 'rocket': 2725, 'vega': 2726, 'chuckl': 2727, 'bush': 2728, 'fighter': 2729, 'sensibl': 2730, 'dump': 2731, 'enorm': 2732, 'wherea': 2733, 'mst3k': 2734, 'dane': 2735, 'lust': 2736, 'unforgett': 2737, 'boot': 2738, 'thug': 2739, 'luca': 2740, 'meaning': 2741, 'kurt': 2742, 'spare': 2743, 'difficulti': 2744, 'brand': 2745, 'arnold': 2746, 'adequ': 2747, 'bobbi': 2748, 'butt': 2749, 'rap': 2750, 'dear': 2751, 'stress': 2752, 'caricatur': 2753, 'engin': 2754, 'threat': 2755, 'fifti': 2756, 'karloff': 2757, 'swing': 2758, 'elabor': 2759, 'barri': 2760, 'arrog': 2761, 'fest': 2762, 'ego': 2763, 'homeless': 2764, 'polish': 2765, 'ralph': 2766, 'flynn': 2767, 'secretari': 2768, 'hamlet': 2769, 'journalist': 2770, 'induc': 2771, 'fanci': 2772, 'tool': 2773, 'arrang': 2774, 'simpson': 2775, 'conspiraci': 2776, 'spike': 2777, 'float': 2778, 'puppet': 2779, 'resort': 2780, 'unbear': 2781, 'grate': 2782, 'basement': 2783, 'tribut': 2784, 'exercis': 2785, 'phillip': 2786, 'choreograph': 2787, 'pig': 2788, 'boll': 2789, 'muppet': 2790, 'cruis': 2791, 'guilt': 2792, 'babe': 2793, 'fianc': 2794, 'toilet': 2795, 'item': 2796, 'layer': 2797, 'korean': 2798, 'medium': 2799, 'ham': 2800, 'puzzl': 2801, 'slip': 2802, 'file': 2803, 'document': 2804, 'editor': 2805, 'stan': 2806, '24': 2807, 'tower': 2808, 'ward': 2809, 'scarecrow': 2810, 'transit': 2811, 'territori': 2812, 'catherin': 2813, 'philosoph': 2814, 'assur': 2815, 'glover': 2816, 'minim': 2817, 'inexplic': 2818, 'persona': 2819, 'spark': 2820, 'orient': 2821, 'librari': 2822, 'portion': 2823, 'superfici': 2824, 'doc': 2825, 'larger': 2826, 'slaughter': 2827, 'denzel': 2828, 'jeremi': 2829, 'pg': 2830, 'dorothi': 2831, 'sneak': 2832, 'financi': 2833, 'owe': 2834, 'ban': 2835, 'curti': 2836, 'shi': 2837, 'boredom': 2838, 'walken': 2839, 'wolf': 2840, 'jet': 2841, 'eleph': 2842, 'cusack': 2843, 'backdrop': 2844, 'multi': 2845, 'whale': 2846, 'ambigu': 2847, 'metaphor': 2848, 'hudson': 2849, 'profound': 2850, 'hack': 2851, 'viru': 2852, 'rave': 2853, 'birthday': 2854, 'implaus': 2855, 'elsewher': 2856, 'gadget': 2857, 'ultra': 2858, '2005': 2859, 'stiff': 2860, 'notion': 2861, 'union': 2862, 'superhero': 2863, 'deriv': 2864, 'hawk': 2865, 'squar': 2866, 'lloyd': 2867, 'reader': 2868, 'disc': 2869, '1st': 2870, 'urg': 2871, 'eastwood': 2872, 'canada': 2873, 'eva': 2874, 'pad': 2875, 'afford': 2876, 'distanc': 2877, 'bibl': 2878, 'slight': 2879, 'poison': 2880, 'newspap': 2881, 'health': 2882, 'sadist': 2883, 'heston': 2884, 'essenc': 2885, 'spread': 2886, 'huh': 2887, 'montag': 2888, 'cure': 2889, 'drown': 2890, 'skit': 2891, 'restaur': 2892, 'button': 2893, 'charisma': 2894, 'maniac': 2895, 'godfath': 2896, 'fetch': 2897, 'scoobi': 2898, 'estat': 2899, 'gradual': 2900, 'invest': 2901, 'dealt': 2902, 'companion': 2903, 'peak': 2904, 'lab': 2905, 'muslim': 2906, 'alli': 2907, 'ritter': 2908, 'subtleti': 2909, 'countless': 2910, 'tea': 2911, 'gothic': 2912, 'kane': 2913, 'servant': 2914, 'cup': 2915, 'miik': 2916, 'heroic': 2917, 'briefli': 2918, 'electr': 2919, 'elect': 2920, 'iii': 2921, 'salli': 2922, 'charismat': 2923, 'neil': 2924, 'cole': 2925, 'bud': 2926, 'resourc': 2927, 'wannab': 2928, 'tender': 2929, 'grandmoth': 2930, 'reel': 2931, 'admittedli': 2932, 'nuanc': 2933, 'toss': 2934, 'ingredi': 2935, 'pit': 2936, 'poverti': 2937, 'kubrick': 2938, 'dawson': 2939, 'punk': 2940, 'stronger': 2941, 'shall': 2942, 'stood': 2943, 'label': 2944, 'gate': 2945, 'mafia': 2946, 'mild': 2947, 'pauli': 2948, 'reev': 2949, 'carrey': 2950, 'terri': 2951, 'cardboard': 2952, 'fond': 2953, 'smooth': 2954, 'assault': 2955, 'tag': 2956, 'easier': 2957, 'ian': 2958, 'cox': 2959, 'updat': 2960, 'useless': 2961, 'outcom': 2962, 'burst': 2963, 'bakshi': 2964, 'astair': 2965, 'smash': 2966, 'resolv': 2967, 'increasingli': 2968, 'vulner': 2969, 'exchang': 2970, 'rex': 2971, 'fist': 2972, '2002': 2973, 'melodramat': 2974, 'qualifi': 2975, 'coincid': 2976, 'divers': 2977, 'samurai': 2978, 'sketch': 2979, 'vari': 2980, 'tame': 2981, 'brillianc': 2982, 'luckili': 2983, 'be': 2984, 'reynold': 2985, 'suspend': 2986, 'blast': 2987, 'scratch': 2988, 'conveni': 2989, 'templ': 2990, 'insert': 2991, 'hamilton': 2992, 'strictli': 2993, 'ambiti': 2994, 'farm': 2995, 'nuclear': 2996, 'gotta': 2997, 'matthew': 2998, 'jami': 2999, 'seventi': 3000, 'walker': 3001, 'meat': 3002, 'pin': 3003, 'fisher': 3004, 'coach': 3005, 'soprano': 3006, 'butcher': 3007, 'worthless': 3008, 'grasp': 3009, 'brosnan': 3010, 'empir': 3011, 'monk': 3012, 'eccentr': 3013, 'cave': 3014, 'struck': 3015, 'discoveri': 3016, 'convolut': 3017, 'joey': 3018, 'clock': 3019, 'spooki': 3020, 'revers': 3021, 'kudo': 3022, 'timeless': 3023, 'recreat': 3024, 'ninja': 3025, 'instantli': 3026, 'closet': 3027, 'pal': 3028, 'bleak': 3029, 'declar': 3030, 'evok': 3031, 'sloppi': 3032, 'partli': 3033, 'gray': 3034, 'miracl': 3035, 'importantli': 3036, 'communist': 3037, 'mitchel': 3038, 'wipe': 3039, 'inconsist': 3040, 'cliff': 3041, 'sidekick': 3042, 'clown': 3043, 'fifteen': 3044, 'eighti': 3045, 'selfish': 3046, 'norman': 3047, 'seller': 3048, 'destin': 3049, 'aforement': 3050, 'websit': 3051, 'piano': 3052, 'flawless': 3053, 'superbl': 3054, 'debat': 3055, '45': 3056, 'enthusiast': 3057, 'stoog': 3058, 'seed': 3059, 'psychiatrist': 3060, 'lifestyl': 3061, 'australia': 3062, 'ho': 3063, 'farc': 3064, 'cheek': 3065, 'chew': 3066, 'bash': 3067, 'abc': 3068, 'pressur': 3069, 'incompet': 3070, 'anni': 3071, 'directori': 3072, 'kitchen': 3073, 'slice': 3074, 'emili': 3075, 'wick': 3076, 'akshay': 3077, 'drivel': 3078, 'regardless': 3079, 'splatter': 3080, 'soviet': 3081, 'wrestl': 3082, 'dash': 3083, 'dire': 3084, 'ken': 3085, 'blob': 3086, 'increas': 3087, 'distant': 3088, 'recov': 3089, 'doo': 3090, 'cagney': 3091, 'prize': 3092, 'flower': 3093, 'glow': 3094, 'beaten': 3095, 'lou': 3096, 'curios': 3097, 'pleasantli': 3098, 'chapter': 3099, 'judi': 3100, 'jar': 3101, 'cia': 3102, 'suppli': 3103, 'cameron': 3104, 'dave': 3105, 'helicopt': 3106, 'boil': 3107, 'duo': 3108, 'artifici': 3109, 'seduc': 3110, 'mann': 3111, 'panic': 3112, 'hop': 3113, 'psychot': 3114, 'splendid': 3115, 'favour': 3116, 'ellen': 3117, 'ranger': 3118, 'web': 3119, 'eleg': 3120, 'craig': 3121, 'turner': 3122, 'francisco': 3123, 'goldberg': 3124, 'combat': 3125, 'craven': 3126, 'laurel': 3127, 'glenn': 3128, 'drunken': 3129, 'perri': 3130, 'alexand': 3131, '20th': 3132, 'gentl': 3133, 'min': 3134, 'plausibl': 3135, 'wizard': 3136, 'graduat': 3137, 'flip': 3138, 'hatr': 3139, 'philosophi': 3140, 'slightest': 3141, 'shortli': 3142, 'falk': 3143, 'greek': 3144, 'modesti': 3145, 'rid': 3146, 'gandhi': 3147, 'fx': 3148, 'ruth': 3149, 'jealou': 3150, 'futurist': 3151, 'lend': 3152, 'unpleas': 3153, 'felix': 3154, 'dracula': 3155, 'fund': 3156, 'tall': 3157, 'preciou': 3158, 'legal': 3159, 'ocean': 3160, 'manhattan': 3161, 'harm': 3162, 'knight': 3163, 'we': 3164, 'holi': 3165, 'overdon': 3166, 'scientif': 3167, 'thread': 3168, 'digniti': 3169, 'nod': 3170, 'tank': 3171, 'giallo': 3172, 'ami': 3173, 'mock': 3174, 'childish': 3175, 'bless': 3176, 'reviv': 3177, 'forbidden': 3178, 'explicit': 3179, 'repeatedli': 3180, 'broad': 3181, 'elderli': 3182, '99': 3183, 'unwatch': 3184, 'nerv': 3185, 'margaret': 3186, '2004': 3187, 'mel': 3188, 'torment': 3189, 'eve': 3190, 'awe': 3191, 'awaken': 3192, 'pirat': 3193, 'thick': 3194, 'yesterday': 3195, 'fever': 3196, 'verhoeven': 3197, 'acclaim': 3198, 'rivet': 3199, 'absenc': 3200, 'eas': 3201, 'ambit': 3202, 'romero': 3203, 'custom': 3204, 'bin': 3205, 'automat': 3206, 'kay': 3207, 'roman': 3208, 'politician': 3209, 'royal': 3210, 'publish': 3211, 'launch': 3212, 'lean': 3213, 'stiller': 3214, 'timothi': 3215, 'uniform': 3216, 'griffith': 3217, 'ah': 3218, 'pierc': 3219, 'pulp': 3220, 'crook': 3221, 'darker': 3222, 'bathroom': 3223, 'tomato': 3224, 'stinker': 3225, 'termin': 3226, 'antic': 3227, 'foul': 3228, 'transport': 3229, 'warren': 3230, 'homicid': 3231, 'purpl': 3232, 'sunshin': 3233, 'wallac': 3234, 'gabriel': 3235, 'phrase': 3236, 'karen': 3237, 'viciou': 3238, 'hollow': 3239, 'prom': 3240, 'rambo': 3241, 'choreographi': 3242, 'packag': 3243, 'ought': 3244, 'coloni': 3245, '2003': 3246, 'saint': 3247, 'evolv': 3248, 'juvenil': 3249, 'q': 3250, 'horrid': 3251, 'brazil': 3252, 'awak': 3253, 'contrari': 3254, 'revolutionari': 3255, 'marin': 3256, 'album': 3257, 'pray': 3258, 'donna': 3259, 'sixti': 3260, 'li': 3261, 'kenneth': 3262, 'eyr': 3263, 'boast': 3264, 'overr': 3265, 'stole': 3266, 'ireland': 3267, 'option': 3268, 'defi': 3269, 'candid': 3270, 'blade': 3271, 'kapoor': 3272, 'dose': 3273, 'conserv': 3274, 'beatti': 3275, 'nerd': 3276, 'ramon': 3277, 'mummi': 3278, 'twelv': 3279, 'mildr': 3280, 'jazz': 3281, 'flame': 3282, 'kirk': 3283, 'natali': 3284, 'astonish': 3285, 'trio': 3286, 'protest': 3287, 'detract': 3288, 'confirm': 3289, 'funer': 3290, 'fulci': 3291, 'global': 3292, 'altman': 3293, 'collabor': 3294, 'spit': 3295, 'shade': 3296, 'tommi': 3297, 'nicholson': 3298, 'enterpris': 3299, 'destini': 3300, 'leap': 3301, 'bottl': 3302, 'delici': 3303, 'yellow': 3304, 'racial': 3305, 'bull': 3306, 'whip': 3307, 'audio': 3308, 'mystic': 3309, 'blake': 3310, 'harder': 3311, 'inherit': 3312, 'todd': 3313, 'altogeth': 3314, 'fonda': 3315, 'vivid': 3316, 'popcorn': 3317, 'adolesc': 3318, 'neo': 3319, 'swedish': 3320, 'pseudo': 3321, 'enchant': 3322, 'meaningless': 3323, 'threw': 3324, 'staff': 3325, 'reunit': 3326, 'merci': 3327, 'bedroom': 3328, 'visibl': 3329, 'uneven': 3330, 'crocodil': 3331, 'decor': 3332, 'await': 3333, 'fanat': 3334, 'suspici': 3335, 'befriend': 3336, 'madonna': 3337, 'lawrenc': 3338, 'roommat': 3339, 'reserv': 3340, 'synopsi': 3341, 'jew': 3342, 'wire': 3343, 'lemmon': 3344, 'bust': 3345, 'voight': 3346, 'kennedi': 3347, 'tip': 3348, 'ruthless': 3349, 'atlanti': 3350, 'respond': 3351, 'exhibit': 3352, 'moodi': 3353, 'leonard': 3354, 'edi': 3355, 'garner': 3356, 'dimens': 3357, 'carl': 3358, 'incident': 3359, 'voyag': 3360, 'palma': 3361, 'bargain': 3362, 'holli': 3363, 'bold': 3364, '2007': 3365, 'rural': 3366, 'clint': 3367, 'centr': 3368, 'clumsi': 3369, 'abysm': 3370, 'chao': 3371, 'bradi': 3372, 'ventur': 3373, 'unsettl': 3374, 'audit': 3375, 'humili': 3376, 'lit': 3377, 'troop': 3378, 'elimin': 3379, 'cd': 3380, 'neglect': 3381, 'acknowledg': 3382, 'cari': 3383, 'characterist': 3384, 'cuba': 3385, 'immigr': 3386, 'ant': 3387, '2nd': 3388, 'daddi': 3389, 'wealth': 3390, 'hart': 3391, 'nearbi': 3392, 'versu': 3393, 'imperson': 3394, 'echo': 3395, 'tiger': 3396, 'mall': 3397, 'poetic': 3398, 'trail': 3399, 'timon': 3400, 'mickey': 3401, 'collaps': 3402, 'domest': 3403, 'pun': 3404, 'mistaken': 3405, 'celluloid': 3406, 'repuls': 3407, 'prejudic': 3408, 'marshal': 3409, 'jeffrey': 3410, 'saga': 3411, 'solo': 3412, 'paus': 3413, 'infect': 3414, 'homer': 3415, 'tribe': 3416, 'inappropri': 3417, 'hbo': 3418, 'milk': 3419, 'coat': 3420, 'assembl': 3421, '1996': 3422, 'sore': 3423, 'olivi': 3424, 'gear': 3425, 'interrupt': 3426, 'cake': 3427, 'inan': 3428, 'equip': 3429, 'harvey': 3430, 'chest': 3431, 'undoubtedli': 3432, 'coffe': 3433, 'pant': 3434, 'apolog': 3435, 'ginger': 3436, 'promin': 3437, 'leon': 3438, 'humbl': 3439, 'colleagu': 3440, 'vulgar': 3441, 'furthermor': 3442, 'institut': 3443, 'pot': 3444, 'retain': 3445, 'devast': 3446, 'polanski': 3447, 'solut': 3448, 'highest': 3449, 'pen': 3450, 'instant': 3451, 'colonel': 3452, 'primari': 3453, 'embrac': 3454, 'maggi': 3455, 'airplan': 3456, 'florida': 3457, 'consum': 3458, 'exot': 3459, 'trace': 3460, 'jenni': 3461, 'brooklyn': 3462, 'aveng': 3463, 'ya': 3464, 'wive': 3465, '1999': 3466, 'dian': 3467, 'disabl': 3468, 'principl': 3469, 'seduct': 3470, 'linda': 3471, 'smaller': 3472, 'cope': 3473, 'rick': 3474, 'illog': 3475, 'bowl': 3476, 'poke': 3477, 'dutch': 3478, 'sale': 3479, 'godzilla': 3480, 'strain': 3481, 'gender': 3482, '3rd': 3483, 'descend': 3484, 'outer': 3485, 'predecessor': 3486, 'secondli': 3487, 'vast': 3488, 'glamor': 3489, 'yard': 3490, 'inferior': 3491, 'dive': 3492, 'gundam': 3493, 'beneath': 3494, 'devoid': 3495, 'dud': 3496, 'lol': 3497, 'hal': 3498, 'bubbl': 3499, 'scope': 3500, 'cue': 3501, 'rabbit': 3502, 'mixtur': 3503, 'blatant': 3504, 'primarili': 3505, 'gloriou': 3506, 'alert': 3507, 'countrysid': 3508, 'senseless': 3509, 'breed': 3510, 'trademark': 3511, 'museum': 3512, 'pearl': 3513, 'hideou': 3514, 'alfr': 3515, 'z': 3516, 'simplist': 3517, 'et': 3518, 'garbo': 3519, 'grinch': 3520, 'invas': 3521, 'april': 3522, 'talki': 3523, 'myer': 3524, 'shelf': 3525, 'casual': 3526, 'aggress': 3527, 'disjoint': 3528, 'shirley': 3529, 'streep': 3530, 'domino': 3531, 'arab': 3532, 'maci': 3533, 'disgrac': 3534, 'hopeless': 3535, 'khan': 3536, 'acid': 3537, 'vanish': 3538, 'boom': 3539, 'experiment': 3540, 'obtain': 3541, 'loyal': 3542, 'hardcor': 3543, 'slide': 3544, 'illeg': 3545, 'robberi': 3546, 'rendit': 3547, 'stellar': 3548, 'sh': 3549, 'stir': 3550, 'defens': 3551, 'oz': 3552, 'mayor': 3553, 'uwe': 3554, 'applaud': 3555, 'stack': 3556, 'unhappi': 3557, 'robinson': 3558, 'mail': 3559, 'psychic': 3560, 'soccer': 3561, 'span': 3562, 'dismiss': 3563, 'tempt': 3564, 'declin': 3565, 'recruit': 3566, 'tenant': 3567, 'incomprehens': 3568, 'fri': 3569, 'diana': 3570, 'wont': 3571, 'hartley': 3572, 'scroog': 3573, 'dicken': 3574, 'amanda': 3575, 'topless': 3576, 'craze': 3577, 'emphasi': 3578, 'counter': 3579, 'blew': 3580, 'berlin': 3581, 'spider': 3582, 'rifl': 3583, 'grandfath': 3584, 'bitch': 3585, 'niro': 3586, 'faster': 3587, 'riot': 3588, 'sibl': 3589, 'goer': 3590, 'ration': 3591, 'trashi': 3592, 'intim': 3593, 'resurrect': 3594, 'wet': 3595, 'lumet': 3596, 'parad': 3597, 'shed': 3598, 'porno': 3599, 'sympath': 3600, 'woo': 3601, 'shaw': 3602, 'ethnic': 3603, 'justin': 3604, 'revolt': 3605, 'unreal': 3606, 'immort': 3607, 'slick': 3608, 'commend': 3609, 'choru': 3610, 'wendi': 3611, 'patriot': 3612, 'farmer': 3613, 'dealer': 3614, 'hesit': 3615, '00': 3616, 'feminist': 3617, 'wheel': 3618, 'region': 3619, 'ensur': 3620, 'enlighten': 3621, 'partial': 3622, 'honesti': 3623, 'gap': 3624, 'hopper': 3625, 'biographi': 3626, 'eager': 3627, 'nephew': 3628, 'andr': 3629, 'rider': 3630, 'mario': 3631, 'lena': 3632, 'weakest': 3633, 'steam': 3634, 'ballet': 3635, 'jonathan': 3636, 'worm': 3637, 'wore': 3638, 'nostalg': 3639, 'confin': 3640, 'safeti': 3641, 'properti': 3642, 'kingdom': 3643, 'blunt': 3644, 'similarli': 3645, 'snap': 3646, 'util': 3647, 'franco': 3648, 'hung': 3649, 'victori': 3650, 'skull': 3651, 'charlott': 3652, 'vice': 3653, 'sappi': 3654, 'sandra': 3655, 'morri': 3656, 'repress': 3657, 'prequel': 3658, 'composit': 3659, 'owen': 3660, 'leo': 3661, 'mutant': 3662, 'psychopath': 3663, 'macarthur': 3664, 'campbel': 3665, 'speci': 3666, 'despair': 3667, 'kyle': 3668, 'miseri': 3669, 'heartbreak': 3670, 'latin': 3671, 'montana': 3672, 'thru': 3673, 'bonu': 3674, 'dust': 3675, 'recycl': 3676, 'compass': 3677, 'tad': 3678, 'tail': 3679, 'bumbl': 3680, 'acquir': 3681, 'drain': 3682, '1972': 3683, 'repli': 3684, 'rocki': 3685, 'exit': 3686, 'drum': 3687, 'pattern': 3688, 'rope': 3689, 'compens': 3690, 'whoopi': 3691, 'emperor': 3692, 'bow': 3693, 'deed': 3694, 'strand': 3695, 'cg': 3696, 'bergman': 3697, 'del': 3698, 'rambl': 3699, 'valuabl': 3700, 'farrel': 3701, 'snl': 3702, 'nervou': 3703, 'hyde': 3704, 'dalton': 3705, 'mistress': 3706, 'carradin': 3707, 'radic': 3708, 'rotten': 3709, 'slug': 3710, 'gal': 3711, 'gimmick': 3712, '35': 3713, 'contempl': 3714, 'roth': 3715, 'rapist': 3716, 'martian': 3717, 'romp': 3718, 'pour': 3719, 'percept': 3720, 'orson': 3721, 'airport': 3722, 'da': 3723, 'tonight': 3724, 'wacki': 3725, 'downhil': 3726, 'bleed': 3727, 'olli': 3728, 'oppress': 3729, 'chess': 3730, 'paltrow': 3731, 'unpredict': 3732, 'preach': 3733, 'arc': 3734, 'pursuit': 3735, 'tackl': 3736, 'shelley': 3737, '1983': 3738, 'stilt': 3739, 'taught': 3740, 'belt': 3741, 'arguabl': 3742, 'pervers': 3743, 'edgar': 3744, 'programm': 3745, 'tooth': 3746, 'mislead': 3747, 'champion': 3748, 'slash': 3749, 'dazzl': 3750, 'pervert': 3751, 'melodi': 3752, 'heal': 3753, 'attorney': 3754, 'banal': 3755, 'closest': 3756, 'poem': 3757, 'vengeanc': 3758, 'duval': 3759, 'passeng': 3760, 'tiresom': 3761, 'sensat': 3762, 'raymond': 3763, 'employe': 3764, 'orang': 3765, 'uplift': 3766, 'conneri': 3767, 'franki': 3768, 'maid': 3769, 'bela': 3770, 'plight': 3771, 'marti': 3772, 'chicken': 3773, 'dixon': 3774, 'cleverli': 3775, 'virginia': 3776, 'gambl': 3777, 'graham': 3778, 'vocal': 3779, 'mesmer': 3780, 'rubi': 3781, 'convincingli': 3782, 'lundgren': 3783, 'inject': 3784, 'habit': 3785, 'paranoia': 3786, 'mute': 3787, 'climact': 3788, 'numb': 3789, '1968': 3790, 'suffic': 3791, 'scottish': 3792, 'amitabh': 3793, 'outing': 3794, 'engross': 3795, 'yawn': 3796, 'crystal': 3797, 'tube': 3798, 'whine': 3799, 'volum': 3800, 'profan': 3801, 'gerard': 3802, 'quarter': 3803, 'abraham': 3804, 'secretli': 3805, 'bay': 3806, 'clone': 3807, 'pokemon': 3808, 'monologu': 3809, 'extens': 3810, 'swallow': 3811, 'giggl': 3812, 'sirk': 3813, 'calm': 3814, 'iran': 3815, 'richardson': 3816, 'austen': 3817, 'frankenstein': 3818, 'bend': 3819, 'poetri': 3820, 'dispos': 3821, 'fed': 3822, 'profess': 3823, 'plod': 3824, 'linger': 3825, 'underst': 3826, 'nichola': 3827, 'lowest': 3828, 'surpass': 3829, 'grotesqu': 3830, 'ethan': 3831, 'earl': 3832, 'expand': 3833, 'trend': 3834, 'meander': 3835, 'backward': 3836, 'im': 3837, 'franci': 3838, 'spock': 3839, 'taxi': 3840, 'abort': 3841, 'septemb': 3842, 'chicago': 3843, 'junior': 3844, 'simplic': 3845, 'stallon': 3846, 'catchi': 3847, 'rubber': 3848, 'household': 3849, 'nostalgia': 3850, 'compliment': 3851, 'waitress': 3852, 'eugen': 3853, 'lure': 3854, 'cannon': 3855, 'der': 3856, 'greedi': 3857, 'muddl': 3858, 'sue': 3859, 'dysfunct': 3860, 'econom': 3861, 'spoke': 3862, 'rant': 3863, 'mundan': 3864, 'instrument': 3865, 'hum': 3866, 'tourist': 3867, 'literatur': 3868, 'descent': 3869, 'myth': 3870, 'eaten': 3871, 'firstli': 3872, 'recognit': 3873, 'map': 3874, 'deaf': 3875, 'insur': 3876, 'recognis': 3877, 'hello': 3878, 'mankind': 3879, 'stale': 3880, 'cent': 3881, 'furi': 3882, 'duck': 3883, 'phantom': 3884, 'omen': 3885, 'crucial': 3886, 'carel': 3887, 'dement': 3888, 'coast': 3889, 'equival': 3890, 'louis': 3891, 'flee': 3892, 'occupi': 3893, 'lang': 3894, 'mortal': 3895, 'dictat': 3896, 'irrelev': 3897, 'june': 3898, 'damon': 3899, 'alongsid': 3900, 'randi': 3901, 'sissi': 3902, 'bacal': 3903, 'molli': 3904, 'phoni': 3905, 'damm': 3906, 'likewis': 3907, 'reign': 3908, 'ashley': 3909, 'daisi': 3910, '1973': 3911, 'lengthi': 3912, 'onlin': 3913, 'newli': 3914, 'distinguish': 3915, 'rude': 3916, 'dreari': 3917, 'cyborg': 3918, 'loyalti': 3919, 'buffalo': 3920, 'drake': 3921, 'freez': 3922, 'bike': 3923, 'bump': 3924, 'heel': 3925, 'twilight': 3926, 'wisdom': 3927, 'grayson': 3928, 'labor': 3929, 'blackmail': 3930, 'biko': 3931, 'antwon': 3932, 'rooney': 3933, 'attribut': 3934, 'basketbal': 3935, 'provoc': 3936, 'incorpor': 3937, 'proce': 3938, 'nineti': 3939, 'exposur': 3940, 'barrymor': 3941, 'vein': 3942, 'worn': 3943, 'boxer': 3944, 'unorigin': 3945, 'chronicl': 3946, 'tunnel': 3947, 'pink': 3948, 'butler': 3949, 'interior': 3950, 'inher': 3951, 'baddi': 3952, 'prey': 3953, 'sailor': 3954, 'startl': 3955, 'emphas': 3956, 'analysi': 3957, 'approv': 3958, 'ridden': 3959, 'keith': 3960, 'undeni': 3961, 'degrad': 3962, 'millionair': 3963, 'drift': 3964, 'fleet': 3965, 'robbin': 3966, 'er': 3967, 'julian': 3968, 'predat': 3969, 'stalker': 3970, 'elm': 3971, 'meyer': 3972, 'mighti': 3973, 'underli': 3974, 'indiffer': 3975, 'substitut': 3976, 'condemn': 3977, 'hypnot': 3978, 'carla': 3979, 'improvis': 3980, 'mormon': 3981, 'nicol': 3982, 'meg': 3983, 'barrel': 3984, 'simmon': 3985, 'walsh': 3986, 'bunni': 3987, 'belushi': 3988, 'unrel': 3989, 'othello': 3990, 'shove': 3991, 'dolph': 3992, 'exquisit': 3993, 'mtv': 3994, 'hay': 3995, 'novak': 3996, 'agenda': 3997, '3d': 3998, 'warmth': 3999, 'nyc': 4000, 'errol': 4001, 'edgi': 4002, 'firm': 4003, 'palac': 4004, 'lampoon': 4005, 'unawar': 4006, 'rukh': 4007, 'disord': 4008, 'vital': 4009, 'alarm': 4010, 'greed': 4011, 'priceless': 4012, 'enthusiasm': 4013, 'roof': 4014, 'watson': 4015, 'marion': 4016, 'alison': 4017, 'reid': 4018, 'thompson': 4019, 'iraq': 4020, 'distort': 4021, 'unleash': 4022, 'spain': 4023, 'coup': 4024, 'glanc': 4025, 'angela': 4026, 'peril': 4027, 'petti': 4028, 'israel': 4029, 'session': 4030, 'sergeant': 4031, 'minimum': 4032, 'drip': 4033, 'showdown': 4034, 'campaign': 4035, 'orlean': 4036, '13th': 4037, 'what': 4038, 'beatl': 4039, 'preserv': 4040, 'ponder': 4041, 'nun': 4042, 'simultan': 4043, 'pamela': 4044, 'profit': 4045, 'eastern': 4046, 'peck': 4047, 'championship': 4048, 'valentin': 4049, 'crown': 4050, 'zizek': 4051, 'testament': 4052, 'gestur': 4053, '1933': 4054, 'randomli': 4055, 'cassidi': 4056, 'calib': 4057, 'bro': 4058, 'buster': 4059, 'stake': 4060, 'scotland': 4061, '1984': 4062, 'brenda': 4063, 'cream': 4064, 'valley': 4065, 'jan': 4066, 'wig': 4067, 'rout': 4068, 'shootout': 4069, 'regist': 4070, 'restrain': 4071, 'din': 4072, 'travesti': 4073, 'reson': 4074, 'unimagin': 4075, 'crow': 4076, 'represent': 4077, 'kurosawa': 4078, 'han': 4079, 'empathi': 4080, 'exposit': 4081, 'realm': 4082, 'stroke': 4083, 'crawl': 4084, 'perpetu': 4085, 'miyazaki': 4086, 'quinn': 4087, 'cooki': 4088, 'climat': 4089, 'sabrina': 4090, 'gentleman': 4091, 'contradict': 4092, 'mon': 4093, 'fido': 4094, 'shaki': 4095, 'delic': 4096, 'perceiv': 4097, '1997': 4098, 'mclaglen': 4099, 'demis': 4100, 'sammi': 4101, 'absent': 4102, 'wax': 4103, 'compromis': 4104, 'darren': 4105, 'shoddi': 4106, 'businessman': 4107, 'femm': 4108, 'cloud': 4109, 'baldwin': 4110, 'warrant': 4111, 'josh': 4112, 'tacki': 4113, 'sucker': 4114, 'greg': 4115, 'ross': 4116, 'derang': 4117, 'fuller': 4118, 'monoton': 4119, 'unseen': 4120, 'ustinov': 4121, 'passabl': 4122, 'geek': 4123, 'pretens': 4124, 'dana': 4125, 'unsatisfi': 4126, 'stargat': 4127, 'painter': 4128, 'traumat': 4129, 'abomin': 4130, '1987': 4131, 'censor': 4132, 'meryl': 4133, 'soderbergh': 4134, 'spacey': 4135, 'pole': 4136, 'distress': 4137, 'crawford': 4138, 'expedit': 4139, 'tarantino': 4140, 'unravel': 4141, 'jewel': 4142, 'clash': 4143, 'exclus': 4144, 'seal': 4145, 'click': 4146, '1993': 4147, 'primit': 4148, 'kumar': 4149, 'deceas': 4150, 'deniro': 4151, 'judgment': 4152, 'sid': 4153, 'polici': 4154, 'anchor': 4155, 'reluct': 4156, 'austin': 4157, 'valid': 4158, 'correctli': 4159, 'verbal': 4160, 'nathan': 4161, 'accuraci': 4162, 'wholli': 4163, 'fenc': 4164, 'furiou': 4165, 'uncov': 4166, 'tech': 4167, 'antonioni': 4168, 'fog': 4169, 'dee': 4170, 'norm': 4171, 'mode': 4172, 'murray': 4173, 'crippl': 4174, 'slam': 4175, '1995': 4176, 'darn': 4177, 'logan': 4178, 'roller': 4179, 'patienc': 4180, 'wretch': 4181, 'sunni': 4182, 'pocket': 4183, 'alec': 4184, 'sustain': 4185, 'bake': 4186, '3000': 4187, 'tax': 4188, 'enforc': 4189, 'unfair': 4190, '1971': 4191, 'behold': 4192, 'sheet': 4193, 'shanghai': 4194, 'nicola': 4195, 'trait': 4196, 'debt': 4197, 'temper': 4198, 'clerk': 4199, 'fart': 4200, 'seldom': 4201, 'ritual': 4202, 'malon': 4203, 'sand': 4204, 'joel': 4205, 'hallucin': 4206, '2008': 4207, 'vanc': 4208, 'conduct': 4209, 'fought': 4210, 'fabric': 4211, 'wang': 4212, 'dreck': 4213, 'canyon': 4214, 'pete': 4215, 'penni': 4216, 'bridget': 4217, 'divid': 4218, 'stuart': 4219, 'runner': 4220, 'squad': 4221, 'schedul': 4222, 'exhaust': 4223, 'scriptwrit': 4224, 'rita': 4225, 'tactic': 4226, 'bias': 4227, 'critiqu': 4228, 'conscious': 4229, 'sweep': 4230, 'robber': 4231, 'phil': 4232, 'grief': 4233, 'outlin': 4234, 'preston': 4235, 'preposter': 4236, 'helpless': 4237, 'despis': 4238, 'fundament': 4239, 'guitar': 4240, 'clau': 4241, 'isabel': 4242, 'legaci': 4243, 'shell': 4244, 'soup': 4245, 'technicolor': 4246, 'stark': 4247, 'propos': 4248, 'jodi': 4249, 'kansa': 4250, 'rear': 4251, 'marc': 4252, 'vomit': 4253, 'agenc': 4254, 'downey': 4255, 'alley': 4256, 'passag': 4257, 'liberti': 4258, 'invad': 4259, 'flair': 4260, 'restrict': 4261, 'consciou': 4262, 'inabl': 4263, 'rehash': 4264, 'sugar': 4265, 'lacklust': 4266, 'boyl': 4267, 'delv': 4268, 'bloom': 4269, 'sniper': 4270, 'culmin': 4271, 'alicia': 4272, 'unexpectedli': 4273, 'implic': 4274, 'drove': 4275, 'jacket': 4276, 'gregori': 4277, 'newman': 4278, 'sentinel': 4279, 'palanc': 4280, 'russia': 4281, 'connor': 4282, 'cigarett': 4283, 'sharon': 4284, 'behaviour': 4285, '1936': 4286, 'horn': 4287, 'chainsaw': 4288, 'delet': 4289, 'vet': 4290, '22': 4291, 'ladder': 4292, 'arrow': 4293, 'aesthet': 4294, 'mccoy': 4295, 'karl': 4296, 'awhil': 4297, 'asylum': 4298, 'tendenc': 4299, 'improb': 4300, 'pale': 4301, 'lush': 4302, 'cap': 4303, 'wrench': 4304, 'foxx': 4305, 'bacon': 4306, 'rehears': 4307, 'rampag': 4308, 'rod': 4309, 'feat': 4310, 'tripe': 4311, 'kolchak': 4312, 'yeti': 4313, 'prank': 4314, 'hulk': 4315, 'tomorrow': 4316, 'hackney': 4317, 'el': 4318, '1978': 4319, 'suffici': 4320, 'weav': 4321, 'wildli': 4322, 'thunderbird': 4323, '1988': 4324, 'wagner': 4325, '1920': 4326, 'suspicion': 4327, 'stream': 4328, 'amazon': 4329, 'fright': 4330, 'loneli': 4331, 'lurk': 4332, 'minu': 4333, 'underneath': 4334, 'elit': 4335, 'aristocrat': 4336, 'conscienc': 4337, 'hungri': 4338, 'coaster': 4339, 'rhythm': 4340, 'filler': 4341, 'tasteless': 4342, 'spice': 4343, 'visitor': 4344, '19th': 4345, 'scoop': 4346, 'paramount': 4347, 'globe': 4348, 'shortcom': 4349, 'financ': 4350, 'sung': 4351, 'newcom': 4352, 'paradis': 4353, 'rumor': 4354, 'basing': 4355, 'immers': 4356, 'paxton': 4357, '1939': 4358, 'straightforward': 4359, 'chavez': 4360, 'entranc': 4361, 'worship': 4362, 'ram': 4363, 'springer': 4364, 'iv': 4365, '1989': 4366, 'en': 4367, 'dirt': 4368, 'posey': 4369, 'impos': 4370, 'heist': 4371, '75': 4372, 'literari': 4373, 'recogniz': 4374, 'penn': 4375, 'naughti': 4376, 'atroc': 4377, 'abrupt': 4378, 'couch': 4379, 'minist': 4380, 'teas': 4381, 'cancer': 4382, 'ingeni': 4383, 'quietli': 4384, 'counterpart': 4385, 'lectur': 4386, 'standout': 4387, 'smell': 4388, 'secondari': 4389, 'curli': 4390, 'tierney': 4391, 'rub': 4392, 'choppi': 4393, 'wwe': 4394, 'bread': 4395, 'brit': 4396, 'inmat': 4397, 'chamberlain': 4398, 'beverli': 4399, 'leigh': 4400, 'grudg': 4401, 'hopkin': 4402, 'morbid': 4403, 'watcher': 4404, 'attenborough': 4405, 'heartfelt': 4406, 'missil': 4407, 'nemesi': 4408, 'nolan': 4409, 'yearn': 4410, 'skeptic': 4411, 'variat': 4412, 'moreov': 4413, 'lindsay': 4414, 'misguid': 4415, 'policeman': 4416, 'convert': 4417, '1986': 4418, 'duel': 4419, 'geni': 4420, 'net': 4421, 'entitl': 4422, 'sassi': 4423, 'laurenc': 4424, 'clan': 4425, 'enthral': 4426, 'ace': 4427, 'quaid': 4428, 'ratso': 4429, 'sublim': 4430, 'esther': 4431, 'transcend': 4432, 'bernard': 4433, 'cattl': 4434, 'injuri': 4435, 'poe': 4436, 'brood': 4437, 'unexplain': 4438, 'steadi': 4439, 'puppi': 4440, 'grin': 4441, 'youngest': 4442, 'carlito': 4443, 'out': 4444, 'buzz': 4445, 'artsi': 4446, 'enabl': 4447, 'facil': 4448, 'rosemari': 4449, 'obstacl': 4450, 'characteris': 4451, 'bean': 4452, 'graini': 4453, 'uncut': 4454, 'vader': 4455, 'egg': 4456, 'hopelessli': 4457, 'dont': 4458, 'cruelti': 4459, 'spiral': 4460, 'moder': 4461, 'setup': 4462, 'mytholog': 4463, 'kidman': 4464, 'diari': 4465, '1979': 4466, 'bye': 4467, 'hk': 4468, 'reliabl': 4469, 'kitti': 4470, 'tyler': 4471, 'fuel': 4472, 'kline': 4473, 'sweat': 4474, 'effici': 4475, 'weather': 4476, '1969': 4477, 'martha': 4478, 'despic': 4479, 'exterior': 4480, 'patricia': 4481, 'disastr': 4482, 'hammi': 4483, 'niec': 4484, 'heap': 4485, 'clueless': 4486, 'gina': 4487, 'bewar': 4488, 'christin': 4489, 'bounc': 4490, 'acquaint': 4491, 'athlet': 4492, 'oblig': 4493, 'preming': 4494, 'narrow': 4495, 'decept': 4496, 'spontan': 4497, 'baffl': 4498, 'hain': 4499, 'bronson': 4500, 'underworld': 4501, 'gillian': 4502, 'brendan': 4503, 'housewif': 4504, 'astound': 4505, 'dilemma': 4506, 'analyz': 4507, 'preachi': 4508, 'tick': 4509, 'circu': 4510, '19': 4511, 'trigger': 4512, 'hepburn': 4513, 'renaiss': 4514, 'lester': 4515, 'loi': 4516, 'outlaw': 4517, 'scar': 4518, 'mayhem': 4519, 'rome': 4520, 'uh': 4521, 'headach': 4522, 'angst': 4523, 'taboo': 4524, 'fontain': 4525, 'harmless': 4526, 'insipid': 4527, 'injur': 4528, 'virtu': 4529, 'suprem': 4530, 'viewpoint': 4531, 'candl': 4532, '73': 4533, 'loath': 4534, 'dandi': 4535, 'shatter': 4536, 'mermaid': 4537, 'sooner': 4538, 'goof': 4539, 'biker': 4540, 'sleepwalk': 4541, 'enlist': 4542, 'slimi': 4543, 'glorifi': 4544, 'intric': 4545, 'stimul': 4546, 'oldest': 4547, 'ebert': 4548, 'camcord': 4549, 'fluff': 4550, 'dish': 4551, 'gere': 4552, 'whore': 4553, 'hokey': 4554, 'redund': 4555, 'claustrophob': 4556, 'scorses': 4557, 'guin': 4558, 'immatur': 4559, 'surgeri': 4560, 'filth': 4561, 'hooker': 4562, 'amor': 4563, 'macho': 4564, 'overlong': 4565, 'salt': 4566, 'phenomenon': 4567, 'zoom': 4568, 'stair': 4569, 'dismal': 4570, 'tripl': 4571, 'cassavet': 4572, 'boston': 4573, 'idol': 4574, 'contempt': 4575, 'hostag': 4576, 'steer': 4577, 'ariel': 4578, 'bent': 4579, 'spade': 4580, 'corbett': 4581, 'foolish': 4582, 'sox': 4583, 'assert': 4584, 'flashi': 4585, 'muscl': 4586, 'cow': 4587, 'margin': 4588, 'keen': 4589, 'gasp': 4590, 'harold': 4591, 'frantic': 4592, 'cush': 4593, 'fascist': 4594, 'schlock': 4595, 'messi': 4596, 'zane': 4597, '1981': 4598, 'obligatori': 4599, 'down': 4600, 'perman': 4601, 'corman': 4602, 'preced': 4603, 'trivia': 4604, 'shred': 4605, 'conquer': 4606, '1976': 4607, 'spinal': 4608, 'proport': 4609, 'shield': 4610, 'radiat': 4611, 'flag': 4612, 'widescreen': 4613, 'rhyme': 4614, 'remad': 4615, 'strongest': 4616, 'mutual': 4617, 'beard': 4618, 'flirt': 4619, 'astronaut': 4620, 'antagonist': 4621, 'dwarf': 4622, 'spree': 4623, 'transplant': 4624, 'nolt': 4625, 'faint': 4626, 'cohen': 4627, 'joker': 4628, 'mount': 4629, 'gabl': 4630, 'alvin': 4631, 'naschi': 4632, 'triangl': 4633, 'interestingli': 4634, 'strive': 4635, '95': 4636, 'raj': 4637, 'www': 4638, 'departur': 4639, 'bitten': 4640, 'info': 4641, 'mobil': 4642, 'neurot': 4643, 'discern': 4644, 'flock': 4645, 'inflict': 4646, 'persuad': 4647, 'instruct': 4648, 'carey': 4649, 'deer': 4650, 'sensual': 4651, 'bachelor': 4652, 'archiv': 4653, '28': 4654, 'vaniti': 4655, 'mol': 4656, 'brush': 4657, 'repris': 4658, 'barn': 4659, 'off': 4660, 'wield': 4661, 'scandal': 4662, 'divin': 4663, 'resum': 4664, 'hara': 4665, 'danish': 4666, 'claud': 4667, 'someday': 4668, 'boob': 4669, 'fishburn': 4670, '1945': 4671, 'aborigin': 4672, 'ritchi': 4673, 'fragil': 4674, 'bate': 4675, 'ish': 4676, 'pacif': 4677, 'traffic': 4678, 'axe': 4679, 'dame': 4680, 'helm': 4681, 'cliffhang': 4682, 'senior': 4683, 'undermin': 4684, 'frontier': 4685, 'hilar': 4686, 'clad': 4687, 'hapless': 4688, 'recit': 4689, 'artwork': 4690, 'mobster': 4691, 'rot': 4692, 'harrison': 4693, 'jade': 4694, 'prophet': 4695, 'cb': 4696, 'dim': 4697, 'pickford': 4698, 'vibrant': 4699, 'miracul': 4700, 'heartwarm': 4701, 'casino': 4702, 'cycl': 4703, 'proclaim': 4704, 'earnest': 4705, 'wendigo': 4706, 'banter': 4707, 'kathryn': 4708, 'anton': 4709, 'hug': 4710, 'neill': 4711, 'pixar': 4712, 'carlo': 4713, 'europa': 4714, 'colin': 4715, 'timberlak': 4716, 'submit': 4717, 'melissa': 4718, 'dylan': 4719, 'luka': 4720, 'loretta': 4721, 'biblic': 4722, 'cher': 4723, 'parson': 4724, 'choke': 4725, 'cerebr': 4726, 'flavor': 4727, 'vanessa': 4728, 'akin': 4729, 'redneck': 4730, 'marlon': 4731, 'wardrob': 4732, 'legitim': 4733, 'bikini': 4734, 'antholog': 4735, 'orphan': 4736, 'foil': 4737, 'isra': 4738, 'razor': 4739, 'lui': 4740, 'illus': 4741, 'aris': 4742, 'rooki': 4743, 'blatantli': 4744, 'seedi': 4745, 'pc': 4746, 'electron': 4747, 'jordan': 4748, 'venom': 4749, 'feast': 4750, 'toronto': 4751, 'nope': 4752, 'http': 4753, 'misfortun': 4754, 'milo': 4755, 'bondag': 4756, 'estrang': 4757, 'vile': 4758, 'token': 4759, 'static': 4760, 'jo': 4761, 'breakfast': 4762, 'uma': 4763, 'lucil': 4764, 'eli': 4765, 'holocaust': 4766, 'trier': 4767, 'northern': 4768, 'sicken': 4769, 'mason': 4770, 'shepherd': 4771, 'winchest': 4772, 'mathieu': 4773, 'articl': 4774, 'alexandr': 4775, 'knightley': 4776, 'disregard': 4777, 'styliz': 4778, 'linear': 4779, 'charlton': 4780, 'shorter': 4781, 'audrey': 4782, 'glare': 4783, 'outdat': 4784, 'turd': 4785, 'feminin': 4786, 'highway': 4787, 'gunga': 4788, 'tack': 4789, 'fifth': 4790, 'psych': 4791, 'cartoonish': 4792, 'abund': 4793, 'leather': 4794, 'peer': 4795, 'howl': 4796, 'deem': 4797, 'gilbert': 4798, 'clinic': 4799, 'nightclub': 4800, 'dudley': 4801, 'huston': 4802, 'ideolog': 4803, 'comprehend': 4804, 'smack': 4805, 'swept': 4806, 'wrestler': 4807, 'ceremoni': 4808, 'frog': 4809, 'oppon': 4810, 'affleck': 4811, 'retriev': 4812, 'magician': 4813, 'boyer': 4814, 'summar': 4815, '1994': 4816, 'plate': 4817, 'lavish': 4818, 'toe': 4819, 'cemeteri': 4820, 'chip': 4821, 'whack': 4822, 'cuban': 4823, 'phenomen': 4824, 'salman': 4825, 'bogu': 4826, '1991': 4827, 'breakdown': 4828, 'sleaz': 4829, '4th': 4830, 'durat': 4831, 'energet': 4832, 'lifeless': 4833, 'uniformli': 4834, 'newer': 4835, 'evolut': 4836, 'moe': 4837, 'lighter': 4838, 'snatch': 4839, 'spine': 4840, 'collector': 4841, 'monument': 4842, 'compris': 4843, 'bastard': 4844, 'corn': 4845, 'mitch': 4846, 'boo': 4847, 'btw': 4848, 'greet': 4849, 'deliver': 4850, 'potter': 4851, 'spawn': 4852, 'braveheart': 4853, 'einstein': 4854, 'senat': 4855, 'client': 4856, 'goldsworthi': 4857, 'conrad': 4858, 'tara': 4859, 'gilliam': 4860, 'spectacl': 4861, 'clara': 4862, 'mcqueen': 4863, 'replay': 4864, 'sorrow': 4865, '1977': 4866, 'ie': 4867, 'luxuri': 4868, 'jam': 4869, 'firmli': 4870, 'judd': 4871, 'alleg': 4872, 'eleven': 4873, 'undead': 4874, 'signal': 4875, 'belli': 4876, 'liu': 4877, 'occup': 4878, 'wtf': 4879, 'creek': 4880, 'constitut': 4881, 'healthi': 4882, 'historian': 4883, 'evelyn': 4884, 'jedi': 4885, 'embark': 4886, 'bulk': 4887, 'ol': 4888, 'lex': 4889, 'fluid': 4890, 'trauma': 4891, 'inaccuraci': 4892, 'jare': 4893, 'armstrong': 4894, 'appl': 4895, 'bori': 4896, '1974': 4897, 'neatli': 4898, 'randolph': 4899, 'outright': 4900, 'nina': 4901, 'kazan': 4902, 'pronounc': 4903, 'kent': 4904, 'jule': 4905, 'capot': 4906, 'cecil': 4907, 'undertak': 4908, 'inaccur': 4909, 'meal': 4910, 'comprehens': 4911, 'sacrif': 4912, 'groan': 4913, 'lanc': 4914, 'decapit': 4915, 'propheci': 4916, 'spray': 4917, 'pepper': 4918, 'fruit': 4919, 'curtain': 4920, 'goldblum': 4921, 'basket': 4922, 'blur': 4923, 'aussi': 4924, 'comb': 4925, 'genet': 4926, 'roar': 4927, 'poker': 4928, 'unsuspect': 4929, 'forgiven': 4930, 'bait': 4931, 'porter': 4932, 'kiddi': 4933, 'pioneer': 4934, 'vain': 4935, 'miami': 4936, 'tokyo': 4937, 'relentless': 4938, 'lauren': 4939, 'abound': 4940, 'sidewalk': 4941, 'ash': 4942, 'truman': 4943, 'inclus': 4944, 'galaxi': 4945, '1985': 4946, 'conan': 4947, 'mum': 4948, 'subtli': 4949, 'knee': 4950, 'paula': 4951, 'id': 4952, 'walt': 4953, 'congratul': 4954, 'carmen': 4955, 'vignett': 4956, 'palm': 4957, 'antonio': 4958, 'unattract': 4959, 'cape': 4960, 'rosario': 4961, 'miniseri': 4962, 'bsg': 4963, 'sophi': 4964, 'jill': 4965, '21st': 4966, 'scarfac': 4967, 'ingrid': 4968, 'cypher': 4969, 'substanti': 4970, 'bach': 4971, 'handicap': 4972, 'incorrect': 4973, 'asset': 4974, 'profil': 4975, 'orchestr': 4976, 'vastli': 4977, 'drone': 4978, 'motorcycl': 4979, 'assort': 4980, 'sparkl': 4981, 'weaker': 4982, 'reincarn': 4983, 'omin': 4984, 'scariest': 4985, 'victorian': 4986, 'ghetto': 4987, 'verg': 4988, 'masterson': 4989, 'bravo': 4990, 'frontal': 4991, 'macabr': 4992, 'modest': 4993, 'epitom': 4994, 'monti': 4995, 'growth': 4996, 'detach': 4997, 'rapidli': 4998, 'hackman': 4999}\n"
     ]
    }
   ],
   "source": [
    "word_dict = build_dict(train_X)"
   ]
  },
  {
   "cell_type": "markdown",
   "metadata": {},
   "source": [
    "**Question:** What are the five most frequently appearing (tokenized) words in the training set? Does it makes sense that these words appear frequently in the training set?"
   ]
  },
  {
   "cell_type": "markdown",
   "metadata": {},
   "source": [
    "**Answer:**"
   ]
  },
  {
   "cell_type": "code",
   "execution_count": 24,
   "metadata": {},
   "outputs": [
    {
     "name": "stdout",
     "output_type": "stream",
     "text": [
      "{'movi': 2, 'film': 3, 'one': 4, 'like': 5, 'time': 6}\n"
     ]
    }
   ],
   "source": [
    "# TODO: Use this space to determine the five most frequently appearing words in the training set.\n",
    "\n",
    "top_five = {k: word_dict[k] for k in list(word_dict)[:5]}\n",
    "print(top_five)"
   ]
  },
  {
   "cell_type": "markdown",
   "metadata": {},
   "source": [
    "### Save `word_dict`\n",
    "\n",
    "Later on when we construct an endpoint which processes a submitted review we will need to make use of the `word_dict` which we have created. As such, we will save it to a file now for future use."
   ]
  },
  {
   "cell_type": "code",
   "execution_count": 25,
   "metadata": {},
   "outputs": [],
   "source": [
    "data_dir = '../data/pytorch' # The folder we will use for storing data\n",
    "if not os.path.exists(data_dir): # Make sure that the folder exists\n",
    "    os.makedirs(data_dir)"
   ]
  },
  {
   "cell_type": "code",
   "execution_count": 26,
   "metadata": {},
   "outputs": [],
   "source": [
    "with open(os.path.join(data_dir, 'word_dict.pkl'), \"wb\") as f:\n",
    "    pickle.dump(word_dict, f)"
   ]
  },
  {
   "cell_type": "markdown",
   "metadata": {},
   "source": [
    "### Transform the reviews\n",
    "\n",
    "Now that we have our word dictionary which allows us to transform the words appearing in the reviews into integers, it is time to make use of it and convert our reviews to their integer sequence representation, making sure to pad or truncate to a fixed length, which in our case is `500`."
   ]
  },
  {
   "cell_type": "code",
   "execution_count": 27,
   "metadata": {},
   "outputs": [],
   "source": [
    "def convert_and_pad(word_dict, sentence, pad=500):\n",
    "    NOWORD = 0 # We will use 0 to represent the 'no word' category\n",
    "    INFREQ = 1 # and we use 1 to represent the infrequent words, i.e., words not appearing in word_dict\n",
    "    \n",
    "    working_sentence = [NOWORD] * pad\n",
    "    \n",
    "    for word_index, word in enumerate(sentence[:pad]):\n",
    "        if word in word_dict:\n",
    "            working_sentence[word_index] = word_dict[word]\n",
    "        else:\n",
    "            working_sentence[word_index] = INFREQ\n",
    "            \n",
    "    return working_sentence, min(len(sentence), pad)\n",
    "\n",
    "def convert_and_pad_data(word_dict, data, pad=500):\n",
    "    result = []\n",
    "    lengths = []\n",
    "    \n",
    "    for sentence in data:\n",
    "        converted, leng = convert_and_pad(word_dict, sentence, pad)\n",
    "        result.append(converted)\n",
    "        lengths.append(leng)\n",
    "        \n",
    "    return np.array(result), np.array(lengths)"
   ]
  },
  {
   "cell_type": "code",
   "execution_count": 28,
   "metadata": {},
   "outputs": [],
   "source": [
    "train_X, train_X_len = convert_and_pad_data(word_dict, train_X)\n",
    "test_X, test_X_len = convert_and_pad_data(word_dict, test_X)"
   ]
  },
  {
   "cell_type": "markdown",
   "metadata": {},
   "source": [
    "As a quick check to make sure that things are working as intended, check to see what one of the reviews in the training set looks like after having been processeed. Does this look reasonable? What is the length of a review in the training set?"
   ]
  },
  {
   "cell_type": "code",
   "execution_count": null,
   "metadata": {},
   "outputs": [],
   "source": [
    "# Use this cell to examine one of the processed reviews to make sure everything is working as intended.\n",
    "print(train_X[50])\n",
    "print(len(train_X[50]))"
   ]
  },
  {
   "cell_type": "markdown",
   "metadata": {},
   "source": [
    "**Question:** In the cells above we use the `preprocess_data` and `convert_and_pad_data` methods to process both the training and testing set. Why or why not might this be a problem?"
   ]
  },
  {
   "cell_type": "markdown",
   "metadata": {},
   "source": [
    "**Answer:**"
   ]
  },
  {
   "cell_type": "markdown",
   "metadata": {},
   "source": [
    "## Step 3: Upload the data to S3\n",
    "\n",
    "As in the XGBoost notebook, we will need to upload the training dataset to S3 in order for our training code to access it. For now we will save it locally and we will upload to S3 later on.\n",
    "\n",
    "### Save the processed training dataset locally\n",
    "\n",
    "It is important to note the format of the data that we are saving as we will need to know it when we write the training code. In our case, each row of the dataset has the form `label`, `length`, `review[500]` where `review[500]` is a sequence of `500` integers representing the words in the review."
   ]
  },
  {
   "cell_type": "code",
   "execution_count": 30,
   "metadata": {},
   "outputs": [],
   "source": [
    "import pandas as pd\n",
    "    \n",
    "pd.concat([pd.DataFrame(train_y), pd.DataFrame(train_X_len), pd.DataFrame(train_X)], axis=1) \\\n",
    "        .to_csv(os.path.join(data_dir, 'train.csv'), header=False, index=False)"
   ]
  },
  {
   "cell_type": "markdown",
   "metadata": {},
   "source": [
    "### Uploading the training data\n",
    "\n",
    "\n",
    "Next, we need to upload the training data to the SageMaker default S3 bucket so that we can provide access to it while training our model."
   ]
  },
  {
   "cell_type": "code",
   "execution_count": 31,
   "metadata": {},
   "outputs": [],
   "source": [
    "import sagemaker\n",
    "\n",
    "sagemaker_session = sagemaker.Session()\n",
    "\n",
    "bucket = sagemaker_session.default_bucket()\n",
    "prefix = 'sagemaker/sentiment_rnn'\n",
    "\n",
    "role = sagemaker.get_execution_role()"
   ]
  },
  {
   "cell_type": "code",
   "execution_count": 32,
   "metadata": {},
   "outputs": [],
   "source": [
    "input_data = sagemaker_session.upload_data(path=data_dir, bucket=bucket, key_prefix=prefix)"
   ]
  },
  {
   "cell_type": "markdown",
   "metadata": {},
   "source": [
    "**NOTE:** The cell above uploads the entire contents of our data directory. This includes the `word_dict.pkl` file. This is fortunate as we will need this later on when we create an endpoint that accepts an arbitrary review. For now, we will just take note of the fact that it resides in the data directory (and so also in the S3 training bucket) and that we will need to make sure it gets saved in the model directory."
   ]
  },
  {
   "cell_type": "markdown",
   "metadata": {},
   "source": [
    "## Step 4: Build and Train the PyTorch Model\n",
    "\n",
    "In the XGBoost notebook we discussed what a model is in the SageMaker framework. In particular, a model comprises three objects\n",
    "\n",
    " - Model Artifacts,\n",
    " - Training Code, and\n",
    " - Inference Code,\n",
    " \n",
    "each of which interact with one another. In the XGBoost example we used training and inference code that was provided by Amazon. Here we will still be using containers provided by Amazon with the added benefit of being able to include our own custom code.\n",
    "\n",
    "We will start by implementing our own neural network in PyTorch along with a training script. For the purposes of this project we have provided the necessary model object in the `model.py` file, inside of the `train` folder. You can see the provided implementation by running the cell below."
   ]
  },
  {
   "cell_type": "code",
   "execution_count": 33,
   "metadata": {},
   "outputs": [
    {
     "name": "stdout",
     "output_type": "stream",
     "text": [
      "\u001b[34mimport\u001b[39;49;00m \u001b[04m\u001b[36mtorch.nn\u001b[39;49;00m \u001b[34mas\u001b[39;49;00m \u001b[04m\u001b[36mnn\u001b[39;49;00m\r\n",
      "\r\n",
      "\u001b[34mclass\u001b[39;49;00m \u001b[04m\u001b[32mLSTMClassifier\u001b[39;49;00m(nn.Module):\r\n",
      "    \u001b[33m\"\"\"\u001b[39;49;00m\r\n",
      "\u001b[33m    This is the simple RNN model we will be using to perform Sentiment Analysis.\u001b[39;49;00m\r\n",
      "\u001b[33m    \"\"\"\u001b[39;49;00m\r\n",
      "\r\n",
      "    \u001b[34mdef\u001b[39;49;00m \u001b[32m__init__\u001b[39;49;00m(\u001b[36mself\u001b[39;49;00m, embedding_dim, hidden_dim, vocab_size):\r\n",
      "        \u001b[33m\"\"\"\u001b[39;49;00m\r\n",
      "\u001b[33m        Initialize the model by settingg up the various layers.\u001b[39;49;00m\r\n",
      "\u001b[33m        \"\"\"\u001b[39;49;00m\r\n",
      "        \u001b[36msuper\u001b[39;49;00m(LSTMClassifier, \u001b[36mself\u001b[39;49;00m).\u001b[32m__init__\u001b[39;49;00m()\r\n",
      "\r\n",
      "        \u001b[36mself\u001b[39;49;00m.embedding = nn.Embedding(vocab_size, embedding_dim, padding_idx=\u001b[34m0\u001b[39;49;00m)\r\n",
      "        \u001b[36mself\u001b[39;49;00m.lstm = nn.LSTM(embedding_dim, hidden_dim)\r\n",
      "        \u001b[36mself\u001b[39;49;00m.dense = nn.Linear(in_features=hidden_dim, out_features=\u001b[34m1\u001b[39;49;00m)\r\n",
      "        \u001b[36mself\u001b[39;49;00m.sig = nn.Sigmoid()\r\n",
      "        \r\n",
      "        \u001b[36mself\u001b[39;49;00m.word_dict = \u001b[36mNone\u001b[39;49;00m\r\n",
      "\r\n",
      "    \u001b[34mdef\u001b[39;49;00m \u001b[32mforward\u001b[39;49;00m(\u001b[36mself\u001b[39;49;00m, x):\r\n",
      "        \u001b[33m\"\"\"\u001b[39;49;00m\r\n",
      "\u001b[33m        Perform a forward pass of our model on some input.\u001b[39;49;00m\r\n",
      "\u001b[33m        \"\"\"\u001b[39;49;00m\r\n",
      "        x = x.t()\r\n",
      "        lengths = x[\u001b[34m0\u001b[39;49;00m,:]\r\n",
      "        reviews = x[\u001b[34m1\u001b[39;49;00m:,:]\r\n",
      "        embeds = \u001b[36mself\u001b[39;49;00m.embedding(reviews)\r\n",
      "        lstm_out, _ = \u001b[36mself\u001b[39;49;00m.lstm(embeds)\r\n",
      "        out = \u001b[36mself\u001b[39;49;00m.dense(lstm_out)\r\n",
      "        out = out[lengths - \u001b[34m1\u001b[39;49;00m, \u001b[36mrange\u001b[39;49;00m(\u001b[36mlen\u001b[39;49;00m(lengths))]\r\n",
      "        \u001b[34mreturn\u001b[39;49;00m \u001b[36mself\u001b[39;49;00m.sig(out.squeeze())\r\n"
     ]
    }
   ],
   "source": [
    "!pygmentize train/model.py"
   ]
  },
  {
   "cell_type": "markdown",
   "metadata": {},
   "source": [
    "The important takeaway from the implementation provided is that there are three parameters that we may wish to tweak to improve the performance of our model. These are the embedding dimension, the hidden dimension and the size of the vocabulary. We will likely want to make these parameters configurable in the training script so that if we wish to modify them we do not need to modify the script itself. We will see how to do this later on. To start we will write some of the training code in the notebook so that we can more easily diagnose any issues that arise.\n",
    "\n",
    "First we will load a small portion of the training data set to use as a sample. It would be very time consuming to try and train the model completely in the notebook as we do not have access to a gpu and the compute instance that we are using is not particularly powerful. However, we can work on a small bit of the data to get a feel for how our training script is behaving."
   ]
  },
  {
   "cell_type": "code",
   "execution_count": 34,
   "metadata": {},
   "outputs": [],
   "source": [
    "import torch\n",
    "import torch.utils.data\n",
    "\n",
    "# Read in only the first 250 rows\n",
    "train_sample = pd.read_csv(os.path.join(data_dir, 'train.csv'), header=None, names=None, nrows=250)\n",
    "\n",
    "# Turn the input pandas dataframe into tensors\n",
    "train_sample_y = torch.from_numpy(train_sample[[0]].values).float().squeeze()\n",
    "train_sample_X = torch.from_numpy(train_sample.drop([0], axis=1).values).long()\n",
    "\n",
    "# Build the dataset\n",
    "train_sample_ds = torch.utils.data.TensorDataset(train_sample_X, train_sample_y)\n",
    "# Build the dataloader\n",
    "train_sample_dl = torch.utils.data.DataLoader(train_sample_ds, batch_size=50)"
   ]
  },
  {
   "cell_type": "markdown",
   "metadata": {},
   "source": [
    "### (TODO) Writing the training method\n",
    "\n",
    "Next we need to write the training code itself. This should be very similar to training methods that you have written before to train PyTorch models. We will leave any difficult aspects such as model saving / loading and parameter loading until a little later."
   ]
  },
  {
   "cell_type": "code",
   "execution_count": 83,
   "metadata": {},
   "outputs": [],
   "source": [
    "def train(model, train_loader, epochs, optimizer, loss_fn, device):\n",
    "    for epoch in range(1, epochs + 1):\n",
    "        model.train()\n",
    "        total_loss = 0\n",
    "        for batch in train_loader:         \n",
    "            batch_X, batch_y = batch\n",
    "            \n",
    "            batch_X = batch_X.to(device)\n",
    "            batch_y = batch_y.to(device)\n",
    "           \n",
    "            # TODO: Complete this train method to train the model provided.\n",
    "            optimizer.zero_grad()\n",
    "            preds = model(batch_X)\n",
    "            loss = loss_fn(preds, batch_y) # Calculate Loss\n",
    "\n",
    "            \n",
    "            loss.backward() # Calculate Gradients\n",
    "            optimizer.step() # Update Weights\n",
    "\n",
    "            total_loss += loss.data.item()\n",
    "\n",
    "           \n",
    "        print(\"Epoch: {}, BCELoss: {}\".format(epoch, total_loss / len(train_loader)))"
   ]
  },
  {
   "cell_type": "markdown",
   "metadata": {},
   "source": [
    "Supposing we have the training method above, we will test that it is working by writing a bit of code in the notebook that executes our training method on the small sample training set that we loaded earlier. The reason for doing this in the notebook is so that we have an opportunity to fix any errors that arise early when they are easier to diagnose."
   ]
  },
  {
   "cell_type": "code",
   "execution_count": 84,
   "metadata": {},
   "outputs": [
    {
     "name": "stdout",
     "output_type": "stream",
     "text": [
      "Epoch: 1, BCELoss: 0.693808400630951\n",
      "Epoch: 2, BCELoss: 0.685522449016571\n",
      "Epoch: 3, BCELoss: 0.6786305189132691\n",
      "Epoch: 4, BCELoss: 0.671001386642456\n",
      "Epoch: 5, BCELoss: 0.6615786910057068\n"
     ]
    }
   ],
   "source": [
    "import torch.optim as optim\n",
    "from train.model import LSTMClassifier\n",
    "\n",
    "device = torch.device(\"cuda\" if torch.cuda.is_available() else \"cpu\")\n",
    "model = LSTMClassifier(32, 100, 5000).to(device)\n",
    "optimizer = optim.Adam(model.parameters())\n",
    "loss_fn = torch.nn.BCELoss()\n",
    "\n",
    "train(model, train_sample_dl, 5, optimizer, loss_fn, device)"
   ]
  },
  {
   "cell_type": "markdown",
   "metadata": {},
   "source": [
    "In order to construct a PyTorch model using SageMaker we must provide SageMaker with a training script. We may optionally include a directory which will be copied to the container and from which our training code will be run. When the training container is executed it will check the uploaded directory (if there is one) for a `requirements.txt` file and install any required Python libraries, after which the training script will be run."
   ]
  },
  {
   "cell_type": "markdown",
   "metadata": {},
   "source": [
    "### (TODO) Training the model\n",
    "\n",
    "When a PyTorch model is constructed in SageMaker, an entry point must be specified. This is the Python file which will be executed when the model is trained. Inside of the `train` directory is a file called `train.py` which has been provided and which contains most of the necessary code to train our model. The only thing that is missing is the implementation of the `train()` method which you wrote earlier in this notebook.\n",
    "\n",
    "**TODO**: Copy the `train()` method written above and paste it into the `train/train.py` file where required.\n",
    "\n",
    "The way that SageMaker passes hyperparameters to the training script is by way of arguments. These arguments can then be parsed and used in the training script. To see how this is done take a look at the provided `train/train.py` file."
   ]
  },
  {
   "cell_type": "code",
   "execution_count": 85,
   "metadata": {},
   "outputs": [],
   "source": [
    "from sagemaker.pytorch import PyTorch\n",
    "\n",
    "estimator = PyTorch(entry_point=\"train.py\",\n",
    "                    source_dir=\"train\",\n",
    "                    role=role,\n",
    "                    framework_version='0.4.0',\n",
    "                    train_instance_count=1,\n",
    "                    train_instance_type='ml.p2.xlarge',\n",
    "                    hyperparameters={\n",
    "                        'epochs': 10,\n",
    "                        'hidden_dim': 200,\n",
    "                    })"
   ]
  },
  {
   "cell_type": "code",
   "execution_count": 86,
   "metadata": {},
   "outputs": [
    {
     "name": "stdout",
     "output_type": "stream",
     "text": [
      "2020-05-21 22:56:21 Starting - Starting the training job...\n",
      "2020-05-21 22:56:23 Starting - Launching requested ML instances.........\n",
      "2020-05-21 22:57:54 Starting - Preparing the instances for training......\n",
      "2020-05-21 22:59:06 Downloading - Downloading input data...\n",
      "2020-05-21 22:59:44 Training - Downloading the training image...\n",
      "2020-05-21 23:00:15 Training - Training image download completed. Training in progress..\u001b[34mbash: cannot set terminal process group (-1): Inappropriate ioctl for device\u001b[0m\n",
      "\u001b[34mbash: no job control in this shell\u001b[0m\n",
      "\u001b[34m2020-05-21 23:00:16,125 sagemaker-containers INFO     Imported framework sagemaker_pytorch_container.training\u001b[0m\n",
      "\u001b[34m2020-05-21 23:00:16,153 sagemaker_pytorch_container.training INFO     Block until all host DNS lookups succeed.\u001b[0m\n",
      "\u001b[34m2020-05-21 23:00:16,158 sagemaker_pytorch_container.training INFO     Invoking user training script.\u001b[0m\n",
      "\u001b[34m2020-05-21 23:00:16,402 sagemaker-containers INFO     Module train does not provide a setup.py. \u001b[0m\n",
      "\u001b[34mGenerating setup.py\u001b[0m\n",
      "\u001b[34m2020-05-21 23:00:16,403 sagemaker-containers INFO     Generating setup.cfg\u001b[0m\n",
      "\u001b[34m2020-05-21 23:00:16,403 sagemaker-containers INFO     Generating MANIFEST.in\u001b[0m\n",
      "\u001b[34m2020-05-21 23:00:16,403 sagemaker-containers INFO     Installing module with the following command:\u001b[0m\n",
      "\u001b[34m/usr/bin/python -m pip install -U . -r requirements.txt\u001b[0m\n",
      "\u001b[34mProcessing /opt/ml/code\u001b[0m\n",
      "\u001b[34mCollecting pandas (from -r requirements.txt (line 1))\n",
      "  Downloading https://files.pythonhosted.org/packages/74/24/0cdbf8907e1e3bc5a8da03345c23cbed7044330bb8f73bb12e711a640a00/pandas-0.24.2-cp35-cp35m-manylinux1_x86_64.whl (10.0MB)\u001b[0m\n",
      "\u001b[34mCollecting numpy (from -r requirements.txt (line 2))\n",
      "  Downloading https://files.pythonhosted.org/packages/38/92/fa5295d9755c7876cb8490eab866e1780154033fa45978d9cf74ffbd4c68/numpy-1.18.4-cp35-cp35m-manylinux1_x86_64.whl (20.0MB)\u001b[0m\n",
      "\u001b[34mCollecting nltk (from -r requirements.txt (line 3))\n",
      "  Downloading https://files.pythonhosted.org/packages/92/75/ce35194d8e3022203cca0d2f896dbb88689f9b3fce8e9f9cff942913519d/nltk-3.5.zip (1.4MB)\u001b[0m\n",
      "\u001b[34mCollecting beautifulsoup4 (from -r requirements.txt (line 4))\n",
      "  Downloading https://files.pythonhosted.org/packages/66/25/ff030e2437265616a1e9b25ccc864e0371a0bc3adb7c5a404fd661c6f4f6/beautifulsoup4-4.9.1-py3-none-any.whl (115kB)\u001b[0m\n",
      "\u001b[34mCollecting html5lib (from -r requirements.txt (line 5))\n",
      "  Downloading https://files.pythonhosted.org/packages/a5/62/bbd2be0e7943ec8504b517e62bab011b4946e1258842bc159e5dfde15b96/html5lib-1.0.1-py2.py3-none-any.whl (117kB)\u001b[0m\n",
      "\u001b[34mRequirement already satisfied, skipping upgrade: python-dateutil>=2.5.0 in /usr/local/lib/python3.5/dist-packages (from pandas->-r requirements.txt (line 1)) (2.7.5)\u001b[0m\n",
      "\u001b[34mCollecting pytz>=2011k (from pandas->-r requirements.txt (line 1))\n",
      "  Downloading https://files.pythonhosted.org/packages/4f/a4/879454d49688e2fad93e59d7d4efda580b783c745fd2ec2a3adf87b0808d/pytz-2020.1-py2.py3-none-any.whl (510kB)\u001b[0m\n",
      "\u001b[34mRequirement already satisfied, skipping upgrade: click in /usr/local/lib/python3.5/dist-packages (from nltk->-r requirements.txt (line 3)) (7.0)\u001b[0m\n",
      "\u001b[34mCollecting joblib (from nltk->-r requirements.txt (line 3))\u001b[0m\n",
      "\u001b[34m  Downloading https://files.pythonhosted.org/packages/28/5c/cf6a2b65a321c4a209efcdf64c2689efae2cb62661f8f6f4bb28547cf1bf/joblib-0.14.1-py2.py3-none-any.whl (294kB)\u001b[0m\n",
      "\u001b[34mCollecting regex (from nltk->-r requirements.txt (line 3))\n",
      "  Downloading https://files.pythonhosted.org/packages/14/8d/d44863d358e9dba3bdfb06099bbbeddbac8fb360773ba73250a849af4b01/regex-2020.5.14.tar.gz (696kB)\u001b[0m\n",
      "\u001b[34mCollecting tqdm (from nltk->-r requirements.txt (line 3))\n",
      "  Downloading https://files.pythonhosted.org/packages/c9/40/058b12e8ba10e35f89c9b1fdfc2d4c7f8c05947df2d5eb3c7b258019fda0/tqdm-4.46.0-py2.py3-none-any.whl (63kB)\u001b[0m\n",
      "\u001b[34mCollecting soupsieve>1.2 (from beautifulsoup4->-r requirements.txt (line 4))\n",
      "  Downloading https://files.pythonhosted.org/packages/6f/8f/457f4a5390eeae1cc3aeab89deb7724c965be841ffca6cfca9197482e470/soupsieve-2.0.1-py3-none-any.whl\u001b[0m\n",
      "\u001b[34mCollecting webencodings (from html5lib->-r requirements.txt (line 5))\n",
      "  Downloading https://files.pythonhosted.org/packages/f4/24/2a3e3df732393fed8b3ebf2ec078f05546de641fe1b667ee316ec1dcf3b7/webencodings-0.5.1-py2.py3-none-any.whl\u001b[0m\n",
      "\u001b[34mRequirement already satisfied, skipping upgrade: six>=1.9 in /usr/local/lib/python3.5/dist-packages (from html5lib->-r requirements.txt (line 5)) (1.11.0)\u001b[0m\n",
      "\u001b[34mBuilding wheels for collected packages: nltk, train, regex\n",
      "  Running setup.py bdist_wheel for nltk: started\u001b[0m\n",
      "\u001b[34m  Running setup.py bdist_wheel for nltk: finished with status 'done'\n",
      "  Stored in directory: /root/.cache/pip/wheels/ae/8c/3f/b1fe0ba04555b08b57ab52ab7f86023639a526d8bc8d384306\n",
      "  Running setup.py bdist_wheel for train: started\n",
      "  Running setup.py bdist_wheel for train: finished with status 'done'\n",
      "  Stored in directory: /tmp/pip-ephem-wheel-cache-aiwpch7z/wheels/35/24/16/37574d11bf9bde50616c67372a334f94fa8356bc7164af8ca3\n",
      "  Running setup.py bdist_wheel for regex: started\u001b[0m\n",
      "\u001b[34m  Running setup.py bdist_wheel for regex: finished with status 'done'\n",
      "  Stored in directory: /root/.cache/pip/wheels/ee/3a/5c/1f0ce151d6ddeee56e03e933603e21b5b8dcc727989fde82f5\u001b[0m\n",
      "\u001b[34mSuccessfully built nltk train regex\u001b[0m\n",
      "\u001b[34mInstalling collected packages: pytz, numpy, pandas, joblib, regex, tqdm, nltk, soupsieve, beautifulsoup4, webencodings, html5lib, train\n",
      "  Found existing installation: numpy 1.15.4\u001b[0m\n",
      "\u001b[34m    Uninstalling numpy-1.15.4:\n",
      "      Successfully uninstalled numpy-1.15.4\u001b[0m\n",
      "\u001b[34mSuccessfully installed beautifulsoup4-4.9.1 html5lib-1.0.1 joblib-0.14.1 nltk-3.5 numpy-1.18.4 pandas-0.24.2 pytz-2020.1 regex-2020.5.14 soupsieve-2.0.1 tqdm-4.46.0 train-1.0.0 webencodings-0.5.1\u001b[0m\n",
      "\u001b[34mYou are using pip version 18.1, however version 20.2b1 is available.\u001b[0m\n",
      "\u001b[34mYou should consider upgrading via the 'pip install --upgrade pip' command.\u001b[0m\n",
      "\u001b[34m2020-05-21 23:00:43,088 sagemaker-containers INFO     Invoking user script\n",
      "\u001b[0m\n",
      "\u001b[34mTraining Env:\n",
      "\u001b[0m\n",
      "\u001b[34m{\n",
      "    \"input_dir\": \"/opt/ml/input\",\n",
      "    \"input_config_dir\": \"/opt/ml/input/config\",\n",
      "    \"output_dir\": \"/opt/ml/output\",\n",
      "    \"network_interface_name\": \"eth0\",\n",
      "    \"model_dir\": \"/opt/ml/model\",\n",
      "    \"hyperparameters\": {\n",
      "        \"hidden_dim\": 200,\n",
      "        \"epochs\": 10\n",
      "    },\n",
      "    \"log_level\": 20,\n",
      "    \"additional_framework_parameters\": {},\n",
      "    \"job_name\": \"sagemaker-pytorch-2020-05-21-22-56-21-231\",\n",
      "    \"channel_input_dirs\": {\n",
      "        \"training\": \"/opt/ml/input/data/training\"\n",
      "    },\n",
      "    \"hosts\": [\n",
      "        \"algo-1\"\n",
      "    ],\n",
      "    \"module_dir\": \"s3://sagemaker-us-east-2-920056672320/sagemaker-pytorch-2020-05-21-22-56-21-231/source/sourcedir.tar.gz\",\n",
      "    \"num_gpus\": 1,\n",
      "    \"module_name\": \"train\",\n",
      "    \"user_entry_point\": \"train.py\",\n",
      "    \"num_cpus\": 4,\n",
      "    \"resource_config\": {\n",
      "        \"current_host\": \"algo-1\",\n",
      "        \"hosts\": [\n",
      "            \"algo-1\"\n",
      "        ],\n",
      "        \"network_interface_name\": \"eth0\"\n",
      "    },\n",
      "    \"current_host\": \"algo-1\",\n",
      "    \"framework_module\": \"sagemaker_pytorch_container.training:main\",\n",
      "    \"output_data_dir\": \"/opt/ml/output/data\",\n",
      "    \"input_data_config\": {\n",
      "        \"training\": {\n",
      "            \"S3DistributionType\": \"FullyReplicated\",\n",
      "            \"TrainingInputMode\": \"File\",\n",
      "            \"RecordWrapperType\": \"None\"\n",
      "        }\n",
      "    },\n",
      "    \"output_intermediate_dir\": \"/opt/ml/output/intermediate\"\u001b[0m\n",
      "\u001b[34m}\n",
      "\u001b[0m\n",
      "\u001b[34mEnvironment variables:\n",
      "\u001b[0m\n",
      "\u001b[34mPYTHONPATH=/usr/local/bin:/usr/lib/python35.zip:/usr/lib/python3.5:/usr/lib/python3.5/plat-x86_64-linux-gnu:/usr/lib/python3.5/lib-dynload:/usr/local/lib/python3.5/dist-packages:/usr/lib/python3/dist-packages\u001b[0m\n",
      "\u001b[34mSM_CHANNELS=[\"training\"]\u001b[0m\n",
      "\u001b[34mSM_RESOURCE_CONFIG={\"current_host\":\"algo-1\",\"hosts\":[\"algo-1\"],\"network_interface_name\":\"eth0\"}\u001b[0m\n",
      "\u001b[34mSM_OUTPUT_DIR=/opt/ml/output\u001b[0m\n",
      "\u001b[34mSM_OUTPUT_INTERMEDIATE_DIR=/opt/ml/output/intermediate\u001b[0m\n",
      "\u001b[34mSM_MODULE_DIR=s3://sagemaker-us-east-2-920056672320/sagemaker-pytorch-2020-05-21-22-56-21-231/source/sourcedir.tar.gz\u001b[0m\n",
      "\u001b[34mSM_CHANNEL_TRAINING=/opt/ml/input/data/training\u001b[0m\n",
      "\u001b[34mSM_INPUT_DIR=/opt/ml/input\u001b[0m\n",
      "\u001b[34mSM_HP_EPOCHS=10\u001b[0m\n",
      "\u001b[34mSM_LOG_LEVEL=20\u001b[0m\n",
      "\u001b[34mSM_INPUT_DATA_CONFIG={\"training\":{\"RecordWrapperType\":\"None\",\"S3DistributionType\":\"FullyReplicated\",\"TrainingInputMode\":\"File\"}}\u001b[0m\n",
      "\u001b[34mSM_NUM_GPUS=1\u001b[0m\n",
      "\u001b[34mSM_NETWORK_INTERFACE_NAME=eth0\u001b[0m\n",
      "\u001b[34mSM_FRAMEWORK_PARAMS={}\u001b[0m\n",
      "\u001b[34mSM_TRAINING_ENV={\"additional_framework_parameters\":{},\"channel_input_dirs\":{\"training\":\"/opt/ml/input/data/training\"},\"current_host\":\"algo-1\",\"framework_module\":\"sagemaker_pytorch_container.training:main\",\"hosts\":[\"algo-1\"],\"hyperparameters\":{\"epochs\":10,\"hidden_dim\":200},\"input_config_dir\":\"/opt/ml/input/config\",\"input_data_config\":{\"training\":{\"RecordWrapperType\":\"None\",\"S3DistributionType\":\"FullyReplicated\",\"TrainingInputMode\":\"File\"}},\"input_dir\":\"/opt/ml/input\",\"job_name\":\"sagemaker-pytorch-2020-05-21-22-56-21-231\",\"log_level\":20,\"model_dir\":\"/opt/ml/model\",\"module_dir\":\"s3://sagemaker-us-east-2-920056672320/sagemaker-pytorch-2020-05-21-22-56-21-231/source/sourcedir.tar.gz\",\"module_name\":\"train\",\"network_interface_name\":\"eth0\",\"num_cpus\":4,\"num_gpus\":1,\"output_data_dir\":\"/opt/ml/output/data\",\"output_dir\":\"/opt/ml/output\",\"output_intermediate_dir\":\"/opt/ml/output/intermediate\",\"resource_config\":{\"current_host\":\"algo-1\",\"hosts\":[\"algo-1\"],\"network_interface_name\":\"eth0\"},\"user_entry_point\":\"train.py\"}\u001b[0m\n",
      "\u001b[34mSM_NUM_CPUS=4\u001b[0m\n",
      "\u001b[34mSM_INPUT_CONFIG_DIR=/opt/ml/input/config\u001b[0m\n",
      "\u001b[34mSM_MODEL_DIR=/opt/ml/model\u001b[0m\n",
      "\u001b[34mSM_MODULE_NAME=train\u001b[0m\n",
      "\u001b[34mSM_CURRENT_HOST=algo-1\u001b[0m\n",
      "\u001b[34mSM_USER_ENTRY_POINT=train.py\u001b[0m\n",
      "\u001b[34mSM_USER_ARGS=[\"--epochs\",\"10\",\"--hidden_dim\",\"200\"]\u001b[0m\n",
      "\u001b[34mSM_HPS={\"epochs\":10,\"hidden_dim\":200}\u001b[0m\n",
      "\u001b[34mSM_HOSTS=[\"algo-1\"]\u001b[0m\n",
      "\u001b[34mSM_HP_HIDDEN_DIM=200\u001b[0m\n",
      "\u001b[34mSM_FRAMEWORK_MODULE=sagemaker_pytorch_container.training:main\u001b[0m\n",
      "\u001b[34mSM_OUTPUT_DATA_DIR=/opt/ml/output/data\n",
      "\u001b[0m\n",
      "\u001b[34mInvoking script with the following command:\n",
      "\u001b[0m\n",
      "\u001b[34m/usr/bin/python -m train --epochs 10 --hidden_dim 200\n",
      "\n",
      "\u001b[0m\n",
      "\u001b[34mUsing device cuda.\u001b[0m\n",
      "\u001b[34mGet train data loader.\u001b[0m\n"
     ]
    },
    {
     "name": "stdout",
     "output_type": "stream",
     "text": [
      "\u001b[34mModel loaded with embedding_dim 32, hidden_dim 200, vocab_size 5000.\u001b[0m\n",
      "\u001b[34mEpoch: 1, BCELoss: 0.6734389188338299\u001b[0m\n",
      "\u001b[34mEpoch: 2, BCELoss: 0.6341567416580356\u001b[0m\n",
      "\u001b[34mEpoch: 3, BCELoss: 0.5412651190952379\u001b[0m\n",
      "\u001b[34mEpoch: 4, BCELoss: 0.499177378051135\u001b[0m\n",
      "\u001b[34mEpoch: 5, BCELoss: 0.41094216278621126\u001b[0m\n",
      "\u001b[34mEpoch: 6, BCELoss: 0.36975001741428765\u001b[0m\n",
      "\u001b[34mEpoch: 7, BCELoss: 0.344997087303473\u001b[0m\n",
      "\u001b[34mEpoch: 8, BCELoss: 0.3162051068276775\u001b[0m\n",
      "\u001b[34mEpoch: 9, BCELoss: 0.3177452202962369\u001b[0m\n",
      "\n",
      "2020-05-21 23:03:50 Uploading - Uploading generated training model\n",
      "2020-05-21 23:03:50 Completed - Training job completed\n",
      "\u001b[34mEpoch: 10, BCELoss: 0.29330385826071914\u001b[0m\n",
      "\u001b[34m2020-05-21 23:03:41,911 sagemaker-containers INFO     Reporting training SUCCESS\u001b[0m\n",
      "Training seconds: 284\n",
      "Billable seconds: 284\n"
     ]
    }
   ],
   "source": [
    "estimator.fit({'training': input_data})"
   ]
  },
  {
   "cell_type": "markdown",
   "metadata": {},
   "source": [
    "## Step 5: Testing the model\n",
    "\n",
    "As mentioned at the top of this notebook, we will be testing this model by first deploying it and then sending the testing data to the deployed endpoint. We will do this so that we can make sure that the deployed model is working correctly.\n",
    "\n",
    "## Step 6: Deploy the model for testing\n",
    "\n",
    "Now that we have trained our model, we would like to test it to see how it performs. Currently our model takes input of the form `review_length, review[500]` where `review[500]` is a sequence of `500` integers which describe the words present in the review, encoded using `word_dict`. Fortunately for us, SageMaker provides built-in inference code for models with simple inputs such as this.\n",
    "\n",
    "There is one thing that we need to provide, however, and that is a function which loads the saved model. This function must be called `model_fn()` and takes as its only parameter a path to the directory where the model artifacts are stored. This function must also be present in the python file which we specified as the entry point. In our case the model loading function has been provided and so no changes need to be made.\n",
    "\n",
    "**NOTE**: When the built-in inference code is run it must import the `model_fn()` method from the `train.py` file. This is why the training code is wrapped in a main guard ( ie, `if __name__ == '__main__':` )\n",
    "\n",
    "Since we don't need to change anything in the code that was uploaded during training, we can simply deploy the current model as-is.\n",
    "\n",
    "**NOTE:** When deploying a model you are asking SageMaker to launch an compute instance that will wait for data to be sent to it. As a result, this compute instance will continue to run until *you* shut it down. This is important to know since the cost of a deployed endpoint depends on how long it has been running for.\n",
    "\n",
    "In other words **If you are no longer using a deployed endpoint, shut it down!**\n",
    "\n",
    "**TODO:** Deploy the trained model."
   ]
  },
  {
   "cell_type": "code",
   "execution_count": 87,
   "metadata": {},
   "outputs": [
    {
     "name": "stdout",
     "output_type": "stream",
     "text": [
      "-----------------!"
     ]
    }
   ],
   "source": [
    "# TODO: Deploy the trained model\n",
    "# Deploy my estimator to a SageMaker Endpoint and get a Predictor\n",
    "predictor = estimator.deploy(instance_type='ml.p2.xlarge',\n",
    "                                     initial_instance_count=1)\n",
    "    "
   ]
  },
  {
   "cell_type": "markdown",
   "metadata": {},
   "source": [
    "## Step 7 - Use the model for testing\n",
    "\n",
    "Once deployed, we can read in the test data and send it off to our deployed model to get some results. Once we collect all of the results we can determine how accurate our model is."
   ]
  },
  {
   "cell_type": "code",
   "execution_count": 88,
   "metadata": {},
   "outputs": [],
   "source": [
    "test_X = pd.concat([pd.DataFrame(test_X_len), pd.DataFrame(test_X)], axis=1)"
   ]
  },
  {
   "cell_type": "code",
   "execution_count": 89,
   "metadata": {},
   "outputs": [],
   "source": [
    "# We split the data into chunks and send each chunk seperately, accumulating the results.\n",
    "\n",
    "def predict(data, rows=512):\n",
    "    split_array = np.array_split(data, int(data.shape[0] / float(rows) + 1))\n",
    "    predictions = np.array([])\n",
    "    for array in split_array:\n",
    "        predictions = np.append(predictions, predictor.predict(array))\n",
    "    \n",
    "    return predictions"
   ]
  },
  {
   "cell_type": "code",
   "execution_count": 90,
   "metadata": {},
   "outputs": [],
   "source": [
    "predictions = predict(test_X.values)\n",
    "predictions = [round(num) for num in predictions]"
   ]
  },
  {
   "cell_type": "code",
   "execution_count": 91,
   "metadata": {},
   "outputs": [
    {
     "data": {
      "text/plain": [
       "0.82432"
      ]
     },
     "execution_count": 91,
     "metadata": {},
     "output_type": "execute_result"
    }
   ],
   "source": [
    "from sklearn.metrics import accuracy_score\n",
    "accuracy_score(test_y, predictions)"
   ]
  },
  {
   "cell_type": "markdown",
   "metadata": {},
   "source": [
    "**Question:** How does this model compare to the XGBoost model you created earlier? Why might these two models perform differently on this dataset? Which do *you* think is better for sentiment analysis?"
   ]
  },
  {
   "cell_type": "markdown",
   "metadata": {},
   "source": [
    "**Answer:**The model is a little bit more accurate than the XGBoost model.These two models perform differently because XGBoost is built-in in AWS. I think PyTorch is better for sentiment analysis. "
   ]
  },
  {
   "cell_type": "markdown",
   "metadata": {},
   "source": [
    "### (TODO) More testing\n",
    "\n",
    "We now have a trained model which has been deployed and which we can send processed reviews to and which returns the predicted sentiment. However, ultimately we would like to be able to send our model an unprocessed review. That is, we would like to send the review itself as a string. For example, suppose we wish to send the following review to our model."
   ]
  },
  {
   "cell_type": "code",
   "execution_count": 92,
   "metadata": {},
   "outputs": [],
   "source": [
    "test_review = 'The simplest pleasures in life are the best, and this film is one of them. Combining a rather basic storyline of love and adventure this movie transcends the usual weekend fair with wit and unmitigated charm.'"
   ]
  },
  {
   "cell_type": "markdown",
   "metadata": {},
   "source": [
    "The question we now need to answer is, how do we send this review to our model?\n",
    "\n",
    "Recall in the first section of this notebook we did a bunch of data processing to the IMDb dataset. In particular, we did two specific things to the provided reviews.\n",
    " - Removed any html tags and stemmed the input\n",
    " - Encoded the review as a sequence of integers using `word_dict`\n",
    " \n",
    "In order process the review we will need to repeat these two steps.\n",
    "\n",
    "**TODO**: Using the `review_to_words` and `convert_and_pad` methods from section one, convert `test_review` into a numpy array `test_data` suitable to send to our model. Remember that our model expects input of the form `review_length, review[500]`."
   ]
  },
  {
   "cell_type": "code",
   "execution_count": 95,
   "metadata": {},
   "outputs": [],
   "source": [
    "# TODO: Convert test_review into a form usable by the model and save the results in test_data\n",
    "#test_data = convert_and_pad(word_dict,review_to_words(test_review))\n",
    "#print(test_data)\n",
    "#print(review_to_words(test_review))\n",
    "test_review_cp = convert_and_pad(word_dict, review_to_words(test_review))\n",
    "test_data = [np.array(test_review_cp[0])]"
   ]
  },
  {
   "cell_type": "markdown",
   "metadata": {},
   "source": [
    "Now that we have processed the review, we can send the resulting array to our model to predict the sentiment of the review."
   ]
  },
  {
   "cell_type": "code",
   "execution_count": 96,
   "metadata": {},
   "outputs": [
    {
     "data": {
      "text/plain": [
       "array(0.64447844, dtype=float32)"
      ]
     },
     "execution_count": 96,
     "metadata": {},
     "output_type": "execute_result"
    }
   ],
   "source": [
    "predictor.predict(test_data)"
   ]
  },
  {
   "cell_type": "markdown",
   "metadata": {},
   "source": [
    "Since the return value of our model is close to `1`, we can be certain that the review we submitted is positive."
   ]
  },
  {
   "cell_type": "markdown",
   "metadata": {},
   "source": [
    "### Delete the endpoint\n",
    "\n",
    "Of course, just like in the XGBoost notebook, once we've deployed an endpoint it continues to run until we tell it to shut down. Since we are done using our endpoint for now, we can delete it."
   ]
  },
  {
   "cell_type": "code",
   "execution_count": 97,
   "metadata": {},
   "outputs": [],
   "source": [
    "estimator.delete_endpoint()"
   ]
  },
  {
   "cell_type": "markdown",
   "metadata": {},
   "source": [
    "## Step 6 (again) - Deploy the model for the web app\n",
    "\n",
    "Now that we know that our model is working, it's time to create some custom inference code so that we can send the model a review which has not been processed and have it determine the sentiment of the review.\n",
    "\n",
    "As we saw above, by default the estimator which we created, when deployed, will use the entry script and directory which we provided when creating the model. However, since we now wish to accept a string as input and our model expects a processed review, we need to write some custom inference code.\n",
    "\n",
    "We will store the code that we write in the `serve` directory. Provided in this directory is the `model.py` file that we used to construct our model, a `utils.py` file which contains the `review_to_words` and `convert_and_pad` pre-processing functions which we used during the initial data processing, and `predict.py`, the file which will contain our custom inference code. Note also that `requirements.txt` is present which will tell SageMaker what Python libraries are required by our custom inference code.\n",
    "\n",
    "When deploying a PyTorch model in SageMaker, you are expected to provide four functions which the SageMaker inference container will use.\n",
    " - `model_fn`: This function is the same function that we used in the training script and it tells SageMaker how to load our model.\n",
    " - `input_fn`: This function receives the raw serialized input that has been sent to the model's endpoint and its job is to de-serialize and make the input available for the inference code.\n",
    " - `output_fn`: This function takes the output of the inference code and its job is to serialize this output and return it to the caller of the model's endpoint.\n",
    " - `predict_fn`: The heart of the inference script, this is where the actual prediction is done and is the function which you will need to complete.\n",
    "\n",
    "For the simple website that we are constructing during this project, the `input_fn` and `output_fn` methods are relatively straightforward. We only require being able to accept a string as input and we expect to return a single value as output. You might imagine though that in a more complex application the input or output may be image data or some other binary data which would require some effort to serialize.\n",
    "\n",
    "### (TODO) Writing inference code\n",
    "\n",
    "Before writing our custom inference code, we will begin by taking a look at the code which has been provided."
   ]
  },
  {
   "cell_type": "code",
   "execution_count": 98,
   "metadata": {},
   "outputs": [
    {
     "name": "stdout",
     "output_type": "stream",
     "text": [
      "\u001b[34mimport\u001b[39;49;00m \u001b[04m\u001b[36margparse\u001b[39;49;00m\r\n",
      "\u001b[34mimport\u001b[39;49;00m \u001b[04m\u001b[36mjson\u001b[39;49;00m\r\n",
      "\u001b[34mimport\u001b[39;49;00m \u001b[04m\u001b[36mos\u001b[39;49;00m\r\n",
      "\u001b[34mimport\u001b[39;49;00m \u001b[04m\u001b[36mpickle\u001b[39;49;00m\r\n",
      "\u001b[34mimport\u001b[39;49;00m \u001b[04m\u001b[36msys\u001b[39;49;00m\r\n",
      "\u001b[34mimport\u001b[39;49;00m \u001b[04m\u001b[36msagemaker_containers\u001b[39;49;00m\r\n",
      "\u001b[34mimport\u001b[39;49;00m \u001b[04m\u001b[36mpandas\u001b[39;49;00m \u001b[34mas\u001b[39;49;00m \u001b[04m\u001b[36mpd\u001b[39;49;00m\r\n",
      "\u001b[34mimport\u001b[39;49;00m \u001b[04m\u001b[36mnumpy\u001b[39;49;00m \u001b[34mas\u001b[39;49;00m \u001b[04m\u001b[36mnp\u001b[39;49;00m\r\n",
      "\u001b[34mimport\u001b[39;49;00m \u001b[04m\u001b[36mtorch\u001b[39;49;00m\r\n",
      "\u001b[34mimport\u001b[39;49;00m \u001b[04m\u001b[36mtorch.nn\u001b[39;49;00m \u001b[34mas\u001b[39;49;00m \u001b[04m\u001b[36mnn\u001b[39;49;00m\r\n",
      "\u001b[34mimport\u001b[39;49;00m \u001b[04m\u001b[36mtorch.optim\u001b[39;49;00m \u001b[34mas\u001b[39;49;00m \u001b[04m\u001b[36moptim\u001b[39;49;00m\r\n",
      "\u001b[34mimport\u001b[39;49;00m \u001b[04m\u001b[36mtorch.utils.data\u001b[39;49;00m\r\n",
      "\r\n",
      "\u001b[34mfrom\u001b[39;49;00m \u001b[04m\u001b[36mmodel\u001b[39;49;00m \u001b[34mimport\u001b[39;49;00m LSTMClassifier\r\n",
      "\r\n",
      "\u001b[34mfrom\u001b[39;49;00m \u001b[04m\u001b[36mutils\u001b[39;49;00m \u001b[34mimport\u001b[39;49;00m review_to_words, convert_and_pad\r\n",
      "\r\n",
      "\u001b[34mdef\u001b[39;49;00m \u001b[32mmodel_fn\u001b[39;49;00m(model_dir):\r\n",
      "    \u001b[33m\"\"\"Load the PyTorch model from the `model_dir` directory.\"\"\"\u001b[39;49;00m\r\n",
      "    \u001b[34mprint\u001b[39;49;00m(\u001b[33m\"\u001b[39;49;00m\u001b[33mLoading model.\u001b[39;49;00m\u001b[33m\"\u001b[39;49;00m)\r\n",
      "\r\n",
      "    \u001b[37m# First, load the parameters used to create the model.\u001b[39;49;00m\r\n",
      "    model_info = {}\r\n",
      "    model_info_path = os.path.join(model_dir, \u001b[33m'\u001b[39;49;00m\u001b[33mmodel_info.pth\u001b[39;49;00m\u001b[33m'\u001b[39;49;00m)\r\n",
      "    \u001b[34mwith\u001b[39;49;00m \u001b[36mopen\u001b[39;49;00m(model_info_path, \u001b[33m'\u001b[39;49;00m\u001b[33mrb\u001b[39;49;00m\u001b[33m'\u001b[39;49;00m) \u001b[34mas\u001b[39;49;00m f:\r\n",
      "        model_info = torch.load(f)\r\n",
      "\r\n",
      "    \u001b[34mprint\u001b[39;49;00m(\u001b[33m\"\u001b[39;49;00m\u001b[33mmodel_info: {}\u001b[39;49;00m\u001b[33m\"\u001b[39;49;00m.format(model_info))\r\n",
      "\r\n",
      "    \u001b[37m# Determine the device and construct the model.\u001b[39;49;00m\r\n",
      "    device = torch.device(\u001b[33m\"\u001b[39;49;00m\u001b[33mcuda\u001b[39;49;00m\u001b[33m\"\u001b[39;49;00m \u001b[34mif\u001b[39;49;00m torch.cuda.is_available() \u001b[34melse\u001b[39;49;00m \u001b[33m\"\u001b[39;49;00m\u001b[33mcpu\u001b[39;49;00m\u001b[33m\"\u001b[39;49;00m)\r\n",
      "    model = LSTMClassifier(model_info[\u001b[33m'\u001b[39;49;00m\u001b[33membedding_dim\u001b[39;49;00m\u001b[33m'\u001b[39;49;00m], model_info[\u001b[33m'\u001b[39;49;00m\u001b[33mhidden_dim\u001b[39;49;00m\u001b[33m'\u001b[39;49;00m], model_info[\u001b[33m'\u001b[39;49;00m\u001b[33mvocab_size\u001b[39;49;00m\u001b[33m'\u001b[39;49;00m])\r\n",
      "\r\n",
      "    \u001b[37m# Load the store model parameters.\u001b[39;49;00m\r\n",
      "    model_path = os.path.join(model_dir, \u001b[33m'\u001b[39;49;00m\u001b[33mmodel.pth\u001b[39;49;00m\u001b[33m'\u001b[39;49;00m)\r\n",
      "    \u001b[34mwith\u001b[39;49;00m \u001b[36mopen\u001b[39;49;00m(model_path, \u001b[33m'\u001b[39;49;00m\u001b[33mrb\u001b[39;49;00m\u001b[33m'\u001b[39;49;00m) \u001b[34mas\u001b[39;49;00m f:\r\n",
      "        model.load_state_dict(torch.load(f))\r\n",
      "\r\n",
      "    \u001b[37m# Load the saved word_dict.\u001b[39;49;00m\r\n",
      "    word_dict_path = os.path.join(model_dir, \u001b[33m'\u001b[39;49;00m\u001b[33mword_dict.pkl\u001b[39;49;00m\u001b[33m'\u001b[39;49;00m)\r\n",
      "    \u001b[34mwith\u001b[39;49;00m \u001b[36mopen\u001b[39;49;00m(word_dict_path, \u001b[33m'\u001b[39;49;00m\u001b[33mrb\u001b[39;49;00m\u001b[33m'\u001b[39;49;00m) \u001b[34mas\u001b[39;49;00m f:\r\n",
      "        model.word_dict = pickle.load(f)\r\n",
      "\r\n",
      "    model.to(device).eval()\r\n",
      "\r\n",
      "    \u001b[34mprint\u001b[39;49;00m(\u001b[33m\"\u001b[39;49;00m\u001b[33mDone loading model.\u001b[39;49;00m\u001b[33m\"\u001b[39;49;00m)\r\n",
      "    \u001b[34mreturn\u001b[39;49;00m model\r\n",
      "\r\n",
      "\u001b[34mdef\u001b[39;49;00m \u001b[32minput_fn\u001b[39;49;00m(serialized_input_data, content_type):\r\n",
      "    \u001b[34mprint\u001b[39;49;00m(\u001b[33m'\u001b[39;49;00m\u001b[33mDeserializing the input data.\u001b[39;49;00m\u001b[33m'\u001b[39;49;00m)\r\n",
      "    \u001b[34mif\u001b[39;49;00m content_type == \u001b[33m'\u001b[39;49;00m\u001b[33mtext/plain\u001b[39;49;00m\u001b[33m'\u001b[39;49;00m:\r\n",
      "        data = serialized_input_data.decode(\u001b[33m'\u001b[39;49;00m\u001b[33mutf-8\u001b[39;49;00m\u001b[33m'\u001b[39;49;00m)\r\n",
      "        \u001b[34mreturn\u001b[39;49;00m data\r\n",
      "    \u001b[34mraise\u001b[39;49;00m \u001b[36mException\u001b[39;49;00m(\u001b[33m'\u001b[39;49;00m\u001b[33mRequested unsupported ContentType in content_type: \u001b[39;49;00m\u001b[33m'\u001b[39;49;00m + content_type)\r\n",
      "\r\n",
      "\u001b[34mdef\u001b[39;49;00m \u001b[32moutput_fn\u001b[39;49;00m(prediction_output, accept):\r\n",
      "    \u001b[34mprint\u001b[39;49;00m(\u001b[33m'\u001b[39;49;00m\u001b[33mSerializing the generated output.\u001b[39;49;00m\u001b[33m'\u001b[39;49;00m)\r\n",
      "    \u001b[34mreturn\u001b[39;49;00m \u001b[36mstr\u001b[39;49;00m(prediction_output)\r\n",
      "\r\n",
      "\u001b[34mdef\u001b[39;49;00m \u001b[32mpredict_fn\u001b[39;49;00m(input_data, model):\r\n",
      "    \u001b[34mprint\u001b[39;49;00m(\u001b[33m'\u001b[39;49;00m\u001b[33mInferring sentiment of input data.\u001b[39;49;00m\u001b[33m'\u001b[39;49;00m)\r\n",
      "\r\n",
      "    device = torch.device(\u001b[33m\"\u001b[39;49;00m\u001b[33mcuda\u001b[39;49;00m\u001b[33m\"\u001b[39;49;00m \u001b[34mif\u001b[39;49;00m torch.cuda.is_available() \u001b[34melse\u001b[39;49;00m \u001b[33m\"\u001b[39;49;00m\u001b[33mcpu\u001b[39;49;00m\u001b[33m\"\u001b[39;49;00m)\r\n",
      "    \r\n",
      "    \u001b[34mif\u001b[39;49;00m model.word_dict \u001b[35mis\u001b[39;49;00m \u001b[36mNone\u001b[39;49;00m:\r\n",
      "        \u001b[34mraise\u001b[39;49;00m \u001b[36mException\u001b[39;49;00m(\u001b[33m'\u001b[39;49;00m\u001b[33mModel has not been loaded properly, no word_dict.\u001b[39;49;00m\u001b[33m'\u001b[39;49;00m)\r\n",
      "    \r\n",
      "    \u001b[37m# TODO: Process input_data so that it is ready to be sent to our model.\u001b[39;49;00m\r\n",
      "    \u001b[37m#       You should produce two variables:\u001b[39;49;00m\r\n",
      "    \u001b[37m#         data_X   - A sequence of length 500 which represents the converted review\u001b[39;49;00m\r\n",
      "    \u001b[37m#         data_len - The length of the review\u001b[39;49;00m\r\n",
      "    words = review_to_words(input_data)\r\n",
      "    data_X = convert_and_pad(model.word_dict, words)[\u001b[34m0\u001b[39;49;00m]\r\n",
      "    data_len = convert_and_pad(model.word_dict, words)[\u001b[34m1\u001b[39;49;00m]\r\n",
      "\r\n",
      "    \u001b[37m# Using data_X and data_len we construct an appropriate input tensor. Remember\u001b[39;49;00m\r\n",
      "    \u001b[37m# that our model expects input data of the form 'len, review[500]'.\u001b[39;49;00m\r\n",
      "    data_pack = np.hstack((data_len, data_X))\r\n",
      "    data_pack = data_pack.reshape(\u001b[34m1\u001b[39;49;00m, -\u001b[34m1\u001b[39;49;00m)\r\n",
      "    \r\n",
      "    data = torch.from_numpy(data_pack)\r\n",
      "    data = data.to(device)\r\n",
      "\r\n",
      "    \u001b[37m# Make sure to put the model into evaluation mode\u001b[39;49;00m\r\n",
      "    model.eval()\r\n",
      "\r\n",
      "    \u001b[37m# TODO: Compute the result of applying the model to the input data. The variable `result` should\u001b[39;49;00m\r\n",
      "    \u001b[37m#       be a numpy array which contains a single integer which is either 1 or 0\u001b[39;49;00m\r\n",
      "    \u001b[34mwith\u001b[39;49;00m torch.no_grad():\r\n",
      "        output = model.forward(data)\r\n",
      "    \r\n",
      "    \r\n",
      "    output = output.to(\u001b[33m'\u001b[39;49;00m\u001b[33mcpu\u001b[39;49;00m\u001b[33m'\u001b[39;49;00m)\r\n",
      "    result = np.round(output.numpy())\r\n",
      "    result = \u001b[36mint\u001b[39;49;00m(result)\r\n",
      "\r\n",
      "    \u001b[34mreturn\u001b[39;49;00m result\r\n"
     ]
    }
   ],
   "source": [
    "!pygmentize serve/predict.py"
   ]
  },
  {
   "cell_type": "markdown",
   "metadata": {},
   "source": [
    "As mentioned earlier, the `model_fn` method is the same as the one provided in the training code and the `input_fn` and `output_fn` methods are very simple and your task will be to complete the `predict_fn` method. Make sure that you save the completed file as `predict.py` in the `serve` directory.\n",
    "\n",
    "**TODO**: Complete the `predict_fn()` method in the `serve/predict.py` file."
   ]
  },
  {
   "cell_type": "markdown",
   "metadata": {},
   "source": [
    "### Deploying the model\n",
    "\n",
    "Now that the custom inference code has been written, we will create and deploy our model. To begin with, we need to construct a new PyTorchModel object which points to the model artifacts created during training and also points to the inference code that we wish to use. Then we can call the deploy method to launch the deployment container.\n",
    "\n",
    "**NOTE**: The default behaviour for a deployed PyTorch model is to assume that any input passed to the predictor is a `numpy` array. In our case we want to send a string so we need to construct a simple wrapper around the `RealTimePredictor` class to accomodate simple strings. In a more complicated situation you may want to provide a serialization object, for example if you wanted to sent image data."
   ]
  },
  {
   "cell_type": "code",
   "execution_count": 99,
   "metadata": {},
   "outputs": [
    {
     "name": "stdout",
     "output_type": "stream",
     "text": [
      "----------------!"
     ]
    }
   ],
   "source": [
    "from sagemaker.predictor import RealTimePredictor\n",
    "from sagemaker.pytorch import PyTorchModel\n",
    "\n",
    "class StringPredictor(RealTimePredictor):\n",
    "    def __init__(self, endpoint_name, sagemaker_session):\n",
    "        super(StringPredictor, self).__init__(endpoint_name, sagemaker_session, content_type='text/plain')\n",
    "\n",
    "model = PyTorchModel(model_data=estimator.model_data,\n",
    "                     role = role,\n",
    "                     framework_version='0.4.0',\n",
    "                     entry_point='predict.py',\n",
    "                     source_dir='serve',\n",
    "                     predictor_cls=StringPredictor)\n",
    "predictor = model.deploy(initial_instance_count=1, instance_type='ml.m4.xlarge')"
   ]
  },
  {
   "cell_type": "markdown",
   "metadata": {},
   "source": [
    "### Testing the model\n",
    "\n",
    "Now that we have deployed our model with the custom inference code, we should test to see if everything is working. Here we test our model by loading the first `250` positive and negative reviews and send them to the endpoint, then collect the results. The reason for only sending some of the data is that the amount of time it takes for our model to process the input and then perform inference is quite long and so testing the entire data set would be prohibitive."
   ]
  },
  {
   "cell_type": "code",
   "execution_count": 100,
   "metadata": {},
   "outputs": [],
   "source": [
    "import glob\n",
    "\n",
    "def test_reviews(data_dir='../data/aclImdb', stop=250):\n",
    "    \n",
    "    results = []\n",
    "    ground = []\n",
    "    \n",
    "    # We make sure to test both positive and negative reviews    \n",
    "    for sentiment in ['pos', 'neg']:\n",
    "        \n",
    "        path = os.path.join(data_dir, 'test', sentiment, '*.txt')\n",
    "        files = glob.glob(path)\n",
    "        \n",
    "        files_read = 0\n",
    "        \n",
    "        print('Starting ', sentiment, ' files')\n",
    "        \n",
    "        # Iterate through the files and send them to the predictor\n",
    "        for f in files:\n",
    "            with open(f) as review:\n",
    "                # First, we store the ground truth (was the review positive or negative)\n",
    "                if sentiment == 'pos':\n",
    "                    ground.append(1)\n",
    "                else:\n",
    "                    ground.append(0)\n",
    "                # Read in the review and convert to 'utf-8' for transmission via HTTP\n",
    "                review_input = review.read().encode('utf-8')\n",
    "                # Send the review to the predictor and store the results\n",
    "                results.append(int(predictor.predict(review_input)))\n",
    "                \n",
    "            # Sending reviews to our endpoint one at a time takes a while so we\n",
    "            # only send a small number of reviews\n",
    "            files_read += 1\n",
    "            if files_read == stop:\n",
    "                break\n",
    "            \n",
    "    return ground, results"
   ]
  },
  {
   "cell_type": "code",
   "execution_count": 101,
   "metadata": {},
   "outputs": [
    {
     "name": "stdout",
     "output_type": "stream",
     "text": [
      "Starting  pos  files\n",
      "Starting  neg  files\n"
     ]
    }
   ],
   "source": [
    "ground, results = test_reviews()"
   ]
  },
  {
   "cell_type": "code",
   "execution_count": 102,
   "metadata": {},
   "outputs": [
    {
     "data": {
      "text/plain": [
       "0.89"
      ]
     },
     "execution_count": 102,
     "metadata": {},
     "output_type": "execute_result"
    }
   ],
   "source": [
    "from sklearn.metrics import accuracy_score\n",
    "accuracy_score(ground, results)"
   ]
  },
  {
   "cell_type": "markdown",
   "metadata": {},
   "source": [
    "As an additional test, we can try sending the `test_review` that we looked at earlier."
   ]
  },
  {
   "cell_type": "code",
   "execution_count": 103,
   "metadata": {},
   "outputs": [
    {
     "data": {
      "text/plain": [
       "b'1'"
      ]
     },
     "execution_count": 103,
     "metadata": {},
     "output_type": "execute_result"
    }
   ],
   "source": [
    "predictor.predict(test_review)"
   ]
  },
  {
   "cell_type": "markdown",
   "metadata": {},
   "source": [
    "Now that we know our endpoint is working as expected, we can set up the web page that will interact with it. If you don't have time to finish the project now, make sure to skip down to the end of this notebook and shut down your endpoint. You can deploy it again when you come back."
   ]
  },
  {
   "cell_type": "markdown",
   "metadata": {},
   "source": [
    "## Step 7 (again): Use the model for the web app\n",
    "\n",
    "> **TODO:** This entire section and the next contain tasks for you to complete, mostly using the AWS console.\n",
    "\n",
    "So far we have been accessing our model endpoint by constructing a predictor object which uses the endpoint and then just using the predictor object to perform inference. What if we wanted to create a web app which accessed our model? The way things are set up currently makes that not possible since in order to access a SageMaker endpoint the app would first have to authenticate with AWS using an IAM role which included access to SageMaker endpoints. However, there is an easier way! We just need to use some additional AWS services.\n",
    "\n",
    "<img src=\"Web App Diagram.svg\">\n",
    "\n",
    "The diagram above gives an overview of how the various services will work together. On the far right is the model which we trained above and which is deployed using SageMaker. On the far left is our web app that collects a user's movie review, sends it off and expects a positive or negative sentiment in return.\n",
    "\n",
    "In the middle is where some of the magic happens. We will construct a Lambda function, which you can think of as a straightforward Python function that can be executed whenever a specified event occurs. We will give this function permission to send and recieve data from a SageMaker endpoint.\n",
    "\n",
    "Lastly, the method we will use to execute the Lambda function is a new endpoint that we will create using API Gateway. This endpoint will be a url that listens for data to be sent to it. Once it gets some data it will pass that data on to the Lambda function and then return whatever the Lambda function returns. Essentially it will act as an interface that lets our web app communicate with the Lambda function.\n",
    "\n",
    "### Setting up a Lambda function\n",
    "\n",
    "The first thing we are going to do is set up a Lambda function. This Lambda function will be executed whenever our public API has data sent to it. When it is executed it will receive the data, perform any sort of processing that is required, send the data (the review) to the SageMaker endpoint we've created and then return the result.\n",
    "\n",
    "#### Part A: Create an IAM Role for the Lambda function\n",
    "\n",
    "Since we want the Lambda function to call a SageMaker endpoint, we need to make sure that it has permission to do so. To do this, we will construct a role that we can later give the Lambda function.\n",
    "\n",
    "Using the AWS Console, navigate to the **IAM** page and click on **Roles**. Then, click on **Create role**. Make sure that the **AWS service** is the type of trusted entity selected and choose **Lambda** as the service that will use this role, then click **Next: Permissions**.\n",
    "\n",
    "In the search box type `sagemaker` and select the check box next to the **AmazonSageMakerFullAccess** policy. Then, click on **Next: Review**.\n",
    "\n",
    "Lastly, give this role a name. Make sure you use a name that you will remember later on, for example `LambdaSageMakerRole`. Then, click on **Create role**.\n",
    "\n",
    "#### Part B: Create a Lambda function\n",
    "\n",
    "Now it is time to actually create the Lambda function.\n",
    "\n",
    "Using the AWS Console, navigate to the AWS Lambda page and click on **Create a function**. When you get to the next page, make sure that **Author from scratch** is selected. Now, name your Lambda function, using a name that you will remember later on, for example `sentiment_analysis_func`. Make sure that the **Python 3.6** runtime is selected and then choose the role that you created in the previous part. Then, click on **Create Function**.\n",
    "\n",
    "On the next page you will see some information about the Lambda function you've just created. If you scroll down you should see an editor in which you can write the code that will be executed when your Lambda function is triggered. In our example, we will use the code below. \n",
    "\n",
    "```python\n",
    "# We need to use the low-level library to interact with SageMaker since the SageMaker API\n",
    "# is not available natively through Lambda.\n",
    "import boto3\n",
    "\n",
    "def lambda_handler(event, context):\n",
    "\n",
    "    # The SageMaker runtime is what allows us to invoke the endpoint that we've created.\n",
    "    runtime = boto3.Session().client('sagemaker-runtime')\n",
    "\n",
    "    # Now we use the SageMaker runtime to invoke our endpoint, sending the review we were given\n",
    "    response = runtime.invoke_endpoint(EndpointName = '**ENDPOINT NAME HERE**',    # The name of the endpoint we created\n",
    "                                       ContentType = 'text/plain',                 # The data format that is expected\n",
    "                                       Body = event['body'])                       # The actual review\n",
    "\n",
    "    # The response is an HTTP response whose body contains the result of our inference\n",
    "    result = response['Body'].read().decode('utf-8')\n",
    "\n",
    "    return {\n",
    "        'statusCode' : 200,\n",
    "        'headers' : { 'Content-Type' : 'text/plain', 'Access-Control-Allow-Origin' : '*' },\n",
    "        'body' : result\n",
    "    }\n",
    "```\n",
    "\n",
    "Once you have copy and pasted the code above into the Lambda code editor, replace the `**ENDPOINT NAME HERE**` portion with the name of the endpoint that we deployed earlier. You can determine the name of the endpoint using the code cell below."
   ]
  },
  {
   "cell_type": "code",
   "execution_count": 104,
   "metadata": {},
   "outputs": [
    {
     "data": {
      "text/plain": [
       "'sagemaker-pytorch-2020-05-21-23-26-27-703'"
      ]
     },
     "execution_count": 104,
     "metadata": {},
     "output_type": "execute_result"
    }
   ],
   "source": [
    "predictor.endpoint"
   ]
  },
  {
   "cell_type": "markdown",
   "metadata": {},
   "source": [
    "Once you have added the endpoint name to the Lambda function, click on **Save**. Your Lambda function is now up and running. Next we need to create a way for our web app to execute the Lambda function.\n",
    "\n",
    "### Setting up API Gateway\n",
    "\n",
    "Now that our Lambda function is set up, it is time to create a new API using API Gateway that will trigger the Lambda function we have just created.\n",
    "\n",
    "Using AWS Console, navigate to **Amazon API Gateway** and then click on **Get started**.\n",
    "\n",
    "On the next page, make sure that **New API** is selected and give the new api a name, for example, `sentiment_analysis_api`. Then, click on **Create API**.\n",
    "\n",
    "Now we have created an API, however it doesn't currently do anything. What we want it to do is to trigger the Lambda function that we created earlier.\n",
    "\n",
    "Select the **Actions** dropdown menu and click **Create Method**. A new blank method will be created, select its dropdown menu and select **POST**, then click on the check mark beside it.\n",
    "\n",
    "For the integration point, make sure that **Lambda Function** is selected and click on the **Use Lambda Proxy integration**. This option makes sure that the data that is sent to the API is then sent directly to the Lambda function with no processing. It also means that the return value must be a proper response object as it will also not be processed by API Gateway.\n",
    "\n",
    "Type the name of the Lambda function you created earlier into the **Lambda Function** text entry box and then click on **Save**. Click on **OK** in the pop-up box that then appears, giving permission to API Gateway to invoke the Lambda function you created.\n",
    "\n",
    "The last step in creating the API Gateway is to select the **Actions** dropdown and click on **Deploy API**. You will need to create a new Deployment stage and name it anything you like, for example `prod`.\n",
    "\n",
    "You have now successfully set up a public API to access your SageMaker model. Make sure to copy or write down the URL provided to invoke your newly created public API as this will be needed in the next step. This URL can be found at the top of the page, highlighted in blue next to the text **Invoke URL**."
   ]
  },
  {
   "cell_type": "markdown",
   "metadata": {},
   "source": [
    "## Step 4: Deploying our web app\n",
    "\n",
    "Now that we have a publicly available API, we can start using it in a web app. For our purposes, we have provided a simple static html file which can make use of the public api you created earlier.\n",
    "\n",
    "In the `website` folder there should be a file called `index.html`. Download the file to your computer and open that file up in a text editor of your choice. There should be a line which contains **\\*\\*REPLACE WITH PUBLIC API URL\\*\\***. Replace this string with the url that you wrote down in the last step and then save the file.\n",
    "\n",
    "Now, if you open `index.html` on your local computer, your browser will behave as a local web server and you can use the provided site to interact with your SageMaker model.\n",
    "\n",
    "If you'd like to go further, you can host this html file anywhere you'd like, for example using github or hosting a static site on Amazon's S3. Once you have done this you can share the link with anyone you'd like and have them play with it too!\n",
    "\n",
    "> **Important Note** In order for the web app to communicate with the SageMaker endpoint, the endpoint has to actually be deployed and running. This means that you are paying for it. Make sure that the endpoint is running when you want to use the web app but that you shut it down when you don't need it, otherwise you will end up with a surprisingly large AWS bill.\n",
    "\n",
    "**TODO:** Make sure that you include the edited `index.html` file in your project submission."
   ]
  },
  {
   "cell_type": "markdown",
   "metadata": {},
   "source": [
    "Now that your web app is working, trying playing around with it and see how well it works.\n",
    "\n",
    "**Question**: Give an example of a review that you entered into your web app. What was the predicted sentiment of your example review?"
   ]
  },
  {
   "cell_type": "markdown",
   "metadata": {},
   "source": [
    "**Answer:**"
   ]
  },
  {
   "cell_type": "markdown",
   "metadata": {},
   "source": [
    "### Delete the endpoint\n",
    "\n",
    "Remember to always shut down your endpoint if you are no longer using it. You are charged for the length of time that the endpoint is running so if you forget and leave it on you could end up with an unexpectedly large bill."
   ]
  },
  {
   "cell_type": "code",
   "execution_count": 105,
   "metadata": {},
   "outputs": [],
   "source": [
    "predictor.delete_endpoint()"
   ]
  },
  {
   "cell_type": "code",
   "execution_count": null,
   "metadata": {},
   "outputs": [],
   "source": []
  }
 ],
 "metadata": {
  "kernelspec": {
   "display_name": "conda_pytorch_p36",
   "language": "python",
   "name": "conda_pytorch_p36"
  },
  "language_info": {
   "codemirror_mode": {
    "name": "ipython",
    "version": 3
   },
   "file_extension": ".py",
   "mimetype": "text/x-python",
   "name": "python",
   "nbconvert_exporter": "python",
   "pygments_lexer": "ipython3",
   "version": "3.6.5"
  }
 },
 "nbformat": 4,
 "nbformat_minor": 2
}
