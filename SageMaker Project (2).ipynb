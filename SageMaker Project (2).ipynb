{
 "cells": [
  {
   "cell_type": "markdown",
   "metadata": {},
   "source": [
    "# Creating a Sentiment Analysis Web App\n",
    "## Using PyTorch and SageMaker\n",
    "\n",
    "_Deep Learning Nanodegree Program | Deployment_\n",
    "\n",
    "---\n",
    "\n",
    "Now that we have a basic understanding of how SageMaker works we will try to use it to construct a complete project from end to end. Our goal will be to have a simple web page which a user can use to enter a movie review. The web page will then send the review off to our deployed model which will predict the sentiment of the entered review.\n",
    "\n",
    "## Instructions\n",
    "\n",
    "Some template code has already been provided for you, and you will need to implement additional functionality to successfully complete this notebook. You will not need to modify the included code beyond what is requested. Sections that begin with '**TODO**' in the header indicate that you need to complete or implement some portion within them. Instructions will be provided for each section and the specifics of the implementation are marked in the code block with a `# TODO: ...` comment. Please be sure to read the instructions carefully!\n",
    "\n",
    "In addition to implementing code, there will be questions for you to answer which relate to the task and your implementation. Each section where you will answer a question is preceded by a '**Question:**' header. Carefully read each question and provide your answer below the '**Answer:**' header by editing the Markdown cell.\n",
    "\n",
    "> **Note**: Code and Markdown cells can be executed using the **Shift+Enter** keyboard shortcut. In addition, a cell can be edited by typically clicking it (double-click for Markdown cells) or by pressing **Enter** while it is highlighted.\n",
    "\n",
    "## General Outline\n",
    "\n",
    "Recall the general outline for SageMaker projects using a notebook instance.\n",
    "\n",
    "1. Download or otherwise retrieve the data.\n",
    "2. Process / Prepare the data.\n",
    "3. Upload the processed data to S3.\n",
    "4. Train a chosen model.\n",
    "5. Test the trained model (typically using a batch transform job).\n",
    "6. Deploy the trained model.\n",
    "7. Use the deployed model.\n",
    "\n",
    "For this project, you will be following the steps in the general outline with some modifications. \n",
    "\n",
    "First, you will not be testing the model in its own step. You will still be testing the model, however, you will do it by deploying your model and then using the deployed model by sending the test data to it. One of the reasons for doing this is so that you can make sure that your deployed model is working correctly before moving forward.\n",
    "\n",
    "In addition, you will deploy and use your trained model a second time. In the second iteration you will customize the way that your trained model is deployed by including some of your own code. In addition, your newly deployed model will be used in the sentiment analysis web app."
   ]
  },
  {
   "cell_type": "markdown",
   "metadata": {},
   "source": [
    "## Step 1: Downloading the data\n",
    "\n",
    "As in the XGBoost in SageMaker notebook, we will be using the [IMDb dataset](http://ai.stanford.edu/~amaas/data/sentiment/)\n",
    "\n",
    "> Maas, Andrew L., et al. [Learning Word Vectors for Sentiment Analysis](http://ai.stanford.edu/~amaas/data/sentiment/). In _Proceedings of the 49th Annual Meeting of the Association for Computational Linguistics: Human Language Technologies_. Association for Computational Linguistics, 2011."
   ]
  },
  {
   "cell_type": "code",
   "execution_count": 2,
   "metadata": {},
   "outputs": [
    {
     "name": "stdout",
     "output_type": "stream",
     "text": [
      "mkdir: cannot create directory ‘../data’: File exists\n",
      "--2020-05-06 13:36:16--  http://ai.stanford.edu/~amaas/data/sentiment/aclImdb_v1.tar.gz\n",
      "Resolving ai.stanford.edu (ai.stanford.edu)... 171.64.68.10\n",
      "Connecting to ai.stanford.edu (ai.stanford.edu)|171.64.68.10|:80... connected.\n",
      "HTTP request sent, awaiting response... 200 OK\n",
      "Length: 84125825 (80M) [application/x-gzip]\n",
      "Saving to: ‘../data/aclImdb_v1.tar.gz’\n",
      "\n",
      "../data/aclImdb_v1. 100%[===================>]  80.23M  24.8MB/s    in 4.5s    \n",
      "\n",
      "2020-05-06 13:36:21 (18.0 MB/s) - ‘../data/aclImdb_v1.tar.gz’ saved [84125825/84125825]\n",
      "\n"
     ]
    }
   ],
   "source": [
    "%mkdir ../data\n",
    "!wget -O ../data/aclImdb_v1.tar.gz http://ai.stanford.edu/~amaas/data/sentiment/aclImdb_v1.tar.gz\n",
    "!tar -zxf ../data/aclImdb_v1.tar.gz -C ../data"
   ]
  },
  {
   "cell_type": "markdown",
   "metadata": {},
   "source": [
    "## Step 2: Preparing and Processing the data\n",
    "\n",
    "Also, as in the XGBoost notebook, we will be doing some initial data processing. The first few steps are the same as in the XGBoost example. To begin with, we will read in each of the reviews and combine them into a single input structure. Then, we will split the dataset into a training set and a testing set."
   ]
  },
  {
   "cell_type": "code",
   "execution_count": 3,
   "metadata": {},
   "outputs": [],
   "source": [
    "import os\n",
    "import glob\n",
    "\n",
    "def read_imdb_data(data_dir='../data/aclImdb'):\n",
    "    data = {}\n",
    "    labels = {}\n",
    "    \n",
    "    for data_type in ['train', 'test']:\n",
    "        data[data_type] = {}\n",
    "        labels[data_type] = {}\n",
    "        \n",
    "        for sentiment in ['pos', 'neg']:\n",
    "            data[data_type][sentiment] = []\n",
    "            labels[data_type][sentiment] = []\n",
    "            \n",
    "            path = os.path.join(data_dir, data_type, sentiment, '*.txt')\n",
    "            files = glob.glob(path)\n",
    "            \n",
    "            for f in files:\n",
    "                with open(f) as review:\n",
    "                    data[data_type][sentiment].append(review.read())\n",
    "                    # Here we represent a positive review by '1' and a negative review by '0'\n",
    "                    labels[data_type][sentiment].append(1 if sentiment == 'pos' else 0)\n",
    "                    \n",
    "            assert len(data[data_type][sentiment]) == len(labels[data_type][sentiment]), \\\n",
    "                    \"{}/{} data size does not match labels size\".format(data_type, sentiment)\n",
    "                \n",
    "    return data, labels"
   ]
  },
  {
   "cell_type": "code",
   "execution_count": 4,
   "metadata": {},
   "outputs": [
    {
     "name": "stdout",
     "output_type": "stream",
     "text": [
      "IMDB reviews: train = 12500 pos / 12500 neg, test = 12500 pos / 12500 neg\n"
     ]
    }
   ],
   "source": [
    "data, labels = read_imdb_data()\n",
    "print(\"IMDB reviews: train = {} pos / {} neg, test = {} pos / {} neg\".format(\n",
    "            len(data['train']['pos']), len(data['train']['neg']),\n",
    "            len(data['test']['pos']), len(data['test']['neg'])))"
   ]
  },
  {
   "cell_type": "markdown",
   "metadata": {},
   "source": [
    "Now that we've read the raw training and testing data from the downloaded dataset, we will combine the positive and negative reviews and shuffle the resulting records."
   ]
  },
  {
   "cell_type": "code",
   "execution_count": 5,
   "metadata": {},
   "outputs": [],
   "source": [
    "from sklearn.utils import shuffle\n",
    "\n",
    "def prepare_imdb_data(data, labels):\n",
    "    \"\"\"Prepare training and test sets from IMDb movie reviews.\"\"\"\n",
    "    \n",
    "    #Combine positive and negative reviews and labels\n",
    "    data_train = data['train']['pos'] + data['train']['neg']\n",
    "    data_test = data['test']['pos'] + data['test']['neg']\n",
    "    labels_train = labels['train']['pos'] + labels['train']['neg']\n",
    "    labels_test = labels['test']['pos'] + labels['test']['neg']\n",
    "    \n",
    "    #Shuffle reviews and corresponding labels within training and test sets\n",
    "    data_train, labels_train = shuffle(data_train, labels_train)\n",
    "    data_test, labels_test = shuffle(data_test, labels_test)\n",
    "    \n",
    "    # Return a unified training data, test data, training labels, test labets\n",
    "    return data_train, data_test, labels_train, labels_test"
   ]
  },
  {
   "cell_type": "code",
   "execution_count": 6,
   "metadata": {},
   "outputs": [
    {
     "name": "stdout",
     "output_type": "stream",
     "text": [
      "IMDb reviews (combined): train = 25000, test = 25000\n"
     ]
    }
   ],
   "source": [
    "train_X, test_X, train_y, test_y = prepare_imdb_data(data, labels)\n",
    "print(\"IMDb reviews (combined): train = {}, test = {}\".format(len(train_X), len(test_X)))"
   ]
  },
  {
   "cell_type": "markdown",
   "metadata": {},
   "source": [
    "Now that we have our training and testing sets unified and prepared, we should do a quick check and see an example of the data our model will be trained on. This is generally a good idea as it allows you to see how each of the further processing steps affects the reviews and it also ensures that the data has been loaded correctly."
   ]
  },
  {
   "cell_type": "code",
   "execution_count": 7,
   "metadata": {},
   "outputs": [
    {
     "name": "stdout",
     "output_type": "stream",
     "text": [
      "When I tell people that I review movies as a hobby, the first thing they say is \"What do you think of such-and-such movie?\" There are a couple of problems here. Firstly, there is the probable chance that I've not seen it and thus, I ruin my reputation. Secondly, I could trash the movie in question without realising that it's actually their favourite. Lastly, I could be given DVDs to watch so they can judge my opinion. Thus, I find myself sat before \"The Convent\" which is the sort of film I would ignore completely given the choice but unable to avoid here. More's the pity because this frankly dreadful \"horror\" is about as scary as a box of kittens.<br /><br />Following well-worn clichés, \"The Convent\" focuses on a bunch of American high school students on a trip to an abandoned convent on a mission to get stoned, laid and mildly spooked. But you'll never guess what happens next? A group of cannibalistic demonic nuns emerge from the cobwebs who proceed to pick the kids off one by one in classic horror movie tradition. Will any of them survive and more importantly, haven't you got better things to worry about? <br /><br />The only thing that saves \"The Convent\" from being a total waste of time is the fact that nobody is really taking this tosh seriously with the exception of Coolio's bizarre cameo as a hyperactive cop with an itchy trigger finger. It's far too amusing to be properly frightening - the zombie cheerleader who makes chipmunk noises for no reason, the day-glo paint jobs that appears when you become a zombie - but what really kills it as a horror is the fact that you can instantly tell when someone is going to jump out and get messily murdered. But even if they were trying, I still doubt that it would work - demonic nuns wearing the sort of make-up you'd see in the \"Buffy The Vampire Slayer\" TV show aren't really that scary. The scariest thing about this movie really is that over 10% of voters gave this a maximum score. I mean, I know it's funny but I hardly split my sides. To be honest, I've had more fun in a dentist.<br /><br />\"The Convent\" isn't really a horror movie as such. It's more of a comedy horror like \"Scary Movie\" or \"Shaun Of The Dead\" but you're laughing at it instead of with it. I honestly can't recommend this to anybody except the family of the cast and crew but even then, I doubt very much they'd enjoy it. I don't enjoy the \"so bad that it's good\" genre - I personally feel that if the film-makers can't be bothered to salvage a turkey then I shouldn't bust a gut trying to watch it. Yes, it's a bad film and yes, they really should have gone home and done something more constructive. A Rubik's cube, for example. The DVD box has two price stickers - one for £4.99 and a reduced price of £3. But it was sold for £1 and that should tell you everything you need to know about this poxy, cheap, awesomely bad flick. Sorry if you do like it but \"The Convent\" really is a pile of unholy crap.\n",
      "0\n"
     ]
    }
   ],
   "source": [
    "print(train_X[100])\n",
    "print(train_y[100])"
   ]
  },
  {
   "cell_type": "markdown",
   "metadata": {},
   "source": [
    "The first step in processing the reviews is to make sure that any html tags that appear should be removed. In addition we wish to tokenize our input, that way words such as *entertained* and *entertaining* are considered the same with regard to sentiment analysis."
   ]
  },
  {
   "cell_type": "code",
   "execution_count": 8,
   "metadata": {},
   "outputs": [],
   "source": [
    "import nltk\n",
    "from nltk.corpus import stopwords\n",
    "from nltk.stem.porter import *\n",
    "\n",
    "import re\n",
    "from bs4 import BeautifulSoup\n",
    "\n",
    "def review_to_words(review):\n",
    "    nltk.download(\"stopwords\", quiet=True)\n",
    "    stemmer = PorterStemmer()\n",
    "    \n",
    "    text = BeautifulSoup(review, \"html.parser\").get_text() # Remove HTML tags\n",
    "    text = re.sub(r\"[^a-zA-Z0-9]\", \" \", text.lower()) # Convert to lower case\n",
    "    words = text.split() # Split string into words\n",
    "    words = [w for w in words if w not in stopwords.words(\"english\")] # Remove stopwords\n",
    "    words = [PorterStemmer().stem(w) for w in words] # stem\n",
    "    \n",
    "    return words"
   ]
  },
  {
   "cell_type": "markdown",
   "metadata": {},
   "source": [
    "The `review_to_words` method defined above uses `BeautifulSoup` to remove any html tags that appear and uses the `nltk` package to tokenize the reviews. As a check to ensure we know how everything is working, try applying `review_to_words` to one of the reviews in the training set."
   ]
  },
  {
   "cell_type": "code",
   "execution_count": 9,
   "metadata": {},
   "outputs": [
    {
     "data": {
      "text/plain": [
       "['tell',\n",
       " 'peopl',\n",
       " 'review',\n",
       " 'movi',\n",
       " 'hobbi',\n",
       " 'first',\n",
       " 'thing',\n",
       " 'say',\n",
       " 'think',\n",
       " 'movi',\n",
       " 'coupl',\n",
       " 'problem',\n",
       " 'firstli',\n",
       " 'probabl',\n",
       " 'chanc',\n",
       " 'seen',\n",
       " 'thu',\n",
       " 'ruin',\n",
       " 'reput',\n",
       " 'secondli',\n",
       " 'could',\n",
       " 'trash',\n",
       " 'movi',\n",
       " 'question',\n",
       " 'without',\n",
       " 'realis',\n",
       " 'actual',\n",
       " 'favourit',\n",
       " 'lastli',\n",
       " 'could',\n",
       " 'given',\n",
       " 'dvd',\n",
       " 'watch',\n",
       " 'judg',\n",
       " 'opinion',\n",
       " 'thu',\n",
       " 'find',\n",
       " 'sat',\n",
       " 'convent',\n",
       " 'sort',\n",
       " 'film',\n",
       " 'would',\n",
       " 'ignor',\n",
       " 'complet',\n",
       " 'given',\n",
       " 'choic',\n",
       " 'unabl',\n",
       " 'avoid',\n",
       " 'piti',\n",
       " 'frankli',\n",
       " 'dread',\n",
       " 'horror',\n",
       " 'scari',\n",
       " 'box',\n",
       " 'kitten',\n",
       " 'follow',\n",
       " 'well',\n",
       " 'worn',\n",
       " 'clich',\n",
       " 'convent',\n",
       " 'focus',\n",
       " 'bunch',\n",
       " 'american',\n",
       " 'high',\n",
       " 'school',\n",
       " 'student',\n",
       " 'trip',\n",
       " 'abandon',\n",
       " 'convent',\n",
       " 'mission',\n",
       " 'get',\n",
       " 'stone',\n",
       " 'laid',\n",
       " 'mildli',\n",
       " 'spook',\n",
       " 'never',\n",
       " 'guess',\n",
       " 'happen',\n",
       " 'next',\n",
       " 'group',\n",
       " 'cannibalist',\n",
       " 'demon',\n",
       " 'nun',\n",
       " 'emerg',\n",
       " 'cobweb',\n",
       " 'proceed',\n",
       " 'pick',\n",
       " 'kid',\n",
       " 'one',\n",
       " 'one',\n",
       " 'classic',\n",
       " 'horror',\n",
       " 'movi',\n",
       " 'tradit',\n",
       " 'surviv',\n",
       " 'importantli',\n",
       " 'got',\n",
       " 'better',\n",
       " 'thing',\n",
       " 'worri',\n",
       " 'thing',\n",
       " 'save',\n",
       " 'convent',\n",
       " 'total',\n",
       " 'wast',\n",
       " 'time',\n",
       " 'fact',\n",
       " 'nobodi',\n",
       " 'realli',\n",
       " 'take',\n",
       " 'tosh',\n",
       " 'serious',\n",
       " 'except',\n",
       " 'coolio',\n",
       " 'bizarr',\n",
       " 'cameo',\n",
       " 'hyperact',\n",
       " 'cop',\n",
       " 'itchi',\n",
       " 'trigger',\n",
       " 'finger',\n",
       " 'far',\n",
       " 'amus',\n",
       " 'properli',\n",
       " 'frighten',\n",
       " 'zombi',\n",
       " 'cheerlead',\n",
       " 'make',\n",
       " 'chipmunk',\n",
       " 'nois',\n",
       " 'reason',\n",
       " 'day',\n",
       " 'glo',\n",
       " 'paint',\n",
       " 'job',\n",
       " 'appear',\n",
       " 'becom',\n",
       " 'zombi',\n",
       " 'realli',\n",
       " 'kill',\n",
       " 'horror',\n",
       " 'fact',\n",
       " 'instantli',\n",
       " 'tell',\n",
       " 'someon',\n",
       " 'go',\n",
       " 'jump',\n",
       " 'get',\n",
       " 'messili',\n",
       " 'murder',\n",
       " 'even',\n",
       " 'tri',\n",
       " 'still',\n",
       " 'doubt',\n",
       " 'would',\n",
       " 'work',\n",
       " 'demon',\n",
       " 'nun',\n",
       " 'wear',\n",
       " 'sort',\n",
       " 'make',\n",
       " 'see',\n",
       " 'buffi',\n",
       " 'vampir',\n",
       " 'slayer',\n",
       " 'tv',\n",
       " 'show',\n",
       " 'realli',\n",
       " 'scari',\n",
       " 'scariest',\n",
       " 'thing',\n",
       " 'movi',\n",
       " 'realli',\n",
       " '10',\n",
       " 'voter',\n",
       " 'gave',\n",
       " 'maximum',\n",
       " 'score',\n",
       " 'mean',\n",
       " 'know',\n",
       " 'funni',\n",
       " 'hardli',\n",
       " 'split',\n",
       " 'side',\n",
       " 'honest',\n",
       " 'fun',\n",
       " 'dentist',\n",
       " 'convent',\n",
       " 'realli',\n",
       " 'horror',\n",
       " 'movi',\n",
       " 'comedi',\n",
       " 'horror',\n",
       " 'like',\n",
       " 'scari',\n",
       " 'movi',\n",
       " 'shaun',\n",
       " 'dead',\n",
       " 'laugh',\n",
       " 'instead',\n",
       " 'honestli',\n",
       " 'recommend',\n",
       " 'anybodi',\n",
       " 'except',\n",
       " 'famili',\n",
       " 'cast',\n",
       " 'crew',\n",
       " 'even',\n",
       " 'doubt',\n",
       " 'much',\n",
       " 'enjoy',\n",
       " 'enjoy',\n",
       " 'bad',\n",
       " 'good',\n",
       " 'genr',\n",
       " 'person',\n",
       " 'feel',\n",
       " 'film',\n",
       " 'maker',\n",
       " 'bother',\n",
       " 'salvag',\n",
       " 'turkey',\n",
       " 'bust',\n",
       " 'gut',\n",
       " 'tri',\n",
       " 'watch',\n",
       " 'ye',\n",
       " 'bad',\n",
       " 'film',\n",
       " 'ye',\n",
       " 'realli',\n",
       " 'gone',\n",
       " 'home',\n",
       " 'done',\n",
       " 'someth',\n",
       " 'construct',\n",
       " 'rubik',\n",
       " 'cube',\n",
       " 'exampl',\n",
       " 'dvd',\n",
       " 'box',\n",
       " 'two',\n",
       " 'price',\n",
       " 'sticker',\n",
       " 'one',\n",
       " '4',\n",
       " '99',\n",
       " 'reduc',\n",
       " 'price',\n",
       " '3',\n",
       " 'sold',\n",
       " '1',\n",
       " 'tell',\n",
       " 'everyth',\n",
       " 'need',\n",
       " 'know',\n",
       " 'poxi',\n",
       " 'cheap',\n",
       " 'awesom',\n",
       " 'bad',\n",
       " 'flick',\n",
       " 'sorri',\n",
       " 'like',\n",
       " 'convent',\n",
       " 'realli',\n",
       " 'pile',\n",
       " 'unholi',\n",
       " 'crap']"
      ]
     },
     "execution_count": 9,
     "metadata": {},
     "output_type": "execute_result"
    }
   ],
   "source": [
    "# TODO: Apply review_to_words to a review (train_X[100] or any other review)\n",
    "review_to_words(train_X[100])"
   ]
  },
  {
   "cell_type": "markdown",
   "metadata": {},
   "source": [
    "**Question:** Above we mentioned that `review_to_words` method removes html formatting and allows us to tokenize the words found in a review, for example, converting *entertained* and *entertaining* into *entertain* so that they are treated as though they are the same word. What else, if anything, does this method do to the input?"
   ]
  },
  {
   "cell_type": "markdown",
   "metadata": {},
   "source": [
    "**Answer:**"
   ]
  },
  {
   "cell_type": "markdown",
   "metadata": {},
   "source": [
    "The method below applies the `review_to_words` method to each of the reviews in the training and testing datasets. In addition it caches the results. This is because performing this processing step can take a long time. This way if you are unable to complete the notebook in the current session, you can come back without needing to process the data a second time."
   ]
  },
  {
   "cell_type": "code",
   "execution_count": 10,
   "metadata": {},
   "outputs": [],
   "source": [
    "import pickle\n",
    "\n",
    "cache_dir = os.path.join(\"../cache\", \"sentiment_analysis\")  # where to store cache files\n",
    "os.makedirs(cache_dir, exist_ok=True)  # ensure cache directory exists\n",
    "\n",
    "def preprocess_data(data_train, data_test, labels_train, labels_test,\n",
    "                    cache_dir=cache_dir, cache_file=\"preprocessed_data.pkl\"):\n",
    "    \"\"\"Convert each review to words; read from cache if available.\"\"\"\n",
    "\n",
    "    # If cache_file is not None, try to read from it first\n",
    "    cache_data = None\n",
    "    if cache_file is not None:\n",
    "        try:\n",
    "            with open(os.path.join(cache_dir, cache_file), \"rb\") as f:\n",
    "                cache_data = pickle.load(f)\n",
    "            print(\"Read preprocessed data from cache file:\", cache_file)\n",
    "        except:\n",
    "            pass  # unable to read from cache, but that's okay\n",
    "    \n",
    "    # If cache is missing, then do the heavy lifting\n",
    "    if cache_data is None:\n",
    "        # Preprocess training and test data to obtain words for each review\n",
    "        #words_train = list(map(review_to_words, data_train))\n",
    "        #words_test = list(map(review_to_words, data_test))\n",
    "        words_train = [review_to_words(review) for review in data_train]\n",
    "        words_test = [review_to_words(review) for review in data_test]\n",
    "        \n",
    "        # Write to cache file for future runs\n",
    "        if cache_file is not None:\n",
    "            cache_data = dict(words_train=words_train, words_test=words_test,\n",
    "                              labels_train=labels_train, labels_test=labels_test)\n",
    "            with open(os.path.join(cache_dir, cache_file), \"wb\") as f:\n",
    "                pickle.dump(cache_data, f)\n",
    "            print(\"Wrote preprocessed data to cache file:\", cache_file)\n",
    "    else:\n",
    "        # Unpack data loaded from cache file\n",
    "        words_train, words_test, labels_train, labels_test = (cache_data['words_train'],\n",
    "                cache_data['words_test'], cache_data['labels_train'], cache_data['labels_test'])\n",
    "    \n",
    "    return words_train, words_test, labels_train, labels_test"
   ]
  },
  {
   "cell_type": "code",
   "execution_count": 11,
   "metadata": {},
   "outputs": [
    {
     "name": "stdout",
     "output_type": "stream",
     "text": [
      "Read preprocessed data from cache file: preprocessed_data.pkl\n"
     ]
    }
   ],
   "source": [
    "# Preprocess data\n",
    "train_X, test_X, train_y, test_y = preprocess_data(train_X, test_X, train_y, test_y)"
   ]
  },
  {
   "cell_type": "markdown",
   "metadata": {},
   "source": [
    "## Transform the data\n",
    "\n",
    "In the XGBoost notebook we transformed the data from its word representation to a bag-of-words feature representation. For the model we are going to construct in this notebook we will construct a feature representation which is very similar. To start, we will represent each word as an integer. Of course, some of the words that appear in the reviews occur very infrequently and so likely don't contain much information for the purposes of sentiment analysis. The way we will deal with this problem is that we will fix the size of our working vocabulary and we will only include the words that appear most frequently. We will then combine all of the infrequent words into a single category and, in our case, we will label it as `1`.\n",
    "\n",
    "Since we will be using a recurrent neural network, it will be convenient if the length of each review is the same. To do this, we will fix a size for our reviews and then pad short reviews with the category 'no word' (which we will label `0`) and truncate long reviews."
   ]
  },
  {
   "cell_type": "markdown",
   "metadata": {},
   "source": [
    "### (TODO) Create a word dictionary\n",
    "\n",
    "To begin with, we need to construct a way to map words that appear in the reviews to integers. Here we fix the size of our vocabulary (including the 'no word' and 'infrequent' categories) to be `5000` but you may wish to change this to see how it affects the model.\n",
    "\n",
    "> **TODO:** Complete the implementation for the `build_dict()` method below. Note that even though the vocab_size is set to `5000`, we only want to construct a mapping for the most frequently appearing `4998` words. This is because we want to reserve the special labels `0` for 'no word' and `1` for 'infrequent word'."
   ]
  },
  {
   "cell_type": "code",
   "execution_count": 14,
   "metadata": {},
   "outputs": [],
   "source": [
    "import numpy as np\n",
    "\n",
    "def build_dict(data, vocab_size = 5000):\n",
    "    \"\"\"Construct and return a dictionary mapping each of the most frequently appearing words to a unique integer.\"\"\"\n",
    "    \n",
    "    # TODO: Determine how often each word appears in `data`. Note that `data` is a list of sentences and that a\n",
    "    #       sentence is a list of words.\n",
    "    word_count = {} # A dict storing the words that appear in the reviews along with how often they occur\n",
    "    for line in data:\n",
    "        for word in line:\n",
    "            if word in word_count:\n",
    "                    word_count[word] += 1;\n",
    "            else:\n",
    "                    word_count[word] = 1;\n",
    "   \n",
    "    \n",
    "    # TODO: Sort the words found in `data` so that sorted_words[0] is the most frequently appearing word and\n",
    "    #       sorted_words[-1] is the least frequently appearing word.\n",
    "    \n",
    "    sorted_words = sorted(word_count, key=word_count.get, reverse = True)\n",
    "    #print(sorted_words[0])\n",
    "    #print(sorted_words)\n",
    "    value_list = list(range(vocab_size-1,-1, -1))\n",
    "    #print(value_list)\n",
    "   \n",
    "    #word_dict = {sorted_words[i]: value_list[i] for i in range(vocab_size)} \n",
    "    #print(word_dict)\n",
    "    # This is what we are building, a dictionary that translates words into integers\n",
    "    word_dict = {}\n",
    "    for idx, word in enumerate(sorted_words[:vocab_size - 2]): # The -2 is so that we save room for the 'no word'\n",
    "        word_dict[word] = idx + 2                              # 'infrequent' labels\n",
    "    print(word_dict)   \n",
    "    return word_dict"
   ]
  },
  {
   "cell_type": "code",
   "execution_count": 15,
   "metadata": {},
   "outputs": [
    {
     "name": "stdout",
     "output_type": "stream",
     "text": [
      "{'movi': 2, 'film': 3, 'one': 4, 'like': 5, 'time': 6, 'good': 7, 'make': 8, 'charact': 9, 'get': 10, 'see': 11, 'watch': 12, 'stori': 13, 'even': 14, 'would': 15, 'realli': 16, 'well': 17, 'scene': 18, 'look': 19, 'show': 20, 'much': 21, 'end': 22, 'peopl': 23, 'bad': 24, 'go': 25, 'great': 26, 'also': 27, 'first': 28, 'love': 29, 'think': 30, 'way': 31, 'act': 32, 'play': 33, 'made': 34, 'thing': 35, 'could': 36, 'know': 37, 'say': 38, 'seem': 39, 'work': 40, 'plot': 41, 'two': 42, 'actor': 43, 'year': 44, 'come': 45, 'mani': 46, 'seen': 47, 'take': 48, 'life': 49, 'want': 50, 'never': 51, 'littl': 52, 'best': 53, 'tri': 54, 'man': 55, 'ever': 56, 'give': 57, 'better': 58, 'still': 59, 'perform': 60, 'find': 61, 'feel': 62, 'part': 63, 'back': 64, 'use': 65, 'someth': 66, 'director': 67, 'actual': 68, 'interest': 69, 'lot': 70, 'real': 71, 'old': 72, 'cast': 73, 'though': 74, 'live': 75, 'star': 76, 'enjoy': 77, 'guy': 78, 'anoth': 79, 'new': 80, 'role': 81, 'noth': 82, '10': 83, 'funni': 84, 'music': 85, 'point': 86, 'start': 87, 'set': 88, 'girl': 89, 'origin': 90, 'day': 91, 'world': 92, 'everi': 93, 'believ': 94, 'turn': 95, 'quit': 96, 'direct': 97, 'us': 98, 'thought': 99, 'fact': 100, 'minut': 101, 'horror': 102, 'kill': 103, 'action': 104, 'comedi': 105, 'pretti': 106, 'young': 107, 'wonder': 108, 'happen': 109, 'around': 110, 'got': 111, 'effect': 112, 'right': 113, 'long': 114, 'howev': 115, 'big': 116, 'line': 117, 'famili': 118, 'enough': 119, 'seri': 120, 'may': 121, 'need': 122, 'fan': 123, 'bit': 124, 'script': 125, 'beauti': 126, 'person': 127, 'becom': 128, 'without': 129, 'must': 130, 'alway': 131, 'friend': 132, 'tell': 133, 'reason': 134, 'saw': 135, 'last': 136, 'final': 137, 'kid': 138, 'almost': 139, 'put': 140, 'least': 141, 'sure': 142, 'done': 143, 'whole': 144, 'place': 145, 'complet': 146, 'kind': 147, 'differ': 148, 'expect': 149, 'shot': 150, 'far': 151, 'mean': 152, 'anyth': 153, 'book': 154, 'laugh': 155, 'might': 156, 'name': 157, 'sinc': 158, 'begin': 159, '2': 160, 'probabl': 161, 'woman': 162, 'help': 163, 'entertain': 164, 'let': 165, 'screen': 166, 'call': 167, 'tv': 168, 'moment': 169, 'away': 170, 'read': 171, 'yet': 172, 'rather': 173, 'worst': 174, 'run': 175, 'fun': 176, 'lead': 177, 'hard': 178, 'audienc': 179, 'idea': 180, 'anyon': 181, 'episod': 182, 'american': 183, 'found': 184, 'appear': 185, 'bore': 186, 'especi': 187, 'although': 188, 'hope': 189, 'keep': 190, 'cours': 191, 'anim': 192, 'job': 193, 'goe': 194, 'move': 195, 'sens': 196, 'version': 197, 'dvd': 198, 'war': 199, 'money': 200, 'someon': 201, 'mind': 202, 'mayb': 203, 'problem': 204, 'true': 205, 'hous': 206, 'everyth': 207, 'nice': 208, 'second': 209, 'rate': 210, 'three': 211, 'night': 212, 'follow': 213, 'face': 214, 'recommend': 215, 'main': 216, 'product': 217, 'worth': 218, 'leav': 219, 'human': 220, 'special': 221, 'excel': 222, 'togeth': 223, 'wast': 224, 'everyon': 225, 'sound': 226, 'john': 227, 'hand': 228, '1': 229, 'father': 230, 'later': 231, 'eye': 232, 'said': 233, 'view': 234, 'instead': 235, 'review': 236, 'boy': 237, 'high': 238, 'hour': 239, 'miss': 240, 'talk': 241, 'classic': 242, 'wife': 243, 'understand': 244, 'left': 245, 'care': 246, 'black': 247, 'death': 248, 'open': 249, 'murder': 250, 'write': 251, 'half': 252, 'head': 253, 'rememb': 254, 'chang': 255, 'viewer': 256, 'fight': 257, 'gener': 258, 'surpris': 259, 'includ': 260, 'short': 261, 'die': 262, 'fall': 263, 'less': 264, 'els': 265, 'entir': 266, 'piec': 267, 'involv': 268, 'pictur': 269, 'simpli': 270, 'top': 271, 'power': 272, 'home': 273, 'total': 274, 'usual': 275, 'budget': 276, 'attempt': 277, 'suppos': 278, 'releas': 279, 'hollywood': 280, 'terribl': 281, 'song': 282, 'men': 283, 'possibl': 284, 'featur': 285, 'portray': 286, 'disappoint': 287, 'poor': 288, '3': 289, 'coupl': 290, 'stupid': 291, 'camera': 292, 'dead': 293, 'wrong': 294, 'produc': 295, 'low': 296, 'video': 297, 'either': 298, 'aw': 299, 'definit': 300, 'except': 301, 'rest': 302, 'given': 303, 'absolut': 304, 'women': 305, 'lack': 306, 'word': 307, 'writer': 308, 'titl': 309, 'talent': 310, 'decid': 311, 'full': 312, 'perfect': 313, 'along': 314, 'style': 315, 'close': 316, 'truli': 317, 'school': 318, 'emot': 319, 'save': 320, 'sex': 321, 'age': 322, 'next': 323, 'bring': 324, 'mr': 325, 'case': 326, 'killer': 327, 'heart': 328, 'comment': 329, 'sort': 330, 'creat': 331, 'perhap': 332, 'came': 333, 'brother': 334, 'sever': 335, 'joke': 336, 'art': 337, 'dialogu': 338, 'game': 339, 'small': 340, 'base': 341, 'flick': 342, 'written': 343, 'sequenc': 344, 'meet': 345, 'earli': 346, 'often': 347, 'other': 348, 'mother': 349, 'develop': 350, 'humor': 351, 'actress': 352, 'consid': 353, 'dark': 354, 'guess': 355, 'amaz': 356, 'unfortun': 357, 'lost': 358, 'light': 359, 'exampl': 360, 'cinema': 361, 'drama': 362, 'ye': 363, 'white': 364, 'experi': 365, 'imagin': 366, 'mention': 367, 'stop': 368, 'natur': 369, 'forc': 370, 'manag': 371, 'felt': 372, 'present': 373, 'cut': 374, 'children': 375, 'fail': 376, 'son': 377, 'car': 378, 'support': 379, 'qualiti': 380, 'ask': 381, 'hit': 382, 'side': 383, 'voic': 384, 'extrem': 385, 'impress': 386, 'evil': 387, 'wors': 388, 'stand': 389, 'went': 390, 'certainli': 391, 'basic': 392, 'oh': 393, 'overal': 394, 'favorit': 395, 'horribl': 396, 'mysteri': 397, 'number': 398, 'type': 399, 'danc': 400, 'wait': 401, 'hero': 402, 'alreadi': 403, '5': 404, 'learn': 405, 'matter': 406, '4': 407, 'michael': 408, 'genr': 409, 'fine': 410, 'despit': 411, 'throughout': 412, 'walk': 413, 'success': 414, 'histori': 415, 'question': 416, 'zombi': 417, 'town': 418, 'realiz': 419, 'relationship': 420, 'child': 421, 'past': 422, 'daughter': 423, 'late': 424, 'b': 425, 'wish': 426, 'hate': 427, 'credit': 428, 'event': 429, 'theme': 430, 'touch': 431, 'citi': 432, 'today': 433, 'sometim': 434, 'behind': 435, 'god': 436, 'twist': 437, 'sit': 438, 'stay': 439, 'annoy': 440, 'deal': 441, 'abl': 442, 'rent': 443, 'pleas': 444, 'edit': 445, 'blood': 446, 'deserv': 447, 'anyway': 448, 'comic': 449, 'appar': 450, 'soon': 451, 'gave': 452, 'etc': 453, 'level': 454, 'slow': 455, 'chanc': 456, 'score': 457, 'bodi': 458, 'brilliant': 459, 'incred': 460, 'figur': 461, 'situat': 462, 'major': 463, 'self': 464, 'stuff': 465, 'decent': 466, 'element': 467, 'dream': 468, 'return': 469, 'obvious': 470, 'continu': 471, 'order': 472, 'pace': 473, 'ridicul': 474, 'happi': 475, 'group': 476, 'add': 477, 'highli': 478, 'thank': 479, 'ladi': 480, 'novel': 481, 'pain': 482, 'speak': 483, 'career': 484, 'shoot': 485, 'strang': 486, 'heard': 487, 'sad': 488, 'polic': 489, 'husband': 490, 'import': 491, 'break': 492, 'took': 493, 'strong': 494, 'cannot': 495, 'robert': 496, 'predict': 497, 'violenc': 498, 'hilari': 499, 'recent': 500, 'countri': 501, 'known': 502, 'particularli': 503, 'pick': 504, 'documentari': 505, 'season': 506, 'critic': 507, 'jame': 508, 'compar': 509, 'obviou': 510, 'alon': 511, 'told': 512, 'state': 513, 'rock': 514, 'visual': 515, 'offer': 516, 'exist': 517, 'theater': 518, 'opinion': 519, 'gore': 520, 'hold': 521, 'crap': 522, 'result': 523, 'room': 524, 'hear': 525, 'realiti': 526, 'effort': 527, 'clich': 528, 'thriller': 529, 'caus': 530, 'sequel': 531, 'serious': 532, 'explain': 533, 'king': 534, 'local': 535, 'ago': 536, 'none': 537, 'hell': 538, 'note': 539, 'allow': 540, 'david': 541, 'sister': 542, 'simpl': 543, 'femal': 544, 'deliv': 545, 'ok': 546, 'class': 547, 'convinc': 548, 'check': 549, 'suspens': 550, 'win': 551, 'buy': 552, 'oscar': 553, 'huge': 554, 'valu': 555, 'sexual': 556, 'cool': 557, 'scari': 558, 'excit': 559, 'similar': 560, 'exactli': 561, 'provid': 562, 'apart': 563, 'shown': 564, 'avoid': 565, 'seriou': 566, 'english': 567, 'whose': 568, 'taken': 569, 'cinematographi': 570, 'shock': 571, 'polit': 572, 'spoiler': 573, 'offic': 574, 'across': 575, 'middl': 576, 'pass': 577, 'street': 578, 'messag': 579, 'charm': 580, 'silli': 581, 'somewhat': 582, 'modern': 583, 'confus': 584, 'filmmak': 585, 'form': 586, 'tale': 587, 'singl': 588, 'jack': 589, 'mostli': 590, 'attent': 591, 'carri': 592, 'william': 593, 'sing': 594, 'five': 595, 'subject': 596, 'prove': 597, 'richard': 598, 'team': 599, 'stage': 600, 'cop': 601, 'unlik': 602, 'georg': 603, 'monster': 604, 'televis': 605, 'earth': 606, 'villain': 607, 'cover': 608, 'pay': 609, 'marri': 610, 'toward': 611, 'build': 612, 'parent': 613, 'pull': 614, 'due': 615, 'fill': 616, 'respect': 617, 'four': 618, 'dialog': 619, 'remind': 620, 'futur': 621, 'typic': 622, 'weak': 623, '7': 624, 'cheap': 625, 'intellig': 626, 'atmospher': 627, 'british': 628, '80': 629, 'clearli': 630, 'paul': 631, 'non': 632, 'dog': 633, 'fast': 634, 'knew': 635, 'artist': 636, '8': 637, 'crime': 638, 'easili': 639, 'escap': 640, 'doubt': 641, 'adult': 642, 'detail': 643, 'date': 644, 'fire': 645, 'member': 646, 'romant': 647, 'drive': 648, 'gun': 649, 'straight': 650, 'beyond': 651, 'fit': 652, 'attack': 653, 'imag': 654, 'upon': 655, 'posit': 656, 'whether': 657, 'peter': 658, 'fantast': 659, 'captur': 660, 'aspect': 661, 'appreci': 662, 'ten': 663, 'plan': 664, 'discov': 665, 'remain': 666, 'period': 667, 'near': 668, 'realist': 669, 'air': 670, 'mark': 671, 'red': 672, 'dull': 673, 'adapt': 674, 'within': 675, 'lose': 676, 'spend': 677, 'color': 678, 'materi': 679, 'chase': 680, 'mari': 681, 'storylin': 682, 'forget': 683, 'bunch': 684, 'clear': 685, 'lee': 686, 'victim': 687, 'nearli': 688, 'box': 689, 'york': 690, 'inspir': 691, 'match': 692, 'finish': 693, 'mess': 694, 'standard': 695, 'easi': 696, 'truth': 697, 'suffer': 698, 'busi': 699, 'bill': 700, 'dramat': 701, 'space': 702, 'western': 703, 'e': 704, 'list': 705, 'battl': 706, 'notic': 707, 'de': 708, 'french': 709, 'ad': 710, '9': 711, 'tom': 712, 'larg': 713, 'among': 714, 'eventu': 715, 'accept': 716, 'train': 717, 'agre': 718, 'soundtrack': 719, 'spirit': 720, 'third': 721, 'teenag': 722, 'adventur': 723, 'soldier': 724, 'famou': 725, 'suggest': 726, 'sorri': 727, 'drug': 728, 'normal': 729, 'babi': 730, 'cri': 731, 'ultim': 732, 'troubl': 733, 'contain': 734, 'certain': 735, 'cultur': 736, 'romanc': 737, 'rare': 738, 'lame': 739, 'somehow': 740, 'disney': 741, 'mix': 742, 'gone': 743, 'cartoon': 744, 'student': 745, 'fear': 746, 'reveal': 747, 'kept': 748, 'suck': 749, 'attract': 750, 'appeal': 751, 'premis': 752, 'greatest': 753, 'secret': 754, 'design': 755, 'shame': 756, 'throw': 757, 'copi': 758, 'scare': 759, 'wit': 760, 'admit': 761, 'america': 762, 'brought': 763, 'relat': 764, 'particular': 765, 'screenplay': 766, 'whatev': 767, 'pure': 768, '70': 769, 'harri': 770, 'averag': 771, 'master': 772, 'describ': 773, 'male': 774, 'treat': 775, '20': 776, 'fantasi': 777, 'issu': 778, 'warn': 779, 'inde': 780, 'forward': 781, 'background': 782, 'project': 783, 'free': 784, 'memor': 785, 'japanes': 786, 'poorli': 787, 'award': 788, 'locat': 789, 'potenti': 790, 'amus': 791, 'struggl': 792, 'weird': 793, 'magic': 794, 'societi': 795, 'okay': 796, 'imdb': 797, 'accent': 798, 'doctor': 799, 'hot': 800, 'water': 801, 'alien': 802, '30': 803, 'express': 804, 'dr': 805, 'odd': 806, 'crazi': 807, 'choic': 808, 'fiction': 809, 'studio': 810, 'control': 811, 'becam': 812, 'masterpiec': 813, 'fli': 814, 'difficult': 815, 'joe': 816, 'scream': 817, 'costum': 818, 'lover': 819, 'refer': 820, 'uniqu': 821, 'remak': 822, 'vampir': 823, 'girlfriend': 824, 'prison': 825, 'execut': 826, 'wear': 827, 'jump': 828, 'wood': 829, 'unless': 830, 'creepi': 831, 'cheesi': 832, 'superb': 833, 'otherwis': 834, 'parti': 835, 'ghost': 836, 'roll': 837, 'public': 838, 'mad': 839, 'depict': 840, 'moral': 841, 'week': 842, 'earlier': 843, 'badli': 844, 'jane': 845, 'fi': 846, 'dumb': 847, 'grow': 848, 'flaw': 849, 'sci': 850, 'deep': 851, 'maker': 852, 'cat': 853, 'older': 854, 'footag': 855, 'connect': 856, 'bother': 857, 'plenti': 858, 'outsid': 859, 'stick': 860, 'gay': 861, 'catch': 862, 'plu': 863, 'co': 864, 'popular': 865, 'equal': 866, 'social': 867, 'quickli': 868, 'disturb': 869, 'perfectli': 870, 'dress': 871, '90': 872, 'era': 873, 'mistak': 874, 'lie': 875, 'previou': 876, 'ride': 877, 'combin': 878, 'band': 879, 'concept': 880, 'surviv': 881, 'answer': 882, 'rich': 883, 'front': 884, 'christma': 885, 'sweet': 886, 'insid': 887, 'eat': 888, 'concern': 889, 'bare': 890, 'beat': 891, 'listen': 892, 'ben': 893, 'c': 894, 'term': 895, 'serv': 896, 'la': 897, 'meant': 898, 'german': 899, 'hardli': 900, 'stereotyp': 901, 'law': 902, 'innoc': 903, 'desper': 904, 'memori': 905, 'promis': 906, 'intent': 907, 'cute': 908, 'steal': 909, 'inform': 910, 'variou': 911, 'brain': 912, 'post': 913, 'tone': 914, 'island': 915, 'amount': 916, 'compani': 917, 'track': 918, 'nuditi': 919, 'claim': 920, 'store': 921, '50': 922, 'hair': 923, 'flat': 924, 'land': 925, 'univers': 926, 'fairli': 927, 'scott': 928, 'danger': 929, 'kick': 930, 'player': 931, 'crew': 932, 'plain': 933, 'step': 934, 'toni': 935, 'share': 936, 'tast': 937, 'centuri': 938, 'achiev': 939, 'engag': 940, 'cold': 941, 'travel': 942, 'record': 943, 'rip': 944, 'suit': 945, 'sadli': 946, 'manner': 947, 'wrote': 948, 'spot': 949, 'tension': 950, 'intens': 951, 'fascin': 952, 'familiar': 953, 'burn': 954, 'remark': 955, 'depth': 956, 'histor': 957, 'destroy': 958, 'sleep': 959, 'purpos': 960, 'languag': 961, 'ignor': 962, 'ruin': 963, 'delight': 964, 'italian': 965, 'unbeliev': 966, 'abil': 967, 'collect': 968, 'soul': 969, 'detect': 970, 'clever': 971, 'violent': 972, 'rape': 973, 'reach': 974, 'door': 975, 'trash': 976, 'scienc': 977, 'liter': 978, 'commun': 979, 'reveng': 980, 'caught': 981, 'creatur': 982, 'trip': 983, 'approach': 984, 'fashion': 985, 'intrigu': 986, 'introduc': 987, 'skill': 988, 'paint': 989, 'complex': 990, 'channel': 991, 'camp': 992, 'christian': 993, 'extra': 994, 'hole': 995, 'immedi': 996, 'mental': 997, 'limit': 998, 'ann': 999, 'mere': 1000, 'million': 1001, '6': 1002, 'comput': 1003, 'slightli': 1004, 'conclus': 1005, 'slasher': 1006, 'imposs': 1007, 'suddenli': 1008, 'teen': 1009, 'neither': 1010, 'crimin': 1011, 'physic': 1012, 'nation': 1013, 'spent': 1014, 'respons': 1015, 'planet': 1016, 'receiv': 1017, 'fake': 1018, 'blue': 1019, 'sick': 1020, 'bizarr': 1021, 'embarrass': 1022, 'indian': 1023, '15': 1024, 'ring': 1025, 'pop': 1026, 'drop': 1027, 'drag': 1028, 'haunt': 1029, 'suspect': 1030, 'pointless': 1031, 'edg': 1032, 'search': 1033, 'handl': 1034, 'common': 1035, 'biggest': 1036, 'arriv': 1037, 'hurt': 1038, 'faith': 1039, 'technic': 1040, 'angel': 1041, 'dad': 1042, 'genuin': 1043, 'f': 1044, 'awesom': 1045, 'solid': 1046, 'focu': 1047, 'former': 1048, 'van': 1049, 'colleg': 1050, 'count': 1051, 'tear': 1052, 'heavi': 1053, 'wall': 1054, 'rais': 1055, 'laughabl': 1056, 'younger': 1057, 'visit': 1058, 'excus': 1059, 'sign': 1060, 'fair': 1061, 'cult': 1062, 'tough': 1063, 'key': 1064, 'motion': 1065, 'super': 1066, 'desir': 1067, 'addit': 1068, 'stun': 1069, 'cloth': 1070, 'exploit': 1071, 'smith': 1072, 'tortur': 1073, 'davi': 1074, 'race': 1075, 'author': 1076, 'cross': 1077, 'jim': 1078, 'compel': 1079, 'minor': 1080, 'consist': 1081, 'focus': 1082, 'commit': 1083, 'pathet': 1084, 'chemistri': 1085, 'park': 1086, 'obsess': 1087, 'tradit': 1088, 'frank': 1089, 'grade': 1090, '60': 1091, 'asid': 1092, 'brutal': 1093, 'somewher': 1094, 'steve': 1095, 'explor': 1096, 'u': 1097, 'opportun': 1098, 'depress': 1099, 'rule': 1100, 'grant': 1101, 'honest': 1102, 'besid': 1103, 'dub': 1104, 'anti': 1105, 'trailer': 1106, 'intend': 1107, 'bar': 1108, 'regard': 1109, 'west': 1110, 'scientist': 1111, 'longer': 1112, 'decad': 1113, 'judg': 1114, 'silent': 1115, 'creativ': 1116, 'armi': 1117, 'wild': 1118, 'south': 1119, 'stewart': 1120, 'g': 1121, 'draw': 1122, 'road': 1123, 'govern': 1124, 'ex': 1125, 'boss': 1126, 'practic': 1127, 'gang': 1128, 'surprisingli': 1129, 'festiv': 1130, 'motiv': 1131, 'club': 1132, 'redeem': 1133, 'london': 1134, 'green': 1135, 'page': 1136, 'idiot': 1137, 'display': 1138, 'militari': 1139, 'aliv': 1140, 'machin': 1141, 'repeat': 1142, 'thrill': 1143, 'yeah': 1144, '100': 1145, 'nobodi': 1146, 'folk': 1147, '40': 1148, 'journey': 1149, 'garbag': 1150, 'ground': 1151, 'tire': 1152, 'smile': 1153, 'bought': 1154, 'mood': 1155, 'cost': 1156, 'stone': 1157, 'sam': 1158, 'mouth': 1159, 'noir': 1160, 'terrif': 1161, 'agent': 1162, 'utterli': 1163, 'requir': 1164, 'sexi': 1165, 'honestli': 1166, 'area': 1167, 'geniu': 1168, 'report': 1169, 'investig': 1170, 'humour': 1171, 'enter': 1172, 'glad': 1173, 'serial': 1174, 'passion': 1175, 'occasion': 1176, 'narr': 1177, 'climax': 1178, 'marriag': 1179, 'industri': 1180, 'studi': 1181, 'center': 1182, 'ship': 1183, 'nowher': 1184, 'demon': 1185, 'charli': 1186, 'loos': 1187, 'hors': 1188, 'bear': 1189, 'wow': 1190, 'hang': 1191, 'graphic': 1192, 'giant': 1193, 'admir': 1194, 'send': 1195, 'damn': 1196, 'loud': 1197, 'nake': 1198, 'profession': 1199, 'subtl': 1200, 'rel': 1201, 'blow': 1202, 'bottom': 1203, 'insult': 1204, 'batman': 1205, 'doubl': 1206, 'r': 1207, 'kelli': 1208, 'boyfriend': 1209, 'initi': 1210, 'frame': 1211, 'gem': 1212, 'opera': 1213, 'cinemat': 1214, 'affect': 1215, 'challeng': 1216, 'church': 1217, 'drawn': 1218, 'fulli': 1219, 'nightmar': 1220, 'seek': 1221, 'l': 1222, 'j': 1223, 'evid': 1224, 'essenti': 1225, 'arm': 1226, 'conflict': 1227, 'christoph': 1228, 'wind': 1229, 'grace': 1230, 'henri': 1231, 'witch': 1232, 'assum': 1233, 'narrat': 1234, 'push': 1235, 'hunt': 1236, 'wise': 1237, 'chri': 1238, 'repres': 1239, 'month': 1240, 'nomin': 1241, 'avail': 1242, 'sceneri': 1243, 'hide': 1244, 'affair': 1245, 'thu': 1246, 'justic': 1247, 'bond': 1248, 'smart': 1249, 'flashback': 1250, 'interview': 1251, 'outstand': 1252, 'constantli': 1253, 'satisfi': 1254, 'presenc': 1255, 'central': 1256, 'bed': 1257, 'iron': 1258, 'content': 1259, 'sell': 1260, 'everybodi': 1261, 'gag': 1262, 'slowli': 1263, 'hotel': 1264, 'hire': 1265, 'system': 1266, 'charl': 1267, 'thrown': 1268, 'individu': 1269, 'hey': 1270, 'adam': 1271, 'jone': 1272, 'mediocr': 1273, 'allen': 1274, 'ray': 1275, 'billi': 1276, 'lesson': 1277, 'photographi': 1278, 'cameo': 1279, 'pari': 1280, 'fellow': 1281, 'strike': 1282, 'absurd': 1283, 'rise': 1284, 'independ': 1285, 'brief': 1286, 'neg': 1287, 'phone': 1288, 'impact': 1289, 'model': 1290, 'born': 1291, 'ill': 1292, 'spoil': 1293, 'angl': 1294, 'fresh': 1295, 'likabl': 1296, 'abus': 1297, 'discuss': 1298, 'hill': 1299, 'ahead': 1300, 'sight': 1301, 'photograph': 1302, 'sent': 1303, 'logic': 1304, 'occur': 1305, 'blame': 1306, 'shine': 1307, 'mainli': 1308, 'bruce': 1309, 'commerci': 1310, 'skip': 1311, 'forev': 1312, 'surround': 1313, 'teacher': 1314, 'held': 1315, 'segment': 1316, 'zero': 1317, 'blond': 1318, 'trap': 1319, 'resembl': 1320, 'summer': 1321, 'satir': 1322, 'fool': 1323, 'six': 1324, 'ball': 1325, 'queen': 1326, 'sub': 1327, 'twice': 1328, 'tragedi': 1329, 'reaction': 1330, 'pack': 1331, 'bomb': 1332, 'hospit': 1333, 'protagonist': 1334, 'will': 1335, 'mile': 1336, 'sport': 1337, 'mom': 1338, 'drink': 1339, 'jerri': 1340, 'vote': 1341, 'trust': 1342, 'encount': 1343, 'plane': 1344, 'current': 1345, 'program': 1346, 'station': 1347, 'al': 1348, 'celebr': 1349, 'choos': 1350, 'martin': 1351, 'join': 1352, 'field': 1353, 'round': 1354, 'lord': 1355, 'favourit': 1356, 'tragic': 1357, 'robot': 1358, 'jean': 1359, 'vision': 1360, 'arthur': 1361, 'tie': 1362, 'random': 1363, 'fortun': 1364, 'roger': 1365, 'psycholog': 1366, 'intern': 1367, 'dread': 1368, 'nonsens': 1369, 'prefer': 1370, 'epic': 1371, 'improv': 1372, 'highlight': 1373, 'legend': 1374, 'pleasur': 1375, 'formula': 1376, 'dollar': 1377, 'tape': 1378, '11': 1379, 'wide': 1380, 'gorgeou': 1381, 'object': 1382, 'fox': 1383, 'thin': 1384, 'porn': 1385, 'ugli': 1386, 'buddi': 1387, 'influenc': 1388, 'prepar': 1389, 'nasti': 1390, 'ii': 1391, 'reflect': 1392, 'supposedli': 1393, 'progress': 1394, 'warm': 1395, 'worthi': 1396, 'youth': 1397, 'unusu': 1398, 'latter': 1399, 'length': 1400, 'crash': 1401, 'seven': 1402, 'childhood': 1403, 'shop': 1404, 'superior': 1405, 'theatr': 1406, 'remot': 1407, 'funniest': 1408, 'paid': 1409, 'pilot': 1410, 'disgust': 1411, 'convers': 1412, 'fell': 1413, 'trick': 1414, 'castl': 1415, 'gangster': 1416, 'disast': 1417, 'establish': 1418, 'rob': 1419, 'ident': 1420, 'heaven': 1421, 'disappear': 1422, 'mine': 1423, 'suicid': 1424, 'tend': 1425, 'mask': 1426, 'singer': 1427, 'forgotten': 1428, 'decis': 1429, 'heroin': 1430, 'partner': 1431, 'brian': 1432, 'alan': 1433, 'recogn': 1434, 'desert': 1435, 'sky': 1436, 'p': 1437, 'stuck': 1438, 'ms': 1439, 'thoroughli': 1440, 'replac': 1441, 'accur': 1442, 'market': 1443, 'danni': 1444, 'commentari': 1445, 'seemingli': 1446, 'eddi': 1447, 'clue': 1448, 'uncl': 1449, 'andi': 1450, 'jackson': 1451, 'devil': 1452, 'pair': 1453, 'that': 1454, 'therefor': 1455, 'refus': 1456, 'unit': 1457, 'river': 1458, 'accid': 1459, 'fault': 1460, 'fate': 1461, 'ed': 1462, 'afraid': 1463, 'tune': 1464, 'stephen': 1465, 'hidden': 1466, 'russian': 1467, 'clean': 1468, 'captain': 1469, 'test': 1470, 'irrit': 1471, 'instanc': 1472, 'convey': 1473, 'quick': 1474, 'readi': 1475, 'european': 1476, 'insan': 1477, 'frustrat': 1478, 'daniel': 1479, '1950': 1480, 'rescu': 1481, 'wed': 1482, 'chines': 1483, 'food': 1484, 'lock': 1485, 'dirti': 1486, 'angri': 1487, 'joy': 1488, 'steven': 1489, 'price': 1490, 'bland': 1491, 'cage': 1492, 'anymor': 1493, 'rang': 1494, 'wooden': 1495, 'jason': 1496, 'rush': 1497, 'news': 1498, 'n': 1499, 'led': 1500, 'martial': 1501, 'board': 1502, '12': 1503, 'worri': 1504, 'twenti': 1505, 'hunter': 1506, 'cgi': 1507, 'symbol': 1508, 'transform': 1509, 'x': 1510, 'sentiment': 1511, 'johnni': 1512, 'piti': 1513, 'invent': 1514, 'onto': 1515, 'process': 1516, 'attitud': 1517, 'explan': 1518, 'owner': 1519, 'awar': 1520, 'aim': 1521, 'target': 1522, 'necessari': 1523, 'floor': 1524, 'favor': 1525, 'energi': 1526, 'opposit': 1527, 'religi': 1528, 'chick': 1529, 'blind': 1530, 'window': 1531, 'insight': 1532, 'movement': 1533, 'possess': 1534, 'deepli': 1535, 'mountain': 1536, 'comparison': 1537, 'research': 1538, 'whatsoev': 1539, 'rain': 1540, 'grand': 1541, 'comed': 1542, 'mid': 1543, 'began': 1544, 'bank': 1545, 'shadow': 1546, 'parodi': 1547, 'princ': 1548, 'weapon': 1549, 'credibl': 1550, 'taylor': 1551, 'pre': 1552, 'friendship': 1553, 'teach': 1554, 'dougla': 1555, 'flesh': 1556, 'terror': 1557, 'hint': 1558, 'protect': 1559, 'bloodi': 1560, 'marvel': 1561, 'watchabl': 1562, 'load': 1563, 'accord': 1564, 'superman': 1565, 'drunk': 1566, 'anybodi': 1567, 'leader': 1568, 'brown': 1569, 'freddi': 1570, 'appropri': 1571, 'jeff': 1572, 'hitler': 1573, 'seat': 1574, 'tim': 1575, 'unknown': 1576, 'villag': 1577, 'charg': 1578, 'knock': 1579, 'keaton': 1580, 'england': 1581, 'enemi': 1582, 'empti': 1583, 'media': 1584, 'unnecessari': 1585, 'wave': 1586, 'utter': 1587, 'strength': 1588, 'dare': 1589, 'buck': 1590, 'craft': 1591, 'perspect': 1592, 'ford': 1593, 'kiss': 1594, 'correct': 1595, 'nativ': 1596, 'contrast': 1597, 'chill': 1598, 'distract': 1599, 'speed': 1600, 'nazi': 1601, 'anywher': 1602, 'knowledg': 1603, 'magnific': 1604, 'soap': 1605, 'fred': 1606, 'breath': 1607, '1980': 1608, 'mission': 1609, 'ice': 1610, 'joan': 1611, 'crowd': 1612, 'moon': 1613, 'jr': 1614, 'kate': 1615, '000': 1616, 'frighten': 1617, 'soft': 1618, 'dan': 1619, 'nick': 1620, 'dick': 1621, 'hundr': 1622, 'somebodi': 1623, 'dozen': 1624, 'radio': 1625, 'simon': 1626, 'loss': 1627, 'academi': 1628, 'andrew': 1629, 'thousand': 1630, 'shakespear': 1631, 'sum': 1632, 'vehicl': 1633, 'root': 1634, 'account': 1635, 'quot': 1636, '1970': 1637, 'convent': 1638, 'leg': 1639, 'behavior': 1640, 'regular': 1641, 'gold': 1642, 'compet': 1643, 'pretenti': 1644, 'demand': 1645, 'worker': 1646, 'lynch': 1647, 'privat': 1648, 'stretch': 1649, 'explos': 1650, 'interpret': 1651, 'japan': 1652, 'notabl': 1653, 'candi': 1654, 'constant': 1655, 'debut': 1656, 'tarzan': 1657, 'translat': 1658, 'sea': 1659, 'revolv': 1660, 'prais': 1661, 'spi': 1662, 'jesu': 1663, 'franc': 1664, 'quiet': 1665, 'sat': 1666, 'technolog': 1667, 'failur': 1668, 'threaten': 1669, 'ass': 1670, 'met': 1671, 'toy': 1672, 'punch': 1673, 'higher': 1674, 'aid': 1675, 'kevin': 1676, 'vh': 1677, 'abandon': 1678, 'interact': 1679, 'mike': 1680, 'bet': 1681, 'confront': 1682, 'command': 1683, 'separ': 1684, 'servic': 1685, 'belong': 1686, 'stunt': 1687, 'techniqu': 1688, 'site': 1689, 'gotten': 1690, 'recal': 1691, 'cabl': 1692, 'foot': 1693, 'freak': 1694, 'bug': 1695, 'african': 1696, 'jimmi': 1697, 'fu': 1698, 'capabl': 1699, 'bright': 1700, 'clark': 1701, 'succeed': 1702, 'fat': 1703, 'boat': 1704, 'stock': 1705, 'presid': 1706, 'spanish': 1707, 'gene': 1708, 'structur': 1709, 'kidnap': 1710, 'paper': 1711, 'belief': 1712, 'whilst': 1713, 'factor': 1714, 'complic': 1715, 'attend': 1716, 'bob': 1717, 'realism': 1718, 'realis': 1719, 'educ': 1720, 'witti': 1721, 'tree': 1722, 'broken': 1723, 'finest': 1724, 'assist': 1725, 'santa': 1726, 'depart': 1727, 'v': 1728, 'observ': 1729, 'determin': 1730, 'up': 1731, 'smoke': 1732, 'hat': 1733, 'lewi': 1734, 'domin': 1735, 'fame': 1736, 'rubbish': 1737, 'routin': 1738, 'oper': 1739, 'kinda': 1740, 'safe': 1741, 'lone': 1742, 'morgan': 1743, 'hook': 1744, 'foreign': 1745, 'advanc': 1746, 'rank': 1747, 'numer': 1748, 'rose': 1749, 'vs': 1750, 'shape': 1751, 'civil': 1752, 'washington': 1753, 'shallow': 1754, 'werewolf': 1755, 'morn': 1756, 'gari': 1757, 'accomplish': 1758, 'kong': 1759, 'ordinari': 1760, 'winner': 1761, 'grab': 1762, 'whenev': 1763, 'virtual': 1764, 'peac': 1765, 'offens': 1766, 'luck': 1767, 'h': 1768, 'bigger': 1769, 'complain': 1770, 'welcom': 1771, 'contriv': 1772, 'activ': 1773, 'unfunni': 1774, 'patient': 1775, 'dimension': 1776, 'con': 1777, 'pretend': 1778, 'trek': 1779, 'wake': 1780, 'flash': 1781, 'eric': 1782, 'cain': 1783, 'dri': 1784, 'code': 1785, 'lesbian': 1786, 'corrupt': 1787, 'guard': 1788, 'statu': 1789, 'dancer': 1790, 'manipul': 1791, 'albert': 1792, 'gain': 1793, 'sourc': 1794, 'signific': 1795, 'context': 1796, 'awkward': 1797, 'speech': 1798, 'sean': 1799, 'psycho': 1800, 'anthoni': 1801, 'corni': 1802, '13': 1803, 'clip': 1804, 'w': 1805, 'theatric': 1806, 'religion': 1807, 'advic': 1808, 'reli': 1809, 'priest': 1810, 'curiou': 1811, 'flow': 1812, 'addict': 1813, 'secur': 1814, 'jennif': 1815, 'skin': 1816, 'specif': 1817, 'howard': 1818, 'asian': 1819, 'promot': 1820, 'golden': 1821, 'comfort': 1822, 'organ': 1823, 'core': 1824, 'luke': 1825, 'cheat': 1826, 'lucki': 1827, 'cash': 1828, 'lower': 1829, 'associ': 1830, 'dislik': 1831, 'contribut': 1832, 'frequent': 1833, 'frankli': 1834, 'devic': 1835, 'regret': 1836, 'spell': 1837, 'balanc': 1838, 'degre': 1839, 'wing': 1840, 'sake': 1841, 'print': 1842, 'forgiv': 1843, 'lake': 1844, 'mass': 1845, 'thoma': 1846, 'betti': 1847, 'unexpect': 1848, 'crack': 1849, 'gordon': 1850, 'grown': 1851, 'categori': 1852, 'invit': 1853, 'construct': 1854, 'unfold': 1855, 'depend': 1856, 'amateur': 1857, 'anna': 1858, 'grew': 1859, 'walter': 1860, 'honor': 1861, 'intellectu': 1862, 'matur': 1863, 'condit': 1864, 'spectacular': 1865, 'veteran': 1866, 'sudden': 1867, 'sole': 1868, 'mirror': 1869, 'grip': 1870, 'gift': 1871, 'experienc': 1872, 'overli': 1873, 'demonstr': 1874, 'robin': 1875, 'card': 1876, 'freedom': 1877, 'meanwhil': 1878, 'liner': 1879, 'circumst': 1880, 'subtitl': 1881, 'oliv': 1882, 'drew': 1883, 'colour': 1884, 'theori': 1885, 'sheriff': 1886, 'brilliantli': 1887, 'section': 1888, 'crappi': 1889, 'unabl': 1890, 'laughter': 1891, 'altern': 1892, 'cook': 1893, 'matt': 1894, 'pile': 1895, 'sheer': 1896, 'path': 1897, 'parker': 1898, 'accident': 1899, 'defin': 1900, 'wander': 1901, 'relief': 1902, 'treatment': 1903, 'lawyer': 1904, 'hall': 1905, 'sinatra': 1906, 'dragon': 1907, 'captiv': 1908, 'hank': 1909, 'gratuit': 1910, 'moor': 1911, 'halloween': 1912, 'cowboy': 1913, 'unintent': 1914, 'k': 1915, 'kung': 1916, 'wayn': 1917, 'barbara': 1918, 'wound': 1919, 'broadway': 1920, 'jacki': 1921, 'spoof': 1922, 'winter': 1923, 'surreal': 1924, 'canadian': 1925, 'statement': 1926, 'compos': 1927, 'fare': 1928, 'fish': 1929, 'gonna': 1930, 'treasur': 1931, 'cheer': 1932, 'emerg': 1933, 'victor': 1934, 'unrealist': 1935, 'sensit': 1936, 'woodi': 1937, 'ran': 1938, 'driven': 1939, 'sympathet': 1940, 'neighbor': 1941, 'topic': 1942, 'expos': 1943, 'overlook': 1944, 'authent': 1945, 'menac': 1946, 'glass': 1947, 'gross': 1948, 'chief': 1949, 'michel': 1950, 'ancient': 1951, 'handsom': 1952, 'built': 1953, 'stranger': 1954, 'pleasant': 1955, 'nevertheless': 1956, 'feet': 1957, 'cinderella': 1958, 'network': 1959, 'contemporari': 1960, 'comedian': 1961, 'russel': 1962, 'blockbust': 1963, 'letter': 1964, 'gori': 1965, 'miser': 1966, 'consider': 1967, 'earn': 1968, 'underr': 1969, 'endless': 1970, 'solv': 1971, 'brook': 1972, 'switch': 1973, 'convict': 1974, 'edward': 1975, 'victoria': 1976, 'bullet': 1977, 'joseph': 1978, 'virgin': 1979, 'scenario': 1980, 'alex': 1981, 'chosen': 1982, 'cynic': 1983, 'scale': 1984, '0': 1985, 'com': 1986, 'sword': 1987, 'gut': 1988, 'outrag': 1989, 'curs': 1990, 'screenwrit': 1991, 'proper': 1992, 'substanc': 1993, 'monkey': 1994, 'juli': 1995, 'wrap': 1996, 'uk': 1997, 'driver': 1998, 'par': 1999, 'indic': 2000, 'bird': 2001, 'remov': 2002, 'court': 2003, 'inevit': 2004, 'nanci': 2005, 'grave': 2006, 'roy': 2007, 'loser': 2008, 'consequ': 2009, 'naiv': 2010, 'advertis': 2011, 'rental': 2012, 'invis': 2013, 'bridg': 2014, 'slap': 2015, 'fatal': 2016, 'brave': 2017, 'germani': 2018, 'le': 2019, 'ador': 2020, 'anger': 2021, 'footbal': 2022, 'provok': 2023, 'loui': 2024, 'anderson': 2025, 'alcohol': 2026, 'chan': 2027, 'professor': 2028, 'willi': 2029, 'ryan': 2030, 'stumbl': 2031, 'bat': 2032, 'sharp': 2033, '1930': 2034, 'patrick': 2035, 'assassin': 2036, 'australian': 2037, 'liber': 2038, 'cell': 2039, 'eight': 2040, 'heck': 2041, 'strongli': 2042, 'lousi': 2043, 'saturday': 2044, 'trilog': 2045, 'refresh': 2046, 'amateurish': 2047, 'ape': 2048, 'deni': 2049, 'sin': 2050, 'resid': 2051, 'vagu': 2052, 'san': 2053, 'justifi': 2054, 'sympathi': 2055, 'terrifi': 2056, 'creator': 2057, 'reput': 2058, 'defeat': 2059, 'mini': 2060, 'indi': 2061, 'endur': 2062, 'tabl': 2063, 'prevent': 2064, 'expert': 2065, 'task': 2066, 'tediou': 2067, 'trial': 2068, 'imit': 2069, 'employ': 2070, 'rival': 2071, 'offend': 2072, 'che': 2073, 'basebal': 2074, 'dig': 2075, 'beach': 2076, 'complaint': 2077, 'europ': 2078, 'pitch': 2079, 'fairi': 2080, 'weekend': 2081, 'max': 2082, 'purchas': 2083, 'risk': 2084, 'murphi': 2085, 'format': 2086, 'nois': 2087, 'tini': 2088, 'bite': 2089, 'glimps': 2090, 'hype': 2091, 'harsh': 2092, 'titan': 2093, 'powel': 2094, 'reminisc': 2095, 'prime': 2096, '14': 2097, 'fals': 2098, 'asleep': 2099, 'north': 2100, 'till': 2101, 'strip': 2102, 'destruct': 2103, 'revel': 2104, 'texa': 2105, 'descript': 2106, 'africa': 2107, 'arrest': 2108, 'surfac': 2109, 'inner': 2110, 'spin': 2111, 'semi': 2112, 'sitcom': 2113, 'excess': 2114, 'uninterest': 2115, 'argu': 2116, 'controversi': 2117, 'dinosaur': 2118, 'makeup': 2119, 'twin': 2120, 'maintain': 2121, 'hitchcock': 2122, 'massiv': 2123, 'kim': 2124, 'ludicr': 2125, 'melodrama': 2126, 'insist': 2127, 'reject': 2128, 'ideal': 2129, 'stare': 2130, 'expens': 2131, 'forest': 2132, 'atroci': 2133, 'subplot': 2134, 'host': 2135, 'nail': 2136, 'press': 2137, 'erot': 2138, 'columbo': 2139, 'ala': 2140, 'supernatur': 2141, 'ga': 2142, 'notch': 2143, 'cant': 2144, 'identifi': 2145, 'presum': 2146, 'dude': 2147, 'character': 2148, 'plagu': 2149, 'guest': 2150, 'closer': 2151, 'crude': 2152, 'forgett': 2153, 'method': 2154, 'ear': 2155, 'princess': 2156, 'landscap': 2157, 'foster': 2158, 'beast': 2159, 'border': 2160, 'lion': 2161, 'aunt': 2162, 'jungl': 2163, 'urban': 2164, 'birth': 2165, 'pacino': 2166, 'accus': 2167, 'previous': 2168, 'bound': 2169, 'storytel': 2170, 'damag': 2171, 'chose': 2172, 'emma': 2173, 'propaganda': 2174, 'thirti': 2175, 'jess': 2176, 'guid': 2177, 'doll': 2178, 'nude': 2179, 'mainstream': 2180, '25': 2181, 'whoever': 2182, 'pet': 2183, 'mate': 2184, 'warrior': 2185, 'upset': 2186, 'exact': 2187, 'deadli': 2188, 'friday': 2189, 'gritti': 2190, 'cooper': 2191, 'merit': 2192, 'size': 2193, 'latest': 2194, 'poster': 2195, 'contact': 2196, 'sun': 2197, 'popul': 2198, 'rough': 2199, 'ton': 2200, 'corps': 2201, 'blend': 2202, 'citizen': 2203, 'wilson': 2204, 'buff': 2205, '1990': 2206, 'settl': 2207, 'warner': 2208, 'contest': 2209, 'rat': 2210, 'overcom': 2211, 'alic': 2212, 'metal': 2213, 'environ': 2214, 'widow': 2215, 'bu': 2216, 'pitt': 2217, 'select': 2218, 'mgm': 2219, 'ted': 2220, 'link': 2221, 'particip': 2222, 'guilti': 2223, 'revolut': 2224, 'lift': 2225, 'matrix': 2226, 'johnson': 2227, 'moron': 2228, 'corpor': 2229, 'accompani': 2230, 'prostitut': 2231, 'corner': 2232, '1960': 2233, 'exagger': 2234, 'afternoon': 2235, 'friendli': 2236, 'holm': 2237, 'instal': 2238, 'hood': 2239, 'sincer': 2240, 'multipl': 2241, 'doom': 2242, 'clair': 2243, 'leagu': 2244, 'grim': 2245, 'aka': 2246, 'hip': 2247, 'defend': 2248, 'blah': 2249, 'advis': 2250, 'campi': 2251, 'sunday': 2252, 'string': 2253, 'irish': 2254, 'junk': 2255, 'examin': 2256, 'lugosi': 2257, 'shut': 2258, 'icon': 2259, 'rachel': 2260, 'pro': 2261, 'varieti': 2262, 'tight': 2263, 'confid': 2264, 'shake': 2265, 'directli': 2266, 'sullivan': 2267, 'goal': 2268, 'jaw': 2269, 'medic': 2270, 'attach': 2271, 'mexican': 2272, 'denni': 2273, 'sentenc': 2274, 'truck': 2275, 'terrorist': 2276, 'vietnam': 2277, 'dean': 2278, 'bourn': 2279, 'sarah': 2280, 'breast': 2281, 'courag': 2282, 'prior': 2283, 'duke': 2284, 'legendari': 2285, 'hong': 2286, 'split': 2287, 'yell': 2288, 'behav': 2289, 'proceed': 2290, 'entri': 2291, 'un': 2292, 'nose': 2293, 'donald': 2294, 'confess': 2295, 'gather': 2296, 'borrow': 2297, 'everywher': 2298, 'swim': 2299, 'crush': 2300, 'concentr': 2301, 'buri': 2302, 'jerk': 2303, 'stolen': 2304, 'lifetim': 2305, 'unconvinc': 2306, 'forth': 2307, 'spite': 2308, 'lip': 2309, 'deliveri': 2310, 'julia': 2311, 'turkey': 2312, 'california': 2313, 'pan': 2314, 'proud': 2315, 'freeman': 2316, 'flight': 2317, 'reward': 2318, 'china': 2319, 'hoffman': 2320, 'quest': 2321, 'offici': 2322, 'downright': 2323, 'notori': 2324, 'inept': 2325, 'jail': 2326, 'jon': 2327, 'fabul': 2328, 'fade': 2329, 'lazi': 2330, 'worthwhil': 2331, 'sir': 2332, 'sink': 2333, 'encourag': 2334, 'betray': 2335, 'lisa': 2336, 'cousin': 2337, 'imageri': 2338, 'bell': 2339, 'shower': 2340, 'retard': 2341, 'storm': 2342, 'susan': 2343, 'survivor': 2344, 'teeth': 2345, 'relev': 2346, 'bag': 2347, 'branagh': 2348, 'stab': 2349, 'alright': 2350, 'tremend': 2351, 'hugh': 2352, 'trade': 2353, 'summari': 2354, 'shark': 2355, 'mexico': 2356, 'facial': 2357, 'quirki': 2358, 'finger': 2359, 'toler': 2360, 'bride': 2361, 'bitter': 2362, 'hyster': 2363, 'ha': 2364, 'pose': 2365, 'blown': 2366, 'von': 2367, 'afterward': 2368, 'ned': 2369, 'cruel': 2370, 'address': 2371, 'christ': 2372, 'scheme': 2373, 'ron': 2374, 'larri': 2375, 'bone': 2376, 'distinct': 2377, 'screw': 2378, 'swear': 2379, 'pursu': 2380, 'feed': 2381, 'snake': 2382, 'traci': 2383, 'beg': 2384, 'tour': 2385, 'thumb': 2386, 'raw': 2387, 'chair': 2388, 'occas': 2389, 'mechan': 2390, 'obscur': 2391, 'photo': 2392, 'stomach': 2393, 'resist': 2394, 'gruesom': 2395, 'heavili': 2396, 'holiday': 2397, 'southern': 2398, 'argument': 2399, 'render': 2400, 'cabin': 2401, 'necessarili': 2402, 'hardi': 2403, 'chain': 2404, 'sidney': 2405, 'racist': 2406, 'satan': 2407, 'understood': 2408, 'india': 2409, 'philip': 2410, 'indulg': 2411, 'stalk': 2412, 'lay': 2413, 'tongu': 2414, 'midnight': 2415, 'fourth': 2416, 'pregnant': 2417, 'outfit': 2418, 'obnoxi': 2419, 'forgot': 2420, 'belov': 2421, 'integr': 2422, 'inhabit': 2423, '17': 2424, 'restor': 2425, 'ticket': 2426, 'garden': 2427, 'slapstick': 2428, 'deeper': 2429, 'carol': 2430, 'magazin': 2431, 'incid': 2432, 'devot': 2433, 'shoe': 2434, 'brad': 2435, 'lincoln': 2436, 'underground': 2437, 'lili': 2438, 'benefit': 2439, 'divorc': 2440, 'sandler': 2441, 'anticip': 2442, 'maria': 2443, 'guarante': 2444, 'disbelief': 2445, 'elizabeth': 2446, 'explod': 2447, 'amazingli': 2448, 'princip': 2449, 'cring': 2450, 'creation': 2451, 'bbc': 2452, 'greater': 2453, 'slave': 2454, 'capit': 2455, 'mildli': 2456, 'funnier': 2457, 'lesli': 2458, 'introduct': 2459, 'halfway': 2460, 'extraordinari': 2461, 'punish': 2462, 'tap': 2463, 'enhanc': 2464, 'transfer': 2465, 'text': 2466, 'overwhelm': 2467, 'extent': 2468, 'advantag': 2469, 'wreck': 2470, 'horrif': 2471, 'jessica': 2472, 'deliber': 2473, 'east': 2474, 'preview': 2475, 'plant': 2476, 'lo': 2477, 'error': 2478, 'dynam': 2479, 'lane': 2480, 'miscast': 2481, 'basi': 2482, 'ensu': 2483, 'vacat': 2484, 'sophist': 2485, 'miller': 2486, '2000': 2487, 'appli': 2488, 'homosexu': 2489, 'vincent': 2490, 'steel': 2491, 'reed': 2492, 'sleazi': 2493, 'spoken': 2494, 'elev': 2495, 'extend': 2496, 'mansion': 2497, 'via': 2498, 'uncomfort': 2499, 'bollywood': 2500, 'measur': 2501, 'blair': 2502, 'assign': 2503, 'stanley': 2504, 'goofi': 2505, 'melt': 2506, 'breathtak': 2507, 'beer': 2508, 'savag': 2509, 'fix': 2510, 'hippi': 2511, 'mous': 2512, 'dentist': 2513, 'daili': 2514, 'overact': 2515, 'conceiv': 2516, 'cathol': 2517, 'alter': 2518, 'nowaday': 2519, 'inspector': 2520, 'burt': 2521, 'everyday': 2522, 'succe': 2523, 'subsequ': 2524, 'sacrific': 2525, 'properli': 2526, 'oppos': 2527, 'carpent': 2528, 'block': 2529, 'neck': 2530, 'massacr': 2531, 'laura': 2532, 'circl': 2533, 'mob': 2534, 'seagal': 2535, 'pool': 2536, 'fay': 2537, 'lesser': 2538, 'fallen': 2539, 'portrait': 2540, 'access': 2541, 'grey': 2542, 'concert': 2543, 'christi': 2544, 'competit': 2545, 'react': 2546, 'usa': 2547, 'chees': 2548, 'sinist': 2549, 'isol': 2550, 'jewish': 2551, 'relax': 2552, 'jake': 2553, 'immens': 2554, 'stink': 2555, 'ironi': 2556, 'appal': 2557, 'nine': 2558, 'lyric': 2559, 'creep': 2560, 'suitabl': 2561, 'chop': 2562, 'spiritu': 2563, '2006': 2564, 'nonetheless': 2565, 'rage': 2566, 'showcas': 2567, 'sold': 2568, 'franchis': 2569, 'user': 2570, 'navi': 2571, 'nut': 2572, 'spring': 2573, 'retir': 2574, 'needless': 2575, 'luci': 2576, 'adopt': 2577, 'shirt': 2578, 'reduc': 2579, 'nurs': 2580, 'uninspir': 2581, 'digit': 2582, 'zone': 2583, 'stanwyck': 2584, 'bath': 2585, 'per': 2586, 'asham': 2587, 'bulli': 2588, 'jay': 2589, 'laid': 2590, '1940': 2591, 'illustr': 2592, '2001': 2593, 'upper': 2594, 'oddli': 2595, 'amongst': 2596, 'broadcast': 2597, 'sutherland': 2598, 'stylish': 2599, 'disguis': 2600, 'throat': 2601, 'brando': 2602, 'aspir': 2603, 'baker': 2604, 'fulfil': 2605, 'wanna': 2606, 'impli': 2607, '18': 2608, 'thief': 2609, 'neighborhood': 2610, 'pound': 2611, 'nobl': 2612, 'wwii': 2613, 'em': 2614, 'pride': 2615, 'endear': 2616, 'shift': 2617, 'cinematograph': 2618, 'distribut': 2619, 'dawn': 2620, 'shoulder': 2621, 'dinner': 2622, 'coher': 2623, 'diseas': 2624, 'albeit': 2625, 'prop': 2626, 'bo': 2627, 'rochest': 2628, '16': 2629, 'bett': 2630, 'tens': 2631, 'surf': 2632, 'contract': 2633, 'forti': 2634, 'wash': 2635, 'snow': 2636, 'matthau': 2637, 'knife': 2638, 'silenc': 2639, 'shout': 2640, 'rebel': 2641, 'poignant': 2642, 'function': 2643, 'proof': 2644, 'reunion': 2645, 'mindless': 2646, 'widmark': 2647, 'instinct': 2648, 'height': 2649, 'eeri': 2650, 'henc': 2651, 'heat': 2652, 'cancel': 2653, 'cannib': 2654, 'chuck': 2655, 'derek': 2656, 'internet': 2657, 'horrend': 2658, 'duti': 2659, 'silver': 2660, 'elvira': 2661, 'spielberg': 2662, 'innov': 2663, 'musician': 2664, 'elvi': 2665, 'etern': 2666, 'glori': 2667, 'mill': 2668, 'torn': 2669, 'alik': 2670, 'incoher': 2671, 'absorb': 2672, 'repetit': 2673, 'neat': 2674, 'greatli': 2675, 'pie': 2676, 'premier': 2677, 'infam': 2678, 'bang': 2679, 'precis': 2680, 'horrifi': 2681, 'lovabl': 2682, 'trite': 2683, 'fbi': 2684, 'nelson': 2685, 'itali': 2686, 'redempt': 2687, 'homag': 2688, 'britain': 2689, 'wealthi': 2690, 'diamond': 2691, 'racism': 2692, 'blank': 2693, 'burton': 2694, 'crisi': 2695, 'announc': 2696, 'happili': 2697, 'resolut': 2698, 'parallel': 2699, 'chaplin': 2700, 'wilder': 2701, 'dedic': 2702, 'ensembl': 2703, 'flop': 2704, 'streisand': 2705, 'hammer': 2706, 'pat': 2707, 'helen': 2708, 'factori': 2709, 'oil': 2710, 'conclud': 2711, 'plastic': 2712, 'broke': 2713, 'mar': 2714, 'disagre': 2715, 'triumph': 2716, 'carter': 2717, 'st': 2718, 'cube': 2719, 'own': 2720, 'fighter': 2721, 'climb': 2722, 'row': 2723, 'chuckl': 2724, 'rocket': 2725, 'march': 2726, 'weight': 2727, 'vega': 2728, 'bush': 2729, 'lust': 2730, 'wherea': 2731, 'thug': 2732, 'dane': 2733, 'enorm': 2734, 'mst3k': 2735, 'unforgett': 2736, 'boot': 2737, 'meaning': 2738, 'kurt': 2739, 'sensibl': 2740, 'dump': 2741, 'luca': 2742, 'spare': 2743, 'bobbi': 2744, 'engin': 2745, 'difficulti': 2746, 'butt': 2747, 'dear': 2748, 'arnold': 2749, 'threat': 2750, 'adequ': 2751, 'fifti': 2752, 'caricatur': 2753, 'brand': 2754, 'stress': 2755, 'rap': 2756, 'karloff': 2757, 'arrog': 2758, 'flynn': 2759, 'journalist': 2760, 'polish': 2761, 'fest': 2762, 'secretari': 2763, 'elabor': 2764, 'homeless': 2765, 'hamlet': 2766, 'barri': 2767, 'ralph': 2768, 'ego': 2769, 'swing': 2770, 'float': 2771, 'unbear': 2772, 'tool': 2773, 'resort': 2774, 'arrang': 2775, 'fanci': 2776, 'simpson': 2777, 'grate': 2778, 'conspiraci': 2779, 'induc': 2780, 'puppet': 2781, 'spike': 2782, 'cruis': 2783, 'choreograph': 2784, 'basement': 2785, 'pig': 2786, 'guilt': 2787, 'tribut': 2788, 'phillip': 2789, 'exercis': 2790, 'muppet': 2791, 'boll': 2792, 'file': 2793, 'editor': 2794, 'tower': 2795, 'stan': 2796, 'ward': 2797, 'scarecrow': 2798, '24': 2799, 'fianc': 2800, 'medium': 2801, 'puzzl': 2802, 'layer': 2803, 'ham': 2804, 'babe': 2805, 'korean': 2806, 'slip': 2807, 'toilet': 2808, 'document': 2809, 'item': 2810, 'glover': 2811, 'superfici': 2812, 'transit': 2813, 'doc': 2814, 'territori': 2815, 'librari': 2816, 'assur': 2817, 'larger': 2818, 'philosoph': 2819, 'minim': 2820, 'portion': 2821, 'persona': 2822, 'orient': 2823, 'denzel': 2824, 'spark': 2825, 'inexplic': 2826, 'slaughter': 2827, 'catherin': 2828, 'curti': 2829, 'owe': 2830, 'financi': 2831, 'wolf': 2832, 'dorothi': 2833, 'boredom': 2834, 'shi': 2835, 'sneak': 2836, 'pg': 2837, 'jet': 2838, 'jeremi': 2839, 'ban': 2840, 'walken': 2841, 'whale': 2842, 'hudson': 2843, 'metaphor': 2844, 'profound': 2845, 'ambigu': 2846, 'backdrop': 2847, 'eleph': 2848, 'multi': 2849, 'cusack': 2850, '2005': 2851, 'birthday': 2852, 'viru': 2853, 'hack': 2854, 'rave': 2855, 'stiff': 2856, 'notion': 2857, 'ultra': 2858, 'union': 2859, 'implaus': 2860, 'gadget': 2861, 'elsewher': 2862, 'eastwood': 2863, 'distanc': 2864, 'disc': 2865, 'hawk': 2866, 'deriv': 2867, 'pad': 2868, 'superhero': 2869, 'afford': 2870, 'squar': 2871, 'reader': 2872, 'newspap': 2873, 'poison': 2874, '1st': 2875, 'lloyd': 2876, 'urg': 2877, 'canada': 2878, 'bibl': 2879, 'slight': 2880, 'eva': 2881, 'sadist': 2882, 'montag': 2883, 'button': 2884, 'health': 2885, 'spread': 2886, 'charisma': 2887, 'cure': 2888, 'huh': 2889, 'skit': 2890, 'drown': 2891, 'essenc': 2892, 'restaur': 2893, 'heston': 2894, 'peak': 2895, 'lab': 2896, 'godfath': 2897, 'companion': 2898, 'maniac': 2899, 'invest': 2900, 'gradual': 2901, 'fetch': 2902, 'dealt': 2903, 'muslim': 2904, 'estat': 2905, 'scoobi': 2906, 'subtleti': 2907, 'tea': 2908, 'cup': 2909, 'kane': 2910, 'countless': 2911, 'ritter': 2912, 'servant': 2913, 'alli': 2914, 'gothic': 2915, 'miik': 2916, 'charismat': 2917, 'iii': 2918, 'briefli': 2919, 'heroic': 2920, 'electr': 2921, 'elect': 2922, 'salli': 2923, 'wannab': 2924, 'grandmoth': 2925, 'toss': 2926, 'bud': 2927, 'cole': 2928, 'reel': 2929, 'resourc': 2930, 'nuanc': 2931, 'admittedli': 2932, 'ingredi': 2933, 'tender': 2934, 'neil': 2935, 'kubrick': 2936, 'pauli': 2937, 'reev': 2938, 'mafia': 2939, 'carrey': 2940, 'label': 2941, 'gate': 2942, 'poverti': 2943, 'stronger': 2944, 'punk': 2945, 'pit': 2946, 'stood': 2947, 'shall': 2948, 'dawson': 2949, 'mild': 2950, 'ian': 2951, 'useless': 2952, 'cox': 2953, 'tag': 2954, 'terri': 2955, 'easier': 2956, 'smooth': 2957, 'burst': 2958, 'updat': 2959, 'cardboard': 2960, 'assault': 2961, 'fond': 2962, 'outcom': 2963, 'astair': 2964, 'bakshi': 2965, 'smash': 2966, 'coincid': 2967, 'increasingli': 2968, '2002': 2969, 'rex': 2970, 'samurai': 2971, 'fist': 2972, 'melodramat': 2973, 'divers': 2974, 'vari': 2975, 'vulner': 2976, 'sketch': 2977, 'resolv': 2978, 'qualifi': 2979, 'exchang': 2980, 'insert': 2981, 'blast': 2982, 'templ': 2983, 'conveni': 2984, 'be': 2985, 'reynold': 2986, 'scratch': 2987, 'brillianc': 2988, 'suspend': 2989, 'tame': 2990, 'luckili': 2991, 'nuclear': 2992, 'gotta': 2993, 'walker': 2994, 'ambiti': 2995, 'farm': 2996, 'meat': 2997, 'fisher': 2998, 'coach': 2999, 'strictli': 3000, 'seventi': 3001, 'pin': 3002, 'soprano': 3003, 'hamilton': 3004, 'matthew': 3005, 'jami': 3006, 'butcher': 3007, 'struck': 3008, 'convolut': 3009, 'cave': 3010, 'spooki': 3011, 'clock': 3012, 'timeless': 3013, 'empir': 3014, 'instantli': 3015, 'revers': 3016, 'joey': 3017, 'kudo': 3018, 'ninja': 3019, 'worthless': 3020, 'discoveri': 3021, 'grasp': 3022, 'closet': 3023, 'recreat': 3024, 'brosnan': 3025, 'monk': 3026, 'eccentr': 3027, 'miracl': 3028, 'eighti': 3029, 'declar': 3030, 'evok': 3031, 'seller': 3032, 'sloppi': 3033, 'selfish': 3034, 'clown': 3035, 'sidekick': 3036, 'importantli': 3037, 'gray': 3038, 'bleak': 3039, 'communist': 3040, 'pal': 3041, 'partli': 3042, 'inconsist': 3043, 'norman': 3044, 'cliff': 3045, 'wipe': 3046, 'mitchel': 3047, 'fifteen': 3048, 'australia': 3049, 'debat': 3050, 'lifestyl': 3051, 'websit': 3052, 'chew': 3053, 'cheek': 3054, 'psychiatrist': 3055, 'superbl': 3056, 'stoog': 3057, 'ho': 3058, 'piano': 3059, 'destin': 3060, '45': 3061, 'farc': 3062, 'enthusiast': 3063, 'flawless': 3064, 'aforement': 3065, 'seed': 3066, 'splatter': 3067, 'slice': 3068, 'wick': 3069, 'pressur': 3070, 'soviet': 3071, 'dire': 3072, 'emili': 3073, 'abc': 3074, 'directori': 3075, 'dash': 3076, 'anni': 3077, 'incompet': 3078, 'kitchen': 3079, 'bash': 3080, 'regardless': 3081, 'akshay': 3082, 'wrestl': 3083, 'drivel': 3084, 'cameron': 3085, 'prize': 3086, 'mann': 3087, 'judi': 3088, 'flower': 3089, 'blob': 3090, 'helicopt': 3091, 'curios': 3092, 'cia': 3093, 'glow': 3094, 'jar': 3095, 'distant': 3096, 'pleasantli': 3097, 'recov': 3098, 'increas': 3099, 'duo': 3100, 'chapter': 3101, 'dave': 3102, 'seduc': 3103, 'cagney': 3104, 'boil': 3105, 'suppli': 3106, 'artifici': 3107, 'lou': 3108, 'ken': 3109, 'doo': 3110, 'beaten': 3111, 'goldberg': 3112, 'psychot': 3113, 'hop': 3114, 'panic': 3115, 'turner': 3116, 'ellen': 3117, 'francisco': 3118, 'laurel': 3119, 'craven': 3120, 'splendid': 3121, 'craig': 3122, 'perri': 3123, 'web': 3124, 'glenn': 3125, 'eleg': 3126, 'drunken': 3127, 'favour': 3128, 'ranger': 3129, 'combat': 3130, 'slightest': 3131, 'hatr': 3132, 'alexand': 3133, 'fx': 3134, 'wizard': 3135, 'plausibl': 3136, 'rid': 3137, 'graduat': 3138, '20th': 3139, 'philosophi': 3140, 'flip': 3141, 'greek': 3142, 'shortli': 3143, 'min': 3144, 'gentl': 3145, 'falk': 3146, 'modesti': 3147, 'ruth': 3148, 'gandhi': 3149, 'harm': 3150, 'lend': 3151, 'we': 3152, 'manhattan': 3153, 'fund': 3154, 'dracula': 3155, 'legal': 3156, 'tall': 3157, 'futurist': 3158, 'ocean': 3159, 'preciou': 3160, 'felix': 3161, 'jealou': 3162, 'unpleas': 3163, 'holi': 3164, 'knight': 3165, 'giallo': 3166, 'bless': 3167, 'reviv': 3168, 'tank': 3169, 'mock': 3170, 'explicit': 3171, 'scientif': 3172, 'overdon': 3173, 'nod': 3174, 'forbidden': 3175, 'thread': 3176, 'digniti': 3177, 'childish': 3178, 'ami': 3179, 'mel': 3180, 'awe': 3181, 'fever': 3182, 'nerv': 3183, 'unwatch': 3184, 'awaken': 3185, 'broad': 3186, 'margaret': 3187, 'verhoeven': 3188, 'thick': 3189, 'pirat': 3190, 'torment': 3191, '2004': 3192, 'elderli': 3193, 'repeatedli': 3194, 'yesterday': 3195, '99': 3196, 'eve': 3197, 'ah': 3198, 'lean': 3199, 'bin': 3200, 'automat': 3201, 'romero': 3202, 'eas': 3203, 'rivet': 3204, 'royal': 3205, 'launch': 3206, 'politician': 3207, 'custom': 3208, 'timothi': 3209, 'ambit': 3210, 'acclaim': 3211, 'uniform': 3212, 'absenc': 3213, 'kay': 3214, 'roman': 3215, 'publish': 3216, 'stiller': 3217, 'griffith': 3218, 'pulp': 3219, 'termin': 3220, 'transport': 3221, 'homicid': 3222, 'phrase': 3223, 'tomato': 3224, 'stinker': 3225, 'purpl': 3226, 'darker': 3227, 'warren': 3228, 'sunshin': 3229, 'antic': 3230, 'bathroom': 3231, 'pierc': 3232, 'crook': 3233, 'wallac': 3234, 'foul': 3235, 'gabriel': 3236, 'viciou': 3237, 'sixti': 3238, 'saint': 3239, 'choreographi': 3240, 'rambo': 3241, 'packag': 3242, 'album': 3243, 'coloni': 3244, 'horrid': 3245, 'kenneth': 3246, 'awak': 3247, 'karen': 3248, 'hollow': 3249, 'li': 3250, 'marin': 3251, 'revolutionari': 3252, 'donna': 3253, 'juvenil': 3254, 'evolv': 3255, 'eyr': 3256, 'brazil': 3257, 'q': 3258, 'contrari': 3259, '2003': 3260, 'pray': 3261, 'ought': 3262, 'prom': 3263, 'nerd': 3264, 'stole': 3265, 'conserv': 3266, 'overr': 3267, 'twelv': 3268, 'ireland': 3269, 'beatti': 3270, 'kapoor': 3271, 'option': 3272, 'ramon': 3273, 'mildr': 3274, 'candid': 3275, 'blade': 3276, 'dose': 3277, 'defi': 3278, 'boast': 3279, 'mummi': 3280, 'collabor': 3281, 'funer': 3282, 'jazz': 3283, 'detract': 3284, 'protest': 3285, 'confirm': 3286, 'flame': 3287, 'astonish': 3288, 'global': 3289, 'trio': 3290, 'fulci': 3291, 'altman': 3292, 'kirk': 3293, 'natali': 3294, 'whip': 3295, 'bottl': 3296, 'leap': 3297, 'tommi': 3298, 'audio': 3299, 'destini': 3300, 'spit': 3301, 'delici': 3302, 'mystic': 3303, 'enterpris': 3304, 'shade': 3305, 'bull': 3306, 'yellow': 3307, 'blake': 3308, 'nicholson': 3309, 'racial': 3310, 'harder': 3311, 'reunit': 3312, 'merci': 3313, 'staff': 3314, 'meaningless': 3315, 'neo': 3316, 'adolesc': 3317, 'threw': 3318, 'todd': 3319, 'enchant': 3320, 'popcorn': 3321, 'bedroom': 3322, 'vivid': 3323, 'altogeth': 3324, 'visibl': 3325, 'fonda': 3326, 'pseudo': 3327, 'swedish': 3328, 'inherit': 3329, 'ruthless': 3330, 'lawrenc': 3331, 'exhibit': 3332, 'leonard': 3333, 'voight': 3334, 'bust': 3335, 'roommat': 3336, 'befriend': 3337, 'fanat': 3338, 'atlanti': 3339, 'wire': 3340, 'moodi': 3341, 'crocodil': 3342, 'synopsi': 3343, 'suspici': 3344, 'await': 3345, 'respond': 3346, 'uneven': 3347, 'decor': 3348, 'madonna': 3349, 'jew': 3350, 'reserv': 3351, 'edi': 3352, 'tip': 3353, 'kennedi': 3354, 'lemmon': 3355, 'bargain': 3356, 'clint': 3357, 'chao': 3358, 'ventur': 3359, 'unsettl': 3360, 'abysm': 3361, 'rural': 3362, 'centr': 3363, '2007': 3364, 'incident': 3365, 'garner': 3366, 'bold': 3367, 'audit': 3368, 'bradi': 3369, 'clumsi': 3370, 'holli': 3371, 'dimens': 3372, 'palma': 3373, 'carl': 3374, 'voyag': 3375, 'cd': 3376, 'acknowledg': 3377, 'mall': 3378, 'immigr': 3379, 'neglect': 3380, 'tiger': 3381, 'humili': 3382, 'trail': 3383, 'daddi': 3384, 'troop': 3385, 'cuba': 3386, 'echo': 3387, 'elimin': 3388, 'nearbi': 3389, '2nd': 3390, 'ant': 3391, 'imperson': 3392, 'timon': 3393, 'characterist': 3394, 'hart': 3395, 'poetic': 3396, 'cari': 3397, 'versu': 3398, 'wealth': 3399, 'lit': 3400, 'paus': 3401, 'infect': 3402, 'mistaken': 3403, 'domest': 3404, 'pun': 3405, 'celluloid': 3406, 'prejudic': 3407, 'mickey': 3408, 'collaps': 3409, 'repuls': 3410, 'saga': 3411, 'homer': 3412, 'jeffrey': 3413, 'solo': 3414, 'marshal': 3415, 'coat': 3416, 'apolog': 3417, 'sore': 3418, 'harvey': 3419, 'assembl': 3420, 'inan': 3421, 'inappropri': 3422, 'leon': 3423, 'gear': 3424, 'milk': 3425, 'equip': 3426, 'hbo': 3427, 'interrupt': 3428, 'tribe': 3429, 'coffe': 3430, 'promin': 3431, 'undoubtedli': 3432, 'olivi': 3433, '1996': 3434, 'chest': 3435, 'pant': 3436, 'ginger': 3437, 'cake': 3438, 'furthermor': 3439, 'exot': 3440, 'primari': 3441, 'embrac': 3442, 'brooklyn': 3443, 'vulgar': 3444, 'humbl': 3445, 'florida': 3446, 'devast': 3447, 'institut': 3448, 'solut': 3449, 'maggi': 3450, 'pen': 3451, 'airplan': 3452, 'aveng': 3453, 'colleagu': 3454, 'colonel': 3455, 'pot': 3456, 'instant': 3457, 'highest': 3458, 'polanski': 3459, 'trace': 3460, 'consum': 3461, 'jenni': 3462, 'retain': 3463, 'descend': 3464, 'outer': 3465, 'dian': 3466, 'poke': 3467, 'disabl': 3468, 'rick': 3469, 'bowl': 3470, 'seduct': 3471, 'smaller': 3472, 'strain': 3473, '3rd': 3474, 'dutch': 3475, 'gender': 3476, 'wive': 3477, 'cope': 3478, 'linda': 3479, 'sale': 3480, '1999': 3481, 'illog': 3482, 'principl': 3483, 'godzilla': 3484, 'ya': 3485, 'secondli': 3486, 'devoid': 3487, 'yard': 3488, 'scope': 3489, 'predecessor': 3490, 'cue': 3491, 'gloriou': 3492, 'inferior': 3493, 'dud': 3494, 'dive': 3495, 'vast': 3496, 'glamor': 3497, 'rabbit': 3498, 'beneath': 3499, 'hal': 3500, 'lol': 3501, 'blatant': 3502, 'primarili': 3503, 'mixtur': 3504, 'bubbl': 3505, 'gundam': 3506, 'hideou': 3507, 'april': 3508, 'disjoint': 3509, 'simplist': 3510, 'shelf': 3511, 'grinch': 3512, 'et': 3513, 'museum': 3514, 'streep': 3515, 'alfr': 3516, 'aggress': 3517, 'invas': 3518, 'alert': 3519, 'domino': 3520, 'breed': 3521, 'senseless': 3522, 'countrysid': 3523, 'talki': 3524, 'arab': 3525, 'trademark': 3526, 'garbo': 3527, 'casual': 3528, 'myer': 3529, 'shirley': 3530, 'pearl': 3531, 'z': 3532, 'acid': 3533, 'robinson': 3534, 'illeg': 3535, 'maci': 3536, 'robberi': 3537, 'oz': 3538, 'hopeless': 3539, 'stack': 3540, 'vanish': 3541, 'obtain': 3542, 'stellar': 3543, 'loyal': 3544, 'stir': 3545, 'experiment': 3546, 'disgrac': 3547, 'hardcor': 3548, 'defens': 3549, 'khan': 3550, 'mail': 3551, 'unhappi': 3552, 'sh': 3553, 'applaud': 3554, 'mayor': 3555, 'rendit': 3556, 'slide': 3557, 'boom': 3558, 'uwe': 3559, 'topless': 3560, 'rifl': 3561, 'spider': 3562, 'berlin': 3563, 'amanda': 3564, 'wont': 3565, 'counter': 3566, 'grandfath': 3567, 'emphasi': 3568, 'dismiss': 3569, 'recruit': 3570, 'declin': 3571, 'craze': 3572, 'span': 3573, 'incomprehens': 3574, 'psychic': 3575, 'blew': 3576, 'tenant': 3577, 'tempt': 3578, 'fri': 3579, 'diana': 3580, 'dicken': 3581, 'soccer': 3582, 'hartley': 3583, 'scroog': 3584, 'ethnic': 3585, 'resurrect': 3586, 'shaw': 3587, 'parad': 3588, 'shed': 3589, 'justin': 3590, 'sibl': 3591, 'trashi': 3592, 'riot': 3593, 'wet': 3594, 'revolt': 3595, 'bitch': 3596, 'woo': 3597, 'intim': 3598, 'porno': 3599, 'goer': 3600, 'sympath': 3601, 'niro': 3602, 'lumet': 3603, 'faster': 3604, 'ration': 3605, 'ensur': 3606, 'patriot': 3607, 'hesit': 3608, 'mario': 3609, 'immort': 3610, 'ballet': 3611, 'commend': 3612, 'region': 3613, 'slick': 3614, 'wheel': 3615, 'hopper': 3616, 'weakest': 3617, 'gap': 3618, 'feminist': 3619, 'partial': 3620, 'eager': 3621, 'rider': 3622, 'unreal': 3623, 'steam': 3624, '00': 3625, 'honesti': 3626, 'enlighten': 3627, 'jonathan': 3628, 'biographi': 3629, 'choru': 3630, 'dealer': 3631, 'worm': 3632, 'wendi': 3633, 'lena': 3634, 'nephew': 3635, 'farmer': 3636, 'andr': 3637, 'psychopath': 3638, 'vice': 3639, 'skull': 3640, 'hung': 3641, 'charlott': 3642, 'sappi': 3643, 'morri': 3644, 'wore': 3645, 'util': 3646, 'confin': 3647, 'composit': 3648, 'similarli': 3649, 'kingdom': 3650, 'prequel': 3651, 'safeti': 3652, 'franco': 3653, 'leo': 3654, 'mutant': 3655, 'blunt': 3656, 'victori': 3657, 'repress': 3658, 'nostalg': 3659, 'macarthur': 3660, 'properti': 3661, 'snap': 3662, 'sandra': 3663, 'owen': 3664, 'whoopi': 3665, '1972': 3666, 'tail': 3667, 'bow': 3668, 'valuabl': 3669, 'rocki': 3670, 'rambl': 3671, 'despair': 3672, 'nervou': 3673, 'exit': 3674, 'bergman': 3675, 'bumbl': 3676, 'compens': 3677, 'drum': 3678, 'tad': 3679, 'hyde': 3680, 'bonu': 3681, 'recycl': 3682, 'heartbreak': 3683, 'snl': 3684, 'miseri': 3685, 'compass': 3686, 'cg': 3687, 'strand': 3688, 'thru': 3689, 'dalton': 3690, 'drain': 3691, 'deed': 3692, 'campbel': 3693, 'del': 3694, 'emperor': 3695, 'dust': 3696, 'speci': 3697, 'montana': 3698, 'latin': 3699, 'farrel': 3700, 'acquir': 3701, 'kyle': 3702, 'repli': 3703, 'pattern': 3704, 'rope': 3705, '35': 3706, 'da': 3707, 'radic': 3708, 'oppress': 3709, 'romp': 3710, 'airport': 3711, 'gimmick': 3712, 'tonight': 3713, 'downhil': 3714, 'pour': 3715, 'roth': 3716, 'chess': 3717, 'mistress': 3718, 'martian': 3719, 'rotten': 3720, 'rapist': 3721, 'olli': 3722, 'gal': 3723, 'wacki': 3724, 'orson': 3725, 'bleed': 3726, 'contempl': 3727, 'carradin': 3728, 'slug': 3729, 'percept': 3730, 'shelley': 3731, 'programm': 3732, 'champion': 3733, 'arguabl': 3734, 'dazzl': 3735, 'mislead': 3736, 'banal': 3737, 'edgar': 3738, 'tackl': 3739, 'taught': 3740, 'arc': 3741, 'heal': 3742, 'belt': 3743, 'paltrow': 3744, 'pervert': 3745, 'unpredict': 3746, '1983': 3747, 'pervers': 3748, 'slash': 3749, 'tooth': 3750, 'preach': 3751, 'stilt': 3752, 'attorney': 3753, 'melodi': 3754, 'pursuit': 3755, 'conneri': 3756, 'rubi': 3757, 'duval': 3758, 'marti': 3759, 'tiresom': 3760, 'chicken': 3761, 'passeng': 3762, 'mesmer': 3763, 'vocal': 3764, 'sensat': 3765, 'uplift': 3766, 'virginia': 3767, 'plight': 3768, 'poem': 3769, 'orang': 3770, 'vengeanc': 3771, 'cleverli': 3772, 'graham': 3773, 'raymond': 3774, 'maid': 3775, 'dixon': 3776, 'franki': 3777, 'gambl': 3778, 'employe': 3779, 'closest': 3780, 'bela': 3781, 'mute': 3782, 'paranoia': 3783, 'outing': 3784, 'bay': 3785, 'scottish': 3786, 'habit': 3787, 'secretli': 3788, 'sirk': 3789, 'giggl': 3790, 'clone': 3791, 'amitabh': 3792, 'abraham': 3793, 'lundgren': 3794, '1968': 3795, 'whine': 3796, 'profan': 3797, 'swallow': 3798, 'engross': 3799, 'convincingli': 3800, 'extens': 3801, 'suffic': 3802, 'inject': 3803, 'calm': 3804, 'tube': 3805, 'numb': 3806, 'yawn': 3807, 'monologu': 3808, 'climact': 3809, 'iran': 3810, 'quarter': 3811, 'volum': 3812, 'crystal': 3813, 'gerard': 3814, 'pokemon': 3815, 'earl': 3816, 'grotesqu': 3817, 'bend': 3818, 'junior': 3819, 'richardson': 3820, 'trend': 3821, 'meander': 3822, 'septemb': 3823, 'linger': 3824, 'chicago': 3825, 'fed': 3826, 'profess': 3827, 'franci': 3828, 'poetri': 3829, 'taxi': 3830, 'underst': 3831, 'dispos': 3832, 'austen': 3833, 'im': 3834, 'backward': 3835, 'expand': 3836, 'plod': 3837, 'nichola': 3838, 'lowest': 3839, 'frankenstein': 3840, 'spock': 3841, 'abort': 3842, 'surpass': 3843, 'ethan': 3844, 'cannon': 3845, 'sue': 3846, 'household': 3847, 'instrument': 3848, 'stallon': 3849, 'catchi': 3850, 'compliment': 3851, 'mundan': 3852, 'hum': 3853, 'econom': 3854, 'dysfunct': 3855, 'rant': 3856, 'simplic': 3857, 'nostalgia': 3858, 'descent': 3859, 'myth': 3860, 'lure': 3861, 'rubber': 3862, 'spoke': 3863, 'literatur': 3864, 'greedi': 3865, 'waitress': 3866, 'muddl': 3867, 'eugen': 3868, 'tourist': 3869, 'der': 3870, 'eaten': 3871, 'insur': 3872, 'mortal': 3873, 'recognit': 3874, 'bacal': 3875, 'mankind': 3876, 'dement': 3877, 'duck': 3878, 'phantom': 3879, 'damon': 3880, 'phoni': 3881, 'occupi': 3882, 'flee': 3883, 'firstli': 3884, 'irrelev': 3885, 'hello': 3886, 'lang': 3887, 'dictat': 3888, 'molli': 3889, 'cent': 3890, 'crucial': 3891, 'furi': 3892, 'alongsid': 3893, 'louis': 3894, 'omen': 3895, 'deaf': 3896, 'carel': 3897, 'equival': 3898, 'stale': 3899, 'recognis': 3900, 'randi': 3901, 'map': 3902, 'june': 3903, 'coast': 3904, 'sissi': 3905, '1973': 3906, 'newli': 3907, 'drake': 3908, 'distinguish': 3909, 'reign': 3910, 'twilight': 3911, 'freez': 3912, 'likewis': 3913, 'loyalti': 3914, 'cyborg': 3915, 'damm': 3916, 'rooney': 3917, 'blackmail': 3918, 'labor': 3919, 'wisdom': 3920, 'onlin': 3921, 'grayson': 3922, 'daisi': 3923, 'biko': 3924, 'antwon': 3925, 'heel': 3926, 'dreari': 3927, 'bump': 3928, 'bike': 3929, 'buffalo': 3930, 'ashley': 3931, 'lengthi': 3932, 'rude': 3933, 'worn': 3934, 'baddi': 3935, 'pink': 3936, 'boxer': 3937, 'exposur': 3938, 'analysi': 3939, 'approv': 3940, 'provoc': 3941, 'inher': 3942, 'startl': 3943, 'nineti': 3944, 'attribut': 3945, 'prey': 3946, 'emphas': 3947, 'proce': 3948, 'tunnel': 3949, 'interior': 3950, 'ridden': 3951, 'sailor': 3952, 'basketbal': 3953, 'unorigin': 3954, 'keith': 3955, 'butler': 3956, 'barrymor': 3957, 'incorpor': 3958, 'vein': 3959, 'chronicl': 3960, 'millionair': 3961, 'walsh': 3962, 'nicol': 3963, 'elm': 3964, 'fleet': 3965, 'meyer': 3966, 'unrel': 3967, 'stalker': 3968, 'bunni': 3969, 'undeni': 3970, 'robbin': 3971, 'meg': 3972, 'degrad': 3973, 'drift': 3974, 'underli': 3975, 'simmon': 3976, 'predat': 3977, 'condemn': 3978, 'belushi': 3979, 'substitut': 3980, 'othello': 3981, 'indiffer': 3982, 'hypnot': 3983, 'julian': 3984, 'mighti': 3985, 'improvis': 3986, 'er': 3987, 'barrel': 3988, 'mormon': 3989, 'carla': 3990, 'errol': 3991, 'priceless': 3992, 'warmth': 3993, 'nyc': 3994, 'palac': 3995, 'hay': 3996, 'lampoon': 3997, 'watson': 3998, 'firm': 3999, 'reid': 4000, 'agenda': 4001, 'dolph': 4002, 'unawar': 4003, 'novak': 4004, 'exquisit': 4005, 'alarm': 4006, 'enthusiasm': 4007, 'marion': 4008, 'vital': 4009, 'mtv': 4010, 'disord': 4011, 'roof': 4012, 'alison': 4013, 'shove': 4014, 'edgi': 4015, 'greed': 4016, 'rukh': 4017, '3d': 4018, 'unleash': 4019, 'what': 4020, 'simultan': 4021, 'peck': 4022, 'orlean': 4023, 'gestur': 4024, 'preserv': 4025, 'beatl': 4026, 'drip': 4027, 'session': 4028, 'eastern': 4029, '1933': 4030, 'minimum': 4031, '13th': 4032, 'showdown': 4033, 'crown': 4034, 'valentin': 4035, 'israel': 4036, 'angela': 4037, 'pamela': 4038, 'ponder': 4039, 'glanc': 4040, 'petti': 4041, 'cassidi': 4042, 'spain': 4043, 'distort': 4044, 'championship': 4045, 'iraq': 4046, 'nun': 4047, 'testament': 4048, 'randomli': 4049, 'campaign': 4050, 'sergeant': 4051, 'thompson': 4052, 'peril': 4053, 'profit': 4054, 'coup': 4055, 'zizek': 4056, 'crow': 4057, 'valley': 4058, 'gentleman': 4059, 'scotland': 4060, 'exposit': 4061, 'regist': 4062, 'perpetu': 4063, 'climat': 4064, 'mon': 4065, 'miyazaki': 4066, 'kurosawa': 4067, 'jan': 4068, 'reson': 4069, 'rout': 4070, 'unimagin': 4071, 'calib': 4072, 'travesti': 4073, 'han': 4074, 'crawl': 4075, 'realm': 4076, 'restrain': 4077, 'brenda': 4078, 'sabrina': 4079, 'buster': 4080, 'contradict': 4081, 'stake': 4082, 'empathi': 4083, 'shootout': 4084, 'represent': 4085, 'wig': 4086, 'stroke': 4087, 'cooki': 4088, 'bro': 4089, '1984': 4090, 'quinn': 4091, 'fido': 4092, 'cream': 4093, 'din': 4094, 'demis': 4095, '1997': 4096, 'abomin': 4097, 'passabl': 4098, 'distress': 4099, 'absent': 4100, '1987': 4101, 'pole': 4102, 'monoton': 4103, 'censor': 4104, 'baldwin': 4105, 'tacki': 4106, 'femm': 4107, 'traumat': 4108, 'geek': 4109, 'meryl': 4110, 'delic': 4111, 'unseen': 4112, 'spacey': 4113, 'ustinov': 4114, 'ross': 4115, 'unsatisfi': 4116, 'derang': 4117, 'sucker': 4118, 'josh': 4119, 'darren': 4120, 'mclaglen': 4121, 'perceiv': 4122, 'sammi': 4123, 'shaki': 4124, 'compromis': 4125, 'painter': 4126, 'dana': 4127, 'wax': 4128, 'soderbergh': 4129, 'cloud': 4130, 'greg': 4131, 'businessman': 4132, 'fuller': 4133, 'shoddi': 4134, 'pretens': 4135, 'warrant': 4136, 'stargat': 4137, 'crawford': 4138, 'reluct': 4139, 'dee': 4140, 'deceas': 4141, '1993': 4142, 'sid': 4143, 'judgment': 4144, 'accuraci': 4145, 'exclus': 4146, 'expedit': 4147, 'tech': 4148, 'deniro': 4149, 'fenc': 4150, 'clash': 4151, 'anchor': 4152, 'kumar': 4153, 'wholli': 4154, 'click': 4155, 'correctli': 4156, 'primit': 4157, 'polici': 4158, 'seal': 4159, 'unravel': 4160, 'jewel': 4161, 'tarantino': 4162, 'uncov': 4163, 'austin': 4164, 'furiou': 4165, 'nathan': 4166, 'verbal': 4167, 'valid': 4168, 'antonioni': 4169, 'norm': 4170, 'fog': 4171, 'unfair': 4172, '1971': 4173, '1995': 4174, 'darn': 4175, 'joel': 4176, 'shanghai': 4177, 'alec': 4178, 'clerk': 4179, '3000': 4180, 'malon': 4181, 'fought': 4182, 'fart': 4183, 'wang': 4184, 'sunni': 4185, 'nicola': 4186, 'bake': 4187, 'ritual': 4188, 'wretch': 4189, 'tax': 4190, 'pocket': 4191, 'sheet': 4192, 'sand': 4193, 'roller': 4194, 'temper': 4195, 'debt': 4196, 'vanc': 4197, 'enforc': 4198, 'logan': 4199, 'dreck': 4200, 'trait': 4201, 'fabric': 4202, 'crippl': 4203, 'behold': 4204, 'patienc': 4205, 'seldom': 4206, '2008': 4207, 'conduct': 4208, 'murray': 4209, 'hallucin': 4210, 'mode': 4211, 'sustain': 4212, 'slam': 4213, 'legaci': 4214, 'soup': 4215, 'technicolor': 4216, 'shell': 4217, 'stark': 4218, 'preposter': 4219, 'exhaust': 4220, 'critiqu': 4221, 'despis': 4222, 'grief': 4223, 'conscious': 4224, 'divid': 4225, 'phil': 4226, 'runner': 4227, 'bridget': 4228, 'fundament': 4229, 'canyon': 4230, 'schedul': 4231, 'sweep': 4232, 'clau': 4233, 'rita': 4234, 'isabel': 4235, 'squad': 4236, 'preston': 4237, 'outlin': 4238, 'bias': 4239, 'penni': 4240, 'scriptwrit': 4241, 'stuart': 4242, 'guitar': 4243, 'pete': 4244, 'robber': 4245, 'tactic': 4246, 'helpless': 4247, 'drove': 4248, 'palanc': 4249, 'unexpectedli': 4250, 'russia': 4251, 'boyl': 4252, 'jacket': 4253, 'delv': 4254, 'newman': 4255, 'cigarett': 4256, 'alley': 4257, 'vomit': 4258, 'restrict': 4259, 'propos': 4260, 'agenc': 4261, 'invad': 4262, 'rehash': 4263, 'lacklust': 4264, 'implic': 4265, 'kansa': 4266, 'marc': 4267, 'bloom': 4268, 'rear': 4269, 'alicia': 4270, 'liberti': 4271, 'flair': 4272, 'jodi': 4273, 'downey': 4274, 'culmin': 4275, 'sentinel': 4276, 'gregori': 4277, 'consciou': 4278, 'sniper': 4279, 'passag': 4280, 'sugar': 4281, 'connor': 4282, 'inabl': 4283, '22': 4284, 'arrow': 4285, 'delet': 4286, 'ladder': 4287, 'horn': 4288, 'tendenc': 4289, 'improb': 4290, 'pale': 4291, 'sharon': 4292, 'behaviour': 4293, '1936': 4294, 'asylum': 4295, 'chainsaw': 4296, 'vet': 4297, 'feat': 4298, 'karl': 4299, 'mccoy': 4300, 'rampag': 4301, 'lush': 4302, 'aesthet': 4303, 'awhil': 4304, 'tripe': 4305, 'wrench': 4306, 'rod': 4307, 'cap': 4308, 'bacon': 4309, 'foxx': 4310, 'rehears': 4311, 'yeti': 4312, 'kolchak': 4313, 'weav': 4314, 'amazon': 4315, 'prank': 4316, 'tomorrow': 4317, 'fright': 4318, 'financ': 4319, 'underneath': 4320, 'hulk': 4321, 'rumor': 4322, '1920': 4323, 'paradis': 4324, '19th': 4325, 'tasteless': 4326, 'suffici': 4327, 'rhythm': 4328, 'hungri': 4329, 'stream': 4330, 'minu': 4331, 'scoop': 4332, 'lurk': 4333, 'coaster': 4334, 'globe': 4335, 'wagner': 4336, 'wildli': 4337, 'spice': 4338, '1988': 4339, 'aristocrat': 4340, 'basing': 4341, 'visitor': 4342, 'hackney': 4343, 'thunderbird': 4344, 'conscienc': 4345, 'loneli': 4346, 'filler': 4347, 'el': 4348, '1978': 4349, 'suspicion': 4350, 'shortcom': 4351, 'sung': 4352, 'elit': 4353, 'newcom': 4354, 'paramount': 4355, 'ingeni': 4356, 'couch': 4357, 'smell': 4358, 'grudg': 4359, 'counterpart': 4360, 'cancer': 4361, 'choppi': 4362, 'atroc': 4363, '1989': 4364, 'minist': 4365, 'paxton': 4366, 'beverli': 4367, 'brit': 4368, '75': 4369, 'dirt': 4370, 'secondari': 4371, 'ram': 4372, 'bread': 4373, 'quietli': 4374, 'en': 4375, 'teas': 4376, 'recogniz': 4377, 'impos': 4378, 'hopkin': 4379, 'entranc': 4380, 'abrupt': 4381, 'naughti': 4382, 'inmat': 4383, 'leigh': 4384, '1939': 4385, 'penn': 4386, 'tierney': 4387, 'literari': 4388, 'heist': 4389, 'rub': 4390, 'immers': 4391, 'straightforward': 4392, 'chamberlain': 4393, 'curli': 4394, 'iv': 4395, 'wwe': 4396, 'lectur': 4397, 'worship': 4398, 'posey': 4399, 'standout': 4400, 'chavez': 4401, 'springer': 4402, 'laurenc': 4403, 'variat': 4404, 'geni': 4405, 'convert': 4406, 'misguid': 4407, 'injuri': 4408, 'skeptic': 4409, 'enthral': 4410, 'entitl': 4411, '1986': 4412, 'nemesi': 4413, 'clan': 4414, 'morbid': 4415, 'ratso': 4416, 'heartfelt': 4417, 'sublim': 4418, 'cattl': 4419, 'missil': 4420, 'ace': 4421, 'esther': 4422, 'watcher': 4423, 'attenborough': 4424, 'net': 4425, 'yearn': 4426, 'policeman': 4427, 'bernard': 4428, 'nolan': 4429, 'transcend': 4430, 'quaid': 4431, 'sassi': 4432, 'moreov': 4433, 'duel': 4434, 'lindsay': 4435, 'facil': 4436, 'artsi': 4437, 'obstacl': 4438, 'dont': 4439, 'grin': 4440, 'bean': 4441, 'reliabl': 4442, 'tyler': 4443, 'moder': 4444, 'egg': 4445, 'bye': 4446, 'poe': 4447, 'steadi': 4448, 'setup': 4449, 'unexplain': 4450, 'brood': 4451, 'cruelti': 4452, 'hk': 4453, 'out': 4454, 'puppi': 4455, 'mytholog': 4456, 'uncut': 4457, '1979': 4458, 'kitti': 4459, 'hopelessli': 4460, 'youngest': 4461, 'rosemari': 4462, 'diari': 4463, 'spiral': 4464, 'graini': 4465, 'buzz': 4466, 'enabl': 4467, 'kidman': 4468, 'carlito': 4469, 'characteris': 4470, 'vader': 4471, 'fuel': 4472, 'effici': 4473, 'bewar': 4474, 'sweat': 4475, 'oblig': 4476, 'christin': 4477, 'niec': 4478, 'martha': 4479, '1969': 4480, 'acquaint': 4481, 'underworld': 4482, 'bounc': 4483, 'gina': 4484, 'clueless': 4485, 'decept': 4486, 'exterior': 4487, 'narrow': 4488, 'hammi': 4489, 'preming': 4490, 'bronson': 4491, 'baffl': 4492, 'kline': 4493, 'disastr': 4494, 'spontan': 4495, 'heap': 4496, 'weather': 4497, 'athlet': 4498, 'patricia': 4499, 'hain': 4500, 'despic': 4501, 'brendan': 4502, 'gillian': 4503, '73': 4504, 'virtu': 4505, 'scar': 4506, 'housewif': 4507, 'uh': 4508, 'harmless': 4509, 'sooner': 4510, 'taboo': 4511, 'loi': 4512, 'preachi': 4513, 'shatter': 4514, 'dilemma': 4515, 'angst': 4516, 'lester': 4517, 'fontain': 4518, 'mermaid': 4519, 'analyz': 4520, 'viewpoint': 4521, 'suprem': 4522, 'insipid': 4523, 'enlist': 4524, 'astound': 4525, 'rome': 4526, 'headach': 4527, 'mayhem': 4528, '19': 4529, 'tick': 4530, 'outlaw': 4531, 'candl': 4532, 'biker': 4533, 'injur': 4534, 'loath': 4535, 'sleepwalk': 4536, 'renaiss': 4537, 'hepburn': 4538, 'circu': 4539, 'goof': 4540, 'dandi': 4541, 'trigger': 4542, 'corbett': 4543, 'claustrophob': 4544, 'steer': 4545, 'guin': 4546, 'idol': 4547, 'overlong': 4548, 'dish': 4549, 'spade': 4550, 'foolish': 4551, 'surgeri': 4552, 'stair': 4553, 'zoom': 4554, 'phenomenon': 4555, 'tripl': 4556, 'gere': 4557, 'hooker': 4558, 'whore': 4559, 'bent': 4560, 'immatur': 4561, 'oldest': 4562, 'hostag': 4563, 'glorifi': 4564, 'ariel': 4565, 'dismal': 4566, 'contempt': 4567, 'intric': 4568, 'redund': 4569, 'slimi': 4570, 'hokey': 4571, 'filth': 4572, 'camcord': 4573, 'salt': 4574, 'amor': 4575, 'boston': 4576, 'stimul': 4577, 'scorses': 4578, 'fluff': 4579, 'macho': 4580, 'cassavet': 4581, 'ebert': 4582, 'sox': 4583, 'muscl': 4584, 'spinal': 4585, 'perman': 4586, 'mount': 4587, 'conquer': 4588, 'gabl': 4589, 'flashi': 4590, 'joker': 4591, 'widescreen': 4592, 'fascist': 4593, 'flirt': 4594, 'corman': 4595, 'assert': 4596, 'preced': 4597, 'proport': 4598, 'harold': 4599, '1981': 4600, 'trivia': 4601, 'dwarf': 4602, 'down': 4603, 'shred': 4604, 'remad': 4605, 'astronaut': 4606, 'faint': 4607, 'schlock': 4608, 'keen': 4609, 'margin': 4610, 'messi': 4611, 'flag': 4612, 'cohen': 4613, 'transplant': 4614, 'spree': 4615, 'radiat': 4616, 'obligatori': 4617, 'rhyme': 4618, 'shield': 4619, 'nolt': 4620, 'strongest': 4621, 'mutual': 4622, 'zane': 4623, '1976': 4624, 'frantic': 4625, 'cow': 4626, 'antagonist': 4627, 'beard': 4628, 'gasp': 4629, 'alvin': 4630, 'cush': 4631, 'naschi': 4632, 'fishburn': 4633, 'claud': 4634, 'scandal': 4635, 'inflict': 4636, 'archiv': 4637, 'vaniti': 4638, 'interestingli': 4639, 'hara': 4640, 'triangl': 4641, 'bitten': 4642, 'bachelor': 4643, 'deer': 4644, '1945': 4645, '28': 4646, 'discern': 4647, 'resum': 4648, 'instruct': 4649, 'ritchi': 4650, 'divin': 4651, 'barn': 4652, 'mobil': 4653, 'neurot': 4654, 'boob': 4655, 'sensual': 4656, 'off': 4657, 'persuad': 4658, '95': 4659, 'mol': 4660, 'raj': 4661, 'carey': 4662, 'info': 4663, 'repris': 4664, 'aborigin': 4665, 'wield': 4666, 'departur': 4667, 'brush': 4668, 'someday': 4669, 'strive': 4670, 'danish': 4671, 'www': 4672, 'flock': 4673, 'helm': 4674, 'clad': 4675, 'fragil': 4676, 'rot': 4677, 'vibrant': 4678, 'senior': 4679, 'luka': 4680, 'dim': 4681, 'traffic': 4682, 'heartwarm': 4683, 'pacif': 4684, 'cb': 4685, 'parson': 4686, 'proclaim': 4687, 'hilar': 4688, 'frontier': 4689, 'harrison': 4690, 'jade': 4691, 'ish': 4692, 'europa': 4693, 'artwork': 4694, 'recit': 4695, 'casino': 4696, 'biblic': 4697, 'pixar': 4698, 'undermin': 4699, 'loretta': 4700, 'mobster': 4701, 'pickford': 4702, 'submit': 4703, 'dame': 4704, 'axe': 4705, 'banter': 4706, 'kathryn': 4707, 'colin': 4708, 'dylan': 4709, 'melissa': 4710, 'hug': 4711, 'miracul': 4712, 'hapless': 4713, 'carlo': 4714, 'cher': 4715, 'earnest': 4716, 'neill': 4717, 'prophet': 4718, 'bate': 4719, 'cycl': 4720, 'cliffhang': 4721, 'anton': 4722, 'timberlak': 4723, 'wendigo': 4724, 'articl': 4725, 'winchest': 4726, 'redneck': 4727, 'toronto': 4728, 'seedi': 4729, 'holocaust': 4730, 'lucil': 4731, 'shepherd': 4732, 'jo': 4733, 'vanessa': 4734, 'breakfast': 4735, 'foil': 4736, 'orphan': 4737, 'legitim': 4738, 'nope': 4739, 'lui': 4740, 'misfortun': 4741, 'vile': 4742, 'feast': 4743, 'choke': 4744, 'illus': 4745, 'cerebr': 4746, 'trier': 4747, 'aris': 4748, 'token': 4749, 'static': 4750, 'isra': 4751, 'antholog': 4752, 'sicken': 4753, 'uma': 4754, 'venom': 4755, 'bondag': 4756, 'akin': 4757, 'razor': 4758, 'alexandr': 4759, 'blatantli': 4760, 'estrang': 4761, 'eli': 4762, 'bikini': 4763, 'marlon': 4764, 'milo': 4765, 'northern': 4766, 'jordan': 4767, 'wardrob': 4768, 'pc': 4769, 'http': 4770, 'mason': 4771, 'rooki': 4772, 'electron': 4773, 'flavor': 4774, 'mathieu': 4775, 'tack': 4776, 'swept': 4777, 'oppon': 4778, 'shorter': 4779, 'styliz': 4780, 'peer': 4781, 'linear': 4782, 'retriev': 4783, 'howl': 4784, 'comprehend': 4785, 'clinic': 4786, 'affleck': 4787, 'abund': 4788, 'leather': 4789, 'ideolog': 4790, 'gilbert': 4791, 'boyer': 4792, 'cartoonish': 4793, 'knightley': 4794, 'charlton': 4795, 'psych': 4796, 'glare': 4797, 'deem': 4798, 'huston': 4799, 'turd': 4800, 'smack': 4801, 'frog': 4802, 'outdat': 4803, 'nightclub': 4804, 'ceremoni': 4805, 'dudley': 4806, 'feminin': 4807, 'magician': 4808, 'fifth': 4809, 'disregard': 4810, 'audrey': 4811, 'gunga': 4812, 'highway': 4813, 'wrestler': 4814, 'bogu': 4815, 'energet': 4816, 'monument': 4817, 'btw': 4818, 'chip': 4819, 'breakdown': 4820, 'greet': 4821, 'corn': 4822, 'summar': 4823, 'sleaz': 4824, 'deliver': 4825, 'einstein': 4826, 'whack': 4827, 'uniformli': 4828, 'tara': 4829, 'senat': 4830, 'snatch': 4831, 'moe': 4832, 'cemeteri': 4833, 'newer': 4834, 'bastard': 4835, 'braveheart': 4836, 'spawn': 4837, 'toe': 4838, 'evolut': 4839, 'lavish': 4840, 'compris': 4841, 'cuban': 4842, 'potter': 4843, 'conrad': 4844, '4th': 4845, '1994': 4846, 'spine': 4847, '1991': 4848, 'lifeless': 4849, 'salman': 4850, 'boo': 4851, 'mitch': 4852, 'phenomen': 4853, 'plate': 4854, 'durat': 4855, 'goldsworthi': 4856, 'lighter': 4857, 'collector': 4858, 'client': 4859, 'armstrong': 4860, 'eleven': 4861, 'undead': 4862, 'pronounc': 4863, 'liu': 4864, 'constitut': 4865, 'kazan': 4866, 'undertak': 4867, 'historian': 4868, 'jam': 4869, 'firmli': 4870, 'clara': 4871, 'belli': 4872, 'lex': 4873, 'inaccuraci': 4874, 'replay': 4875, 'nina': 4876, 'fluid': 4877, 'sorrow': 4878, 'jare': 4879, 'appl': 4880, 'jedi': 4881, 'signal': 4882, 'ol': 4883, 'kent': 4884, '1977': 4885, 'creek': 4886, 'luxuri': 4887, 'ie': 4888, 'bori': 4889, 'wtf': 4890, 'cecil': 4891, 'embark': 4892, '1974': 4893, 'evelyn': 4894, 'jule': 4895, 'healthi': 4896, 'occup': 4897, 'neatli': 4898, 'spectacl': 4899, 'judd': 4900, 'alleg': 4901, 'mcqueen': 4902, 'randolph': 4903, 'outright': 4904, 'bulk': 4905, 'capot': 4906, 'gilliam': 4907, 'trauma': 4908, 'truman': 4909, 'sacrif': 4910, 'curtain': 4911, 'vain': 4912, 'roar': 4913, 'propheci': 4914, 'lauren': 4915, 'genet': 4916, 'tokyo': 4917, 'miami': 4918, 'comprehens': 4919, 'galaxi': 4920, 'bsg': 4921, 'poker': 4922, 'palm': 4923, 'lanc': 4924, 'sidewalk': 4925, 'fruit': 4926, 'relentless': 4927, 'vignett': 4928, 'mum': 4929, 'rosario': 4930, 'unattract': 4931, 'subtli': 4932, 'groan': 4933, 'comb': 4934, 'id': 4935, 'inclus': 4936, 'blur': 4937, 'knee': 4938, 'walt': 4939, 'unsuspect': 4940, 'pepper': 4941, 'antonio': 4942, 'abound': 4943, '1985': 4944, 'ash': 4945, 'aussi': 4946, 'basket': 4947, 'inaccur': 4948, 'congratul': 4949, 'forgiven': 4950, 'decapit': 4951, 'cape': 4952, 'bait': 4953, 'kiddi': 4954, 'pioneer': 4955, 'spray': 4956, 'conan': 4957, 'paula': 4958, 'miniseri': 4959, 'carmen': 4960, 'porter': 4961, 'meal': 4962, 'goldblum': 4963, 'hostil': 4964, 'spill': 4965, 'reincarn': 4966, 'asset': 4967, 'verg': 4968, 'evan': 4969, 'drone': 4970, 'epitom': 4971, 'modest': 4972, 'motorcycl': 4973, 'ghetto': 4974, 'growth': 4975, 'assort': 4976, 'weaker': 4977, 'rapidli': 4978, 'playboy': 4979, 'profil': 4980, 'optimist': 4981, 'masterson': 4982, 'scariest': 4983, 'macabr': 4984, 'ingrid': 4985, 'detach': 4986, 'omin': 4987, 'victorian': 4988, 'incorrect': 4989, 'bravo': 4990, 'dubiou': 4991, 'handicap': 4992, 'orchestr': 4993, 'monti': 4994, 'substanti': 4995, 'hackman': 4996, 'cypher': 4997, 'weari': 4998, 'scarfac': 4999}\n"
     ]
    }
   ],
   "source": [
    "word_dict = build_dict(train_X)\n"
   ]
  },
  {
   "cell_type": "code",
   "execution_count": 118,
   "metadata": {},
   "outputs": [
    {
     "name": "stdout",
     "output_type": "stream",
     "text": [
      "[10, 9, 8, 7, 6, 5, 4, 3, 2, 1]\n"
     ]
    }
   ],
   "source": [
    "print(list(range(10,0,-1)))"
   ]
  },
  {
   "cell_type": "markdown",
   "metadata": {},
   "source": [
    "**Question:** What are the five most frequently appearing (tokenized) words in the training set? Does it makes sense that these words appear frequently in the training set?"
   ]
  },
  {
   "cell_type": "markdown",
   "metadata": {},
   "source": [
    "**Answer: movi, film ,one,like and time** are the five most frequently appearing words in the training set. It does make sense!"
   ]
  },
  {
   "cell_type": "code",
   "execution_count": 27,
   "metadata": {},
   "outputs": [
    {
     "name": "stdout",
     "output_type": "stream",
     "text": [
      "{'movi': 2, 'film': 3, 'one': 4, 'like': 5, 'time': 6}\n"
     ]
    }
   ],
   "source": [
    "# TODO: Use this space to determine the five most frequently appearing words in the training set.\n",
    "first5pairs = {k: word_dict[k] for k in list(word_dict)[:5]}\n",
    "print(first5pairs)"
   ]
  },
  {
   "cell_type": "markdown",
   "metadata": {},
   "source": [
    "### Save `word_dict`\n",
    "\n",
    "Later on when we construct an endpoint which processes a submitted review we will need to make use of the `word_dict` which we have created. As such, we will save it to a file now for future use."
   ]
  },
  {
   "cell_type": "code",
   "execution_count": 28,
   "metadata": {},
   "outputs": [],
   "source": [
    "data_dir = '../data/pytorch' # The folder we will use for storing data\n",
    "if not os.path.exists(data_dir): # Make sure that the folder exists\n",
    "    os.makedirs(data_dir)"
   ]
  },
  {
   "cell_type": "code",
   "execution_count": 29,
   "metadata": {},
   "outputs": [],
   "source": [
    "with open(os.path.join(data_dir, 'word_dict.pkl'), \"wb\") as f:\n",
    "    pickle.dump(word_dict, f)"
   ]
  },
  {
   "cell_type": "markdown",
   "metadata": {},
   "source": [
    "### Transform the reviews\n",
    "\n",
    "Now that we have our word dictionary which allows us to transform the words appearing in the reviews into integers, it is time to make use of it and convert our reviews to their integer sequence representation, making sure to pad or truncate to a fixed length, which in our case is `500`."
   ]
  },
  {
   "cell_type": "code",
   "execution_count": 30,
   "metadata": {},
   "outputs": [],
   "source": [
    "def convert_and_pad(word_dict, sentence, pad=500):\n",
    "    NOWORD = 0 # We will use 0 to represent the 'no word' category\n",
    "    INFREQ = 1 # and we use 1 to represent the infrequent words, i.e., words not appearing in word_dict\n",
    "    \n",
    "    working_sentence = [NOWORD] * pad\n",
    "    \n",
    "    for word_index, word in enumerate(sentence[:pad]):\n",
    "        if word in word_dict:\n",
    "            working_sentence[word_index] = word_dict[word]\n",
    "        else:\n",
    "            working_sentence[word_index] = INFREQ\n",
    "            \n",
    "    return working_sentence, min(len(sentence), pad)\n",
    "\n",
    "def convert_and_pad_data(word_dict, data, pad=500):\n",
    "    result = []\n",
    "    lengths = []\n",
    "    \n",
    "    for sentence in data:\n",
    "        converted, leng = convert_and_pad(word_dict, sentence, pad)\n",
    "        result.append(converted)\n",
    "        lengths.append(leng)\n",
    "        \n",
    "    return np.array(result), np.array(lengths)"
   ]
  },
  {
   "cell_type": "code",
   "execution_count": 31,
   "metadata": {},
   "outputs": [],
   "source": [
    "train_X, train_X_len = convert_and_pad_data(word_dict, train_X)\n",
    "test_X, test_X_len = convert_and_pad_data(word_dict, test_X)"
   ]
  },
  {
   "cell_type": "markdown",
   "metadata": {},
   "source": [
    "As a quick check to make sure that things are working as intended, check to see what one of the reviews in the training set looks like after having been processeed. Does this look reasonable? What is the length of a review in the training set?"
   ]
  },
  {
   "cell_type": "code",
   "execution_count": 32,
   "metadata": {},
   "outputs": [
    {
     "name": "stdout",
     "output_type": "stream",
     "text": [
      "[1 1 1 1 1 1 1 1 1 1 1 1 1 1 1 1 1 1 1 1 1 1 1 1 1 1 1 1 1 1 1 1 1 1 1 1 1\n",
      " 1 1 1 1 1 1 1 1 1 1 1 1 1 1 1 1 1 1 1 1 1 1 1 1 1 1 1 1 1 1 1 1 1 1 1 1 1\n",
      " 1 1 1 1 1 1 1 1 1 1 1 1 1 1 1 1 1 1 1 1 1 1 1 1 1 1 1 1 1 1 1 1 1 1 1 1 1\n",
      " 1 1 1 1 1 1 1 1 1 1 1 1 1 1 1 1 1 1 1 1 1 1 1 1 1 1 1 1 1 1 1 1 1 1 1 1 1\n",
      " 1 1 1 1 1 1 1 1 1 1 1 1 1 1 1 1 1 1 1 1 1 1 1 1 1 1 1 1 1 1 1 1 1 1 1 1 1\n",
      " 1 1 1 1 1 1 1 1 1 1 1 1 1 1 1 1 1 1 1 1 1 1 1 1 1 1 1 1 1 1 1 1 1 1 1 1 1\n",
      " 1 1 1 1 1 1 1 1 1 1 1 1 1 1 1 1 1 1 1 1 1 1 1 1 1 1 1 1 1 1 1 1 1 1 1 1 1\n",
      " 1 1 1 1 1 1 1 1 1 1 1 1 1 1 1 1 1 1 1 1 1 1 1 1 1 1 1 1 1 1 1 1 1 1 1 1 1\n",
      " 1 1 1 1 1 1 1 1 1 1 1 1 1 1 1 1 1 1 1 1 1 1 1 1 1 1 1 1 1 1 1 1 1 1 1 1 1\n",
      " 1 1 1 1 1 1 1 1 1 1 1 1 1 1 1 1 1 1 1 1 1 1 1 1 1 1 1 1 1 1 1 1 1 1 1 1 1\n",
      " 1 1 1 1 1 1 1 1 1 1 1 1 1 1 1 1 1 1 1 1 1 1 1 1 1 1 1 1 1 1 1 1 1 1 1 1 1\n",
      " 1 1 1 1 1 1 1 1 1 1 1 1 1 1 1 1 1 1 1 1 1 1 1 1 1 1 1 1 1 1 1 1 1 1 1 1 1\n",
      " 1 1 1 1 1 1 1 1 1 1 1 1 1 1 1 1 1 1 1 1 1 1 1 1 1 1 1 1 1 1 1 1 1 1 1 1 1\n",
      " 1 1 1 1 1 1 1 1 1 1 1 1 1 1 1 1 1 1 1]\n",
      "500\n"
     ]
    }
   ],
   "source": [
    "# Use this cell to examine one of the processed reviews to make sure everything is working as intended.\n",
    "print(train_X[1])\n",
    "print(len(train_X[1]))"
   ]
  },
  {
   "cell_type": "markdown",
   "metadata": {},
   "source": [
    "**Question:** In the cells above we use the `preprocess_data` and `convert_and_pad_data` methods to process both the training and testing set. Why or why not might this be a problem?"
   ]
  },
  {
   "cell_type": "markdown",
   "metadata": {},
   "source": [
    "**Answer:** This is not a problem. `preprocess_data` and `convert_and_pad_data` perform different functions. `preprocess_data` only converts each review to words, while `convert_and_pad_data` converts the words in sentences to their integer sequence representation "
   ]
  },
  {
   "cell_type": "markdown",
   "metadata": {},
   "source": [
    "## Step 3: Upload the data to S3\n",
    "\n",
    "As in the XGBoost notebook, we will need to upload the training dataset to S3 in order for our training code to access it. For now we will save it locally and we will upload to S3 later on.\n",
    "\n",
    "### Save the processed training dataset locally\n",
    "\n",
    "It is important to note the format of the data that we are saving as we will need to know it when we write the training code. In our case, each row of the dataset has the form `label`, `length`, `review[500]` where `review[500]` is a sequence of `500` integers representing the words in the review."
   ]
  },
  {
   "cell_type": "code",
   "execution_count": 33,
   "metadata": {},
   "outputs": [],
   "source": [
    "import pandas as pd\n",
    "    \n",
    "pd.concat([pd.DataFrame(train_y), pd.DataFrame(train_X_len), pd.DataFrame(train_X)], axis=1) \\\n",
    "        .to_csv(os.path.join(data_dir, 'train.csv'), header=False, index=False)"
   ]
  },
  {
   "cell_type": "markdown",
   "metadata": {},
   "source": [
    "### Uploading the training data\n",
    "\n",
    "\n",
    "Next, we need to upload the training data to the SageMaker default S3 bucket so that we can provide access to it while training our model."
   ]
  },
  {
   "cell_type": "code",
   "execution_count": 34,
   "metadata": {},
   "outputs": [
    {
     "ename": "NoCredentialsError",
     "evalue": "Unable to locate credentials",
     "output_type": "error",
     "traceback": [
      "\u001b[0;31m---------------------------------------------------------------------------\u001b[0m",
      "\u001b[0;31mNoCredentialsError\u001b[0m                        Traceback (most recent call last)",
      "\u001b[0;32m<ipython-input-34-44b92e9ccb48>\u001b[0m in \u001b[0;36m<module>\u001b[0;34m()\u001b[0m\n\u001b[1;32m      3\u001b[0m \u001b[0msagemaker_session\u001b[0m \u001b[0;34m=\u001b[0m \u001b[0msagemaker\u001b[0m\u001b[0;34m.\u001b[0m\u001b[0mSession\u001b[0m\u001b[0;34m(\u001b[0m\u001b[0;34m)\u001b[0m\u001b[0;34m\u001b[0m\u001b[0m\n\u001b[1;32m      4\u001b[0m \u001b[0;34m\u001b[0m\u001b[0m\n\u001b[0;32m----> 5\u001b[0;31m \u001b[0mbucket\u001b[0m \u001b[0;34m=\u001b[0m \u001b[0msagemaker_session\u001b[0m\u001b[0;34m.\u001b[0m\u001b[0mdefault_bucket\u001b[0m\u001b[0;34m(\u001b[0m\u001b[0;34m)\u001b[0m\u001b[0;34m\u001b[0m\u001b[0m\n\u001b[0m\u001b[1;32m      6\u001b[0m \u001b[0mprefix\u001b[0m \u001b[0;34m=\u001b[0m \u001b[0;34m'sagemaker/sentiment_rnn'\u001b[0m\u001b[0;34m\u001b[0m\u001b[0m\n\u001b[1;32m      7\u001b[0m \u001b[0;34m\u001b[0m\u001b[0m\n",
      "\u001b[0;32m~/anaconda3/envs/pytorch_p36/lib/python3.6/site-packages/sagemaker/session.py\u001b[0m in \u001b[0;36mdefault_bucket\u001b[0;34m(self)\u001b[0m\n\u001b[1;32m    339\u001b[0m         \u001b[0;32mif\u001b[0m \u001b[0;32mnot\u001b[0m \u001b[0mdefault_bucket\u001b[0m\u001b[0;34m:\u001b[0m\u001b[0;34m\u001b[0m\u001b[0m\n\u001b[1;32m    340\u001b[0m             account = self.boto_session.client(\n\u001b[0;32m--> 341\u001b[0;31m                 \u001b[0;34m\"sts\"\u001b[0m\u001b[0;34m,\u001b[0m \u001b[0mregion_name\u001b[0m\u001b[0;34m=\u001b[0m\u001b[0mregion\u001b[0m\u001b[0;34m,\u001b[0m \u001b[0mendpoint_url\u001b[0m\u001b[0;34m=\u001b[0m\u001b[0msts_regional_endpoint\u001b[0m\u001b[0;34m(\u001b[0m\u001b[0mregion\u001b[0m\u001b[0;34m)\u001b[0m\u001b[0;34m\u001b[0m\u001b[0m\n\u001b[0m\u001b[1;32m    342\u001b[0m             ).get_caller_identity()[\"Account\"]\n\u001b[1;32m    343\u001b[0m             \u001b[0mdefault_bucket\u001b[0m \u001b[0;34m=\u001b[0m \u001b[0;34m\"sagemaker-{}-{}\"\u001b[0m\u001b[0;34m.\u001b[0m\u001b[0mformat\u001b[0m\u001b[0;34m(\u001b[0m\u001b[0mregion\u001b[0m\u001b[0;34m,\u001b[0m \u001b[0maccount\u001b[0m\u001b[0;34m)\u001b[0m\u001b[0;34m\u001b[0m\u001b[0m\n",
      "\u001b[0;32m~/anaconda3/envs/pytorch_p36/lib/python3.6/site-packages/botocore/client.py\u001b[0m in \u001b[0;36m_api_call\u001b[0;34m(self, *args, **kwargs)\u001b[0m\n\u001b[1;32m    314\u001b[0m                     \"%s() only accepts keyword arguments.\" % py_operation_name)\n\u001b[1;32m    315\u001b[0m             \u001b[0;31m# The \"self\" in this scope is referring to the BaseClient.\u001b[0m\u001b[0;34m\u001b[0m\u001b[0;34m\u001b[0m\u001b[0m\n\u001b[0;32m--> 316\u001b[0;31m             \u001b[0;32mreturn\u001b[0m \u001b[0mself\u001b[0m\u001b[0;34m.\u001b[0m\u001b[0m_make_api_call\u001b[0m\u001b[0;34m(\u001b[0m\u001b[0moperation_name\u001b[0m\u001b[0;34m,\u001b[0m \u001b[0mkwargs\u001b[0m\u001b[0;34m)\u001b[0m\u001b[0;34m\u001b[0m\u001b[0m\n\u001b[0m\u001b[1;32m    317\u001b[0m \u001b[0;34m\u001b[0m\u001b[0m\n\u001b[1;32m    318\u001b[0m         \u001b[0m_api_call\u001b[0m\u001b[0;34m.\u001b[0m\u001b[0m__name__\u001b[0m \u001b[0;34m=\u001b[0m \u001b[0mstr\u001b[0m\u001b[0;34m(\u001b[0m\u001b[0mpy_operation_name\u001b[0m\u001b[0;34m)\u001b[0m\u001b[0;34m\u001b[0m\u001b[0m\n",
      "\u001b[0;32m~/anaconda3/envs/pytorch_p36/lib/python3.6/site-packages/botocore/client.py\u001b[0m in \u001b[0;36m_make_api_call\u001b[0;34m(self, operation_name, api_params)\u001b[0m\n\u001b[1;32m    611\u001b[0m         \u001b[0;32melse\u001b[0m\u001b[0;34m:\u001b[0m\u001b[0;34m\u001b[0m\u001b[0m\n\u001b[1;32m    612\u001b[0m             http, parsed_response = self._make_request(\n\u001b[0;32m--> 613\u001b[0;31m                 operation_model, request_dict, request_context)\n\u001b[0m\u001b[1;32m    614\u001b[0m \u001b[0;34m\u001b[0m\u001b[0m\n\u001b[1;32m    615\u001b[0m         self.meta.events.emit(\n",
      "\u001b[0;32m~/anaconda3/envs/pytorch_p36/lib/python3.6/site-packages/botocore/client.py\u001b[0m in \u001b[0;36m_make_request\u001b[0;34m(self, operation_model, request_dict, request_context)\u001b[0m\n\u001b[1;32m    630\u001b[0m     \u001b[0;32mdef\u001b[0m \u001b[0m_make_request\u001b[0m\u001b[0;34m(\u001b[0m\u001b[0mself\u001b[0m\u001b[0;34m,\u001b[0m \u001b[0moperation_model\u001b[0m\u001b[0;34m,\u001b[0m \u001b[0mrequest_dict\u001b[0m\u001b[0;34m,\u001b[0m \u001b[0mrequest_context\u001b[0m\u001b[0;34m)\u001b[0m\u001b[0;34m:\u001b[0m\u001b[0;34m\u001b[0m\u001b[0m\n\u001b[1;32m    631\u001b[0m         \u001b[0;32mtry\u001b[0m\u001b[0;34m:\u001b[0m\u001b[0;34m\u001b[0m\u001b[0m\n\u001b[0;32m--> 632\u001b[0;31m             \u001b[0;32mreturn\u001b[0m \u001b[0mself\u001b[0m\u001b[0;34m.\u001b[0m\u001b[0m_endpoint\u001b[0m\u001b[0;34m.\u001b[0m\u001b[0mmake_request\u001b[0m\u001b[0;34m(\u001b[0m\u001b[0moperation_model\u001b[0m\u001b[0;34m,\u001b[0m \u001b[0mrequest_dict\u001b[0m\u001b[0;34m)\u001b[0m\u001b[0;34m\u001b[0m\u001b[0m\n\u001b[0m\u001b[1;32m    633\u001b[0m         \u001b[0;32mexcept\u001b[0m \u001b[0mException\u001b[0m \u001b[0;32mas\u001b[0m \u001b[0me\u001b[0m\u001b[0;34m:\u001b[0m\u001b[0;34m\u001b[0m\u001b[0m\n\u001b[1;32m    634\u001b[0m             self.meta.events.emit(\n",
      "\u001b[0;32m~/anaconda3/envs/pytorch_p36/lib/python3.6/site-packages/botocore/endpoint.py\u001b[0m in \u001b[0;36mmake_request\u001b[0;34m(self, operation_model, request_dict)\u001b[0m\n\u001b[1;32m    100\u001b[0m         logger.debug(\"Making request for %s with params: %s\",\n\u001b[1;32m    101\u001b[0m                      operation_model, request_dict)\n\u001b[0;32m--> 102\u001b[0;31m         \u001b[0;32mreturn\u001b[0m \u001b[0mself\u001b[0m\u001b[0;34m.\u001b[0m\u001b[0m_send_request\u001b[0m\u001b[0;34m(\u001b[0m\u001b[0mrequest_dict\u001b[0m\u001b[0;34m,\u001b[0m \u001b[0moperation_model\u001b[0m\u001b[0;34m)\u001b[0m\u001b[0;34m\u001b[0m\u001b[0m\n\u001b[0m\u001b[1;32m    103\u001b[0m \u001b[0;34m\u001b[0m\u001b[0m\n\u001b[1;32m    104\u001b[0m     \u001b[0;32mdef\u001b[0m \u001b[0mcreate_request\u001b[0m\u001b[0;34m(\u001b[0m\u001b[0mself\u001b[0m\u001b[0;34m,\u001b[0m \u001b[0mparams\u001b[0m\u001b[0;34m,\u001b[0m \u001b[0moperation_model\u001b[0m\u001b[0;34m=\u001b[0m\u001b[0;32mNone\u001b[0m\u001b[0;34m)\u001b[0m\u001b[0;34m:\u001b[0m\u001b[0;34m\u001b[0m\u001b[0m\n",
      "\u001b[0;32m~/anaconda3/envs/pytorch_p36/lib/python3.6/site-packages/botocore/endpoint.py\u001b[0m in \u001b[0;36m_send_request\u001b[0;34m(self, request_dict, operation_model)\u001b[0m\n\u001b[1;32m    130\u001b[0m     \u001b[0;32mdef\u001b[0m \u001b[0m_send_request\u001b[0m\u001b[0;34m(\u001b[0m\u001b[0mself\u001b[0m\u001b[0;34m,\u001b[0m \u001b[0mrequest_dict\u001b[0m\u001b[0;34m,\u001b[0m \u001b[0moperation_model\u001b[0m\u001b[0;34m)\u001b[0m\u001b[0;34m:\u001b[0m\u001b[0;34m\u001b[0m\u001b[0m\n\u001b[1;32m    131\u001b[0m         \u001b[0mattempts\u001b[0m \u001b[0;34m=\u001b[0m \u001b[0;36m1\u001b[0m\u001b[0;34m\u001b[0m\u001b[0m\n\u001b[0;32m--> 132\u001b[0;31m         \u001b[0mrequest\u001b[0m \u001b[0;34m=\u001b[0m \u001b[0mself\u001b[0m\u001b[0;34m.\u001b[0m\u001b[0mcreate_request\u001b[0m\u001b[0;34m(\u001b[0m\u001b[0mrequest_dict\u001b[0m\u001b[0;34m,\u001b[0m \u001b[0moperation_model\u001b[0m\u001b[0;34m)\u001b[0m\u001b[0;34m\u001b[0m\u001b[0m\n\u001b[0m\u001b[1;32m    133\u001b[0m         \u001b[0mcontext\u001b[0m \u001b[0;34m=\u001b[0m \u001b[0mrequest_dict\u001b[0m\u001b[0;34m[\u001b[0m\u001b[0;34m'context'\u001b[0m\u001b[0;34m]\u001b[0m\u001b[0;34m\u001b[0m\u001b[0m\n\u001b[1;32m    134\u001b[0m         success_response, exception = self._get_response(\n",
      "\u001b[0;32m~/anaconda3/envs/pytorch_p36/lib/python3.6/site-packages/botocore/endpoint.py\u001b[0m in \u001b[0;36mcreate_request\u001b[0;34m(self, params, operation_model)\u001b[0m\n\u001b[1;32m    114\u001b[0m                 op_name=operation_model.name)\n\u001b[1;32m    115\u001b[0m             self._event_emitter.emit(event_name, request=request,\n\u001b[0;32m--> 116\u001b[0;31m                                      operation_name=operation_model.name)\n\u001b[0m\u001b[1;32m    117\u001b[0m         \u001b[0mprepared_request\u001b[0m \u001b[0;34m=\u001b[0m \u001b[0mself\u001b[0m\u001b[0;34m.\u001b[0m\u001b[0mprepare_request\u001b[0m\u001b[0;34m(\u001b[0m\u001b[0mrequest\u001b[0m\u001b[0;34m)\u001b[0m\u001b[0;34m\u001b[0m\u001b[0m\n\u001b[1;32m    118\u001b[0m         \u001b[0;32mreturn\u001b[0m \u001b[0mprepared_request\u001b[0m\u001b[0;34m\u001b[0m\u001b[0m\n",
      "\u001b[0;32m~/anaconda3/envs/pytorch_p36/lib/python3.6/site-packages/botocore/hooks.py\u001b[0m in \u001b[0;36memit\u001b[0;34m(self, event_name, **kwargs)\u001b[0m\n\u001b[1;32m    354\u001b[0m     \u001b[0;32mdef\u001b[0m \u001b[0memit\u001b[0m\u001b[0;34m(\u001b[0m\u001b[0mself\u001b[0m\u001b[0;34m,\u001b[0m \u001b[0mevent_name\u001b[0m\u001b[0;34m,\u001b[0m \u001b[0;34m**\u001b[0m\u001b[0mkwargs\u001b[0m\u001b[0;34m)\u001b[0m\u001b[0;34m:\u001b[0m\u001b[0;34m\u001b[0m\u001b[0m\n\u001b[1;32m    355\u001b[0m         \u001b[0maliased_event_name\u001b[0m \u001b[0;34m=\u001b[0m \u001b[0mself\u001b[0m\u001b[0;34m.\u001b[0m\u001b[0m_alias_event_name\u001b[0m\u001b[0;34m(\u001b[0m\u001b[0mevent_name\u001b[0m\u001b[0;34m)\u001b[0m\u001b[0;34m\u001b[0m\u001b[0m\n\u001b[0;32m--> 356\u001b[0;31m         \u001b[0;32mreturn\u001b[0m \u001b[0mself\u001b[0m\u001b[0;34m.\u001b[0m\u001b[0m_emitter\u001b[0m\u001b[0;34m.\u001b[0m\u001b[0memit\u001b[0m\u001b[0;34m(\u001b[0m\u001b[0maliased_event_name\u001b[0m\u001b[0;34m,\u001b[0m \u001b[0;34m**\u001b[0m\u001b[0mkwargs\u001b[0m\u001b[0;34m)\u001b[0m\u001b[0;34m\u001b[0m\u001b[0m\n\u001b[0m\u001b[1;32m    357\u001b[0m \u001b[0;34m\u001b[0m\u001b[0m\n\u001b[1;32m    358\u001b[0m     \u001b[0;32mdef\u001b[0m \u001b[0memit_until_response\u001b[0m\u001b[0;34m(\u001b[0m\u001b[0mself\u001b[0m\u001b[0;34m,\u001b[0m \u001b[0mevent_name\u001b[0m\u001b[0;34m,\u001b[0m \u001b[0;34m**\u001b[0m\u001b[0mkwargs\u001b[0m\u001b[0;34m)\u001b[0m\u001b[0;34m:\u001b[0m\u001b[0;34m\u001b[0m\u001b[0m\n",
      "\u001b[0;32m~/anaconda3/envs/pytorch_p36/lib/python3.6/site-packages/botocore/hooks.py\u001b[0m in \u001b[0;36memit\u001b[0;34m(self, event_name, **kwargs)\u001b[0m\n\u001b[1;32m    226\u001b[0m                  \u001b[0mhandlers\u001b[0m\u001b[0;34m.\u001b[0m\u001b[0;34m\u001b[0m\u001b[0m\n\u001b[1;32m    227\u001b[0m         \"\"\"\n\u001b[0;32m--> 228\u001b[0;31m         \u001b[0;32mreturn\u001b[0m \u001b[0mself\u001b[0m\u001b[0;34m.\u001b[0m\u001b[0m_emit\u001b[0m\u001b[0;34m(\u001b[0m\u001b[0mevent_name\u001b[0m\u001b[0;34m,\u001b[0m \u001b[0mkwargs\u001b[0m\u001b[0;34m)\u001b[0m\u001b[0;34m\u001b[0m\u001b[0m\n\u001b[0m\u001b[1;32m    229\u001b[0m \u001b[0;34m\u001b[0m\u001b[0m\n\u001b[1;32m    230\u001b[0m     \u001b[0;32mdef\u001b[0m \u001b[0memit_until_response\u001b[0m\u001b[0;34m(\u001b[0m\u001b[0mself\u001b[0m\u001b[0;34m,\u001b[0m \u001b[0mevent_name\u001b[0m\u001b[0;34m,\u001b[0m \u001b[0;34m**\u001b[0m\u001b[0mkwargs\u001b[0m\u001b[0;34m)\u001b[0m\u001b[0;34m:\u001b[0m\u001b[0;34m\u001b[0m\u001b[0m\n",
      "\u001b[0;32m~/anaconda3/envs/pytorch_p36/lib/python3.6/site-packages/botocore/hooks.py\u001b[0m in \u001b[0;36m_emit\u001b[0;34m(self, event_name, kwargs, stop_on_response)\u001b[0m\n\u001b[1;32m    209\u001b[0m         \u001b[0;32mfor\u001b[0m \u001b[0mhandler\u001b[0m \u001b[0;32min\u001b[0m \u001b[0mhandlers_to_call\u001b[0m\u001b[0;34m:\u001b[0m\u001b[0;34m\u001b[0m\u001b[0m\n\u001b[1;32m    210\u001b[0m             \u001b[0mlogger\u001b[0m\u001b[0;34m.\u001b[0m\u001b[0mdebug\u001b[0m\u001b[0;34m(\u001b[0m\u001b[0;34m'Event %s: calling handler %s'\u001b[0m\u001b[0;34m,\u001b[0m \u001b[0mevent_name\u001b[0m\u001b[0;34m,\u001b[0m \u001b[0mhandler\u001b[0m\u001b[0;34m)\u001b[0m\u001b[0;34m\u001b[0m\u001b[0m\n\u001b[0;32m--> 211\u001b[0;31m             \u001b[0mresponse\u001b[0m \u001b[0;34m=\u001b[0m \u001b[0mhandler\u001b[0m\u001b[0;34m(\u001b[0m\u001b[0;34m**\u001b[0m\u001b[0mkwargs\u001b[0m\u001b[0;34m)\u001b[0m\u001b[0;34m\u001b[0m\u001b[0m\n\u001b[0m\u001b[1;32m    212\u001b[0m             \u001b[0mresponses\u001b[0m\u001b[0;34m.\u001b[0m\u001b[0mappend\u001b[0m\u001b[0;34m(\u001b[0m\u001b[0;34m(\u001b[0m\u001b[0mhandler\u001b[0m\u001b[0;34m,\u001b[0m \u001b[0mresponse\u001b[0m\u001b[0;34m)\u001b[0m\u001b[0;34m)\u001b[0m\u001b[0;34m\u001b[0m\u001b[0m\n\u001b[1;32m    213\u001b[0m             \u001b[0;32mif\u001b[0m \u001b[0mstop_on_response\u001b[0m \u001b[0;32mand\u001b[0m \u001b[0mresponse\u001b[0m \u001b[0;32mis\u001b[0m \u001b[0;32mnot\u001b[0m \u001b[0;32mNone\u001b[0m\u001b[0;34m:\u001b[0m\u001b[0;34m\u001b[0m\u001b[0m\n",
      "\u001b[0;32m~/anaconda3/envs/pytorch_p36/lib/python3.6/site-packages/botocore/signers.py\u001b[0m in \u001b[0;36mhandler\u001b[0;34m(self, operation_name, request, **kwargs)\u001b[0m\n\u001b[1;32m     88\u001b[0m         \u001b[0;31m# this method is invoked to sign the request.\u001b[0m\u001b[0;34m\u001b[0m\u001b[0;34m\u001b[0m\u001b[0m\n\u001b[1;32m     89\u001b[0m         \u001b[0;31m# Don't call this method directly.\u001b[0m\u001b[0;34m\u001b[0m\u001b[0;34m\u001b[0m\u001b[0m\n\u001b[0;32m---> 90\u001b[0;31m         \u001b[0;32mreturn\u001b[0m \u001b[0mself\u001b[0m\u001b[0;34m.\u001b[0m\u001b[0msign\u001b[0m\u001b[0;34m(\u001b[0m\u001b[0moperation_name\u001b[0m\u001b[0;34m,\u001b[0m \u001b[0mrequest\u001b[0m\u001b[0;34m)\u001b[0m\u001b[0;34m\u001b[0m\u001b[0m\n\u001b[0m\u001b[1;32m     91\u001b[0m \u001b[0;34m\u001b[0m\u001b[0m\n\u001b[1;32m     92\u001b[0m     def sign(self, operation_name, request, region_name=None,\n",
      "\u001b[0;32m~/anaconda3/envs/pytorch_p36/lib/python3.6/site-packages/botocore/signers.py\u001b[0m in \u001b[0;36msign\u001b[0;34m(self, operation_name, request, region_name, signing_type, expires_in, signing_name)\u001b[0m\n\u001b[1;32m    158\u001b[0m                     \u001b[0;32mraise\u001b[0m \u001b[0me\u001b[0m\u001b[0;34m\u001b[0m\u001b[0m\n\u001b[1;32m    159\u001b[0m \u001b[0;34m\u001b[0m\u001b[0m\n\u001b[0;32m--> 160\u001b[0;31m             \u001b[0mauth\u001b[0m\u001b[0;34m.\u001b[0m\u001b[0madd_auth\u001b[0m\u001b[0;34m(\u001b[0m\u001b[0mrequest\u001b[0m\u001b[0;34m)\u001b[0m\u001b[0;34m\u001b[0m\u001b[0m\n\u001b[0m\u001b[1;32m    161\u001b[0m \u001b[0;34m\u001b[0m\u001b[0m\n\u001b[1;32m    162\u001b[0m     \u001b[0;32mdef\u001b[0m \u001b[0m_choose_signer\u001b[0m\u001b[0;34m(\u001b[0m\u001b[0mself\u001b[0m\u001b[0;34m,\u001b[0m \u001b[0moperation_name\u001b[0m\u001b[0;34m,\u001b[0m \u001b[0msigning_type\u001b[0m\u001b[0;34m,\u001b[0m \u001b[0mcontext\u001b[0m\u001b[0;34m)\u001b[0m\u001b[0;34m:\u001b[0m\u001b[0;34m\u001b[0m\u001b[0m\n",
      "\u001b[0;32m~/anaconda3/envs/pytorch_p36/lib/python3.6/site-packages/botocore/auth.py\u001b[0m in \u001b[0;36madd_auth\u001b[0;34m(self, request)\u001b[0m\n\u001b[1;32m    355\u001b[0m     \u001b[0;32mdef\u001b[0m \u001b[0madd_auth\u001b[0m\u001b[0;34m(\u001b[0m\u001b[0mself\u001b[0m\u001b[0;34m,\u001b[0m \u001b[0mrequest\u001b[0m\u001b[0;34m)\u001b[0m\u001b[0;34m:\u001b[0m\u001b[0;34m\u001b[0m\u001b[0m\n\u001b[1;32m    356\u001b[0m         \u001b[0;32mif\u001b[0m \u001b[0mself\u001b[0m\u001b[0;34m.\u001b[0m\u001b[0mcredentials\u001b[0m \u001b[0;32mis\u001b[0m \u001b[0;32mNone\u001b[0m\u001b[0;34m:\u001b[0m\u001b[0;34m\u001b[0m\u001b[0m\n\u001b[0;32m--> 357\u001b[0;31m             \u001b[0;32mraise\u001b[0m \u001b[0mNoCredentialsError\u001b[0m\u001b[0;34m\u001b[0m\u001b[0m\n\u001b[0m\u001b[1;32m    358\u001b[0m         \u001b[0mdatetime_now\u001b[0m \u001b[0;34m=\u001b[0m \u001b[0mdatetime\u001b[0m\u001b[0;34m.\u001b[0m\u001b[0mdatetime\u001b[0m\u001b[0;34m.\u001b[0m\u001b[0mutcnow\u001b[0m\u001b[0;34m(\u001b[0m\u001b[0;34m)\u001b[0m\u001b[0;34m\u001b[0m\u001b[0m\n\u001b[1;32m    359\u001b[0m         \u001b[0mrequest\u001b[0m\u001b[0;34m.\u001b[0m\u001b[0mcontext\u001b[0m\u001b[0;34m[\u001b[0m\u001b[0;34m'timestamp'\u001b[0m\u001b[0;34m]\u001b[0m \u001b[0;34m=\u001b[0m \u001b[0mdatetime_now\u001b[0m\u001b[0;34m.\u001b[0m\u001b[0mstrftime\u001b[0m\u001b[0;34m(\u001b[0m\u001b[0mSIGV4_TIMESTAMP\u001b[0m\u001b[0;34m)\u001b[0m\u001b[0;34m\u001b[0m\u001b[0m\n",
      "\u001b[0;31mNoCredentialsError\u001b[0m: Unable to locate credentials"
     ]
    }
   ],
   "source": [
    "import sagemaker\n",
    "\n",
    "sagemaker_session = sagemaker.Session()\n",
    "\n",
    "bucket = sagemaker_session.default_bucket()\n",
    "prefix = 'sagemaker/sentiment_rnn'\n",
    "\n",
    "role = sagemaker.get_execution_role()"
   ]
  },
  {
   "cell_type": "code",
   "execution_count": 42,
   "metadata": {},
   "outputs": [],
   "source": [
    "input_data = sagemaker_session.upload_data(path=data_dir, bucket=bucket, key_prefix=prefix)"
   ]
  },
  {
   "cell_type": "markdown",
   "metadata": {},
   "source": [
    "**NOTE:** The cell above uploads the entire contents of our data directory. This includes the `word_dict.pkl` file. This is fortunate as we will need this later on when we create an endpoint that accepts an arbitrary review. For now, we will just take note of the fact that it resides in the data directory (and so also in the S3 training bucket) and that we will need to make sure it gets saved in the model directory."
   ]
  },
  {
   "cell_type": "markdown",
   "metadata": {},
   "source": [
    "## Step 4: Build and Train the PyTorch Model\n",
    "\n",
    "In the XGBoost notebook we discussed what a model is in the SageMaker framework. In particular, a model comprises three objects\n",
    "\n",
    " - Model Artifacts,\n",
    " - Training Code, and\n",
    " - Inference Code,\n",
    " \n",
    "each of which interact with one another. In the XGBoost example we used training and inference code that was provided by Amazon. Here we will still be using containers provided by Amazon with the added benefit of being able to include our own custom code.\n",
    "\n",
    "We will start by implementing our own neural network in PyTorch along with a training script. For the purposes of this project we have provided the necessary model object in the `model.py` file, inside of the `train` folder. You can see the provided implementation by running the cell below."
   ]
  },
  {
   "cell_type": "code",
   "execution_count": 44,
   "metadata": {},
   "outputs": [
    {
     "ename": "OSError",
     "evalue": "[Errno 12] Cannot allocate memory",
     "output_type": "error",
     "traceback": [
      "\u001b[0;31m---------------------------------------------------------------------------\u001b[0m",
      "\u001b[0;31mOSError\u001b[0m                                   Traceback (most recent call last)",
      "\u001b[0;32m<ipython-input-44-58a34af6c40e>\u001b[0m in \u001b[0;36m<module>\u001b[0;34m()\u001b[0m\n\u001b[0;32m----> 1\u001b[0;31m \u001b[0mget_ipython\u001b[0m\u001b[0;34m(\u001b[0m\u001b[0;34m)\u001b[0m\u001b[0;34m.\u001b[0m\u001b[0msystem\u001b[0m\u001b[0;34m(\u001b[0m\u001b[0;34m'pygmentize train/model.py'\u001b[0m\u001b[0;34m)\u001b[0m\u001b[0;34m\u001b[0m\u001b[0m\n\u001b[0m",
      "\u001b[0;32m~/anaconda3/envs/pytorch_p36/lib/python3.6/site-packages/IPython/core/interactiveshell.py\u001b[0m in \u001b[0;36msystem_piped\u001b[0;34m(self, cmd)\u001b[0m\n\u001b[1;32m   2259\u001b[0m         \u001b[0;31m# a non-None value would trigger :func:`sys.displayhook` calls.\u001b[0m\u001b[0;34m\u001b[0m\u001b[0;34m\u001b[0m\u001b[0m\n\u001b[1;32m   2260\u001b[0m         \u001b[0;31m# Instead, we store the exit_code in user_ns.\u001b[0m\u001b[0;34m\u001b[0m\u001b[0;34m\u001b[0m\u001b[0m\n\u001b[0;32m-> 2261\u001b[0;31m         \u001b[0mself\u001b[0m\u001b[0;34m.\u001b[0m\u001b[0muser_ns\u001b[0m\u001b[0;34m[\u001b[0m\u001b[0;34m'_exit_code'\u001b[0m\u001b[0;34m]\u001b[0m \u001b[0;34m=\u001b[0m \u001b[0msystem\u001b[0m\u001b[0;34m(\u001b[0m\u001b[0mself\u001b[0m\u001b[0;34m.\u001b[0m\u001b[0mvar_expand\u001b[0m\u001b[0;34m(\u001b[0m\u001b[0mcmd\u001b[0m\u001b[0;34m,\u001b[0m \u001b[0mdepth\u001b[0m\u001b[0;34m=\u001b[0m\u001b[0;36m1\u001b[0m\u001b[0;34m)\u001b[0m\u001b[0;34m)\u001b[0m\u001b[0;34m\u001b[0m\u001b[0m\n\u001b[0m\u001b[1;32m   2262\u001b[0m \u001b[0;34m\u001b[0m\u001b[0m\n\u001b[1;32m   2263\u001b[0m     \u001b[0;32mdef\u001b[0m \u001b[0msystem_raw\u001b[0m\u001b[0;34m(\u001b[0m\u001b[0mself\u001b[0m\u001b[0;34m,\u001b[0m \u001b[0mcmd\u001b[0m\u001b[0;34m)\u001b[0m\u001b[0;34m:\u001b[0m\u001b[0;34m\u001b[0m\u001b[0m\n",
      "\u001b[0;32m~/anaconda3/envs/pytorch_p36/lib/python3.6/site-packages/IPython/utils/_process_posix.py\u001b[0m in \u001b[0;36msystem\u001b[0;34m(self, cmd)\u001b[0m\n\u001b[1;32m    154\u001b[0m                 \u001b[0mchild\u001b[0m \u001b[0;34m=\u001b[0m \u001b[0mpexpect\u001b[0m\u001b[0;34m.\u001b[0m\u001b[0mspawnb\u001b[0m\u001b[0;34m(\u001b[0m\u001b[0mself\u001b[0m\u001b[0;34m.\u001b[0m\u001b[0msh\u001b[0m\u001b[0;34m,\u001b[0m \u001b[0margs\u001b[0m\u001b[0;34m=\u001b[0m\u001b[0;34m[\u001b[0m\u001b[0;34m'-c'\u001b[0m\u001b[0;34m,\u001b[0m \u001b[0mcmd\u001b[0m\u001b[0;34m]\u001b[0m\u001b[0;34m)\u001b[0m \u001b[0;31m# Pexpect-U\u001b[0m\u001b[0;34m\u001b[0m\u001b[0m\n\u001b[1;32m    155\u001b[0m             \u001b[0;32melse\u001b[0m\u001b[0;34m:\u001b[0m\u001b[0;34m\u001b[0m\u001b[0m\n\u001b[0;32m--> 156\u001b[0;31m                 \u001b[0mchild\u001b[0m \u001b[0;34m=\u001b[0m \u001b[0mpexpect\u001b[0m\u001b[0;34m.\u001b[0m\u001b[0mspawn\u001b[0m\u001b[0;34m(\u001b[0m\u001b[0mself\u001b[0m\u001b[0;34m.\u001b[0m\u001b[0msh\u001b[0m\u001b[0;34m,\u001b[0m \u001b[0margs\u001b[0m\u001b[0;34m=\u001b[0m\u001b[0;34m[\u001b[0m\u001b[0;34m'-c'\u001b[0m\u001b[0;34m,\u001b[0m \u001b[0mcmd\u001b[0m\u001b[0;34m]\u001b[0m\u001b[0;34m)\u001b[0m  \u001b[0;31m# Vanilla Pexpect\u001b[0m\u001b[0;34m\u001b[0m\u001b[0m\n\u001b[0m\u001b[1;32m    157\u001b[0m             \u001b[0mflush\u001b[0m \u001b[0;34m=\u001b[0m \u001b[0msys\u001b[0m\u001b[0;34m.\u001b[0m\u001b[0mstdout\u001b[0m\u001b[0;34m.\u001b[0m\u001b[0mflush\u001b[0m\u001b[0;34m\u001b[0m\u001b[0m\n\u001b[1;32m    158\u001b[0m             \u001b[0;32mwhile\u001b[0m \u001b[0;32mTrue\u001b[0m\u001b[0;34m:\u001b[0m\u001b[0;34m\u001b[0m\u001b[0m\n",
      "\u001b[0;32m~/anaconda3/envs/pytorch_p36/lib/python3.6/site-packages/pexpect/pty_spawn.py\u001b[0m in \u001b[0;36m__init__\u001b[0;34m(self, command, args, timeout, maxread, searchwindowsize, logfile, cwd, env, ignore_sighup, echo, preexec_fn, encoding, codec_errors, dimensions, use_poll)\u001b[0m\n\u001b[1;32m    202\u001b[0m             \u001b[0mself\u001b[0m\u001b[0;34m.\u001b[0m\u001b[0mname\u001b[0m \u001b[0;34m=\u001b[0m \u001b[0;34m'<pexpect factory incomplete>'\u001b[0m\u001b[0;34m\u001b[0m\u001b[0m\n\u001b[1;32m    203\u001b[0m         \u001b[0;32melse\u001b[0m\u001b[0;34m:\u001b[0m\u001b[0;34m\u001b[0m\u001b[0m\n\u001b[0;32m--> 204\u001b[0;31m             \u001b[0mself\u001b[0m\u001b[0;34m.\u001b[0m\u001b[0m_spawn\u001b[0m\u001b[0;34m(\u001b[0m\u001b[0mcommand\u001b[0m\u001b[0;34m,\u001b[0m \u001b[0margs\u001b[0m\u001b[0;34m,\u001b[0m \u001b[0mpreexec_fn\u001b[0m\u001b[0;34m,\u001b[0m \u001b[0mdimensions\u001b[0m\u001b[0;34m)\u001b[0m\u001b[0;34m\u001b[0m\u001b[0m\n\u001b[0m\u001b[1;32m    205\u001b[0m         \u001b[0mself\u001b[0m\u001b[0;34m.\u001b[0m\u001b[0muse_poll\u001b[0m \u001b[0;34m=\u001b[0m \u001b[0muse_poll\u001b[0m\u001b[0;34m\u001b[0m\u001b[0m\n\u001b[1;32m    206\u001b[0m \u001b[0;34m\u001b[0m\u001b[0m\n",
      "\u001b[0;32m~/anaconda3/envs/pytorch_p36/lib/python3.6/site-packages/pexpect/pty_spawn.py\u001b[0m in \u001b[0;36m_spawn\u001b[0;34m(self, command, args, preexec_fn, dimensions)\u001b[0m\n\u001b[1;32m    301\u001b[0m \u001b[0;34m\u001b[0m\u001b[0m\n\u001b[1;32m    302\u001b[0m         self.ptyproc = self._spawnpty(self.args, env=self.env,\n\u001b[0;32m--> 303\u001b[0;31m                                      cwd=self.cwd, **kwargs)\n\u001b[0m\u001b[1;32m    304\u001b[0m \u001b[0;34m\u001b[0m\u001b[0m\n\u001b[1;32m    305\u001b[0m         \u001b[0mself\u001b[0m\u001b[0;34m.\u001b[0m\u001b[0mpid\u001b[0m \u001b[0;34m=\u001b[0m \u001b[0mself\u001b[0m\u001b[0;34m.\u001b[0m\u001b[0mptyproc\u001b[0m\u001b[0;34m.\u001b[0m\u001b[0mpid\u001b[0m\u001b[0;34m\u001b[0m\u001b[0m\n",
      "\u001b[0;32m~/anaconda3/envs/pytorch_p36/lib/python3.6/site-packages/pexpect/pty_spawn.py\u001b[0m in \u001b[0;36m_spawnpty\u001b[0;34m(self, args, **kwargs)\u001b[0m\n\u001b[1;32m    312\u001b[0m     \u001b[0;32mdef\u001b[0m \u001b[0m_spawnpty\u001b[0m\u001b[0;34m(\u001b[0m\u001b[0mself\u001b[0m\u001b[0;34m,\u001b[0m \u001b[0margs\u001b[0m\u001b[0;34m,\u001b[0m \u001b[0;34m**\u001b[0m\u001b[0mkwargs\u001b[0m\u001b[0;34m)\u001b[0m\u001b[0;34m:\u001b[0m\u001b[0;34m\u001b[0m\u001b[0m\n\u001b[1;32m    313\u001b[0m         \u001b[0;34m'''Spawn a pty and return an instance of PtyProcess.'''\u001b[0m\u001b[0;34m\u001b[0m\u001b[0m\n\u001b[0;32m--> 314\u001b[0;31m         \u001b[0;32mreturn\u001b[0m \u001b[0mptyprocess\u001b[0m\u001b[0;34m.\u001b[0m\u001b[0mPtyProcess\u001b[0m\u001b[0;34m.\u001b[0m\u001b[0mspawn\u001b[0m\u001b[0;34m(\u001b[0m\u001b[0margs\u001b[0m\u001b[0;34m,\u001b[0m \u001b[0;34m**\u001b[0m\u001b[0mkwargs\u001b[0m\u001b[0;34m)\u001b[0m\u001b[0;34m\u001b[0m\u001b[0m\n\u001b[0m\u001b[1;32m    315\u001b[0m \u001b[0;34m\u001b[0m\u001b[0m\n\u001b[1;32m    316\u001b[0m     \u001b[0;32mdef\u001b[0m \u001b[0mclose\u001b[0m\u001b[0;34m(\u001b[0m\u001b[0mself\u001b[0m\u001b[0;34m,\u001b[0m \u001b[0mforce\u001b[0m\u001b[0;34m=\u001b[0m\u001b[0;32mTrue\u001b[0m\u001b[0;34m)\u001b[0m\u001b[0;34m:\u001b[0m\u001b[0;34m\u001b[0m\u001b[0m\n",
      "\u001b[0;32m~/anaconda3/envs/pytorch_p36/lib/python3.6/site-packages/ptyprocess/ptyprocess.py\u001b[0m in \u001b[0;36mspawn\u001b[0;34m(cls, argv, cwd, env, echo, preexec_fn, dimensions)\u001b[0m\n\u001b[1;32m    220\u001b[0m \u001b[0;34m\u001b[0m\u001b[0m\n\u001b[1;32m    221\u001b[0m         \u001b[0;32mif\u001b[0m \u001b[0muse_native_pty_fork\u001b[0m\u001b[0;34m:\u001b[0m\u001b[0;34m\u001b[0m\u001b[0m\n\u001b[0;32m--> 222\u001b[0;31m             \u001b[0mpid\u001b[0m\u001b[0;34m,\u001b[0m \u001b[0mfd\u001b[0m \u001b[0;34m=\u001b[0m \u001b[0mpty\u001b[0m\u001b[0;34m.\u001b[0m\u001b[0mfork\u001b[0m\u001b[0;34m(\u001b[0m\u001b[0;34m)\u001b[0m\u001b[0;34m\u001b[0m\u001b[0m\n\u001b[0m\u001b[1;32m    223\u001b[0m         \u001b[0;32melse\u001b[0m\u001b[0;34m:\u001b[0m\u001b[0;34m\u001b[0m\u001b[0m\n\u001b[1;32m    224\u001b[0m             \u001b[0;31m# Use internal fork_pty, for Solaris\u001b[0m\u001b[0;34m\u001b[0m\u001b[0;34m\u001b[0m\u001b[0m\n",
      "\u001b[0;32m~/anaconda3/envs/pytorch_p36/lib/python3.6/pty.py\u001b[0m in \u001b[0;36mfork\u001b[0;34m()\u001b[0m\n\u001b[1;32m     95\u001b[0m \u001b[0;34m\u001b[0m\u001b[0m\n\u001b[1;32m     96\u001b[0m     \u001b[0mmaster_fd\u001b[0m\u001b[0;34m,\u001b[0m \u001b[0mslave_fd\u001b[0m \u001b[0;34m=\u001b[0m \u001b[0mopenpty\u001b[0m\u001b[0;34m(\u001b[0m\u001b[0;34m)\u001b[0m\u001b[0;34m\u001b[0m\u001b[0m\n\u001b[0;32m---> 97\u001b[0;31m     \u001b[0mpid\u001b[0m \u001b[0;34m=\u001b[0m \u001b[0mos\u001b[0m\u001b[0;34m.\u001b[0m\u001b[0mfork\u001b[0m\u001b[0;34m(\u001b[0m\u001b[0;34m)\u001b[0m\u001b[0;34m\u001b[0m\u001b[0m\n\u001b[0m\u001b[1;32m     98\u001b[0m     \u001b[0;32mif\u001b[0m \u001b[0mpid\u001b[0m \u001b[0;34m==\u001b[0m \u001b[0mCHILD\u001b[0m\u001b[0;34m:\u001b[0m\u001b[0;34m\u001b[0m\u001b[0m\n\u001b[1;32m     99\u001b[0m         \u001b[0;31m# Establish a new session.\u001b[0m\u001b[0;34m\u001b[0m\u001b[0;34m\u001b[0m\u001b[0m\n",
      "\u001b[0;31mOSError\u001b[0m: [Errno 12] Cannot allocate memory"
     ]
    }
   ],
   "source": [
    "!pygmentize train/model.py"
   ]
  },
  {
   "cell_type": "markdown",
   "metadata": {},
   "source": [
    "The important takeaway from the implementation provided is that there are three parameters that we may wish to tweak to improve the performance of our model. These are the embedding dimension, the hidden dimension and the size of the vocabulary. We will likely want to make these parameters configurable in the training script so that if we wish to modify them we do not need to modify the script itself. We will see how to do this later on. To start we will write some of the training code in the notebook so that we can more easily diagnose any issues that arise.\n",
    "\n",
    "First we will load a small portion of the training data set to use as a sample. It would be very time consuming to try and train the model completely in the notebook as we do not have access to a gpu and the compute instance that we are using is not particularly powerful. However, we can work on a small bit of the data to get a feel for how our training script is behaving."
   ]
  },
  {
   "cell_type": "code",
   "execution_count": null,
   "metadata": {},
   "outputs": [],
   "source": [
    "import torch\n",
    "import torch.utils.data\n",
    "\n",
    "# Read in only the first 250 rows\n",
    "train_sample = pd.read_csv(os.path.join(data_dir, 'train.csv'), header=None, names=None, nrows=250)\n",
    "\n",
    "# Turn the input pandas dataframe into tensors\n",
    "train_sample_y = torch.from_numpy(train_sample[[0]].values).float().squeeze()\n",
    "train_sample_X = torch.from_numpy(train_sample.drop([0], axis=1).values).long()\n",
    "\n",
    "# Build the dataset\n",
    "train_sample_ds = torch.utils.data.TensorDataset(train_sample_X, train_sample_y)\n",
    "# Build the dataloader\n",
    "train_sample_dl = torch.utils.data.DataLoader(train_sample_ds, batch_size=50)"
   ]
  },
  {
   "cell_type": "markdown",
   "metadata": {},
   "source": [
    "### (TODO) Writing the training method\n",
    "\n",
    "Next we need to write the training code itself. This should be very similar to training methods that you have written before to train PyTorch models. We will leave any difficult aspects such as model saving / loading and parameter loading until a little later."
   ]
  },
  {
   "cell_type": "code",
   "execution_count": null,
   "metadata": {},
   "outputs": [],
   "source": [
    "def train(model, train_loader, epochs, optimizer, loss_fn, device):\n",
    "    for epoch in range(1, epochs + 1):\n",
    "        model.train()\n",
    "        total_loss = 0\n",
    "        for batch in train_loader:         \n",
    "            batch_X, batch_y = batch\n",
    "            \n",
    "            batch_X = batch_X.to(device)\n",
    "            batch_y = batch_y.to(device)\n",
    "            \n",
    "            # TODO: Complete this train method to train the model provided.\n",
    "            \n",
    "            total_loss += loss.data.item()\n",
    "        print(\"Epoch: {}, BCELoss: {}\".format(epoch, total_loss / len(train_loader)))"
   ]
  },
  {
   "cell_type": "markdown",
   "metadata": {},
   "source": [
    "Supposing we have the training method above, we will test that it is working by writing a bit of code in the notebook that executes our training method on the small sample training set that we loaded earlier. The reason for doing this in the notebook is so that we have an opportunity to fix any errors that arise early when they are easier to diagnose."
   ]
  },
  {
   "cell_type": "code",
   "execution_count": null,
   "metadata": {},
   "outputs": [],
   "source": [
    "import torch.optim as optim\n",
    "from train.model import LSTMClassifier\n",
    "\n",
    "device = torch.device(\"cuda\" if torch.cuda.is_available() else \"cpu\")\n",
    "model = LSTMClassifier(32, 100, 5000).to(device)\n",
    "optimizer = optim.Adam(model.parameters())\n",
    "loss_fn = torch.nn.BCELoss()\n",
    "\n",
    "train(model, train_sample_dl, 5, optimizer, loss_fn, device)"
   ]
  },
  {
   "cell_type": "markdown",
   "metadata": {},
   "source": [
    "In order to construct a PyTorch model using SageMaker we must provide SageMaker with a training script. We may optionally include a directory which will be copied to the container and from which our training code will be run. When the training container is executed it will check the uploaded directory (if there is one) for a `requirements.txt` file and install any required Python libraries, after which the training script will be run."
   ]
  },
  {
   "cell_type": "markdown",
   "metadata": {},
   "source": [
    "### (TODO) Training the model\n",
    "\n",
    "When a PyTorch model is constructed in SageMaker, an entry point must be specified. This is the Python file which will be executed when the model is trained. Inside of the `train` directory is a file called `train.py` which has been provided and which contains most of the necessary code to train our model. The only thing that is missing is the implementation of the `train()` method which you wrote earlier in this notebook.\n",
    "\n",
    "**TODO**: Copy the `train()` method written above and paste it into the `train/train.py` file where required.\n",
    "\n",
    "The way that SageMaker passes hyperparameters to the training script is by way of arguments. These arguments can then be parsed and used in the training script. To see how this is done take a look at the provided `train/train.py` file."
   ]
  },
  {
   "cell_type": "code",
   "execution_count": null,
   "metadata": {},
   "outputs": [],
   "source": [
    "from sagemaker.pytorch import PyTorch\n",
    "\n",
    "estimator = PyTorch(entry_point=\"train.py\",\n",
    "                    source_dir=\"train\",\n",
    "                    role=role,\n",
    "                    framework_version='0.4.0',\n",
    "                    train_instance_count=1,\n",
    "                    train_instance_type='ml.p2.xlarge',\n",
    "                    hyperparameters={\n",
    "                        'epochs': 10,\n",
    "                        'hidden_dim': 200,\n",
    "                    })"
   ]
  },
  {
   "cell_type": "code",
   "execution_count": null,
   "metadata": {},
   "outputs": [],
   "source": [
    "estimator.fit({'training': input_data})"
   ]
  },
  {
   "cell_type": "markdown",
   "metadata": {},
   "source": [
    "## Step 5: Testing the model\n",
    "\n",
    "As mentioned at the top of this notebook, we will be testing this model by first deploying it and then sending the testing data to the deployed endpoint. We will do this so that we can make sure that the deployed model is working correctly.\n",
    "\n",
    "## Step 6: Deploy the model for testing\n",
    "\n",
    "Now that we have trained our model, we would like to test it to see how it performs. Currently our model takes input of the form `review_length, review[500]` where `review[500]` is a sequence of `500` integers which describe the words present in the review, encoded using `word_dict`. Fortunately for us, SageMaker provides built-in inference code for models with simple inputs such as this.\n",
    "\n",
    "There is one thing that we need to provide, however, and that is a function which loads the saved model. This function must be called `model_fn()` and takes as its only parameter a path to the directory where the model artifacts are stored. This function must also be present in the python file which we specified as the entry point. In our case the model loading function has been provided and so no changes need to be made.\n",
    "\n",
    "**NOTE**: When the built-in inference code is run it must import the `model_fn()` method from the `train.py` file. This is why the training code is wrapped in a main guard ( ie, `if __name__ == '__main__':` )\n",
    "\n",
    "Since we don't need to change anything in the code that was uploaded during training, we can simply deploy the current model as-is.\n",
    "\n",
    "**NOTE:** When deploying a model you are asking SageMaker to launch an compute instance that will wait for data to be sent to it. As a result, this compute instance will continue to run until *you* shut it down. This is important to know since the cost of a deployed endpoint depends on how long it has been running for.\n",
    "\n",
    "In other words **If you are no longer using a deployed endpoint, shut it down!**\n",
    "\n",
    "**TODO:** Deploy the trained model."
   ]
  },
  {
   "cell_type": "code",
   "execution_count": null,
   "metadata": {},
   "outputs": [],
   "source": [
    "# TODO: Deploy the trained model"
   ]
  },
  {
   "cell_type": "markdown",
   "metadata": {},
   "source": [
    "## Step 7 - Use the model for testing\n",
    "\n",
    "Once deployed, we can read in the test data and send it off to our deployed model to get some results. Once we collect all of the results we can determine how accurate our model is."
   ]
  },
  {
   "cell_type": "code",
   "execution_count": null,
   "metadata": {},
   "outputs": [],
   "source": [
    "test_X = pd.concat([pd.DataFrame(test_X_len), pd.DataFrame(test_X)], axis=1)"
   ]
  },
  {
   "cell_type": "code",
   "execution_count": null,
   "metadata": {},
   "outputs": [],
   "source": [
    "# We split the data into chunks and send each chunk seperately, accumulating the results.\n",
    "\n",
    "def predict(data, rows=512):\n",
    "    split_array = np.array_split(data, int(data.shape[0] / float(rows) + 1))\n",
    "    predictions = np.array([])\n",
    "    for array in split_array:\n",
    "        predictions = np.append(predictions, predictor.predict(array))\n",
    "    \n",
    "    return predictions"
   ]
  },
  {
   "cell_type": "code",
   "execution_count": null,
   "metadata": {},
   "outputs": [],
   "source": [
    "predictions = predict(test_X.values)\n",
    "predictions = [round(num) for num in predictions]"
   ]
  },
  {
   "cell_type": "code",
   "execution_count": null,
   "metadata": {},
   "outputs": [],
   "source": [
    "from sklearn.metrics import accuracy_score\n",
    "accuracy_score(test_y, predictions)"
   ]
  },
  {
   "cell_type": "markdown",
   "metadata": {},
   "source": [
    "**Question:** How does this model compare to the XGBoost model you created earlier? Why might these two models perform differently on this dataset? Which do *you* think is better for sentiment analysis?"
   ]
  },
  {
   "cell_type": "markdown",
   "metadata": {},
   "source": [
    "**Answer:**"
   ]
  },
  {
   "cell_type": "markdown",
   "metadata": {},
   "source": [
    "### (TODO) More testing\n",
    "\n",
    "We now have a trained model which has been deployed and which we can send processed reviews to and which returns the predicted sentiment. However, ultimately we would like to be able to send our model an unprocessed review. That is, we would like to send the review itself as a string. For example, suppose we wish to send the following review to our model."
   ]
  },
  {
   "cell_type": "code",
   "execution_count": null,
   "metadata": {},
   "outputs": [],
   "source": [
    "test_review = 'The simplest pleasures in life are the best, and this film is one of them. Combining a rather basic storyline of love and adventure this movie transcends the usual weekend fair with wit and unmitigated charm.'"
   ]
  },
  {
   "cell_type": "markdown",
   "metadata": {},
   "source": [
    "The question we now need to answer is, how do we send this review to our model?\n",
    "\n",
    "Recall in the first section of this notebook we did a bunch of data processing to the IMDb dataset. In particular, we did two specific things to the provided reviews.\n",
    " - Removed any html tags and stemmed the input\n",
    " - Encoded the review as a sequence of integers using `word_dict`\n",
    " \n",
    "In order process the review we will need to repeat these two steps.\n",
    "\n",
    "**TODO**: Using the `review_to_words` and `convert_and_pad` methods from section one, convert `test_review` into a numpy array `test_data` suitable to send to our model. Remember that our model expects input of the form `review_length, review[500]`."
   ]
  },
  {
   "cell_type": "code",
   "execution_count": null,
   "metadata": {},
   "outputs": [],
   "source": [
    "# TODO: Convert test_review into a form usable by the model and save the results in test_data\n",
    "test_data = None"
   ]
  },
  {
   "cell_type": "markdown",
   "metadata": {},
   "source": [
    "Now that we have processed the review, we can send the resulting array to our model to predict the sentiment of the review."
   ]
  },
  {
   "cell_type": "code",
   "execution_count": null,
   "metadata": {},
   "outputs": [],
   "source": [
    "predictor.predict(test_data)"
   ]
  },
  {
   "cell_type": "markdown",
   "metadata": {},
   "source": [
    "Since the return value of our model is close to `1`, we can be certain that the review we submitted is positive."
   ]
  },
  {
   "cell_type": "markdown",
   "metadata": {},
   "source": [
    "### Delete the endpoint\n",
    "\n",
    "Of course, just like in the XGBoost notebook, once we've deployed an endpoint it continues to run until we tell it to shut down. Since we are done using our endpoint for now, we can delete it."
   ]
  },
  {
   "cell_type": "code",
   "execution_count": null,
   "metadata": {},
   "outputs": [],
   "source": [
    "estimator.delete_endpoint()"
   ]
  },
  {
   "cell_type": "markdown",
   "metadata": {},
   "source": [
    "## Step 6 (again) - Deploy the model for the web app\n",
    "\n",
    "Now that we know that our model is working, it's time to create some custom inference code so that we can send the model a review which has not been processed and have it determine the sentiment of the review.\n",
    "\n",
    "As we saw above, by default the estimator which we created, when deployed, will use the entry script and directory which we provided when creating the model. However, since we now wish to accept a string as input and our model expects a processed review, we need to write some custom inference code.\n",
    "\n",
    "We will store the code that we write in the `serve` directory. Provided in this directory is the `model.py` file that we used to construct our model, a `utils.py` file which contains the `review_to_words` and `convert_and_pad` pre-processing functions which we used during the initial data processing, and `predict.py`, the file which will contain our custom inference code. Note also that `requirements.txt` is present which will tell SageMaker what Python libraries are required by our custom inference code.\n",
    "\n",
    "When deploying a PyTorch model in SageMaker, you are expected to provide four functions which the SageMaker inference container will use.\n",
    " - `model_fn`: This function is the same function that we used in the training script and it tells SageMaker how to load our model.\n",
    " - `input_fn`: This function receives the raw serialized input that has been sent to the model's endpoint and its job is to de-serialize and make the input available for the inference code.\n",
    " - `output_fn`: This function takes the output of the inference code and its job is to serialize this output and return it to the caller of the model's endpoint.\n",
    " - `predict_fn`: The heart of the inference script, this is where the actual prediction is done and is the function which you will need to complete.\n",
    "\n",
    "For the simple website that we are constructing during this project, the `input_fn` and `output_fn` methods are relatively straightforward. We only require being able to accept a string as input and we expect to return a single value as output. You might imagine though that in a more complex application the input or output may be image data or some other binary data which would require some effort to serialize.\n",
    "\n",
    "### (TODO) Writing inference code\n",
    "\n",
    "Before writing our custom inference code, we will begin by taking a look at the code which has been provided."
   ]
  },
  {
   "cell_type": "code",
   "execution_count": null,
   "metadata": {},
   "outputs": [],
   "source": [
    "!pygmentize serve/predict.py"
   ]
  },
  {
   "cell_type": "markdown",
   "metadata": {},
   "source": [
    "As mentioned earlier, the `model_fn` method is the same as the one provided in the training code and the `input_fn` and `output_fn` methods are very simple and your task will be to complete the `predict_fn` method. Make sure that you save the completed file as `predict.py` in the `serve` directory.\n",
    "\n",
    "**TODO**: Complete the `predict_fn()` method in the `serve/predict.py` file."
   ]
  },
  {
   "cell_type": "markdown",
   "metadata": {},
   "source": [
    "### Deploying the model\n",
    "\n",
    "Now that the custom inference code has been written, we will create and deploy our model. To begin with, we need to construct a new PyTorchModel object which points to the model artifacts created during training and also points to the inference code that we wish to use. Then we can call the deploy method to launch the deployment container.\n",
    "\n",
    "**NOTE**: The default behaviour for a deployed PyTorch model is to assume that any input passed to the predictor is a `numpy` array. In our case we want to send a string so we need to construct a simple wrapper around the `RealTimePredictor` class to accomodate simple strings. In a more complicated situation you may want to provide a serialization object, for example if you wanted to sent image data."
   ]
  },
  {
   "cell_type": "code",
   "execution_count": null,
   "metadata": {},
   "outputs": [],
   "source": [
    "from sagemaker.predictor import RealTimePredictor\n",
    "from sagemaker.pytorch import PyTorchModel\n",
    "\n",
    "class StringPredictor(RealTimePredictor):\n",
    "    def __init__(self, endpoint_name, sagemaker_session):\n",
    "        super(StringPredictor, self).__init__(endpoint_name, sagemaker_session, content_type='text/plain')\n",
    "\n",
    "model = PyTorchModel(model_data=estimator.model_data,\n",
    "                     role = role,\n",
    "                     framework_version='0.4.0',\n",
    "                     entry_point='predict.py',\n",
    "                     source_dir='serve',\n",
    "                     predictor_cls=StringPredictor)\n",
    "predictor = model.deploy(initial_instance_count=1, instance_type='ml.m4.xlarge')"
   ]
  },
  {
   "cell_type": "markdown",
   "metadata": {},
   "source": [
    "### Testing the model\n",
    "\n",
    "Now that we have deployed our model with the custom inference code, we should test to see if everything is working. Here we test our model by loading the first `250` positive and negative reviews and send them to the endpoint, then collect the results. The reason for only sending some of the data is that the amount of time it takes for our model to process the input and then perform inference is quite long and so testing the entire data set would be prohibitive."
   ]
  },
  {
   "cell_type": "code",
   "execution_count": null,
   "metadata": {},
   "outputs": [],
   "source": [
    "import glob\n",
    "\n",
    "def test_reviews(data_dir='../data/aclImdb', stop=250):\n",
    "    \n",
    "    results = []\n",
    "    ground = []\n",
    "    \n",
    "    # We make sure to test both positive and negative reviews    \n",
    "    for sentiment in ['pos', 'neg']:\n",
    "        \n",
    "        path = os.path.join(data_dir, 'test', sentiment, '*.txt')\n",
    "        files = glob.glob(path)\n",
    "        \n",
    "        files_read = 0\n",
    "        \n",
    "        print('Starting ', sentiment, ' files')\n",
    "        \n",
    "        # Iterate through the files and send them to the predictor\n",
    "        for f in files:\n",
    "            with open(f) as review:\n",
    "                # First, we store the ground truth (was the review positive or negative)\n",
    "                if sentiment == 'pos':\n",
    "                    ground.append(1)\n",
    "                else:\n",
    "                    ground.append(0)\n",
    "                # Read in the review and convert to 'utf-8' for transmission via HTTP\n",
    "                review_input = review.read().encode('utf-8')\n",
    "                # Send the review to the predictor and store the results\n",
    "                results.append(int(predictor.predict(review_input)))\n",
    "                \n",
    "            # Sending reviews to our endpoint one at a time takes a while so we\n",
    "            # only send a small number of reviews\n",
    "            files_read += 1\n",
    "            if files_read == stop:\n",
    "                break\n",
    "            \n",
    "    return ground, results"
   ]
  },
  {
   "cell_type": "code",
   "execution_count": null,
   "metadata": {},
   "outputs": [],
   "source": [
    "ground, results = test_reviews()"
   ]
  },
  {
   "cell_type": "code",
   "execution_count": null,
   "metadata": {},
   "outputs": [],
   "source": [
    "from sklearn.metrics import accuracy_score\n",
    "accuracy_score(ground, results)"
   ]
  },
  {
   "cell_type": "markdown",
   "metadata": {},
   "source": [
    "As an additional test, we can try sending the `test_review` that we looked at earlier."
   ]
  },
  {
   "cell_type": "code",
   "execution_count": null,
   "metadata": {},
   "outputs": [],
   "source": [
    "predictor.predict(test_review)"
   ]
  },
  {
   "cell_type": "markdown",
   "metadata": {},
   "source": [
    "Now that we know our endpoint is working as expected, we can set up the web page that will interact with it. If you don't have time to finish the project now, make sure to skip down to the end of this notebook and shut down your endpoint. You can deploy it again when you come back."
   ]
  },
  {
   "cell_type": "markdown",
   "metadata": {},
   "source": [
    "## Step 7 (again): Use the model for the web app\n",
    "\n",
    "> **TODO:** This entire section and the next contain tasks for you to complete, mostly using the AWS console.\n",
    "\n",
    "So far we have been accessing our model endpoint by constructing a predictor object which uses the endpoint and then just using the predictor object to perform inference. What if we wanted to create a web app which accessed our model? The way things are set up currently makes that not possible since in order to access a SageMaker endpoint the app would first have to authenticate with AWS using an IAM role which included access to SageMaker endpoints. However, there is an easier way! We just need to use some additional AWS services.\n",
    "\n",
    "<img src=\"Web App Diagram.svg\">\n",
    "\n",
    "The diagram above gives an overview of how the various services will work together. On the far right is the model which we trained above and which is deployed using SageMaker. On the far left is our web app that collects a user's movie review, sends it off and expects a positive or negative sentiment in return.\n",
    "\n",
    "In the middle is where some of the magic happens. We will construct a Lambda function, which you can think of as a straightforward Python function that can be executed whenever a specified event occurs. We will give this function permission to send and recieve data from a SageMaker endpoint.\n",
    "\n",
    "Lastly, the method we will use to execute the Lambda function is a new endpoint that we will create using API Gateway. This endpoint will be a url that listens for data to be sent to it. Once it gets some data it will pass that data on to the Lambda function and then return whatever the Lambda function returns. Essentially it will act as an interface that lets our web app communicate with the Lambda function.\n",
    "\n",
    "### Setting up a Lambda function\n",
    "\n",
    "The first thing we are going to do is set up a Lambda function. This Lambda function will be executed whenever our public API has data sent to it. When it is executed it will receive the data, perform any sort of processing that is required, send the data (the review) to the SageMaker endpoint we've created and then return the result.\n",
    "\n",
    "#### Part A: Create an IAM Role for the Lambda function\n",
    "\n",
    "Since we want the Lambda function to call a SageMaker endpoint, we need to make sure that it has permission to do so. To do this, we will construct a role that we can later give the Lambda function.\n",
    "\n",
    "Using the AWS Console, navigate to the **IAM** page and click on **Roles**. Then, click on **Create role**. Make sure that the **AWS service** is the type of trusted entity selected and choose **Lambda** as the service that will use this role, then click **Next: Permissions**.\n",
    "\n",
    "In the search box type `sagemaker` and select the check box next to the **AmazonSageMakerFullAccess** policy. Then, click on **Next: Review**.\n",
    "\n",
    "Lastly, give this role a name. Make sure you use a name that you will remember later on, for example `LambdaSageMakerRole`. Then, click on **Create role**.\n",
    "\n",
    "#### Part B: Create a Lambda function\n",
    "\n",
    "Now it is time to actually create the Lambda function.\n",
    "\n",
    "Using the AWS Console, navigate to the AWS Lambda page and click on **Create a function**. When you get to the next page, make sure that **Author from scratch** is selected. Now, name your Lambda function, using a name that you will remember later on, for example `sentiment_analysis_func`. Make sure that the **Python 3.6** runtime is selected and then choose the role that you created in the previous part. Then, click on **Create Function**.\n",
    "\n",
    "On the next page you will see some information about the Lambda function you've just created. If you scroll down you should see an editor in which you can write the code that will be executed when your Lambda function is triggered. In our example, we will use the code below. \n",
    "\n",
    "```python\n",
    "# We need to use the low-level library to interact with SageMaker since the SageMaker API\n",
    "# is not available natively through Lambda.\n",
    "import boto3\n",
    "\n",
    "def lambda_handler(event, context):\n",
    "\n",
    "    # The SageMaker runtime is what allows us to invoke the endpoint that we've created.\n",
    "    runtime = boto3.Session().client('sagemaker-runtime')\n",
    "\n",
    "    # Now we use the SageMaker runtime to invoke our endpoint, sending the review we were given\n",
    "    response = runtime.invoke_endpoint(EndpointName = '**ENDPOINT NAME HERE**',    # The name of the endpoint we created\n",
    "                                       ContentType = 'text/plain',                 # The data format that is expected\n",
    "                                       Body = event['body'])                       # The actual review\n",
    "\n",
    "    # The response is an HTTP response whose body contains the result of our inference\n",
    "    result = response['Body'].read().decode('utf-8')\n",
    "\n",
    "    return {\n",
    "        'statusCode' : 200,\n",
    "        'headers' : { 'Content-Type' : 'text/plain', 'Access-Control-Allow-Origin' : '*' },\n",
    "        'body' : result\n",
    "    }\n",
    "```\n",
    "\n",
    "Once you have copy and pasted the code above into the Lambda code editor, replace the `**ENDPOINT NAME HERE**` portion with the name of the endpoint that we deployed earlier. You can determine the name of the endpoint using the code cell below."
   ]
  },
  {
   "cell_type": "code",
   "execution_count": null,
   "metadata": {},
   "outputs": [],
   "source": [
    "predictor.endpoint"
   ]
  },
  {
   "cell_type": "markdown",
   "metadata": {},
   "source": [
    "Once you have added the endpoint name to the Lambda function, click on **Save**. Your Lambda function is now up and running. Next we need to create a way for our web app to execute the Lambda function.\n",
    "\n",
    "### Setting up API Gateway\n",
    "\n",
    "Now that our Lambda function is set up, it is time to create a new API using API Gateway that will trigger the Lambda function we have just created.\n",
    "\n",
    "Using AWS Console, navigate to **Amazon API Gateway** and then click on **Get started**.\n",
    "\n",
    "On the next page, make sure that **New API** is selected and give the new api a name, for example, `sentiment_analysis_api`. Then, click on **Create API**.\n",
    "\n",
    "Now we have created an API, however it doesn't currently do anything. What we want it to do is to trigger the Lambda function that we created earlier.\n",
    "\n",
    "Select the **Actions** dropdown menu and click **Create Method**. A new blank method will be created, select its dropdown menu and select **POST**, then click on the check mark beside it.\n",
    "\n",
    "For the integration point, make sure that **Lambda Function** is selected and click on the **Use Lambda Proxy integration**. This option makes sure that the data that is sent to the API is then sent directly to the Lambda function with no processing. It also means that the return value must be a proper response object as it will also not be processed by API Gateway.\n",
    "\n",
    "Type the name of the Lambda function you created earlier into the **Lambda Function** text entry box and then click on **Save**. Click on **OK** in the pop-up box that then appears, giving permission to API Gateway to invoke the Lambda function you created.\n",
    "\n",
    "The last step in creating the API Gateway is to select the **Actions** dropdown and click on **Deploy API**. You will need to create a new Deployment stage and name it anything you like, for example `prod`.\n",
    "\n",
    "You have now successfully set up a public API to access your SageMaker model. Make sure to copy or write down the URL provided to invoke your newly created public API as this will be needed in the next step. This URL can be found at the top of the page, highlighted in blue next to the text **Invoke URL**."
   ]
  },
  {
   "cell_type": "markdown",
   "metadata": {},
   "source": [
    "## Step 4: Deploying our web app\n",
    "\n",
    "Now that we have a publicly available API, we can start using it in a web app. For our purposes, we have provided a simple static html file which can make use of the public api you created earlier.\n",
    "\n",
    "In the `website` folder there should be a file called `index.html`. Download the file to your computer and open that file up in a text editor of your choice. There should be a line which contains **\\*\\*REPLACE WITH PUBLIC API URL\\*\\***. Replace this string with the url that you wrote down in the last step and then save the file.\n",
    "\n",
    "Now, if you open `index.html` on your local computer, your browser will behave as a local web server and you can use the provided site to interact with your SageMaker model.\n",
    "\n",
    "If you'd like to go further, you can host this html file anywhere you'd like, for example using github or hosting a static site on Amazon's S3. Once you have done this you can share the link with anyone you'd like and have them play with it too!\n",
    "\n",
    "> **Important Note** In order for the web app to communicate with the SageMaker endpoint, the endpoint has to actually be deployed and running. This means that you are paying for it. Make sure that the endpoint is running when you want to use the web app but that you shut it down when you don't need it, otherwise you will end up with a surprisingly large AWS bill.\n",
    "\n",
    "**TODO:** Make sure that you include the edited `index.html` file in your project submission."
   ]
  },
  {
   "cell_type": "markdown",
   "metadata": {},
   "source": [
    "Now that your web app is working, trying playing around with it and see how well it works.\n",
    "\n",
    "**Question**: Give an example of a review that you entered into your web app. What was the predicted sentiment of your example review?"
   ]
  },
  {
   "cell_type": "markdown",
   "metadata": {},
   "source": [
    "**Answer:**"
   ]
  },
  {
   "cell_type": "markdown",
   "metadata": {},
   "source": [
    "### Delete the endpoint\n",
    "\n",
    "Remember to always shut down your endpoint if you are no longer using it. You are charged for the length of time that the endpoint is running so if you forget and leave it on you could end up with an unexpectedly large bill."
   ]
  },
  {
   "cell_type": "code",
   "execution_count": null,
   "metadata": {},
   "outputs": [],
   "source": [
    "predictor.delete_endpoint()"
   ]
  },
  {
   "cell_type": "code",
   "execution_count": null,
   "metadata": {},
   "outputs": [],
   "source": []
  }
 ],
 "metadata": {
  "kernelspec": {
   "display_name": "conda_pytorch_p36",
   "language": "python",
   "name": "conda_pytorch_p36"
  },
  "language_info": {
   "codemirror_mode": {
    "name": "ipython",
    "version": 3
   },
   "file_extension": ".py",
   "mimetype": "text/x-python",
   "name": "python",
   "nbconvert_exporter": "python",
   "pygments_lexer": "ipython3",
   "version": "3.6.5"
  }
 },
 "nbformat": 4,
 "nbformat_minor": 2
}
